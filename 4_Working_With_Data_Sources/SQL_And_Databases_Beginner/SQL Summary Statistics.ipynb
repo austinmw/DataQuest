{
 "cells": [
  {
   "cell_type": "markdown",
   "metadata": {},
   "source": [
    "## 1: Introduction\n",
    "\n",
    "In this mission, we'll be calculating summary statistics with SQL. We've often needed to count the number of records that matched a particular SQL query. So far, we've been able to do this by:\n",
    "\n",
    "- Performing a SQL query with Python\n",
    "- Retrieving the results and storing them as a list\n",
    "- Finding the length of the list\n",
    "\n",
    "While this approach works, it requires quite a bit of code, and it's also fairly slow. As we progress through this mission, we'll learn how to count with SQL only.\n",
    "\n",
    "We'll be working with factbook.db, a SQLite database containing information about every country in the world. We'll use a table in the file called facts. Each row in facts represents a single country and contains several columns, including:\n",
    "\n",
    "- name - The name of the country\n",
    "- area - The total land and sea area of the country\n",
    "- population - The country's population\n",
    "- birth_rate - The country's birth rate\n",
    "- created_at - The date the record was created\n",
    "- updated_at - The date the record was updated\n",
    "- Here are the first few rows of facts:\n",
    "\n",
    "| id | code | name        | area    | area_land | area_water | population | population_growth | birth_rate | death_rate | migration_rate | created_at                 | updated_at                 |\n",
    "|----|------|-------------|---------|-----------|------------|------------|-------------------|------------|------------|----------------|----------------------------|----------------------------|\n",
    "| 1  | af   | Afghanistan | 652230  | 652230    | 0          | 32564342   | 2.32              | 38.57      | 13.89      | 1.51           | 2015-11-01 13:19:49.461734 | 2015-11-01 13:19:49.461734 |\n",
    "| 2  | al   | Albania     | 28748   | 27398     | 1350       | 3029278    | 0.3               | 12.92      | 6.58       | 3.3            | 2015-11-01 13:19:54.431082 | 2015-11-01 13:19:54.431082 |\n",
    "| 3  | ag   | Algeria     | 2381741 | 2381741   | 0          | 39542166   | 1.84              | 23.67      | 4.31       | 0.92           | 2015-11-01 13:19:59.961286 | 2015-11-01 13:19:59.961286 |\n",
    "\n",
    "#### Instructions: \n",
    "\n",
    "- Import sqlite3.\n",
    "- Initialize a connection to factbook.db using the connect() method, and store it in the variable conn.\n",
    "- Use conn, the execute() method, and the fetchall() method to fetch all of the records in the facts table. Assign the result to the facts variable.\n",
    "- Print out the facts variable.\n",
    "- Count the number of items in facts, and assign the result to facts_count."
   ]
  },
  {
   "cell_type": "code",
   "execution_count": 3,
   "metadata": {
    "collapsed": false
   },
   "outputs": [
    {
     "name": "stdout",
     "output_type": "stream",
     "text": [
      "261\n"
     ]
    }
   ],
   "source": [
    "import sqlite3\n",
    "\n",
    "conn = sqlite3.connect(\"data/factbook.db\")\n",
    "facts = conn.execute(\"select * from facts\").fetchall()\n",
    "facts_count = len(facts)\n",
    "print(facts_count)"
   ]
  },
  {
   "cell_type": "markdown",
   "metadata": {},
   "source": [
    "## 2: Counting The Number Of Rows In SQL\n",
    "Counting the number of records in a table is a common operation, and it feels like it should be more efficient than the code we just wrote on the last screen. Thankfully, SQL has a COUNT aggregation function that allows us to count the number of records in a table. We call it an aggregation function because it works across many rows to calculate an aggregate value. Here's an example:\n",
    "\n",
    "\n",
    "``SELECT COUNT(*) FROM facts;`` \n",
    "\n",
    "The query above will count the number of rows in the facts table of factbook.db. If we want to count the number of non-null values in a single column instead, we can use the following syntax:\n",
    "\n",
    "``SELECT COUNT(area_water) \n",
    "FROM facts;``\n",
    "\n",
    "Note that this query will only count the total number of non-null values in the area_water column. That means it can return a different total than COUNT(*).\n",
    "\n",
    "Each of the queries above will return a list with a single tuple when we execute it in Python. The result will look like this:\n",
    "\n",
    "``[(243,)]``\n",
    "\n",
    "To get the integer count from the result, we'll need to extract the first element in the first tuple of the results.\n",
    "\n",
    "This style saves typing, and it's also much faster for larger data sets. That's because we can do the counting inside the database, rather than having to pull all of the data into the Python environment first. In general, doing operations within a SQL database engine will be faster than doing the equivalent operations after pulling the data into a programming environment. This is because SQL database engines are optimized specifically for querying.\n",
    "\n",
    "#### Instructions: \n",
    "\n",
    "- Use the COUNT aggregation function to count the number of non-null values in the birth_rate column of the facts table.\n",
    "- Extract the integer value from the result, and assign it to birth_rate_count.\n",
    "- Print out birth_rate_count."
   ]
  },
  {
   "cell_type": "code",
   "execution_count": 4,
   "metadata": {
    "collapsed": false
   },
   "outputs": [
    {
     "name": "stdout",
     "output_type": "stream",
     "text": [
      "228\n"
     ]
    }
   ],
   "source": [
    "birth_rate_count = conn.execute(\"select count(birth_rate) from facts\").fetchall()[0][0]\n",
    "print(birth_rate_count)"
   ]
  },
  {
   "cell_type": "markdown",
   "metadata": {},
   "source": [
    "## 3: Finding A Column's Minimum And Maximum Values In SQL\n",
    "SQL has other aggregation functions, in addition to COUNT. MIN and MAX, for example, find the minimum and maximum values in a column. While we can use the COUNT function with any column, MIN and MAX only work with numeric columns. Here's an example of how we can use these functions:\n",
    "\n",
    "\n",
    "``SELECT MAX(birth_rate)\n",
    "FROM facts;``\n",
    "\n",
    "Just like the COUNT function, MIN and MAX will return a list with a single tuple. In this case, the result is:\n",
    "\n",
    "``[(45.45,)]``\n",
    "\n",
    "45.45 is the highest value in the birth_rate column of the facts table.\n",
    "\n",
    "#### Instructions:\n",
    "- Use the MIN function to find the minimum value in the population_growth column.\n",
    "    - Extract the numeric result and assign it to min_population_growth.\n",
    "    - Print min_population_growth.\n",
    "- Use the MAX function to find the maximum value in the death_rate column.\n",
    "    - Extract the numeric result and assign it to max_death_rate.\n",
    "    - Print max_death_rate."
   ]
  },
  {
   "cell_type": "code",
   "execution_count": 10,
   "metadata": {
    "collapsed": false
   },
   "outputs": [
    {
     "name": "stdout",
     "output_type": "stream",
     "text": [
      "[(0.0,)]\n",
      "[(14.89,)]\n"
     ]
    }
   ],
   "source": [
    "conn = sqlite3.connect(\"data/factbook.db\")\n",
    "\n",
    "min_population_growth = conn.execute(\"select min(population_growth) from facts\").fetchall()\n",
    "print(min_population_growth)\n",
    "\n",
    "max_death_rate = conn.execute(\"select max(death_rate) from facts\").fetchall()\n",
    "print(max_death_rate)"
   ]
  },
  {
   "cell_type": "markdown",
   "metadata": {},
   "source": [
    "## 4: Calculating Sums And Averages In SQL\n",
    "The final two aggregation functions we'll look at are SUM and AVG. SUM finds the total of all of the values in a numeric column:\n",
    "\n",
    "\n",
    "``SELECT SUM(birth_rate) \n",
    "FROM facts;``\n",
    "\n",
    "This function also returns a list with a single tuple. Our query will return this list:\n",
    "\n",
    "``[(4406.909999999998,)]``\n",
    "\n",
    "AVG finds the mean of all of the non-null values in a column:\n",
    "\n",
    "\n",
    "``SELECT AVG(birth_rate) \n",
    "FROM facts;``\n",
    "\n",
    "\n",
    "The result of this query is:\n",
    "\n",
    "``[(19.32855263157894,)]``\n",
    "\n",
    "#### Instructions:\n",
    "- Use the SUM function to find the sum of the area_land column.\n",
    "    - Extract the numeric result and assign it to total_land_area.\n",
    "    - Print total_land_area.\n",
    "- Use the AVG function to find the mean of the area_water column.\n",
    "    - Extract the numeric result and assign it to avg_water_area.\n",
    "    - Print avg_water_area."
   ]
  },
  {
   "cell_type": "code",
   "execution_count": 8,
   "metadata": {
    "collapsed": false
   },
   "outputs": [
    {
     "name": "stdout",
     "output_type": "stream",
     "text": [
      "[(128584834,)]\n",
      "[(19067.59259259259,)]\n"
     ]
    }
   ],
   "source": [
    "conn = sqlite3.connect(\"data/factbook.db\")\n",
    "\n",
    "total_land_area = conn.execute(\"select sum(area_land) from facts\").fetchall()\n",
    "print(total_land_area)\n",
    "\n",
    "avg_water_area = conn.execute(\"select avg(area_water) from facts\").fetchall()\n",
    "print(avg_water_area)"
   ]
  },
  {
   "cell_type": "markdown",
   "metadata": {},
   "source": [
    "## 5: Combining Multiple Aggregation Functions\n",
    "\n",
    "If we wanted to use the SUM, AVG, and MAX functions on a column, writing three different queries would be inefficient. Recall that we can query multiple columns by separating their names with commas, like this:\n",
    "\n",
    "``SELECT birth_rate, death_rate, population_growth \n",
    "FROM facts;``\n",
    "\n",
    "We can apply the sample principle to combine multiple aggregation functions into a single query:\n",
    "\n",
    "``SELECT COUNT(*), SUM(death_rate), AVG(population_growth) \n",
    "FROM facts;``\n",
    "\n",
    "Because we've specified three aggregation functions in the query, it will return a list containing a tuple with three elements:\n",
    "\n",
    "``[(261, 1783.2500000000002, 1.2009745762711865)]``\n",
    "\n",
    "The order of the results corresponds to the order of the aggregation functions in the query. In our example, the first element in the tuple is the count of all the rows, the second is the sum of the death_rate column, and the third is the mean of the population_growth column.\n",
    "\n",
    "#### Instructions:\n",
    "- Write a single query that calculates the following statistics about the facts table, in order:\n",
    "    - The mean of the population column\n",
    "    - The sum of the population column\n",
    "    - The maximum value in the birth_rate column\n",
    "- Assign the result of the query to facts_stats\n",
    "- Print facts_stats"
   ]
  },
  {
   "cell_type": "code",
   "execution_count": 11,
   "metadata": {
    "collapsed": false
   },
   "outputs": [
    {
     "name": "stdout",
     "output_type": "stream",
     "text": [
      "[(62094928.32231405, 15026972654, 45.45)]\n"
     ]
    }
   ],
   "source": [
    "conn = sqlite3.connect(\"data/factbook.db\")\n",
    "\n",
    "query = \"select avg(population), sum(population), max(birth_rate) from facts\"\n",
    "facts_stats = conn.execute(query).fetchall()\n",
    "print(facts_stats)"
   ]
  },
  {
   "cell_type": "markdown",
   "metadata": {},
   "source": [
    "## 6: Aggregating Values For A Subset Of The Data\n",
    "\n",
    "As you may recall from an earlier mission, we can use the WHERE statement to limit our query to certain rows in a SQL table:\n",
    "\n",
    "``SELECT population \n",
    "FROM facts \n",
    "WHERE birth_rate > 10;``\n",
    "\n",
    "The query above will select any values in the population column where the birth_rate is higher than 10. We can also use WHERE statements with aggregation functions to calculate statistics for a subset of rows:\n",
    "\n",
    "``SELECT COUNT(*) \n",
    "FROM facts \n",
    "WHERE population > 5000000;``\n",
    "\n",
    "The query above will count the number of rows where population is greater than 5000000.\n",
    "\n",
    "#### Instructions: \n",
    "- Calculate the mean population_growth for countries with a population greater than 10000000.\n",
    "    - Extract the numeric result and assign it to population_growth.\n",
    "    - Print population_growth."
   ]
  },
  {
   "cell_type": "code",
   "execution_count": 13,
   "metadata": {
    "collapsed": false
   },
   "outputs": [
    {
     "name": "stdout",
     "output_type": "stream",
     "text": [
      "1.4572222222222226\n"
     ]
    }
   ],
   "source": [
    "conn = sqlite3.connect(\"data/factbook.db\")\n",
    "\n",
    "query = \"select avg(population_growth) from facts where population > 10000000\"\n",
    "population_growth = conn.execute(query).fetchall()[0][0]\n",
    "print(population_growth)"
   ]
  },
  {
   "cell_type": "markdown",
   "metadata": {},
   "source": [
    "## 7: Selecting Unique Rows\n",
    "\n",
    "There are times when we only want to select the unique values in a column or database, rather than each individual row. One example would be if our facts table had duplicate entries for each country, like this:\n",
    "\n",
    "| id | code | name        | area   | area_land | area_water | population | population_growth | birth_rate | death_rate | migration_rate | created_at                 | updated_at                 |\n",
    "|----|------|-------------|--------|-----------|------------|------------|-------------------|------------|------------|----------------|----------------------------|----------------------------|\n",
    "| 1  | af   | Afghanistan | 652230 | 652230    | 0          | 32564342   | 2.32              | 38.57      | 13.89      | 1.51           | 2015-11-01 13:19:49.461734 | 2015-11-01 13:19:49.461734 |\n",
    "| 2  | af   | Afghanistan | 652230 | 652230    | 0          | 32564342   | 2.32              | 38.57      | 13.89      | 1.51           | 2015-11-01 13:19:49.461734 | 2015-11-01 13:19:49.461734 |\n",
    "\n",
    "To get a list of all of the countries in the world, we'll need to remove these duplicate rows so that there aren't duplicate entries. We can do this with the DISTINCT statement:\n",
    "\n",
    "\n",
    "``SELECT DISTINCT name \n",
    "FROM facts;``\n",
    "\n",
    "This query will return all of the unique values in the name column of facts. It won't return any duplicate values.\n",
    "\n",
    "We can also use the DISTINCT statement with multiple columns to return unique pairings of those columns:\n",
    "\n",
    "\n",
    "``SELECT DISTINCT name, population \n",
    "FROM facts;``\n",
    "\n",
    "The query above will select the unique combinations of values in the population and name columns from facts.\n",
    "\n",
    "#### Instructions:\n",
    "\n",
    "- Select all of the distinct values in the birth_rate column of the facts table, and assign the result to unique_birth_rates.\n",
    "- Print unique_birth_rates."
   ]
  },
  {
   "cell_type": "code",
   "execution_count": 15,
   "metadata": {
    "collapsed": false
   },
   "outputs": [
    {
     "name": "stdout",
     "output_type": "stream",
     "text": [
      "[38.57, 12.92, 23.67, 8.13, 38.78, 15.85, 16.64, 13.61, 12.15, 9.41, 15.5, 13.66, 21.14, 11.87, 10.7, 11.41, 24.68, 36.02, 17.78, 22.76, 8.87, 20.96, 14.46, 17.32, 8.92, 42.03, 18.39, 42.01, 23.83, 36.17, 10.28, 20.33, 35.08, 36.6, 13.83, 12.49, 16.47, 27.84, 34.88, 35.85, 15.91, 28.67, 9.45, 9.9, 9.63, 10.27, 23.65, 15.41, 18.73, 18.51, 22.9, 16.46, 33.31, 30.0, 10.51, 37.27, 19.43, 10.72, 12.38, 34.49, 30.86, 12.74, 8.47, 31.09, 8.66, 16.03, 24.89, 35.74, 33.38, 15.59, 22.31, 23.14, 9.16, 13.91, 19.55, 16.72, 17.99, 31.45, 14.84, 18.48, 8.74, 18.16, 7.93, 25.37, 19.15, 26.4, 21.46, 14.52, 8.19, None, 19.91, 22.98, 24.25, 10.0, 14.59, 25.47, 34.41, 18.03, 10.45, 10.1, 11.37, 11.55, 32.61, 41.56, 19.71, 15.75, 44.99, 10.18, 25.6, 31.34, 13.29, 18.78, 20.54, 12.0, 6.65, 20.25, 10.42, 18.2, 38.58, 19.8, 24.95, 20.64, 10.83, 13.33, 45.45, 37.64, 12.14, 24.44, 22.58, 11.05, 18.32, 24.38, 16.37, 18.28, 24.27, 9.74, 9.27, 9.84, 9.14, 11.6, 33.75, 13.5, 13.7, 13.57, 20.87, 8.63, 34.23, 34.52, 9.08, 14.19, 37.03, 8.27, 9.91, 8.42, 25.77, 40.45, 20.75, 36.91, 9.64, 29.19, 16.34, 24.67, 11.99, 10.5, 22.17, 36.39, 11.19, 34.16, 34.13, 23.0, 13.46, 16.33, 19.4, 23.74, 43.79, 15.43, 12.17, 13.07, 17.0, 25.04, 19.16, 15.96, 29.98, 42.13, 32.26, 10.2, 9.23, 8.88, 13.77, 14.48, 15.22, 15.33, 7.42, 13.45, 12.56, 13.8, 13.0, 14.33, 12.67, 11.33, 10.91, 12.11, 10.9, 14.08, 11.91, 11.1, 11.26, 9.88, 16.13, 22.89, 16.82, 10.86, 10.31, 31.11, 22.99, 30.24, 18.6]\n"
     ]
    }
   ],
   "source": [
    "conn = sqlite3.connect(\"data/factbook.db\")\n",
    "\n",
    "query = \"select distinct birth_rate from facts\"\n",
    "unique_birth_rates = conn.execute(query).fetchall()\n",
    "unique_birth_rates = [i[0] for i in unique_birth_rates] # list comprehension\n",
    "print(unique_birth_rates)"
   ]
  },
  {
   "cell_type": "markdown",
   "metadata": {},
   "source": [
    "## 8: Aggregating Unique Values\n",
    "\n",
    "If we wanted to count the number of unique items in the population column, we could use the COUNT aggregation function along with the DISTINCT statement. Here's how it would work:\n",
    "\n",
    "\n",
    "``SELECT COUNT(DISTINCT population) \n",
    "FROM facts;``\n",
    "\n",
    "The query above will count all of the distinct values in the population column. We can also use other aggregation functions along with the DISTINCT statement:\n",
    "\n",
    "\n",
    "``SELECT AVG(DISTINCT birth_rate) \n",
    "FROM facts;``\n",
    "\n",
    "This query will find the mean of all of the distinct values in the birth_rate column.\n",
    "\n",
    "#### Instructions:\n",
    "- Find the average of all of the distinct values in the birth_rate column where population is greater than 20000000.\n",
    "    - Extract the numeric result and assign it to average_birth_rate.\n",
    "    - Print average_birth_rate.\n",
    "- Find the sum of all of the distinct values in the population column where area_land is greater than 1000000.\n",
    "    - Extract the numeric result and assign it to sum_population.\n",
    "    - Print sum_population."
   ]
  },
  {
   "cell_type": "code",
   "execution_count": 16,
   "metadata": {
    "collapsed": false
   },
   "outputs": [
    {
     "name": "stdout",
     "output_type": "stream",
     "text": [
      "20.43473684210527\n",
      "4233873015\n"
     ]
    }
   ],
   "source": [
    "conn = sqlite3.connect(\"data/factbook.db\")\n",
    "\n",
    "query = \"select avg(distinct birth_rate) from facts where population > 20000000\"\n",
    "average_birth_rate = conn.execute(query).fetchall()[0][0]\n",
    "print(average_birth_rate)\n",
    "\n",
    "query = \"select sum(distinct population) from facts where area_land > 1000000\"\n",
    "sum_population = conn.execute(query).fetchall()[0][0]\n",
    "print(sum_population)"
   ]
  },
  {
   "cell_type": "markdown",
   "metadata": {},
   "source": [
    "## 9: Performing Arithmetic In SQL\n",
    "\n",
    "Sometimes we'll want to perform some arithmetic on the columns in a SQL table. We might want to make the counts in the population column easier to understand by expressing them in terms of millions, for example. Instead of a number like 9766442, we'd want to display 9.766442. We could do this in Python, but it would be cumbersome to pull all of the data into the Python environment and then manipulate it. Fortunately, we can perform the math inside the SQL database engine instead. Here's an example:\n",
    "\n",
    "\n",
    "``SELECT population / 1000000 \n",
    "FROM facts;``\n",
    "\n",
    "The query above will divide each value in the population column by 1000000, and return the result. Because the population column contains integers and we're dividing by an integer, the results will be integers as well. If we want to retain precision, we can specify a float instead:\n",
    "\n",
    "\n",
    "``SELECT population / 1000000.0 \n",
    "FROM facts;``\n",
    "\n",
    "The query above will return a series of floats, instead of rounding the values to integers. Here are the rules for what an arithmetic operation will return:\n",
    "\n",
    "- Two floats - Returns a float (ex. SELECT birth_rate / 1000000.0 FROM facts;)\n",
    "- A float and an integer - Returns a float (ex. SELECT population / 1000000.0 FROM facts;)\n",
    "- Two integers - Returns an integer (ex. SELECT population / 1000000 FROM facts;)\n",
    "\n",
    "#### Instructions:\n",
    "- Use arithmetic operators in a SQL query to express population_growth in terms of millions. Divide by a float so the query also returns a float.\n",
    "    - Assign the result of the query to population_growth_millions.\n",
    "    - Print population_growth_millions."
   ]
  },
  {
   "cell_type": "code",
   "execution_count": 18,
   "metadata": {
    "collapsed": false
   },
   "outputs": [
    {
     "name": "stdout",
     "output_type": "stream",
     "text": [
      "[2.32e-06, 3e-07, 1.8400000000000002e-06, 1.2e-07, 2.7799999999999996e-06, 1.24e-06, 9.300000000000001e-07, 1.5e-07, 1.0700000000000001e-06, 5.5e-07, 9.6e-07, 8.5e-07, 2.4100000000000002e-06, 1.6000000000000001e-06, 3.1e-07, 2.0000000000000002e-07, 7.6e-07, 1.87e-06, 2.7799999999999996e-06, 1.1100000000000002e-06, 1.56e-06, 1.3e-07, 1.21e-06, 7.7e-07, 1.6200000000000002e-06, 5.8e-07, 3.03e-06, 1.01e-06, 3.28e-06, 1.5800000000000001e-06, 2.5899999999999998e-06, 7.5e-07, 1.3600000000000001e-06, 2.13e-06, 1.89e-06, 8.2e-07, 4.5000000000000003e-07, 1.04e-06, 1.77e-06, 2.4500000000000003e-06, 2e-06, 1.22e-06, 1.91e-06, 1.3e-07, 1.5e-07, 1.4299999999999999e-06, 1.6e-07, 2.2e-07, 2.2e-06, 2.1e-07, 1.23e-06, 1.35e-06, 1.79e-06, 2.5e-07, 2.5099999999999997e-06, 2.25e-06, 5.5e-07, 2.8900000000000003e-06, 6.7e-07, 4.0000000000000003e-07, 4.3e-07, 1.9299999999999997e-06, 2.16e-06, 8e-08, 1.7000000000000001e-07, 2.1800000000000003e-06, 1e-08, 4.8e-07, 1.8200000000000002e-06, 2.63e-06, 1.91e-06, 2e-08, 1.17e-06, 1.68e-06, 2.2e-07, 1.21e-06, 1.22e-06, 9.200000000000001e-07, 1.2e-06, 2.9300000000000003e-06, 1.25e-06, 1.56e-06, 2.7e-07, 6.800000000000001e-07, 1.6e-07, 8.3e-07, 1.1399999999999999e-06, 1.9299999999999997e-06, 1.15e-06, 5.3e-07, 1.4e-07, None, 1.6200000000000002e-06, 1.1100000000000002e-06, 1.55e-06, 1.06e-06, 8.6e-07, 3.2e-07, 2.47e-06, 2.23e-06, 8.4e-07, 1.04e-06, 2.13e-06, 2.0000000000000002e-07, 2.58e-06, 3.32e-06, 1.44e-06, 8e-08, 2.98e-06, 3.1e-07, 1.66e-06, 2.23e-06, 6.4e-07, 1.18e-06, 4.6000000000000004e-07, 1.03e-06, 1.2e-07, 1.31e-06, 4.2e-07, 1e-06, 2.4500000000000003e-06, 5.9e-07, 5.5e-07, 1.79e-06, 4.1e-07, 8.2e-07, 1e-06, 3.25e-06, 2.4500000000000003e-06, 1.13e-06, 2.0699999999999997e-06, 1.46e-06, 3.8e-07, 1.32e-06, 1.7800000000000001e-06, 1.16e-06, 9.7e-07, 1.61e-06, 9e-08, 9e-08, 3.07e-06, 3e-07, 4e-08, 2.56e-06, 7.6e-07, 3.4000000000000003e-07, 2.8e-07, 5.8e-07, 8.2e-07, 1.8400000000000002e-06, 1.46e-06, 2.4500000000000003e-06, 4.6000000000000004e-07, 8.3e-07, 2.35e-06, 1.89e-06, 2e-08, 2.6e-07, 2.02e-06, 1.83e-06, 1.33e-06, 4.02e-06, 8.900000000000001e-07, 8.4e-07, 1.72e-06, 1.08e-06, 1.1100000000000002e-06, 8.000000000000001e-07, 7.1e-07, 1.6e-07, 1.71e-06, 2.79e-06, 3.4000000000000003e-07, 2.42e-06, 2.69e-06, 3e-08, 1.3e-07, 8.900000000000001e-07, 1.26e-06, 1.1399999999999999e-06, 8.2e-07, 3.2400000000000003e-06, 6e-07, 2.58e-06, 5.4e-07, 7.8e-07, 2.7e-07, 9.300000000000001e-07, 1.95e-06, 0.0, 1.3899999999999998e-06, 9.7e-07, 2.47e-06, 2.88e-06, 2.21e-06, 2.3000000000000002e-07, 2.5e-07, None, 1.1100000000000002e-06, 0.0, None, None, 1e-08, 3.8e-07, 8.000000000000001e-07, 5.1e-07, 0.0, None, 9.399999999999999e-07, None, 1.38e-06, None, None, 1.08e-06, 3.3e-07, 1.33e-06, 4.3e-07, 1.51e-06, 2.95e-06, 3e-08, 1e-08, None, None, 3e-08, None, 2.0299999999999996e-06, 5e-07, None, 2.32e-06, 2.1000000000000002e-06, None, 1e-08, 2.4e-07, 3.4000000000000003e-07, 8.000000000000001e-07, 7.6e-07, 5e-07, 0.0, 2.4e-07, None, 2.3e-06, 3e-07, 5.4e-07, None, 2.1800000000000003e-06, 6e-07, 5.9e-07, None, None, None, 2.81e-06, None, None, 1.95e-06, 2.8199999999999997e-06, None, None, None, None, None, 1.08e-06]\n"
     ]
    }
   ],
   "source": [
    "conn = sqlite3.connect(\"data/factbook.db\")\n",
    "\n",
    "query = \"select population_growth / 1000000 from facts\"\n",
    "population_growth_millions = conn.execute(query).fetchall()\n",
    "\n",
    "population_growth_millions = [i[0] for i in population_growth_millions]\n",
    "print(population_growth_millions)"
   ]
  },
  {
   "cell_type": "markdown",
   "metadata": {},
   "source": [
    "## 10: Performing Arithmetic Between Columns\n",
    "\n",
    "A few screens ago, we learned how to apply aggregation functions to columns in the SELECT statement, like so:\n",
    "\n",
    "\n",
    "``SELECT AVG(birth_rate), SUM(population)\n",
    "FROM facts;``\n",
    "\n",
    "The aggregation functions modified the columns' values before SQLite returned them. SQL lets us perform many different kinds of manipulations on the columns we select. To calculate the ratio between births and deaths for each country, for example, we could divide the birth_rate column by the death_rate column. Here's how we would accomplish this:\n",
    "\n",
    "\n",
    "``SELECT birth_rate / death_rate \n",
    "FROM facts;``\n",
    "\n",
    "The query above will divide each value in the birth_rate column by the corresponding value in the death_rate column.\n",
    "\n",
    "We can also perform more complex queries, such as finding the ratio of birth_rate plus migration_rate to death_rate. The results will help us discover whether the population is increasing or decreasing:\n",
    "\n",
    "\n",
    "``SELECT (birth_rate + migration_rate) / death_rate \n",
    "FROM facts;``\n",
    "\n",
    "The query will add together the birth_rate and migration_rate columns, then divide by the death_rate column. Arithmetic in SQL respects the order of operations and parentheses, so the addition step happens before the division step.\n",
    "\n",
    "#### Instructions:\n",
    "\n",
    "- Use a SQL query to compute the population of each country a year from now.\n",
    "     - Multiply the population and population_growth columns, then add the population column to the result.\n",
    "- Assign the result of the query to next_year_population.\n",
    "- Print next_year_population."
   ]
  },
  {
   "cell_type": "code",
   "execution_count": 23,
   "metadata": {
    "collapsed": false
   },
   "outputs": [
    {
     "name": "stdout",
     "output_type": "stream",
     "text": [
      "[33319834.734400004, 3038365.834, 40269741.8544, 85682.69600000001, 20170937.8134, 93582.2064, 43835802.5398, 3060966.5730000003, 22994449.849799998, 8713210.525, 9874675.488, 327356.0745, 1379066.3733, 171661068.92000002, 291504.87240000005, 9608868.378, 11410035.1948, 353864.8003, 10739119.3866, 750154.3009, 10969375.759200001, 3872082.1715, 2209129.8999, 205832612.55240002, 436606.2652, 7228576.979400001, 19505316.0858, 56889040.0806, 11094622.6528, 15956954.344800001, 24354063.7462, 35363084.77, 553418.5048, 5506378.780700001, 11851290.518399999, 17651827.732, 1373639072.2459998, 47222789.9712, 794794.1867000001, 81319826.832, 4850198.94, 4872876.5568, 23740242.2682, 4470648.2972, 11047980.149500001, 1206202.5171, 10661873.747200001, 5593782.3066, 846547.128, 73761.5747, 10607644.6988, 16082619.346, 90071320.3884, 6156703.375, 759335.6492999999, 6674562.0024999995, 1272379.81, 102340381.16909999, 915481.9062999999, 5498829.688, 66839947.193799995, 1738248.9848000002, 2010211.5144000002, 4935170.9808, 80991860.4936, 26901591.7482, 10776720.5643, 111225.33119999999, 15190524.7818, 12089980.2606, 1759139.8469999998, 735369.0444, 10228306.2223, 8893617.1064, 9919315.5902, 335934.2078, 1266966270.1248, 258348815.80080003, 82806161.24, 38141914.75170001, 4953458.8125, 8174883.298400001, 62022128.82399999, 2970271.428, 127122730.4544, 8184939.7812, 18364113.1908, 46811659.309300005, 106926.6765, 25115615.986500002, 49183957.2744, None, 2833708.2508, 5727819.822900001, 7018672.932, 2007764.0729999999, 6237889.428599999, 1953933.6432000003, 4299298.9502, 6554758.6048, 37940.0416, 2914431.1032, 582398.3676, 2100207.03, 24427048.169800002, 18561124.940399997, 30953247.411199998, 393567.6024, 17460810.9728, 415248.29150000005, 73389.3706, 3676908.4546, 1348401.8928, 123173303.3462, 105699.99359999999, 3583379.5241, 30571.642000000003, 3032115.0948000005, 649790.7066, 33655925.99, 25923039.2685, 2225359.6113, 9592.470000000001, 32116073.359500002, 17017390.4064, 4474787.8226, 5966959.81, 18632215.1925, 186010326.37199998, 5266535.8857, 3354975.5752, 201992500.3662, 21345.807, 3705296.7168000005, 6791198.2362, 6861957.955200001, 30740315.4903, 102624449.8536, 38596894.97009999, 10835051.778099999, 2262197.8819, 21731349.049999997, 142480742.5092, 12985873.3648, 52330.7136, 164479.3348, 102914.3556, 198920.0834, 33290.764, 197575.71039999998, 28157499.8136, 14318241.933, 7209807.2524, 93197.169, 6017256.803, 5781719.520799999, 5446116.0054, 1988568.8712, 635042.8738, 10810659.754, 54389447.987900004, 12527034.982, 48574634.592599995, 22238737.2992, 36729925.2716, 585893.0364, 1451548.3043000002, 9880028.928, 8179494.993000001, 17092157.766400002, 8332040.481799999, 52470062.1078, 68207524.77700001, 1260909.0072, 7755475.354199999, 106532.9503, 1223952.0719, 11135456.302499998, 80414888.7894, 5291060.2108000005, 10958.1258, 38303841.538, 44696047.826, 5928877.808, 64434298.39880001, 323875541.13920003, 3350916.1111, 29471501.460600004, 277573.14800000004, 842.0, 29682388.894, 95264018.69950001, 27397728.7299, 15500174.4608, 14544013.8561, 23468980.7898, 515234318.61249995, None, 1546.9830000000002, 596.0, None, None, 2210.221, 7168242.2028, 597472.848, 50451.9996, 57733.0, None, 285360.4082, None, 275363.287, None, None, 5718.0956, 15664.522900000002, 113653.75460000001, 149044.1458, 40288.3039, 10128.221000000001, 1190.357, 1337.1337, None, None, 1872.5616, None, 16751.2854, 70546.98, None, 34230.13280000001, 57269.93199999999, None, 3361.3361, 29328.2192, 66304.672, 98072.352, 88210.342, 5267.204999999999, 48.0, 7813.708, None, 51436.439999999995, 54506.028999999995, 162658.63900000002, None, 53485.099200000004, 3619947.142, 104185.0866, None, None, None, 1921575.4455, None, None, 2839680.637, 586964.4212, None, None, None, None, None, 7334860103.118799]\n"
     ]
    }
   ],
   "source": [
    "conn = sqlite3.connect(\"data/factbook.db\")\n",
    "\n",
    "query = \"SELECT (1 + (population_growth/100)) * population FROM facts;\"\n",
    "next_year_population = conn.execute(query).fetchall()\n",
    "next_year_population = [i[0] for i in next_year_population]\n",
    "print(next_year_population)"
   ]
  },
  {
   "cell_type": "markdown",
   "metadata": {},
   "source": [
    "## 11: Next Steps\n",
    "In this mission, we explored how to calculate summary statistics in SQL. It's often advantageous to do these computations in the SQL database instead of a Python environment because it's faster to code and execute. In the next mission, we'll cover how to calculate more advanced statistics in SQL with the GROUP BY statement."
   ]
  }
 ],
 "metadata": {
  "kernelspec": {
   "display_name": "Python 3",
   "language": "python",
   "name": "python3"
  },
  "language_info": {
   "codemirror_mode": {
    "name": "ipython",
    "version": 3
   },
   "file_extension": ".py",
   "mimetype": "text/x-python",
   "name": "python",
   "nbconvert_exporter": "python",
   "pygments_lexer": "ipython3",
   "version": "3.6.0"
  }
 },
 "nbformat": 4,
 "nbformat_minor": 2
}
