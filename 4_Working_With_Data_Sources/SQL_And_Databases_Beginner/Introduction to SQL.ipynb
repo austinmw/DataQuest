{
 "cells": [
  {
   "cell_type": "markdown",
   "metadata": {},
   "source": [
    "## 1: Introduction To Databases And SQL\n",
    "\n",
    "In previous missions, we worked with data sets stored in a single file, which was usually a CSV file. While CSV files are easy to interface with, they have a lot of limitations. It's difficult to load large CSV files into a computer's memory, which is where tools like pandas work with data. CSV files also fall short when it comes to providing security for production applications (imagine if companies like Google or Facebook used CSV files to store and access data).\n",
    "\n",
    "In addition, CSV files are optimized for static representation. If your data changes quickly, which is true for most technology companies, then you'll need to adopt a different method.\n",
    "\n",
    "A database is a repository designed for storing, querying, and processing data. Databases store the data we want, and expose an interface for interacting with it. Most technology companies use databases to **structure** the data they generate and **query** specific subsets of it later on in order to answer questions or make updates.\n",
    "\n",
    "Database systems come with administrative software for configuring settings, controlling security and access, and generating reports. They also include a language for interfacing with the database.\n",
    "\n",
    "In this course, we'll be focusing on a language called **SQL**, or Structured Query Language. We use SQL to query, update, and modify the data in a database.\n",
    "\n",
    "SQL is the most common language for working with databases, and an important tool in any data professional's toolkit. While SQL is a language, it's quite different from languages like Python or R. Its creators built it specifically for querying and interacting with databases, so it won't have much of the functionality you can expect in traditional programming languages. Because SQL is a [declarative language](https://en.wikipedia.org/wiki/Declarative_programming), the user focuses on expressing what he or she wants, and the computer focuses on figuring out how to perform the computation.\n",
    "\n",
    "Before diving into SQL syntax, we'll introduce a few database concepts so you're aware of how databases represent data, and why SQL makes it easy to work with that data."
   ]
  },
  {
   "cell_type": "markdown",
   "metadata": {},
   "source": [
    "## 2: Understanding Tables, Rows, And Columns\n",
    "\n",
    "A database is a collection of **tables**. Each table is made up of **rows** of data, and each row has values for the same set of **columns**. A table is very similar to a dataframe in pandas, or the structure of a CSV file. These all have rows of values with a consistent set of columns.\n",
    "\n",
    "We'll be working with the data from the American Community Survey on college majors and job outcomes. Here's a preview of [recent-grads.csv](https://github.com/fivethirtyeight/data/tree/master/college-majors), the data set we'll be working with:\n",
    "\n",
    "| Rank | Major_code | Major                                     | Major_category | Total | Sample_size | Men   | Women | ShareWomen | Employed |\n",
    "|------|------------|-------------------------------------------|----------------|-------|-------------|-------|-------|------------|----------|\n",
    "| 1    | 2419       | PETROLEUM ENGINEERING                     | Engineering    | 2339  | 36          | 2057  | 282   | 0.120564   | 1976     |\n",
    "| 2    | 2416       | MINING AND MINERAL ENGINEERING            | Engineering    | 756   | 7           | 679   | 77    | 0.101852   | 640      |\n",
    "| 3    | 2415       | METALLURGICAL ENGINEERING                 | Engineering    | 856   | 3           | 725   | 131   | 0.153037   | 648      |\n",
    "| 4    | 2417       | NAVAL ARCHITECTURE AND MARINE ENGINEERING | Engineering    | 1258  | 16          | 1123  | 135   | 0.107313   | 758      |\n",
    "| 5    | 2405       | CHEMICAL ENGINEERING                      | Engineering    | 32260 | 289         | 21239 | 11021 | 0.341631   | 25694    |\n",
    "\n",
    "We've loaded a subset of the data into a table named `recent_grads` in a database. The subset contains the 2010-2012 data for recent college grads only. Let's explore how to query the data with SQL.\n",
    "\n",
    "Notice that each row of the data represents a college major, and has the same columns.\n",
    "\n",
    "The full table has many more columns (21 to be specific) than the ones we've displayed above. You can find more details about them in [FiveThirtyEight's Github repository](https://github.com/fivethirtyeight/data/tree/master/college-majors).\n",
    "\n",
    "Here are the descriptions for the columns in the preview:\n",
    "\n",
    "- `Rank` - The major's rank by median earnings\n",
    "- `Major_code` - The major's code or ID\n",
    "- `Major` - The name of the major\n",
    "- `Major_category` - The broader category the major belongs to\n",
    "- `Total` - The total number of people who studied the major\n",
    "- `Sample_size` - The sample size (unweighted) of graduates with full time jobs\n",
    "- `Men` - The number of male graduates\n",
    "- `Women` - The number of female graduates\n",
    "- `ShareWomen` - Women as a proportion of the total number of graduates\n",
    "- `Employed` - The number of employed graduates\n",
    "\n",
    "Let's dive into how to use SQL to query this database, which contains just this one table.\n"
   ]
  },
  {
   "cell_type": "markdown",
   "metadata": {},
   "source": [
    "## 3: Querying Databases With SQL\n",
    "\n",
    "Writing a SQL query is the primary way to interact with a database. A SQL query has to adhere to a defined structure and vocabulary that we use to specify what we want the database to do. The SQL language has a set of general statements that we combine with specific logic to express the intent of our query.\n",
    "\n",
    "The first and most basic statement in SQL is a <font color='red'>SELECT</font> statement. To specify that we want to return 10 specific columns for all of the rows in a certain table, we use the `SELECT` keyword, along with the names of the 10 columns. We use a `SELECT` statement whenever we want to return specific data from the database without editing or modifying it.\n",
    "\n",
    "Let's explore the basic syntax for the `SELECT` statement.\n",
    "\n",
    "\n",
    "``SELECT [columnA, columnB, ...]\n",
    "FROM tableName;``\n",
    "\n",
    "The SQL syntax reads more like English than a programming language like Python. The database converts our query to lower-level logic and returns the results to us. Now let's see what an actual SQL query looks like. The following query selects the `Rank` and `Major` columns from the table `recent_grads`, which represents the information from `recent-grads.csv` as a table in the database:\n",
    "\n",
    "``SELECT Rank,Major\n",
    "FROM recent_grads;``\n",
    "\n",
    "The semicolon (<font color='red'>;</font>) at the end of the query is required because it specifies where the query ends. This allow us to write a query on one line, or over multiple lines.\n",
    "\n",
    "<span style=\"color:red\">   </span>"
   ]
  },
  {
   "cell_type": "markdown",
   "metadata": {},
   "source": [
    "### Requires:\n",
    "- `jobs.db`\n",
    "- `script.sql`"
   ]
  },
  {
   "cell_type": "markdown",
   "metadata": {},
   "source": [
    "## 4: Querying A SQLite Database\n",
    "We'll be working with [SQLite](https://docs.python.org/2/library/sqlite3.html), a lightweight database that's ideal for exploring and learning SQL. We'll explore how SQLite works under the hood in a later mission. For now, we've taken care of setting up and populating the database for our next exercise.\n",
    "\n",
    "Writing and running SQL queries in our interface is similar to writing and running Python code. Write the query in the code cell, and then click Check to execute the query against the database. SQLite returns the results as a list of lists, where each inner list represents the values in a row. If you write multiple queries in a code cell, SQLite will **only display the last query's results**.\n",
    "\n",
    "Here's a preview of the results that SQLite returns:\n",
    "\n",
    "``[[1, \"PETROLEUM ENGINEERING\"], [2, \"MINING AND MINERAL ENGINEERING\"], [3, \"METALLURGICAL ENGINEERING\"], [4, \"NAVAL ARCHITECTURE AND MARINE ENGINEERING\"], [5, \"CHEMICAL ENGINEERING\"],...``\n",
    "\n",
    "Now let's practice writing and running a SQL query.\n",
    "\n",
    "### Instructions:\n",
    "- Use the query from the previous step that returns the Rank and Major columns from the table recent_grads.\n",
    "- Click Check to see the results of the query."
   ]
  },
  {
   "cell_type": "markdown",
   "metadata": {},
   "source": [
    "# CHECK THE README"
   ]
  }
 ],
 "metadata": {
  "kernelspec": {
   "display_name": "Python 3",
   "language": "python",
   "name": "python3"
  },
  "language_info": {
   "codemirror_mode": {
    "name": "ipython",
    "version": 3
   },
   "file_extension": ".py",
   "mimetype": "text/x-python",
   "name": "python",
   "nbconvert_exporter": "python",
   "pygments_lexer": "ipython3",
   "version": "3.6.0"
  }
 },
 "nbformat": 4,
 "nbformat_minor": 2
}
