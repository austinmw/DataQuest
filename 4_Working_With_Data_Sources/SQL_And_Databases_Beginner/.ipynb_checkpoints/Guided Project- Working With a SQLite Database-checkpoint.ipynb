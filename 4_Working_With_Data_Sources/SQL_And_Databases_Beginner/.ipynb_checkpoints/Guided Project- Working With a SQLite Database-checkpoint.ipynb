{
 "cells": [
  {
   "cell_type": "markdown",
   "metadata": {},
   "source": [
    "## 1: Overview Of The Data Set\n",
    "\n",
    "In this project, we'll continue working with the [CIA World Factbook](https://www.cia.gov/library/publications/the-world-factbook/), a compendium of facts about countries. The Factbook contains demographic information for each country in the world, including:\n",
    "\n",
    "- population - The population as of 2015\n",
    "- population_growth - The annual population growth rate, as a percentage\n",
    "- area - The total land and water area\n",
    "\n",
    "You can download the Factbook as a SQLite database [from GitHub](https://github.com/factbook/factbook.sql) if you want to work with it on your own computer. In this guided project, we'll be working with Python and the SQLite command line tool (SQLite Command Shell) to connect to the database, extract data, and perform analysis on the data."
   ]
  },
  {
   "cell_type": "markdown",
   "metadata": {},
   "source": [
    "## 2: Overview Of The SQLite Command Shell \n",
    "\n",
    "SQLite is a relational database management system that enables us to create databases and query them using SQL syntax. SQLite is simpler than full database systems like MySQL and PostgreSQL. It's good for cases where ease of use is more important than performance. Each SQLite database is stored as a single file, making it easy to transport.\n",
    "\n",
    "The Factbook database is in the file factbook.db. Thedb at the end is a file extension that's short for database.\n",
    "\n",
    "We can open the Factbook database in the SQLite Command Shell by navigating to the same folder as factbook.db, then typing sqlite3 factbook.db on the command line. This enables us to manage the database and run SQL queries."
   ]
  },
  {
   "cell_type": "markdown",
   "metadata": {},
   "source": [
    "### Instructions:\n",
    "Use the SQLite Command Shell to explore factbook.db.\n",
    "\n",
    "- Connect to factbook.db using the SQLite Command Shell.\n",
    "- Type .help into the shell to see a list of commands you can run in the shell.\n",
    "- Type .tables to see a list of the tables in the database.\n",
    "- If you type .header on, you'll see the column headers when you run queries.\n",
    "If you type an incomplete command (one that's missing the ending semicolon, for example), SQLite won't execute it. Instead, it will take you to an indented line. Type the semicolon (;) in the indented line (and press Enter) to exit the indentation and run the command. Here's an example:\n",
    "\n",
    "<img src=\"https://dq-content.s3.amazonaws.com/nPRG1kN.png\">\n",
    "\n",
    "When you're done with the SQLite Command Shell, type .quit. Don't quit the shell just yet, though, because you'll be using it in the next step."
   ]
  },
  {
   "cell_type": "code",
   "execution_count": 157,
   "metadata": {
    "collapsed": false
   },
   "outputs": [],
   "source": [
    "%%bash\n",
    "cd data/\n",
    "#sqlite3 factbook.db\n",
    "\n",
    "# since this is an interactive command-line program, I can't show everything in this NB\n",
    "\n",
    "# In later steps I'll just write python code instead of using command-line sqlite3+scripts"
   ]
  },
  {
   "cell_type": "markdown",
   "metadata": {},
   "source": [
    "## 3: Running Queries In The SQLite Command Shell\n",
    "The SQLite Command Shell also allows us to run any valid SQL query. For example, we could run the following:\n",
    "\n",
    "``SELECT * FROM facts;``\n",
    "\n",
    "This will show us all of the rows in the facts table.\n",
    "\n",
    "### Instructions:\n",
    "\n",
    "Run some queries in the SQLite Command Shell. Be sure to enter .header on to see the headers for each column.\n",
    "While you should think of your own queries, here are a couple of examples:\n",
    "\n",
    "- SELECT * FROM facts ORDER BY population DESC LIMIT 10;\n",
    "- SELECT * FROM facts ORDER BY area_land ASC LIMIT 10;\n",
    "\n",
    "You may notice that these queries return some strange results, such as Ethiopia having the least land area. The queries also include non-national entities like the European Union and Akrotiri.\n",
    "The data is fairly messy, and some values in the area_land column are missing. Add WHERE area_land != \"\" to the query before the ORDER BY clause to remove the invalid rows. You may also need to try additional filtering.\n",
    "When you're done exploring, you can quit the SQLite Command Shell with .quit."
   ]
  },
  {
   "cell_type": "markdown",
   "metadata": {},
   "source": [
    "## 4: Using Python With SQLite\n",
    "\n",
    "The sqlite3 library, which comes with Python by default, allows us to connect to SQLite databases. To do this, we open a database connection, then create an object that can run queries.\n",
    "\n",
    "For example, this code will let us connect to factbook.db and select all of the rows:\n",
    "\n",
    "\n",
    "``import sqlite3\n",
    "conn = sqlite3.connect('factbook.db')\n",
    "​\n",
    "c = conn.cursor()\n",
    "c.execute('SELECT * FROM facts;')\n",
    "​\n",
    "print(c.fetchall())``\n",
    "\n",
    "The code above creates a Connection object. We then create a Cursor instance, which can execute queries. Finally, we execute a query and display the results using the print function. To learn more about the sqlite3 library, read the package documentation on the official Python website.\n",
    "\n",
    "### Instructions:\n",
    "\n",
    "- Write code in query.py that selects the 10 least populated countries from the facts table, and then prints the results.\n",
    "- Execute query.py from the command line by running python query.py."
   ]
  },
  {
   "cell_type": "markdown",
   "metadata": {},
   "source": [
    "## 5: Computing Population Projections\n",
    "\n",
    "You can read the results of a SQL query into a pandas dataframe using the read_sql_query function, which the official pandas website documents. The read_sql_query function takes a SQL query string and a connection object, and returns a dataframe containing all of the rows and columns from the query.\n",
    "\n",
    "When pandas reads in columns this way, it automatically uses the column types from the original the database. Blank entries in the database (like the ones in the area_land column) will have NaN values in a dataframe, which means \"Not a Number.\" This is because pandas can't have blanks in numeric columns; it uses NaN to signify invalid or missing values instead.\n",
    "\n",
    "You can learn more about how to work with missing data in the pandas documentation. For now, we'll just use the dropna method with the axis=0 argument, which will drop any rows that have NaN values.\n",
    "\n",
    "### Instructions:\n",
    "\n",
    "Read the facts table into pandas, and then compute the projected population for each country in 2050. Here's a rough outline of the steps you'll need to take:\n",
    "\n",
    "- Create a script called growth.py.\n",
    "- Read facts into a pandas dataframe using read_sql_query.\n",
    "- Filter out any rows that have invalid data. Look for things like the value 0 in the area_land column, which doesn't make sense.\n",
    "- Write a function that takes in a country's initial population and growth rate, and then outputs the final population. The annual population growth (expressed as a percentage) for each country is in the population_growth column, while the initial population is in the population column.\n",
    "    - The formula for compound annual population growth is:\n",
    "    \n",
    "N=N0e(rt)  \n",
    "N is the final population, N0 is the initial population, e is a constant value we can access with math.e, r is the rate of annual change, expressed as a decimal (so 1.5 percent should be .015), and t is the number of years we want to project out. Assume that you'll be starting in January 2015 and ending in January 2050, covering a period of 35 years. For example, let's say you have a country with 5000 people and a 4 percent annual growth rate. The formula would be N=5000∗e(.04∗35). Use the apply method on pandas dataframes to compute what the population will be in 2050 for each row in the data. Use the dataframe sort_values method to sort on the 2050 population in descending order. Print the 10 countries that will have the highest populations in 2050."
   ]
  },
  {
   "cell_type": "code",
   "execution_count": 5,
   "metadata": {
    "collapsed": false
   },
   "outputs": [
    {
     "name": "stdout",
     "output_type": "stream",
     "text": [
      "[('Ashmore and Cartier Islands',), ('Coral Sea Islands',), ('Heard Island and McDonald Islands',), ('Clipperton Island',), ('French Southern and Antarctic Lands',), ('Bouvet Island',), ('Jan Mayen',), ('British Indian Ocean Territory',), ('South Georgia and South Sandwich Islands',), ('Navassa Island',)]\n"
     ]
    }
   ],
   "source": [
    "# example\n",
    "import sqlite3\n",
    "\n",
    "conn = sqlite3.connect(\"data/factbook.db\")\n",
    "\n",
    "query = \"select name from facts order by population asc limit 10\"\n",
    "print(conn.execute(query).fetchall())"
   ]
  },
  {
   "cell_type": "markdown",
   "metadata": {},
   "source": [
    "#### Instructions answer (using df.apply(lambda x: ... ))"
   ]
  },
  {
   "cell_type": "code",
   "execution_count": 158,
   "metadata": {
    "collapsed": false
   },
   "outputs": [
    {
     "name": "stdout",
     "output_type": "stream",
     "text": [
      "(261, 13)\n",
      "id                    0\n",
      "code                  0\n",
      "name                  0\n",
      "area                 12\n",
      "area_land            15\n",
      "area_water           18\n",
      "population           19\n",
      "population_growth    25\n",
      "birth_rate           33\n",
      "death_rate           33\n",
      "migration_rate       38\n",
      "created_at            0\n",
      "updated_at            0\n",
      "dtype: int64\n",
      "193\n",
      "id                   0\n",
      "code                 0\n",
      "name                 0\n",
      "area                 0\n",
      "area_land            0\n",
      "area_water           0\n",
      "population           0\n",
      "population_growth    0\n",
      "birth_rate           0\n",
      "death_rate           0\n",
      "migration_rate       0\n",
      "created_at           0\n",
      "updated_at           0\n",
      "dtype: int64\n",
      "(215, 13)\n",
      "76                                 India\n",
      "36                                 China\n",
      "128                              Nigeria\n",
      "181                               Uganda\n",
      "39     Congo, Democratic Republic of the\n",
      "131                             Pakistan\n",
      "13                            Bangladesh\n",
      "171                             Tanzania\n",
      "185                        United States\n",
      "79                                  Iraq\n",
      "Name: name, dtype: object\n"
     ]
    }
   ],
   "source": [
    "# imports\n",
    "import sqlite3 as sql\n",
    "import pandas as pd\n",
    "import math # for math.e\n",
    "\n",
    "# connect to sqlite3 db\n",
    "conn = sql.connect(\"data/factbook.db\")\n",
    "\n",
    "# write query\n",
    "query = \"select * from facts\"\n",
    "\n",
    "# read query into pandas\n",
    "df = pd.read_sql_query(query, conn)\n",
    "\n",
    "# check df size\n",
    "print(df.shape)\n",
    "# see how many null values for each column and total\n",
    "nulls = df.isnull().sum(axis=0)\n",
    "print(nulls)\n",
    "print(sum(nulls))\n",
    "# drop NaNs\n",
    "df.dropna(axis=0, inplace=True)\n",
    "nulls = df.isnull().sum(axis=0)\n",
    "print(nulls)\n",
    "# filter multiple columns for bad data\n",
    "df = df[(df.area>0) & (df.birth_rate>0) & (df.death_rate>0) & (df.name != '')]\n",
    "# check new df size\n",
    "print(df.shape)\n",
    "\n",
    "# apply lambda function to calculate projected population and create new col\n",
    "df[\"2050_projected_pop\"] = df.apply(lambda x: round(x[\"population\"] * \n",
    "    pow(math.e,x[\"population_growth\"])*0.01*35), axis = 1)\n",
    "\n",
    "# sort by 2050 projected population, descending order, print top 10\n",
    "print(df.sort_values(by=\"2050_projected_pop\", ascending=False)[:10]['name'])"
   ]
  },
  {
   "cell_type": "code",
   "execution_count": null,
   "metadata": {
    "collapsed": true
   },
   "outputs": [],
   "source": [
    "# Math library for math.e\n",
    "import math\n",
    "\n",
    "# apply lambda function to calculate projected population and create new col\n",
    "df[\"2050_projected_pop\"] = df.apply(lambda x: round(x[\"population\"] * \n",
    "    pow(math.e,x[\"population_growth\"])*0.01*35), axis = 1)\n",
    "\n",
    "# sort by 2050 projected population, descending order, print top 10\n",
    "print(df.sort_values(by=\"2050_projected_pop\", ascending=False)[:10]['name'])"
   ]
  },
  {
   "cell_type": "markdown",
   "metadata": {},
   "source": [
    "## 6: Summing Columns To Compute Total Area\n",
    "\n",
    "We can add up all of the values in a column by using the SUM function in a SQL query. For example, we can calculate the total population with this query:\n",
    "\n",
    "\n",
    "``SELECT SUM(population) from facts;``\n",
    "\n",
    "We can also add a WHERE clause, like this:\n",
    "\n",
    "``SELECT SUM(population) from facts WHERE area_land != \"\";``\n",
    "\n",
    "### Instructions: \n",
    "\n",
    "Use SQL and Python to compute the ratio of land area to water area that each country claims. Here's a rough outline of the steps you'll need to take:\n",
    "\n",
    "- Write a script called area.py.\n",
    "- Query to get the total of the area_land column.\n",
    "- Query to get the total of the area_water column.\n",
    "- Divide area_land by area_water and print the result."
   ]
  },
  {
   "cell_type": "code",
   "execution_count": 152,
   "metadata": {
    "collapsed": false
   },
   "outputs": [
    {
     "name": "stdout",
     "output_type": "stream",
     "text": [
      "27.7515734041\n"
     ]
    }
   ],
   "source": [
    "import sqlite3\n",
    "import pandas as pd\n",
    "\n",
    "# connect to sqlite3 db\n",
    "conn = sqlite3.connect(\"data/factbook.db\")\n",
    "\n",
    "# query to get sums of columns\n",
    "area_land_total = pd.read_sql_query(\"select sum(area_land) from facts\", conn).iloc[0][0]\n",
    "area_water_total = pd.read_sql_query(\"select sum(area_water) from facts\", conn).iloc[0][0]\n",
    "\n",
    "# calculate land-to-water ratio\n",
    "land_to_water_ratio = area_land_total / area_water_total\n",
    "print(land_to_water_ratio)"
   ]
  }
 ],
 "metadata": {
  "kernelspec": {
   "display_name": "Python 3",
   "language": "python",
   "name": "python3"
  },
  "language_info": {
   "codemirror_mode": {
    "name": "ipython",
    "version": 3
   },
   "file_extension": ".py",
   "mimetype": "text/x-python",
   "name": "python",
   "nbconvert_exporter": "python",
   "pygments_lexer": "ipython3",
   "version": "3.6.0"
  }
 },
 "nbformat": 4,
 "nbformat_minor": 2
}
