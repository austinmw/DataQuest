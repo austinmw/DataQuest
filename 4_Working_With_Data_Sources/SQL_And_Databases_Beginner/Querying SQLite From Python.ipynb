{
 "cells": [
  {
   "cell_type": "markdown",
   "metadata": {},
   "source": [
    "## 1: Overview\n",
    "\n",
    "In past missions, we focused on exploring the SQL syntax for retrieving data from a database. In this mission, we'll explore how to interact with a SQLite database in Python so you can start to incorporate databases into your data science workflow.\n",
    "\n",
    "SQLite is a database that doesn't require a standalone server; it stores the entire database as a file on disk. This makes it ideal for working with larger data sets that can fit on disk but not in memory.\n",
    "\n",
    "The pandas library loads the entire data set we're working with into memory, making SQLite a compelling alternative for working with data sets larger than 8 gigabytes (which is roughly the amount of memory modern computers contain). The fact that we can contain an entire database in a single file makes them easy to share; some data sets are available online as SQLite database files (using the extension `.db`).\n",
    "\n",
    "We can interact with a SQLite database in two main ways:\n",
    "\n",
    "- Through the SQLite Python module\n",
    "- Through the SQLite shell\n",
    "\n",
    "In this mission, we'll focus on learning how to use the SQLite Python module to interact with the database. We'll work with the SQLite shell in the guided project that comes after this mission."
   ]
  },
  {
   "cell_type": "markdown",
   "metadata": {},
   "source": [
    "## 2: Introduction To The Data\n",
    "\n",
    "We'll continue to work with the American Community Survey data on college majors and job outcomes, which looks like this:\n",
    "\n",
    "| Rank | Major_code | Major                                     | Major_category | Total | Sample_size | Men   | Women | ShareWomen | Employed |\n",
    "|------|------------|-------------------------------------------|----------------|-------|-------------|-------|-------|------------|----------|\n",
    "| 1    | 2419       | PETROLEUM ENGINEERING                     | Engineering    | 2339  | 36          | 2057  | 282   | 0.120564   | 1976     |\n",
    "| 2    | 2416       | MINING AND MINERAL ENGINEERING            | Engineering    | 756   | 7           | 679   | 77    | 0.101852   | 640      |\n",
    "| 3    | 2415       | METALLURGICAL ENGINEERING                 | Engineering    | 856   | 3           | 725   | 131   | 0.153037   | 648      |\n",
    "| 4    | 2417       | NAVAL ARCHITECTURE AND MARINE ENGINEERING | Engineering    | 1258  | 16          | 1123  | 135   | 0.107313   | 758      |\n",
    "| 5    | 2405       | CHEMICAL ENGINEERING                      | Engineering    | 32260 | 289         | 21239 | 11021 | 0.341631   | 25694    |\n",
    "\n",
    "The full table has many more columns than the ones we've displayed above (21 to be specific). You can learn about all of them in FiveThirtyEight's GitHub repository.\n",
    "\n",
    "Here are the descriptions for the columns in the preview:\n",
    "\n",
    "- Rank - The major's rank by median earnings\n",
    "- Major_code - The major's code or ID\n",
    "- Major - The name of the major\n",
    "- Major_category - The broader category the major belongs to\n",
    "- Total - The total number of people who studied the major\n",
    "- Sample_size - The sample size (unweighted) of graduates with full time jobs\n",
    "- Men - The number of male graduates\n",
    "- Women - The number of female graduates\n",
    "- ShareWomen - Women as a proportion of the total number of graduates (a number ranging from 0 to 1)\n",
    "- Employed - The number of employed graduates\n",
    "\n",
    "We've loaded a subset of the data into a table named recent_grads in a database. The subset contains the 2010-2012 data for recent college grads only. The database file we'll be working with is called jobs.db."
   ]
  },
  {
   "cell_type": "markdown",
   "metadata": {},
   "source": [
    "## 3: Connecting To The Database\n",
    "\n",
    "Python 2.5 and up come with the SQLite module, which means we don't need to install any separate libraries to get started. Specifically, we'll be working with the SQLite3 Python module, which was developed to work with SQLite version 3.\n",
    "\n",
    "We can import it into our environment using this command:\n",
    "\n",
    "``import SQLite3``\n",
    "\n",
    "Once we've imported the module, we connect to the database we want to query using the connect() function. This function requires a single parameter, which is the database we want to connect to. Because the database we're working with exists as a file on disk, we need to pass in the file name.\n",
    "\n",
    "The connect() function returns a Connection instance, which maintains the connection to the database we want to work with. When we're connected to a database, SQLite locks the database file and prevents any other processes from connecting to the database simultaneously. The SQLite team made this design decision to keep the database lightweight, and avoid the complexity that arises when multiple processes interact with the same database."
   ]
  },
  {
   "cell_type": "code",
   "execution_count": 4,
   "metadata": {
    "collapsed": false
   },
   "outputs": [],
   "source": [
    "# Import SQLite3 library\n",
    "import sqlite3"
   ]
  },
  {
   "cell_type": "code",
   "execution_count": 5,
   "metadata": {
    "collapsed": true
   },
   "outputs": [],
   "source": [
    "# connect to jobs.db, and assign the Connection instance it returns to conn\n",
    "conn = sqlite3.connect(\"data/jobs.db\")"
   ]
  },
  {
   "cell_type": "markdown",
   "metadata": {},
   "source": [
    "## 4: Introduction To Cursor Objects And Tuples\n",
    "\n",
    "Before we can execute a query, we need to express our SQL query as a string. While we use the Connection class to represent the database we're working with, we use the Cursor class to:\n",
    "\n",
    "- Run a query against the database\n",
    "- Parse the results from the database\n",
    "- Convert the results to native Python objects\n",
    "- Store the results within the Cursor instance as a local variable\n",
    "\n",
    "After running a query and converting the results to a list of tuples, the Cursor instance stores the list as a local variable. Before diving into the syntax of querying the database, let's learn more about tuples."
   ]
  },
  {
   "cell_type": "markdown",
   "metadata": {},
   "source": [
    "## 5: Working With Sequences Of Values As Tuples\n",
    "\n",
    "A tuple is a core data structure that Python uses to represent a sequence of values, similar to a list. Unlike lists, tuples are **immutable**, which means we can't modify existing ones. Python represents each row in the results set as a tuple.\n",
    "\n",
    "To create an empty tuple, assign a pair of empty parentheses to a variable:\n",
    "\n",
    "``t = ()``\n",
    "\n",
    "Python indexes Tuples from 0 to n-1, just like it does with lists. We access the values in a tuple using bracket notation.\n",
    "\n",
    "``t = ('Apple', 'Banana')\n",
    "apple = t[0] \n",
    "banana = t[1]``\n",
    "\n",
    "Tuples are faster than lists, so they're helpful with larger databases and larger results sets.\n",
    "\n",
    "Next, let's dive into how to use the Cursor instance to query the database."
   ]
  },
  {
   "cell_type": "markdown",
   "metadata": {},
   "source": [
    "## 6: Creating A Cursor And Running A Query\n",
    "\n",
    "We need to use the Connection instance method cursor() to return a Cursor instance corresponding to the database we want to query.\n",
    "\n",
    "``cursor = conn.cursor()``\n",
    "\n",
    "In the following code block, we:\n",
    "\n",
    "- Write a basic select query that will return all of the values from the recent_grads table, and store this query as a string named query\n",
    "- Use the Cursor method execute() to run the query against our database\n",
    "- Return the full results set and store it as results\n",
    "- Print the first three tuples in the list results\n",
    "\n",
    "``# SQL Query as a string``  \n",
    "``query = \"select * from recent_grads;\"``  \n",
    "``# Execute the query, convert the results to tuples, and store as a local variable``  \n",
    "``cursor.execute(query)``  \n",
    "``# Fetch the full results set as a list of tuples``  \n",
    "``results = cursor.fetchall()``  \n",
    "``# Display the first three results``  \n",
    "``print(results[0:3])``  "
   ]
  },
  {
   "cell_type": "code",
   "execution_count": 8,
   "metadata": {
    "collapsed": false
   },
   "outputs": [
    {
     "name": "stdout",
     "output_type": "stream",
     "text": [
      "[(0, 1, 2419, 'PETROLEUM ENGINEERING', 'Engineering', 2339, 36, 2057, 282, 0.120564344, 1976, 1849, 270, 1207, 37, 0.018380527, 110000, 95000, 125000, 1534, 364, 193), (1, 2, 2416, 'MINING AND MINERAL ENGINEERING', 'Engineering', 756, 7, 679, 77, 0.10185185199999999, 640, 556, 170, 388, 85, 0.117241379, 75000, 55000, 90000, 350, 257, 50)]\n",
      "[('PETROLEUM ENGINEERING',), ('MINING AND MINERAL ENGINEERING',), ('METALLURGICAL ENGINEERING',)]\n"
     ]
    }
   ],
   "source": [
    "import sqlite3\n",
    "conn = sqlite3.connect(\"data/jobs.db\")\n",
    "\n",
    "# Use cursor() method to return cursor instance of db we want to query\n",
    "cursor = conn.cursor()\n",
    "\n",
    "\n",
    "# SQL query as a string\n",
    "query = \"select * from recent_grads;\"\n",
    "# Exeute query, convert results to tuples, and store as a local variable\n",
    "cursor.execute(query)\n",
    "# Fetch the full results set as a list of tuples\n",
    "results = cursor.fetchall()\n",
    "# Display the first two results\n",
    "print(results[0:2])\n",
    "\n",
    "\n",
    "# Write a query that returns all of the values in the Major column from the recent_grads table.\n",
    "query = \"select Major from recent_grads\"\n",
    "cursor.execute(query)\n",
    "# Store the full results set (a list of tuples) in majors.\n",
    "majors = cursor.fetchall()\n",
    "# Then, print the first three tuples in majors.\n",
    "print(majors[0:3])"
   ]
  },
  {
   "cell_type": "markdown",
   "metadata": {},
   "source": [
    "## : 7 Execute As A Shortcut For Running A Query  \n",
    "\n",
    "So far, we've been running queries by creating a Cursor instance, and then calling the execute method on the instance. The SQLite library actually allows us to skip creating a Cursor altogether by using the execute method within the Connection object itself. SQLite will create a Cursor instance for us under the hood and our query run against the database, but this shortcut allows us to skip a step. Here's what the code looks like:\n",
    "\n",
    "``conn = sqlite3.connect(\"jobs.db\")\n",
    "query = \"select * from recent_grads;\"\n",
    "conn.execute(query).fetchall()``\n",
    "\n",
    "Notice that we didn't explicitly create a separate Cursor instance ourselves in this code example.\n",
    "\n",
    "Now let's learn how to fetch a specific number of results after we run a query."
   ]
  },
  {
   "cell_type": "markdown",
   "metadata": {},
   "source": [
    "## 8: Fetching A Specific Number Of Results \n",
    "\n",
    "To make it easier to work with large results sets, the Cursor class allows us to control the number of results we want to retrieve at any given time. To return a single result (as a tuple), we use the Cursor method fetchone(). To return n results, we use the Cursor method fetchmany().\n",
    "\n",
    "Each Cursor instance contains an internal counter that updates every time we retrieve results. When we call the fetchone() method, the Cursor instance will return a single result, and then increment its internal counter by 1. This means that if we call fetchone() again, the Cursor instance will actually return the second tuple in the results set (and increment by 1 again).\n",
    "\n",
    "The fetchmany() method takes in an integer (n) and returns the corresponding results, starting from the current position. It then increments the Cursor instance's counter by n. In the following code, we return the first two results using the fetchone() method, then the next five results using the fetchmany() method.\n",
    "\n",
    "\n",
    "``first_result = cursor.fetchone()\n",
    "second_result = cursor.fetchone()\n",
    "next_five_results = cursor.fetchmany(5)``"
   ]
  },
  {
   "cell_type": "code",
   "execution_count": 11,
   "metadata": {
    "collapsed": false
   },
   "outputs": [
    {
     "name": "stdout",
     "output_type": "stream",
     "text": [
      "[('PETROLEUM ENGINEERING', 'Engineering'), ('MINING AND MINERAL ENGINEERING', 'Engineering'), ('METALLURGICAL ENGINEERING', 'Engineering'), ('NAVAL ARCHITECTURE AND MARINE ENGINEERING', 'Engineering'), ('CHEMICAL ENGINEERING', 'Engineering')]\n"
     ]
    }
   ],
   "source": [
    "import sqlite3\n",
    "conn = sqlite3.connect(\"data/jobs.db\")\n",
    "cursor = conn.cursor()\n",
    "\n",
    "# Write and run a query that returns the Major and Major_category columns from recent_grads.\n",
    "query = \"select Major, Major_category from recent_grads\"\n",
    "# Then, fetch the first five results and store them as five_results.\n",
    "five_results = conn.execute(query).fetchmany(5)\n",
    "print(five_results)"
   ]
  },
  {
   "cell_type": "markdown",
   "metadata": {},
   "source": [
    "## 9: Closing The Database Connection\n",
    "Because SQLite restricts access to the database file when we're connected to a database, we need to close the connection when we're done working with it. Closing the connection allows other processes to access the database, which is important when you're in a production environment and working with other team members. Also, if we made any changes to the database, SQLite will automatically save them during this step.\n",
    "\n",
    "To close a connection to a database, use the Connection instance method close(). When we're working with multiple databases and multiple Connection instances, we want to make sure we call the close() method on the correct instance. After closing the connection, attempting to query the database using any linked Cursor instances will return the following error:\n",
    "\n",
    "``ProgrammingError: Cannot operate on a closed database.``"
   ]
  },
  {
   "cell_type": "code",
   "execution_count": 12,
   "metadata": {
    "collapsed": true
   },
   "outputs": [],
   "source": [
    "# Close the connection to the database using the Connection instance method close().\n",
    "conn.close()"
   ]
  },
  {
   "cell_type": "markdown",
   "metadata": {},
   "source": [
    "## 10: Practice\n",
    "\n",
    "Now let's practice the entire workflow we've learned so far, from start to finish."
   ]
  },
  {
   "cell_type": "code",
   "execution_count": 15,
   "metadata": {
    "collapsed": false
   },
   "outputs": [
    {
     "name": "stdout",
     "output_type": "stream",
     "text": [
      "[('ZOOLOGY',), ('VISUAL AND PERFORMING ARTS',), ('UNITED STATES HISTORY',), ('TREATMENT THERAPY PROFESSIONS',), ('TRANSPORTATION SCIENCES AND TECHNOLOGIES',)]\n"
     ]
    }
   ],
   "source": [
    "#Connect to the database jobs2.db, which contains the same data as jobs.db.\n",
    "import sqlite3\n",
    "conn = sqlite3.connect(\"data/jobs2.db\")\n",
    "\n",
    "# Write and execute a query that returns all of the majors (Major) in reverse alphabetical order (Z to A).\n",
    "query = \"select Major from recent_grads order by Major desc\"\n",
    "\n",
    "# Assign the full result set to reverse_alphabetical.\n",
    "reverse_alphabetical = conn.execute(query).fetchall()\n",
    "print(reverse_alphabetical[0:5])\n",
    "\n",
    "# Finally, close the connection to the database.\n",
    "conn.close()"
   ]
  },
  {
   "cell_type": "markdown",
   "metadata": {},
   "source": [
    "## 11: Next Steps\n",
    "\n",
    "In this mission, we learned how to query a SQLite database from the Python module (the IPython shell). Next up, we'll walk through how to use the SQLite shell in a guided project. The two shells are similar; we can write and run commands interactively in both of them."
   ]
  }
 ],
 "metadata": {
  "kernelspec": {
   "display_name": "Python 3",
   "language": "python",
   "name": "python3"
  },
  "language_info": {
   "codemirror_mode": {
    "name": "ipython",
    "version": 3
   },
   "file_extension": ".py",
   "mimetype": "text/x-python",
   "name": "python",
   "nbconvert_exporter": "python",
   "pygments_lexer": "ipython3",
   "version": "3.6.0"
  }
 },
 "nbformat": 4,
 "nbformat_minor": 2
}
