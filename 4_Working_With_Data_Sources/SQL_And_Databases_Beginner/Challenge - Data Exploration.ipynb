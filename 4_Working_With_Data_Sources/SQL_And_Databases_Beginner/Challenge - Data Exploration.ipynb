{
 "cells": [
  {
   "cell_type": "markdown",
   "metadata": {},
   "source": [
    "## 1: Introduction\n",
    "In this challenge, you'll practice calculating summary statistics in SQL while exploring data from factbook.db. Recall that factbook.db contains information about all of the countries in the world. You'll work with the facts table, where each row represents a single country. Here are the descriptions for some of the columns:\n",
    "\n",
    "- name - The name of the country\n",
    "- area - The total land and sea area of the country\n",
    "- population - The country's population\n",
    "- birth_rate - The country's birth rate\n",
    "- created_at - The date the record was created\n",
    "- updated_at - The date the record was updated\n",
    "- Here are the first few rows of facts:\n",
    "\n",
    "| id | code | name        | area    | area_land | area_water | population | population_growth | birth_rate | death_rate | migration_rate | created_at                 | updated_at                 |\n",
    "|----|------|-------------|---------|-----------|------------|------------|-------------------|------------|------------|----------------|----------------------------|----------------------------|\n",
    "| 1  | af   | Afghanistan | 652230  | 652230    | 0          | 32564342   | 2.32              | 38.57      | 13.89      | 1.51           | 2015-11-01 13:19:49.461734 | 2015-11-01 13:19:49.461734 |\n",
    "| 2  | al   | Albania     | 28748   | 27398     | 1350       | 3029278    | 0.3               | 12.92      | 6.58       | 3.3            | 2015-11-01 13:19:54.431082 | 2015-11-01 13:19:54.431082 |\n",
    "| 3  | ag   | Algeria     | 2381741 | 2381741   | 0          | 39542166   | 1.84              | 23.67      | 4.31       | 0.92           | 2015-11-01 13:19:59.961286 | 2015-11-01 13:19:59.961286 |\n",
    "\n",
    "\n",
    "In this challenge, you'll use the population values for each country to predict the populations for the following year. First, you'll need to explore the data and look for any quality issues.\n",
    "\n",
    "#### Instructions:\n",
    "- In SQL, calculate the means of the population, population_growth, birth_rate, and death_rate columns.\n",
    "- Assign the mean of the population column to pop_avg.\n",
    "- Assign the mean of the population_growth column to pop_growth_avg.\n",
    "- Assign the mean of the birth_rate column to birth_rate_avg.\n",
    "- Assign the mean of the death_rate column to death_rate_avg."
   ]
  },
  {
   "cell_type": "code",
   "execution_count": 1,
   "metadata": {
    "collapsed": true
   },
   "outputs": [],
   "source": [
    "import sqlite3\n",
    "conn = sqlite3.connect(\"data/factbook.db\")"
   ]
  },
  {
   "cell_type": "code",
   "execution_count": 9,
   "metadata": {
    "collapsed": false
   },
   "outputs": [
    {
     "name": "stdout",
     "output_type": "stream",
     "text": [
      "[(62094928.32231405, 1.2009745762711865, 19.32855263157894, 7.8212719298245625)]\n"
     ]
    }
   ],
   "source": [
    "query = '''select avg(population), avg(population_growth), avg(birth_rate), avg(death_rate) \n",
    "from facts'''\n",
    "\n",
    "results = conn.execute(query).fetchall()\n",
    "print(results)\n",
    "\n",
    "pop_avg = results[0][0]\n",
    "pop_growth_avg = results[0][1]\n",
    "birth_rate_avg = results[0][2]\n",
    "death_rate_avg = results[0][3]"
   ]
  },
  {
   "cell_type": "markdown",
   "metadata": {},
   "source": [
    "## 2: Find Ranges\n",
    "While the averages give you some sense of the values in these columns, you should also calculate the ranges so you know what their lower and upper bounds are. This will also allow you to look for outliers.\n",
    "\n",
    "#### Instructions:\n",
    "Calculate the minimum and maximum values for the columns from the previous screen:\n",
    "- Assign the minimum of the population column to pop_min.\n",
    "- Assign the maximum of the population column to pop_max.\n",
    "- Assign the minimum of the population_growth column to pop_growth_min.\n",
    "- Assign the maximum of the population_growth column to pop_growth_max.\n",
    "- Assign the minimum of the birth_rate column to birth_rate_min.\n",
    "- Assign the maximum of the birth_rate column to birth_rate_max.\n",
    "- Assign the minimum of the death_rate column to death_rate_min.\n",
    "- Assign the maximum of the death_rate column to death_rate_max.\n",
    "\n",
    "You can observe these values using print statements, or the variables display below the output box."
   ]
  },
  {
   "cell_type": "code",
   "execution_count": 10,
   "metadata": {
    "collapsed": false
   },
   "outputs": [
    {
     "name": "stdout",
     "output_type": "stream",
     "text": [
      "[(0, 7256490011, 0.0, 4.02, 6.65, 45.45, 1.53, 14.89)]\n"
     ]
    }
   ],
   "source": [
    "query = '''select min(population), max(population), min(population_growth), \n",
    "max(population_growth), min(birth_rate), max(birth_rate), min(death_rate), \n",
    "max(death_rate) from facts;'''\n",
    "\n",
    "results = conn.execute(query).fetchall()\n",
    "print(results)\n",
    "\n",
    "pop_min = results[0][0]\n",
    "pop_max = results[0][1]\n",
    "pop_growth_min = results[0][2]\n",
    "pop_growth_max = results[0][3]\n",
    "birth_rate_min = results[0][4]\n",
    "birth_rate_max = results[0][5]\n",
    "death_rate_min = results[0][6]\n",
    "death_rate_max = results[0][7]"
   ]
  },
  {
   "cell_type": "markdown",
   "metadata": {},
   "source": [
    "## 3: Filter Values\n",
    "\n",
    "If you observed the values on the previous screen, you may have noticed the outliers. The max for population is 7,256,490,011, while the minimum is 0. We know that China, the most populated country in the world, has less than 2 billion people. The max value for the population column is over 7 billion, however. The minimum value for the population column is also problematic, because no country has 0 people.\n",
    "\n",
    "These quirks exist because the database contains rows for entities that aren't countries. There's a row representing the entire world, for example (hence the 7 billion population), and some rows representing oceanic areas (hence the population of 0).\n",
    "\n",
    "#### Instructions: \n",
    "\n",
    "Write a single query that returns the following minimum and maximum values for countries where population is less than 2 billion and population is greater than 0:\n",
    "\n",
    "- Assign the minimum of the population column to pop_min.\n",
    "- Assign the maximum of the population column to pop_max.\n",
    "- Assign the minimum of the population_growth column to pop_growth_min.\n",
    "- Assign the maximum of the population_growth column to pop_growth_max.\n",
    "- Assign the minimum of the birth_rate column to birth_rate_min.\n",
    "- Assign the maximum of the birth_rate column to birth_rate_max.\n",
    "- Assign the minimum of the death_rate column to death_rate_min.\n",
    "- Assign the maximum of the death_rate column to death_rate_max."
   ]
  },
  {
   "cell_type": "code",
   "execution_count": 12,
   "metadata": {
    "collapsed": false
   },
   "outputs": [
    {
     "name": "stdout",
     "output_type": "stream",
     "text": [
      "[(48, 1367485388, 0.0, 4.02, 6.65, 45.45, 1.53, 14.89)]\n"
     ]
    }
   ],
   "source": [
    "query = '''select min(population), max(population), min(population_growth), \n",
    "max(population_growth), min(birth_rate), max(birth_rate), min(death_rate), \n",
    "max(death_rate) from facts where population < 2000000000 and population > 0;'''\n",
    "\n",
    "results = conn.execute(query).fetchall()\n",
    "print(results)\n",
    "\n",
    "pop_min = results[0][0]\n",
    "pop_max = results[0][1]\n",
    "pop_growth_min = results[0][2]\n",
    "pop_growth_max = results[0][3]\n",
    "birth_rate_min = results[0][4]\n",
    "birth_rate_max = results[0][5]\n",
    "death_rate_min = results[0][6]\n",
    "death_rate_max = results[0][7]"
   ]
  },
  {
   "cell_type": "markdown",
   "metadata": {},
   "source": [
    "## 4: Predict Future Population Growth\n",
    "These measures seem to align more with reality. Now let's predict next year's population for each country using the following formula:\n",
    "\n",
    "\n",
    "``projected_population = population + (population * (population_growth/100))``\n",
    "\n",
    "We need to divide by 100 because the values in population_growth are percentage values (e.g. 2.32) instead of proportional values (e.g. 0.0232).\n",
    "\n",
    "#### Instructions:\n",
    "\n",
    "Use SQL arithmetic to return the projected population values using the above formula and the following parameters:\n",
    "\n",
    "- Round the values to the nearest whole number (population can't contain a fractional value).\n",
    "- Filter out any rows with NULL as the value for either population or population_growth.\n",
    "- Restrict the query to countries with a population that's less than 7 billion and greater than 0.\n",
    "- Assign the resulting projections to projected_population."
   ]
  },
  {
   "cell_type": "code",
   "execution_count": 19,
   "metadata": {
    "collapsed": false
   },
   "outputs": [
    {
     "data": {
      "text/plain": [
       "[33319835.0,\n",
       " 3038366.0,\n",
       " 40269742.0,\n",
       " 85683.0,\n",
       " 20170938.0,\n",
       " 93582.0,\n",
       " 43835803.0,\n",
       " 3060967.0,\n",
       " 22994450.0,\n",
       " 8713211.0]"
      ]
     },
     "execution_count": 19,
     "metadata": {},
     "output_type": "execute_result"
    }
   ],
   "source": [
    "query = '''select round(population + (population * (population_growth/100)))\n",
    "from facts where population is not null and population_growth is not null and \n",
    "population < 7000000000 and population > 0'''\n",
    "\n",
    "projected_population = results = conn.execute(query).fetchall()\n",
    "projected_population = [i[0] for i in projected_population]\n",
    "projected_population[:10]"
   ]
  },
  {
   "cell_type": "markdown",
   "metadata": {},
   "source": [
    "## 5: Explore Projected Population\n",
    "\n",
    "To understand how global population would shift under the projections, calculate the minimum, maximum, and average values.\n",
    "\n",
    "#### Instructions: \n",
    "\n",
    "Write a single query that returns:\n",
    "\n",
    "- the minimum of the projected population values, and assigns it to pop_proj_min.\n",
    "- the maximum of the projected population values, and assigns it to pop_proj_max.\n",
    "- the average of the projected population values, and assigns it to pop_proj_avg.\n",
    "\n",
    "Be sure to:\n",
    "\n",
    "- Round all fractional values to the nearest whole number.\n",
    "- Filter out any rows with NULL as the value for either population or population_growth.\n",
    "- Restrict the query to countries with a population of less than 7 billion and greater than 0.\n",
    "- Use print statements or the variables display below the output box to observe these values.\n"
   ]
  },
  {
   "cell_type": "code",
   "execution_count": 25,
   "metadata": {
    "collapsed": false
   },
   "outputs": [
    {
     "name": "stdout",
     "output_type": "stream",
     "text": [
      "48.0 1373639072.0 33405469.0\n"
     ]
    }
   ],
   "source": [
    "query = '''select round(min(population + (population * (population_growth/100)))), \n",
    "round(max(population + (population * (population_growth/100)))),\n",
    "round(avg(population + (population * (population_growth/100))))\n",
    "from facts where population is not null and population_growth is not null and \n",
    "population < 7000000000 and population > 0'''\n",
    "\n",
    "pop_proj_min = conn.execute(query).fetchall()[0][0]\n",
    "pop_proj_max = conn.execute(query).fetchall()[0][1]\n",
    "pop_proj_avg = conn.execute(query).fetchall()[0][2]\n",
    "\n",
    "print(pop_proj_min, pop_proj_max, pop_proj_avg)"
   ]
  },
  {
   "cell_type": "markdown",
   "metadata": {},
   "source": [
    "## 6: Next Steps\n",
    "\n",
    "In this challenge, you calculated summary statistics to understand the data better, and then projected the following year's population for each country using SQL arithmetic. In the next mission, you'll learn about group summary techniques for segmenting data in your queries."
   ]
  }
 ],
 "metadata": {
  "kernelspec": {
   "display_name": "Python 3",
   "language": "python",
   "name": "python3"
  },
  "language_info": {
   "codemirror_mode": {
    "name": "ipython",
    "version": 3
   },
   "file_extension": ".py",
   "mimetype": "text/x-python",
   "name": "python",
   "nbconvert_exporter": "python",
   "pygments_lexer": "ipython3",
   "version": "3.6.0"
  }
 },
 "nbformat": 4,
 "nbformat_minor": 2
}
