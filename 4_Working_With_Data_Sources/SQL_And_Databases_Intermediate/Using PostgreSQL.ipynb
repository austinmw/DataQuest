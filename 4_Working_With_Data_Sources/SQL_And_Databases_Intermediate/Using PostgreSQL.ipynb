{
 "cells": [
  {
   "cell_type": "markdown",
   "metadata": {},
   "source": [
    "## 1: SQLite Vs PostgreSQL\n",
    "\n",
    "So far, we've been using a database engine called SQLite. SQLite is one of the most common database engines, and has many advantages:\n",
    "\n",
    "- The database is stored in a single file, making it portable.\n",
    "- You can use a SQLite database directly from Python, and don't need a separate program running.\n",
    "- It implements most SQL commands, enabling you to use most of the statements you're familiar with.\n",
    "\n",
    "However, particularly when developing larger applications, SQLite has a few downsides that make other database engines more attractive:\n",
    "\n",
    "- Only one process at a time can write to the database. When you have a complex web application, you may have multiple processes updating information in the database at the same time. For example, on Facebook, one process might handle updating user information, and another might handle generating the news feed.\n",
    "- You can't take advantage of performance features, such as caching. Because a SQLite database is a single file, and it doesn't require a special program to run, it can't have performance optimizations like caching. When running a site like Facebook that has a ton of traffic, it's important to be able to lookup data quickly.\n",
    "- SQLite doesn't have any built-in security. With a production website, it's common to want some people to be able to modify tables in a database (write), and others to only be able to make SELECT queries to tables in the database (read). This is because giving someone write access to the database can be a security risk, in that they can update or overwrite data. SQLite doesn't allow for restricting access to a database in this way.\n",
    "\n",
    "In general, SQLite is good in cases where having a small and simple database engine is important. SQLite is used extensively in embedded applications, such as Android and iOS applications.\n",
    "\n",
    "In cases where there will be multiple users or performance is important, PostgreSQL is the most commonly used database engine. PostgreSQL is open source, and is free to download and use.\n",
    "\n",
    "In this mission, we'll look at the basics of PostgreSQL, then dive into creating a database, querying data, and some advanced features."
   ]
  },
  {
   "cell_type": "markdown",
   "metadata": {},
   "source": [
    "## 2: PostgreSQL Overview\n",
    "\n",
    "PostgreSQL, also known as Postgres, is an extremely powerful database engine. At a high level, PostgreSQL consists of two pieces, a server and clients. The server is a program that manages databases and handles queries. Clients communicate back and forth to the server. Only the server ever directly accesses the databases -- the clients can only make requests to the server. If you've gone through the APIs and Web Scraping course, the communication process is very similar to making requests to a remote API.\n",
    "\n",
    "One of the advantages of this model is that multiple clients can communicate with the server at the same time. This allows multiple processes to write to a database at the same time.\n",
    "\n",
    "It's possible to run a PostgreSQL server either remotely or locally. If it's remote, you connect to it via the internet. If it's local, you connect to it on your own machine. In both cases, you'll be connecting to PostgreSQL via a system port.\n",
    "\n",
    "One way to think of ports is to think of receiving mail at an apartment building. Let's say 5 people live in an apartment building, but they only have a single address. All incoming mail will come to the address, then have to be sorted out and given to each person:\n",
    "\n",
    "<img src=\"data/pic7.png\">\n",
    "\n",
    "All incoming mail is merged into a single pile, because the whole apartment building only has one address. Each apartment occupant then has to sort through the pile to find their mail. Not only is this inefficient, it also results in some apartments getting mail that isn't theirs by accident.\n",
    "\n",
    "We can make life easier for everyone by giving each apartment its own address:\n",
    "\n",
    "<img src=\"data/pic8.png\">\n",
    "\n",
    "Now, nobody has to sort mail, and it's unlikely that someone will accidentally get a message that isn't theirs.\n",
    "\n",
    "Every computer runs dozens to hundreds of programs. Many of these programs can accept incoming connections from the internet. For instance, web servers, such as the servers that run Dataquest, run on ordinary computers and accept connections from people all over the world. Once the connections are created, data is sent along the connections.\n",
    "\n",
    "If every program received data in the same stream, you'd have a similar situation to all of the apartments only having one address. Each program would be responsible for figuring out which messages were for it, and many messages would be sent to the wrong program. It would be impossible to know which program you were communicating with when you connected to the computer.\n",
    "\n",
    "One way to avoid this is for each program to have its own address. A system port is similar to an apartment number in that a port on a computer can only be used by one server at a time. For example, web servers run on port 80. Any incoming messages on this computer port are automatically sent to the program.\n",
    "\n",
    "By default, PostgreSQL uses port 5432 to communicate with the outside world. If you start a PostgreSQL server, it will listen for incoming connections on port 5432. Clients will be able to connect to the server using this port. If you start a client, you'll have to specify which server to connect to, along with the port to connect to."
   ]
  },
  {
   "cell_type": "code",
   "execution_count": 16,
   "metadata": {
    "collapsed": false
   },
   "outputs": [],
   "source": [
    "import psycopg2\n",
    "\n",
    "## START THE SERVER IN DESKTOP APP"
   ]
  },
  {
   "cell_type": "markdown",
   "metadata": {},
   "source": [
    "## 3: Psycopg2\n",
    "\n",
    "There are many clients for PostgreSQL, including graphical clients. The most common Python client for PostgreSQL is called psycopg2. Connecting to a PostgreSQL database using psycopg2 is similar to connecting to a SQLite database using the sqlite3 libary. psycopg2 also uses Connection and Cursor objects.\n",
    "\n",
    "We'd connect to a database using psycopg2 like this:\n",
    "\n",
    "\n",
    "``import psycopg2\n",
    "conn = psycopg2.connect(\"dbname=postgres user=postgres\")\n",
    "cur = conn.cursor()``\n",
    "\n",
    "You may notice that we have to specify both a database name and a user name. A PostgreSQL server can have multiple databases and multiple users, so we need to specify which user we're connecting as, and which database we're connecting to.\n",
    "\n",
    "When PostgreSQL is first installed, the default user account is called postgres, with an associated database called postgres.\n",
    "\n",
    "You may also notice that we didn't specify a server to connect to, or a port to connect using. psycopg2 will default to connecting to port 5432 on the current computer.\n",
    "\n",
    "When you're done with a Connection object, you should close it to avoid issues where one connection prevents another from executing a query. You can close a connection like this:\n",
    "\n",
    "\n",
    "``conn.close()``\n",
    "\n",
    "Closing a connection will terminate the client's connection with the PostgreSQL server. It's a good idea to close a connection whenever you're done executing your queries.\n",
    "\n",
    "We've automatically started a PostgreSQL server, and created a database called dq, with an associated user called dq.\n",
    "\n",
    "#### Instructions:\n",
    "\n",
    "- Import the psycopg2 library.\n",
    "- Connect to the dq database with the user dq.\n",
    "- Initialize a Cursor object from the connection.\n",
    "- Use the print function to display the Cursor object.\n",
    "- Close the Connection using the close method."
   ]
  },
  {
   "cell_type": "code",
   "execution_count": 13,
   "metadata": {
    "collapsed": false
   },
   "outputs": [],
   "source": [
    "import psycopg2\n",
    "conn = psycopg2.connect(\"dbname=postgres user=postgres\")\n",
    "cur = conn.cursor()"
   ]
  },
  {
   "cell_type": "code",
   "execution_count": 14,
   "metadata": {
    "collapsed": false
   },
   "outputs": [
    {
     "name": "stdout",
     "output_type": "stream",
     "text": [
      "<cursor object at 0x103a23140; closed: 0>\n"
     ]
    }
   ],
   "source": [
    "print(cur)\n",
    "conn.close()"
   ]
  },
  {
   "cell_type": "markdown",
   "metadata": {},
   "source": [
    "## 4: Creating A Table\n",
    "\n",
    "Once we've connected to a database, we can create a table inside that database. You may recall the CREATE TABLE statement from an earlier mission:\n",
    "\n",
    "\n",
    "``CREATE TABLE tableName(\n",
    "   column1 dataType1 PRIMARY KEY,\n",
    "   column2 dataType2,\n",
    "   column3 dataType3,\n",
    "   ...\n",
    ");``\n",
    "\n",
    "We can use the same syntax to create a table in the dq database. In order to execute the query, we can use the execute method of the Cursor object:\n",
    "\n",
    "\n",
    "``conn = psycopg2.connect(\"dbname=dq user=dq\")\n",
    "cur = conn.cursor()\n",
    "cur.execute(\"SELECT * FROM notes;\")``\n",
    "\n",
    "The above code will connect to the database dq, then execute a query. The syntax above should look familiar to you from using the sqlite3 library, as all the methods are the same.\n",
    "\n",
    "#### Instructions:\n",
    "\n",
    "- Connect to the dq database as the user dq\n",
    "- Write a SQL query that creates a table called notes in the dq database, with the following columns and data types:\n",
    "    - id -- integer data type, and is a primary key.\n",
    "    - body -- text data type.\n",
    "    - title -- text data type.\n",
    "- Execute the query using the execute method.\n",
    "- Close the Connection using the close method."
   ]
  },
  {
   "cell_type": "code",
   "execution_count": 21,
   "metadata": {
    "collapsed": false
   },
   "outputs": [],
   "source": [
    "conn = psycopg2.connect(\"dbname=postgres user=postgres\")\n",
    "cur = conn.cursor()"
   ]
  },
  {
   "cell_type": "code",
   "execution_count": 22,
   "metadata": {
    "collapsed": false
   },
   "outputs": [],
   "source": [
    "query = \"create table notes(id integer primary key, body text, title text)\"\n",
    "cur.execute(query)\n",
    "conn.close()"
   ]
  },
  {
   "cell_type": "markdown",
   "metadata": {},
   "source": [
    "## 5: SQL Transactions\n",
    "\n",
    "If you checked the database dq now, you would notice that there actually isn't a notes table inside it. This isn't a bug -- it's because of a concept called SQL transations. With SQLite, every query we made that modified the data was immediately executed, and immediately changed the database.\n",
    "\n",
    "With PostgreSQL, we're dealing with multiple users who could be changing the database at the same time. Let's imagine a simple scenario where we're keeping track of accounts for different customers of a bank. We could write a simple query to create a table for this:\n",
    "\n",
    "\n",
    "``CREATE TABLE accounts(\n",
    "   id integer PRIMARY KEY,\n",
    "   name text,\n",
    "   balance float\n",
    ");``\n",
    "\n",
    "Let's say we have the following two rows in the table:\n",
    "\n",
    "\n",
    "``id    name    balance\n",
    "1     Jim     100\n",
    "2     Sue     200``\n",
    "\n",
    "Let's say Sue gives 100 dollars to Jim. We could model this with two queries:\n",
    "\n",
    "\n",
    "``UPDATE accounts SET balance=200 WHERE name=\"Jim\";\n",
    "UPDATE accounts SET balance=100 WHERE name=\"Sue\";``\n",
    "\n",
    "In the above example, we remove 100 dollars from Sue, and add 100 dollars to Jim. Let's say either the second UPDATE statement has an error in it, the database fails, or another user has a conflicting query. The first query would run properly, but the second would fail. That would result in the following:\n",
    "\n",
    "Jim would be credited 100 dollars, but 100 dollars would not be removed from Sue. This would cause the bank to lose money.\n",
    "\n",
    "Transactions prevent this type of behavior by ensuring that all the queries in a transaction block are executed at the same time. If any of the transactions fail, the whole group fails, and no changes are made to the database at all.\n",
    "\n",
    "Whenever we open a Connection in psycopg2, a new transaction will automatically be created. All queries run up until the commit method is called will be placed into the same transaction block. When commit is called, the PostgreSQL engine will run all the queries at once.\n",
    "\n",
    "If we don't want to apply the changes in the transaction block, we can call the rollback method to remove the transaction. Not calling either commit or rollback will cause the transaction to stay in a pending state, and will result in the changes not being applied to the database.\n",
    "\n",
    "#### Instructions:\n",
    "- Connect to the dq database as the user dq.\n",
    "- Write a SQL query that creates a table called notes in the dq database, with the following columns and data types:\n",
    "    - id -- integer data type, and is a primary key.\n",
    "    - body -- text data type.\n",
    "    - title -- text data type.\n",
    "- Execute the query using the execute method.\n",
    "- Use the commit method on the Connection object to apply the changes in the transaction to the database.\n",
    "- Close the Connection."
   ]
  },
  {
   "cell_type": "code",
   "execution_count": 25,
   "metadata": {
    "collapsed": false
   },
   "outputs": [
    {
     "name": "stdout",
     "output_type": "stream",
     "text": [
      "changes committed.\n"
     ]
    }
   ],
   "source": [
    "conn = psycopg2.connect(\"dbname=postgres user=postgres\")\n",
    "cur = conn.cursor()\n",
    "query = \"create table notes(id integer primary key, body text, title text)\"\n",
    "cur.execute(query)\n",
    "conn.commit()\n",
    "print('changes committed.')\n",
    "conn.close()"
   ]
  },
  {
   "cell_type": "markdown",
   "metadata": {},
   "source": [
    "## 6: Autocommitting\n",
    "There are cases when you won't want to manage a transaction, and you'll instead want changes right away. This is most common when you're making changes to the database that you want to be guaranteed to happen immediately.\n",
    "\n",
    "Some changes also have such widespread effects that they can't be wrapped inside of a transaction. One example of this is creating a database. When creating a database, we'll need to activate autocommit mode first.\n",
    "\n",
    "To activate autocommit mode, we'll need to set the autocommit property of the Connection object to True.\n",
    "\n",
    "\n",
    "``conn = psycopg2.connect(\"dbname=dq user=dq\")\n",
    "conn.autocommit = True\n",
    "cur = conn.cursor()\n",
    "cur.execute(\"CREATE TABLE notes(id integer PRIMARY KEY, body text, title text)\")``\n",
    "\n",
    "The above command will create a table called notes without having to explicitly commit the transaction. We'll then be able to use the notes table right away.\n",
    "\n",
    "#### Instructions:\n",
    "- Connect to the dq database as the user dq.\n",
    "- Set the autocommit property of the Connection object to True.\n",
    "- Write a SQL query that creates a table called facts in the dq database, with the following columns and data types:\n",
    "    - id -- integer data type, and is a primary key.\n",
    "    - country -- text data type.\n",
    "    - value -- integer data type.\n",
    "- Execute the query using the execute method.\n",
    "- Close the Connection."
   ]
  },
  {
   "cell_type": "code",
   "execution_count": null,
   "metadata": {
    "collapsed": false
   },
   "outputs": [],
   "source": [
    "conn = psycopg2.connect(\"dbname=postgres user=postgres\")\n",
    "conn.autocommit = True\n",
    "cur = conn.cursor()\n",
    "query = \"create table facts(id integer primary key, country text, value integer)\"\n",
    "cur.execute(query)\n",
    "conn.close()"
   ]
  },
  {
   "cell_type": "markdown",
   "metadata": {},
   "source": [
    "## 7: Executing Queries\n",
    "We can issue SELECT queries against a database using the execute method, along with the fetchall and fetchone methods to retrieve results:\n",
    "\n",
    "\n",
    "``cur.execute(\"SELECT * FROM notes;\")\n",
    "rows = cur.fetchall()\n",
    "print(rows)``\n",
    "\n",
    "The above code will select all of the rows in the notes table, then print them all out.\n",
    "\n",
    "Of course, we don't have any rows in our table yet. You may recall how to insert rows from a previous mission:\n",
    "\n",
    "\n",
    "``INSERT INTO tableName\n",
    "VALUES (value1, value2, ...);``\n",
    "\n",
    "The below query will insert a row into the notes table:\n",
    "\n",
    "\n",
    "``INSERT INTO notes\n",
    "VALUES (1, 'This is my note text.', 'Test note');``\n",
    "\n",
    "#### Instructions:\n",
    "- Connect to the dq database as the user dq.\n",
    "- Execute a SQL query that inserts a row into the notes table with the following values:\n",
    "    - id -- 1\n",
    "    - body -- 'Do more missions on Dataquest.'\n",
    "    - title -- 'Dataquest reminder'.\n",
    "- Execute a SQL query that selects all of the rows from the notes table.\n",
    "- Fetch all of the results and print them out.\n",
    "- Close the Connection."
   ]
  },
  {
   "cell_type": "code",
   "execution_count": 51,
   "metadata": {
    "collapsed": false
   },
   "outputs": [],
   "source": [
    "conn = psycopg2.connect(\"dbname=postgres user=postgres\")\n",
    "#conn.autocommit = True\n",
    "cur = conn.cursor()\n",
    "query = '''insert into notes values(1, 'Do more missions on Dataquest.', 'Dataquest reminder');'''\n",
    "cur.execute(query)"
   ]
  },
  {
   "cell_type": "code",
   "execution_count": 52,
   "metadata": {
    "collapsed": false
   },
   "outputs": [
    {
     "name": "stdout",
     "output_type": "stream",
     "text": [
      "[(1, 'Do more missions on Dataquest.', 'Dataquest reminder')]\n"
     ]
    }
   ],
   "source": [
    "cur.execute(\"select * from notes\")\n",
    "rows = cur.fetchall()\n",
    "print(rows)\n",
    "conn.close()"
   ]
  },
  {
   "cell_type": "markdown",
   "metadata": {},
   "source": [
    "## 8: Creating A Database\n",
    "\n",
    "One of the most powerful aspects of PostgreSQL is that it enables you to create multiple databases. Different databases are generally used to hold information about different applications. For instance, if you have the following three datasets and applications:\n",
    "\n",
    "An application that enables you to add and remove friends in your neighborhood.\n",
    "A dataset on household income worldwide.\n",
    "An application that allows you to store and share notes.\n",
    "You could in theory make different tables for each of these in an existing database. But eventually, you'll reach a point where each application has multiple tables, due to foreign keys and joins. It will get messy to manage all the tables for each application separately. By storing data for a single application in a single database, we encapsulate that application, and make it easier to manage and alter the data for it.\n",
    "\n",
    "We can create a database using the CREATE DATABASE SQL statement:\n",
    "\n",
    "\n",
    "``CREATE DATABASE dbName;``\n",
    "\n",
    "Here's a concrete example:\n",
    "\n",
    "\n",
    "``CREATE DATABASE notes;``\n",
    "\n",
    "The above SQL command will create a database called notes. We can specify the user who will own the database when we create it as well, using the OWNER statement:\n",
    "\n",
    "\n",
    "``CREATE DATABASE notes OWNER postgres;``\n",
    "\n",
    "The above statement will create a database called notes with the default postgres user as the owner. The owner of a database is the only one that can access and modify a database, unless they give permission to other users. An exception is superusers, who we'll cover in a later mission, who can perform any action on any database without being given permission.\n",
    "\n",
    "#### Instructions:\n",
    "- Connect to the dq database with the user dq.\n",
    "- Set the connection to autocommit mode.\n",
    "- Create a database called income where the owner is the user dq.\n",
    "- Close the Connection."
   ]
  },
  {
   "cell_type": "code",
   "execution_count": 55,
   "metadata": {
    "collapsed": false
   },
   "outputs": [],
   "source": [
    "conn = psycopg2.connect(\"dbname=postgres user=postgres\")\n",
    "conn.autocommit = True\n",
    "cur = conn.cursor()\n",
    "query = \"create database income owner postgres\"\n",
    "cur.execute(query)\n",
    "conn.close()"
   ]
  },
  {
   "cell_type": "markdown",
   "metadata": {},
   "source": [
    "## 9: Deleting A Database\n",
    "\n",
    "We can delete a database using the DROP DATABASE statement. The DROP DATABASE statement will immediately remove a database, provided the user executing the query has the right permissions. It should be used with caution when working with real data.\n",
    "\n",
    "\n",
    "``DROP DATABASE dbName;``\n",
    "\n",
    "Here's a more concrete example:\n",
    "\n",
    "\n",
    "``DROP DATABASE income;``\n",
    "\n",
    "The above statement will remove the database called income, along with any tables it contains.\n",
    "\n",
    "#### Instructions:\n",
    "- Connect to the dq database with the user dq.\n",
    "- Set the connection to autocommit mode.\n",
    "- Drop the income database.\n",
    "- Close the Connection."
   ]
  },
  {
   "cell_type": "code",
   "execution_count": 56,
   "metadata": {
    "collapsed": true
   },
   "outputs": [],
   "source": [
    "conn = psycopg2.connect(\"dbname=postgres user=postgres\")\n",
    "conn.autocommit = True\n",
    "cur = conn.cursor()\n",
    "query = \"drop database income\"\n",
    "cur.execute(query)\n",
    "conn.close()"
   ]
  },
  {
   "cell_type": "markdown",
   "metadata": {},
   "source": [
    "## 10: Next Steps\n",
    "\n",
    "In this mission, we covered the basics of PostgreSQL, along with transactions and working with databases. In the next mission, we'll look at managing databases, users, and permissions in PostgreSQL."
   ]
  },
  {
   "cell_type": "code",
   "execution_count": null,
   "metadata": {
    "collapsed": true
   },
   "outputs": [],
   "source": []
  }
 ],
 "metadata": {
  "kernelspec": {
   "display_name": "Python 3",
   "language": "python",
   "name": "python3"
  },
  "language_info": {
   "codemirror_mode": {
    "name": "ipython",
    "version": 3
   },
   "file_extension": ".py",
   "mimetype": "text/x-python",
   "name": "python",
   "nbconvert_exporter": "python",
   "pygments_lexer": "ipython3",
   "version": "3.6.0"
  }
 },
 "nbformat": 4,
 "nbformat_minor": 2
}
