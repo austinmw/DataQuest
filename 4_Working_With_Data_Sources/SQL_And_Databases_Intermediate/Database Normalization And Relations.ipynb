{
 "cells": [
  {
   "cell_type": "markdown",
   "metadata": {},
   "source": [
    "## 1: Introduction\n",
    "\n",
    "In the previous mission, we learned how to create a foreign key to reference a table in another record and how to use joins to query across tables using the foreign key. **In this mission, we'll dive more deeply into relations between tables, learn about data normalization, and how we can take advantage of them to perform more complex joins.**\n",
    "\n",
    "In this mission, we'll work with data on Academy Award nominations from 2001 to 2010 for just the lead and supporting acting roles. The Academy Awards, also known as the Oscars, is an annual awards ceremony hosted to recognize the achievements in the film industry. There are many different awards categories and the members of the academy vote every year to decide which artist or film should get the award. The full dataset, containing data on all award categories from years 1927 to 2010, can be found [here](https://www.aggdata.com/awards/oscar). We've cleaned and transformed the data and created `academy_awards.db`.\n",
    "\n",
    "The database file <mark>academy_awards.db</mark> contains 2 tables:\n",
    "\n",
    "- <mark>nominations</mark>, where each row describes an individual actor's nomination.\n",
    "- <mark>ceremonies</mark>, where each row describes an individual Academy Awards ceremony.\n",
    "\n",
    "The nominations table has the following schema:\n",
    "\n",
    "- `id` - integer field, primary key for uniquely identifying rows.\n",
    "- `ceremony_id` - integer field, foreign key reference to the id column from the ceremonies table.\n",
    "- `category`: text field, award category. Can only be one of the following 4 values:\n",
    "    - `Actor` -- Leading Role.\n",
    "    - `Actor` -- Supporting Role.\n",
    "    - `Actress` -- Leading Role.\n",
    "    - `Actress` -- Supporting Role.\n",
    "- `nominee`: text field, name of the actor or actress.\n",
    "- `movie`: text field, name of the movie the actor or actresses was nominated for.\n",
    "- `character`: text field, name of the character this actor or actress played.\n",
    "- `won`: Boolean field, if the actor or actress won the award (either 0 or 1).\n",
    "\n",
    "The `won` column is specified as Boolean in the schema but since SQLite doesn't have a Boolean type, SQLite uses the integer data type instead. The integer 0 represents False while the integer 1 represents True.\n",
    "\n",
    "Here's what the first 10 rows in the nominations table look like:\n",
    "\n",
    "| id | ceremony_id | category                 | nominee         | movie                  | character       | won |\n",
    "|----|-------------|--------------------------|-----------------|------------------------|-----------------|-----|\n",
    "| 1  | 10          | Actor -- Leading Role    | Javier Bardem   | Biutiful               | Uxbal           | 0   |\n",
    "| 2  | 10          | Actor -- Leading Role    | Jeff Bridges    | True Grit              | Rooster Cogburn | 0   |\n",
    "| 3  | 10          | Actor -- Leading Role    | Jesse Eisenberg | The Social Network     | Mark Zuckerberg | 0   |\n",
    "| 4  | 10          | Actor -- Leading Role    | Colin Firth     | The King's Speech      | King George VI  | 1   |\n",
    "| 5  | 10          | Actor -- Leading Role    | James Franco    | 127 Hours              | Aron Ralston    | 0   |\n",
    "| 6  | 10          | Actor -- Supporting Role | Christian Bale  | The Fighter            | Dicky Eklund    | 1   |\n",
    "| 7  | 10          | Actor -- Supporting Role | John Hawkes     | Winter's Bone          | Teardrop        | 0   |\n",
    "| 8  | 10          | Actor -- Supporting Role | Jeremy Renner   | The Town               | James Coughlin  | 0   |\n",
    "| 9  | 10          | Actor -- Supporting Role | Mark Ruffalo    | The Kids Are All Right | Paul            | 0   |\n",
    "| 10 | 10          | Actor -- Supporting Role | Geoffrey Rush   | The King's Speech      | Lionel Logue    | 0   |\n",
    "\n",
    "Since awards are only given to one winner, 4 nominees for each award lose and 1 nominee wins. You'll notice that among the nominees for each award, there was 1 nominee with a value of 1 for won and 4 nominees with a value of 0 for won. You may have also noticed that the movie `The King's Speech` shows up twice. This is because separate actors were nominated for different roles in the same movie.\n",
    "\n",
    "The `ceremonies` table has the following schema:\n",
    "\n",
    "- `id` - integer field, primary key for uniquely identify rows.\n",
    "- `year` - integer field, the year of the ceremony.\n",
    "- `host` - text field, the host for that ceremony.\n",
    "\n",
    "Here's what the entire ceremonies table, which only contains 11 rows, looks like:\n",
    "\n",
    "| id | year | host            |\n",
    "|----|------|-----------------|\n",
    "| 0  | 2000 | Billy Crystal   |\n",
    "| 1  | 2001 | Steve Martin    |\n",
    "| 2  | 2002 | Whoopi Goldberg |\n",
    "| 3  | 2003 | Steve Martin    |\n",
    "| 4  | 2004 | Billy Crystal   |\n",
    "| 5  | 2005 | Chris Rock      |\n",
    "| 6  | 2006 | Jon Stewart     |\n",
    "| 7  | 2007 | Ellen DeGeneres |\n",
    "| 8  | 2008 | Jon Stewart     |\n",
    "| 9  | 2009 | Hugh Jackman    |\n",
    "| 10 | 2010 | Steve Martin    |\n",
    "\n",
    "Let's now explore the data to become more familiar with it."
   ]
  },
  {
   "cell_type": "markdown",
   "metadata": {},
   "source": [
    "## 2: Database Normalization\n",
    "\n",
    "The `ceremonies` table contains just the information on the actual awards ceremony while the `nominations` table contains just the information on individual nominations. If we had instead stored the year and host values as columns within the nominations table and avoided using a ceremonies table altogether, our nominations table would look like this:\n",
    "\n",
    "| id | year | host         | category                 | nominee         | movie                  | character       | won |\n",
    "|----|------|--------------|--------------------------|-----------------|------------------------|-----------------|-----|\n",
    "| 1  | 2010 | Steve Martin | Actor -- Leading Role    | Javier Bardem   | Biutiful               | Uxbal           | 0   |\n",
    "| 2  | 2010 | Steve Martin | Actor -- Leading Role    | Jeff Bridges    | True Grit              | Rooster Cogburn | 0   |\n",
    "| 3  | 2010 | Steve Martin | Actor -- Leading Role    | Jesse Eisenberg | The Social Network     | Mark Zuckerberg | 0   |\n",
    "| 4  | 2010 | Steve Martin | Actor -- Leading Role    | Colin Firth     | The King's Speech      | King George VI  | 1   |\n",
    "| 5  | 2010 | Steve Martin | Actor -- Leading Role    | James Franco    | 127 Hours              | Aron Ralston    | 0   |\n",
    "| 6  | 2010 | Steve Martin | Actor -- Supporting Role | Christian Bale  | The Fighter            | Dicky Eklund    | 1   |\n",
    "| 7  | 2010 | Steve Martin | Actor -- Supporting Role | John Hawkes     | Winter's Bone          | Teardrop        | 0   |\n",
    "| 8  | 2010 | Steve Martin | Actor -- Supporting Role | Jeremy Renner   | The Town               | James Coughlin  | 0   |\n",
    "| 9  | 2010 | Steve Martin | Actor -- Supporting Role | Mark Ruffalo    | The Kids Are All Right | Paul            | 0   |\n",
    "| 10 | 2010 | Steve Martin | Actor -- Supporting Role | Geoffrey Rush   | The King's Speech      | Lionel Logue    | 0   |\n",
    "\n",
    "While this representation is easier to query, since you don't have to do a join each time you want to get the year or host information, it has a few problems:\n",
    "\n",
    "- it contains a lot of redundant data, which means the database will take up more disk space and cost more to store.\n",
    "- if we want to update or remove a value in the year or host columns, we need to update every row that contains that same value. This is cumbersome to remember and can cause human error.\n",
    "- updating or removing many rows can be slow for larger databases. As your data grows bigger, which is often the case with databases used in production, the update and removal speeds become significantly worse.\n",
    "\n",
    "We instead chose to **normalize** the data, which involves separating data into smaller tables with less redundant information and creating relations between the appropriate tables. By having the year and host columns in a separate ceremonies table, we get the following benefits:\n",
    "\n",
    "- much less data redundancy since the actual values for year and host are only stored in 1 row in ceremonies, instead of replicated for each relevant row in nominations.\n",
    "- separation of concerns and ease of updating.\n",
    "\n",
    "You can read more about the benefits of database normalization [here](https://en.wikipedia.org/wiki/Database_normalization#Objectives)."
   ]
  },
  {
   "cell_type": "markdown",
   "metadata": {},
   "source": [
    "## 3: Types Of Relations\n",
    "\n",
    "There are many types of relations you can create between tables to represent the links between columns. In this mission, we'll focus on the 2 most common relations:\n",
    "\n",
    "- one-to-many.\n",
    "- many-to-many.\n",
    "\n",
    "A **one-to-many** relation exists whenever many rows in one table need to relate to one row in the other table. The relation between ceremonies and nominations is a one-to-many relation since many rows in the nominations table can be linked to an individual row in the ceremonies table. A row in the ceremonies table contains no reference to the nominations table. However, many rows in the nominations table contain a reference to the ceremonies table using the ceremony_id foreign key.\n",
    "\n",
    "Below is a diagram that demonstrates how multiple rows in the nominations table, that share the same ceremony_id of 10, relate to the row in the ceremonies table whose id is 10:\n",
    "\n",
    "<img src=\"data/pic4.png\">\n",
    "\n",
    "An important thing to remember in a one-to-many relation is that the reference is one-sided. The nominations table contains a foreign key reference to the id column in ceremonies but the ceremonies table contains no references to values in the nominations table.\n",
    "\n",
    "Here are some other examples of one-to-many relations:\n",
    "\n",
    "- a car insurance policy can have multiple people on it, but each person can only belong to one policy.\n",
    "- a mother can have many children, but each child can only have one birth mother.\n",
    "- a reporter can have many articles but each article can only have one associated reporter."
   ]
  },
  {
   "cell_type": "markdown",
   "metadata": {},
   "source": [
    "## 4: Querying A Normalized Database\n",
    "\n",
    "As with many things in software development, there is a tradeoff to database normalization. We need to write longer queries sometimes and use joins more often to grab information from multiple tables. Many companies have databases with hundreds or thousands of tables with many relations in between, so this can get complicated quickly! As you become more familiar with querying normalized databases, you'll be able to overcome the added complexity much more easily.\n",
    "\n",
    "To write a query that involves 2 tables that are in a one-to-many relation, you need to **join on the foreign key column that the \"many\" side uses to reference the \"one\" side**. When using the WHERE statement to express filtering criteria, we can use columns from both tables. For example, to return all of the movies that won an award in 2010, we'd need to write the following query:\n",
    "\n",
    "\n",
    "``SELECT movie FROM nominations \n",
    "INNER JOIN ceremonies\n",
    "ON nominations.ceremony_id == ceremonies.id\n",
    "WHERE ceremonies.year == 2010 AND nominations.won == 1;``\n",
    "\n",
    "In the WHERE statement, we expressed that we were only interested in rows where the year value was 2010 from the ceremonies table and where the won value was 1 from the nominations table.\n",
    "\n",
    "When joining 2 tables, you can be more explicit about which columns you want returned from which tables using dot notation -- e.g. nominations.movie. In the following query, we modified the earlier query to select the year and host columns from ceremonies and the movie and nominee columns from nominations:\n",
    "\n",
    "\n",
    "``SELECT ceremonies.year, ceremonies.host, nominations.movie, nominations.nominee FROM nominations \n",
    "INNER JOIN ceremonies\n",
    "ON nominations.ceremony_id == ceremonies.id\n",
    "WHERE ceremonies.year == 2010;``\n",
    "\n",
    "In the denormalized schema, which had the year and host columns in nominations itself, we'd only need to write the following query to accomplish the same result:\n",
    "\n",
    "\n",
    "``SELECT movie FROM nominations\n",
    "WHERE nominations.year == 2010;``\n",
    "\n",
    "Let's practice using joins further to query tables in a one-to-many relation.\n",
    "\n",
    "#### Instructions:\n",
    "- We've imported the sqlite3 library for you already and connected to the academy_awards.db database. The Connection instance is named conn.\n",
    "- Write a query that returns all of the years that the actress Natalie Portman was nominated for an award.\n",
    "    - Only return the year column from ceremonies and the movie column from nominations.\n",
    "    - Run the query and assign the full results list to the variable portman_movies.\n",
    "    - Then display portman_movies using the print function."
   ]
  },
  {
   "cell_type": "code",
   "execution_count": 1,
   "metadata": {
    "collapsed": true
   },
   "outputs": [],
   "source": [
    "import sqlite3\n",
    "conn = sqlite3.connect(\"data/academy_awards.db\")"
   ]
  },
  {
   "cell_type": "code",
   "execution_count": 3,
   "metadata": {
    "collapsed": false
   },
   "outputs": [
    {
     "data": {
      "text/plain": [
       "[(2010, 'Black Swan'), (2004, 'Closer')]"
      ]
     },
     "execution_count": 3,
     "metadata": {},
     "output_type": "execute_result"
    }
   ],
   "source": [
    "query = '''select ceremonies.year, nominations.movie from nominations\n",
    "inner join ceremonies\n",
    "on nominations.ceremony_id == ceremonies.id\n",
    "where nominations.nominee == \"Natalie Portman\"'''\n",
    "\n",
    "portman_movies = conn.execute(query).fetchall()\n",
    "portman_movies"
   ]
  },
  {
   "cell_type": "markdown",
   "metadata": {},
   "source": [
    "## 5: Many-To-Many Relation\n",
    "\n",
    "If we wanted to extend our analysis to study how Academy Awards affect a nominee's career, we'd need to first add more data on which movies each actor starred in. We need a way to represent the relation between actors and movies. Our first instinct might be to use a movies table, an actors table, and specify a one-to-many relationship between them. The movies table could contain an actor_id field that acts as a foreign key reference to the id column from the actors table.\n",
    "\n",
    "We immediately run into a road block. Each movie contains many actors and since the actor_id column would be an integer field, we have no way to reference multiple rows from the actors table. We could have a separate row in movies where each row contains a different value for actor_id and cover all the actors in the movie that way. This unfortunately means a large amount of data duplication, since the rest of the columns describing that movie probably won't be different.\n",
    "\n",
    "What if we had a list data type where we could store multiple values:\n",
    "\n",
    "| id | movie       | actors                         |\n",
    "|----|-------------|--------------------------------|\n",
    "| 1  | The Fighter | Christian Bale, Amy Adams, ... |\n",
    "| 2  | Doubt       | Meryl Streep, Amy Adams, ...   |\n",
    "| 3  | Junebug     | Embeth Davidtz, Amy Adams, ... |\n",
    "\n",
    "SQLite unfortunately doesn't contain a list data type, so we can't simply store the list of actor names. While some other databases do contain a list data type, this is still a poor design for our data. While searching for a movie by name would be a simple SELECT query, searching by actors would be incredibly cumbersome and slow.\n",
    "\n",
    "You may have noticed that the actress Amy Adams stars in all 3 of the movies above. If we wanted to write a query that searched every element in the actors list for every row in movies, the query would take a long time to return as our table starts to hold more than a few thousand movies. We can't use a one-to-many relation since SQLite, and many databases, don't contain a list data type and it would be inefficient to query.\n",
    "\n",
    "The right way to model actors and movies is to use a **many-to-many relation**. A many-to-many relation allows us to flexibly represent both:\n",
    "\n",
    "- the actors in a movie and\n",
    "- the movies an actor has starred in.\n",
    "\n",
    "To represent a many-to-many relation, we need to use an intermediate table called a **join table**, which we'll learn more about in the next screen."
   ]
  },
  {
   "cell_type": "markdown",
   "metadata": {},
   "source": [
    "## 6: Join Table\n",
    "To model a many-to-many relationship, we need to create a separate table that contains the foreign keys to each of the tables that we're creating a many-to-many relationship between. This table is called a **join table**, but is often referenced by many other names. The rows in the join table contain the foreign keys to the 2 other tables. Here's what a join table representing the many-to-many relationship between movies and actors would look:\n",
    "\n",
    "<img src=\"data/pic5.png\">\n",
    "\n",
    "In a many-to-many relation, we separate the data contained within the rows with the actual relation between the rows. This means we can, for example, edit a movie's name without touching the many actor records that are related to that movie. Each table above has it's own id column:\n",
    "\n",
    "- the movies.id column is used as a foreign key reference by the movies_actors.movie_id column.\n",
    "- the actors.id column is used as a foreign key reference by the movies_actors.actor_id column.\n",
    "- the movies_actors.id column is used just to uniquely identify each row in movies_actors.\n",
    "\n",
    "The movies_actors table is no different than any other table in our database and it's role as a join table between movies and actors is a design pattern. For example, we can add more columns to the movies_actors table just like with any other table. We could take advantage of this to add attributes that are specific to that movie-actor combination (e.g. Salary or Awards Nominated).\n",
    "\n",
    "Creating a join table is similar to creating a regular table except that there need to be 2 foreign columns that reference the 2 tables in the many-to-many relationship:\n",
    "\n",
    "\n",
    "``CREATE table movies_actors (\n",
    "id INTEGER PRIMARY KEY,\n",
    "movie_id INTEGER REFERENCES movies(id),\n",
    "actor_id INTEGER REFERENCES actors(id) \n",
    ");``\n",
    "\n",
    "Let's explore the data in these tables we just discussed a bit further. We've added information about all of the actors and movies from the nominations table to the movies, actors, and movies_actors tables. This will enable us to practice using many-to-many relations"
   ]
  },
  {
   "cell_type": "code",
   "execution_count": 5,
   "metadata": {
    "collapsed": false
   },
   "outputs": [
    {
     "name": "stdout",
     "output_type": "stream",
     "text": [
      "[(1, 1, 1), (2, 2, 2), (3, 3, 3), (4, 4, 4), (5, 5, 5)]\n",
      "[(1, 'Javier Bardem'), (2, 'Jeff Bridges'), (3, 'Jesse Eisenberg'), (4, 'Colin Firth'), (5, 'James Franco')]\n",
      "[(1, 'Biutiful'), (2, 'True Grit'), (3, 'The Social Network'), (4, \"The King's Speech\"), (5, '127 Hours')]\n"
     ]
    }
   ],
   "source": [
    "query = '''select * from movies_actors limit 5'''\n",
    "five_join_table = conn.execute(query).fetchall()\n",
    "print(five_join_table)\n",
    "\n",
    "query = '''select * from actors limit 5'''\n",
    "five_actors = conn.execute(query).fetchall()\n",
    "print(five_actors)\n",
    "\n",
    "query = '''select * from movies limit 5'''\n",
    "five_movies = conn.execute(query).fetchall()\n",
    "print(five_movies)"
   ]
  },
  {
   "cell_type": "markdown",
   "metadata": {},
   "source": [
    "## 8: Querying A Many-To-Many Relation\n",
    "\n",
    "Recall that the values in our join table, movies_actors, are all just integer id values that refer to different rows in the movies and actors tables. If we wanted to know the actors who starred in The Fighter that were nominated for an Academy Award between 2001 and 2010, we'd have to use multiple joins in our query across all 3 tables.\n",
    "\n",
    "Let's first join the movies table with the movies_actors table:\n",
    "\n",
    "\n",
    "``SELECT * FROM movies\n",
    "INNER JOIN movies_actors ON movies.id == movies_actors.movie_id``\n",
    "\n",
    "Here's a preview of the results of that query. Note that in the column names, we use dot notation to connect the table name with the column name (e.g. movies.id refers to the id column from the movies table):\n",
    "\n",
    "| movies.id | movies.movie       | movies_actors.id | movies_actors.movie_id | movies_actors.actor_id |\n",
    "|-----------|--------------------|------------------|------------------------|------------------------|\n",
    "| 1         | Biutiful           | 1                | 1                      | 1                      |\n",
    "| 2         | True Grit          | 2                | 2                      | 2                      |\n",
    "| 3         | The Social Network | 3                | 3                      | 3                      |\n",
    "| 4         | The King's Speech  | 4                | 4                      | 4                      |\n",
    "| 5         | 127 Hours          | 5                | 5                      | 5                      |\n",
    "| 4         | The King's Speech  | 10               | 4                      | 10                     |\n",
    "\n",
    "You may have noticed that the movies_actors.id column skips from 5 to 10. We wanted to demonstrate that there's not just one row in the result for each movie in movies since the movie, The King's Speech shows up twice in the sample results. The results of the query so far are really just the cross join of all the rows in the movies table with all the rows in the movies_actors table.\n",
    "\n",
    "We then need to join these results with the actors columns. To do this, add another JOIN statement in our query:\n",
    "\n",
    "``SELECT * FROM movies\n",
    "INNER JOIN movies_actors ON movies.id == movies_actors.movie_id\n",
    "INNER JOIN actors ON movies_actors.actor_id == actors.id``\n",
    "\n",
    "\n",
    "Here's a preview of the results of this query:\n",
    "\n",
    "| movies.id | movies.movie       | movies_actors.id | movies_actors.movie_id | movies_actors.actor_id | actors.id | actors.actor    |\n",
    "|-----------|--------------------|------------------|------------------------|------------------------|-----------|-----------------|\n",
    "| 1         | Biutiful           | 1                | 1                      | 1                      | 1         | Javier Bardem   |\n",
    "| 2         | True Grit          | 2                | 2                      | 2                      | 2         | Jeff Bridges    |\n",
    "| 3         | The Social Network | 3                | 3                      | 3                      | 3         | Jesse Eisenberg |\n",
    "| 4         | The King's Speech  | 4                | 4                      | 4                      | 4         | Colin Firth     |\n",
    "| 5         | 127 Hours          | 5                | 5                      | 5                      | 5         | James Franco    |\n",
    "| 4         | The King's Speech  | 10               | 4                      | 10                     | 10        | Geoffrey Rush   |\n",
    "\n",
    "We now have a row for each actor in actors that played in each movie in movies. However, if you go back to the original problem, you'll notice that we were only interested in actors that starred in The Fighter. To accomplish this, we can modify the columns returned in the SELECT statement and add filtering criteria using the WHERE statement:\n",
    "\n",
    "\n",
    "``SELECT actors.actor FROM movies\n",
    "INNER JOIN movies_actors ON movies.id == movies_actors.movie_id\n",
    "INNER JOIN actors ON movies_actors.actor_id == actors.id\n",
    "WHERE movies.movie == \"The Fighter\";``\n",
    "\n",
    "We'll get back just the 3 actors in our database that starred in The Fighter:\n",
    "\n",
    "| actors.actor   |\n",
    "|----------------|\n",
    "| Christian Bale |\n",
    "| Amy Adams      |\n",
    "| Melissa Leo    |\n",
    "\n",
    "You may have noticed that we used dot notation to specify the column name in the query above:\n",
    "\n",
    "movies.movie in the WHERE statement.\n",
    "actors.actor in the SELECTstatement.\n",
    "While this dot notation is required in the JOIN statement, it's optional in the SELECT and WHERE statements. It's a good habit, however, to write out the full name (instead of just movie or actor) of the column using dot notation. Besides the id column, you'll often work with multiple tables that contain the same column names and using dot notation helps us and the database system know what exactly we're referring to.\n",
    "\n",
    "In the query above,\n",
    "\n",
    "- we started with the movies table (in our select),\n",
    "- joined with the movies_actors table,\n",
    "- and then finally joined with the actors table.\n",
    "\n",
    "We could have actually accomplished the same thing by:\n",
    "\n",
    "- starting with the actors table,\n",
    "- joining with the movies_actors table, and then joining with the movies table\n",
    "\n",
    "since the filtering criteria is still the same (WHERE movies.movie == \"The Fighter\").\n",
    "\n",
    "##### Here's a good summary of the steps you need to do when querying tables that are in a many-to-many relation:\n",
    "\n",
    "- first, state the question you want answered:\n",
    "    - we want all of the actors that starred in The Fighter. Information on The Fighter is in the movies table and there's a join table we'll need to use to get the related information from the actors table.\n",
    "- then, understand what joins you need and the filtering criteria you need:\n",
    "    - we need to join the movies table with the movies_actors table, then join the results with the actors table.\n",
    "    - our filtering criteria is that we only want the row from movies corresponding to The Fighter.\n",
    "- finally, write the query you need based on the joins, columns, and filtering criteria you need.\n",
    "\n",
    "Writing multiple joins to query tables in a many-to-many relation can be overwhelming at first but it's nothing that practice can't help you overcome. As you practice more, you'll find yourself skipping right to writing the query itself as this kind of querying becomes second nature to you."
   ]
  },
  {
   "cell_type": "markdown",
   "metadata": {},
   "source": [
    "## 9: Querying A Many-To-Many Relation\n",
    "\n",
    "#### Instructions:\n",
    "- Modify the query we wrote earlier to instead return all the actors that starred in The King's Speech.\n",
    "    - We're interested in both the actor name as well as the movie name this time (in that order).\n",
    "- Run the query and assign the results list to kings_actors.\n",
    "- Then, use the print function to display kings_actors."
   ]
  },
  {
   "cell_type": "code",
   "execution_count": 9,
   "metadata": {
    "collapsed": false
   },
   "outputs": [
    {
     "name": "stdout",
     "output_type": "stream",
     "text": [
      "[('Colin Firth', \"The King's Speech\"), ('Geoffrey Rush', \"The King's Speech\"), ('Helena Bonham Carter', \"The King's Speech\")]\n"
     ]
    }
   ],
   "source": [
    "query = '''select actors.actor, movies.movie from movies \n",
    "inner join movies_actors on movies.id == movies_actors.movie_id\n",
    "inner join actors on movies_actors.actor_id == actors.id\n",
    "where movies.movie == \"The King's Speech\";'''\n",
    "\n",
    "kings_actors = conn.execute(query).fetchall()\n",
    "print(kings_actors)"
   ]
  },
  {
   "cell_type": "markdown",
   "metadata": {},
   "source": [
    "## 10: Practice: Querying A Many-To-Many Relation\n",
    "\n",
    "In this step, you'll synthesize the concepts learned in this mission by writing a query from scratch that pulls information from 3 tables.\n",
    "\n",
    "#### Instructions:\n",
    "\n",
    "- Write a query that returns all of the movies that \"Natalie Portman\" played in.\n",
    "    - We want to return only the movie name (from the movies table) and the actor name (from the actors table).\n",
    "    - You need to first join the movies table with the movies_actors table.\n",
    "    - Then, you need to join the movies_actors table with the actors table.\n",
    "    - Finally, you need to add a where statement that limits the results to just where actors.actor is equal to Natalie Portman.\n",
    "- Run the query and assign the full results list to portman_joins.\n",
    "- Use the print function to display portman_joins."
   ]
  },
  {
   "cell_type": "code",
   "execution_count": 10,
   "metadata": {
    "collapsed": false
   },
   "outputs": [
    {
     "name": "stdout",
     "output_type": "stream",
     "text": [
      "[('Black Swan', 'Natalie Portman'), ('Closer', 'Natalie Portman')]\n"
     ]
    }
   ],
   "source": [
    "query = '''select movies.movie, actors.actor from movies\n",
    "inner join movies_actors on movies.id == movies_actors.movie_id\n",
    "inner join actors on movies_actors.actor_id == actors.id\n",
    "where actors.actor == \"Natalie Portman\";'''\n",
    "\n",
    "portman_joins = conn.execute(query).fetchall()\n",
    "print(portman_joins)"
   ]
  },
  {
   "cell_type": "markdown",
   "metadata": {},
   "source": [
    "## 11: Caveats\n",
    "\n",
    "While normalization helps reduce data redundancy and allows us to decouple related columns into separate tables, too much normalization can do more harm than good. A highly normalized database means that even some basic queries can involve joining multiple tables together.\n",
    "\n",
    "You may have wondered why we didn't try to separate out the actors (nominee column) and the movie names (movie column) in the nominations table. We could have replaced these columns with foreign key references to the actors and movies tables instead. This is because we probably wouldn't have realized the gains of normalization by replacing the actual values with foreign key references.\n",
    "\n",
    "If we think that we'll almost always be accessing the movies and actors names when we're querying the nominations table, then forcing the user to do multiple joins to get the relevant information is quite cumbersome. In addition, we know that once an awards ceremony has finished, the movies and nominees are not going to change. This means that another benefit of normalization, easy updating and editing of related values, probably won't be realized.\n",
    "\n",
    "When we represented the year and host columns in a separate table from the nominations table, we made the assumption that we don't always need to access both columns every single time when querying the nominations table. We preferred having less data redundancy and writing a join when we needed to.\n",
    "\n",
    "Lastly, it's important to remember that the schema isn't set in stone. In many cases, it's best to start out with a denormalized representation of your data with one, or a few, giant tables. As your data grows and your use cases change, you can rethink your schema and restructure your data accordingly. When structuring your data and writing a schema, it's important to remember the tradeoffs that come with normalization."
   ]
  },
  {
   "cell_type": "markdown",
   "metadata": {},
   "source": [
    "## 12: Next Steps\n",
    "\n",
    "In this mission, we learned about 2 different kinds of relations, how to query tables in a database with these kinds of relations, and the paradigm of database normalization. Next up is a guided project where we'll explore how to create a schema and and the relations we learned about in this mission."
   ]
  },
  {
   "cell_type": "code",
   "execution_count": 11,
   "metadata": {
    "collapsed": true
   },
   "outputs": [],
   "source": [
    "conn.close()"
   ]
  }
 ],
 "metadata": {
  "kernelspec": {
   "display_name": "Python 3",
   "language": "python",
   "name": "python3"
  },
  "language_info": {
   "codemirror_mode": {
    "name": "ipython",
    "version": 3
   },
   "file_extension": ".py",
   "mimetype": "text/x-python",
   "name": "python",
   "nbconvert_exporter": "python",
   "pygments_lexer": "ipython3",
   "version": "3.6.0"
  }
 },
 "nbformat": 4,
 "nbformat_minor": 2
}
