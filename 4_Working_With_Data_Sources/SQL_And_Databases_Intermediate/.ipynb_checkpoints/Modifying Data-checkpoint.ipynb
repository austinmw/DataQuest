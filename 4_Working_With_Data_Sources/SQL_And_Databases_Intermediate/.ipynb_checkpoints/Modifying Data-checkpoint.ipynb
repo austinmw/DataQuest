{
 "cells": [
  {
   "cell_type": "markdown",
   "metadata": {},
   "source": [
    "## 1: Modifying Data In Tables\n",
    "\n",
    "There are many times when we don't just want to query data from SQL tables, and instead we want to modify the existing data or add new data. Modifying data in SQL tables is possible through 3 statements:\n",
    "\n",
    "- <mark>INSERT</mark> -- adds new data.\n",
    "- <mark>UPDATE</mark> -- changes the values of some columns in existing data.\n",
    "- <mark>DELETE</mark> -- removes existing data.\n",
    "\n",
    "In this mission, we'll cover these 3 statements. As we do so, we'll be working with factbook.db, a SQLite database that contains information about each country in the world. We'll be working with a table in the file called facts. Each row in facts represents a single country, and contains several columns, including:\n",
    "\n",
    "- name -- the name of the country.\n",
    "- area -- the total land and sea area of the country.\n",
    "- population -- the population of the country.\n",
    "- birth_rate -- the birth rate of the country.\n",
    "- created_at -- the date the record was created.\n",
    "- updated_at -- the date the record was updated.\n",
    "\n",
    "Here are the first few rows of facts:\n",
    "\n",
    "| id | code | name        | area    | area_land | area_water | population | population_growth | birth_rate | death_rate | migration_rate | created_at                 | updated_at                 |\n",
    "|----|------|-------------|---------|-----------|------------|------------|-------------------|------------|------------|----------------|----------------------------|----------------------------|\n",
    "| 1  | af   | Afghanistan | 652230  | 652230    | 0          | 32564342   | 2.32              | 38.57      | 13.89      | 1.51           | 2015-11-01 13:19:49.461734 | 2015-11-01 13:19:49.461734 |\n",
    "| 2  | al   | Albania     | 28748   | 27398     | 1350       | 3029278    | 0.3               | 12.92      | 6.58       | 3.3            | 2015-11-01 13:19:54.431082 | 2015-11-01 13:19:54.431082 |\n",
    "| 3  | ag   | Algeria     | 2381741 | 2381741   | 0          | 39542166   | 1.84              | 23.67      | 4.31       | 0.92           | 2015-11-01 13:19:59.961286 | 2015-11-01 13:19:59.961286 |"
   ]
  },
  {
   "cell_type": "markdown",
   "metadata": {},
   "source": [
    "## 2: Working With Dates In SQL\n",
    "\n",
    "Dates are an extremely important part of querying and analyzing data. Some common use cases are segmenting records by date, figuring out how many events occurred on each date, and finding all the dates on which a particular event occurred.\n",
    "\n",
    "Because of how common it is to use dates when querying data, SQL has built-in support for handling dates. It makes it easy to query based on date and time ranges. We can query a date range from the facts table using the following syntax:\n",
    "\n",
    "\n",
    "``SELECT * FROM facts WHERE created_at < \"2015-11-01\" AND created_at > \"2015-10-30\";``\n",
    "\n",
    "Here's what's happening in this query:\n",
    "\n",
    "- SQL is comparing the created_at column in facts to 2015-11-01, and selecting any rows where created_at is less.\n",
    "- SQL is comparing the created_at column in facts to 2015-10-30, and selecting any rows where created_at is greater.\n",
    "\n",
    "You may recognize that this looks exactly like some of the WHERE statements you used in previous missions. The only caveat is to put the date you want to compare in quotes so SQL parses the date properly. Dates have a natural ordering, and SQL automatically uses this ordering. For example, 2015-11-01 is greater than 2015-10-30, because it comes afterwards.\n",
    "\n",
    "We can also query based on times using the following syntax:\n",
    "\n",
    "\n",
    "``SELECT [columnA, columnB, ...]\n",
    "FROM tableName\n",
    "WHERE dateColumn < \"date1\"\n",
    "AND dateColumn > \"date2\";``\n",
    "\n",
    "Here's a concrete example:\n",
    "\n",
    "\n",
    "``SELECT * FROM facts \n",
    "WHERE created_at < \"2015-11-01 14:00\"\n",
    "AND created_at > \"2015-10-30 12:00\";``\n",
    "\n",
    "The above SQL query selects any rows in facts that were created between 12pm on October 30th, 2015, and 2pm on November 1st, 2015. If you're not familiar with the time notation, it's military time, a 24-hour clock which starts at 0:00 (midnight), and ends at 24:00. 9:00 military time is 9am, and 17:00 military time is 5pm. The primary advantage of military time is that we don't need to specify am or pm.\n",
    "\n",
    "#### Instructions:\n",
    "- Select any rows from facts where updated_at is greater than October 30th, 2015 at 4pm, and updated_at is less than November 2nd, 2015 at 3pm."
   ]
  },
  {
   "cell_type": "code",
   "execution_count": 18,
   "metadata": {
    "collapsed": false
   },
   "outputs": [
    {
     "data": {
      "text/plain": [
       "[(1,\n",
       "  'af',\n",
       "  'Afghanistan',\n",
       "  652230,\n",
       "  652230,\n",
       "  0,\n",
       "  32564342,\n",
       "  2.32,\n",
       "  38.57,\n",
       "  13.89,\n",
       "  1.51,\n",
       "  '2015-11-01 13:19:49.461734',\n",
       "  '2015-11-01 13:19:49.461734'),\n",
       " (2,\n",
       "  'al',\n",
       "  'Albania',\n",
       "  28748,\n",
       "  27398,\n",
       "  1350,\n",
       "  3029278,\n",
       "  0.3,\n",
       "  12.92,\n",
       "  6.58,\n",
       "  3.3,\n",
       "  '2015-11-01 13:19:54.431082',\n",
       "  '2015-11-01 13:19:54.431082')]"
      ]
     },
     "execution_count": 18,
     "metadata": {},
     "output_type": "execute_result"
    }
   ],
   "source": [
    "import sqlite3\n",
    "conn = sqlite3.connect(\"data/factbook.db\")\n",
    "\n",
    "query = '''select * from facts where updated_at > \"2015-10-30 16:00\" and updated_at < \"2015-11-02 15:00\"'''\n",
    "results = conn.execute(query).fetchall()\n",
    "results[:2]"
   ]
  },
  {
   "cell_type": "markdown",
   "metadata": {},
   "source": [
    "## 3: Data Types\n",
    "\n",
    "In Python, variables can have data types, such as string, float, or integer. Whereas these data types don't have to be specified upfront in Python, each column in a SQL table has to have a data type specified when the table is created. This helps SQL store and search the data efficiently. Every SQL database engine has slightly different names for data types. Some of the common data types for SQLite are:\n",
    "\n",
    "- INTEGER -- similar to the integer type in Python.\n",
    "- REAL -- similar to the float type in Python.\n",
    "- FLOAT -- similar to the float type in Python.\n",
    "- TEXT -- similar to the string type in Python.\n",
    "- VARCHAR(255) -- similar to the string type in Python.\n",
    "\n",
    "The reason why SQLite has so many names for similar data types is to provide compatibility with other databases, some of which will only allow one or the other (REAL or FLOAT, for example).\n",
    "\n",
    "To see the data types of each column in a table, you can use the PRAGMA statement:\n",
    "\n",
    "\n",
    "``PRAGMA table_info(tableName);``\n",
    "\n",
    "Here's a concrete example:\n",
    "\n",
    "\n",
    "``PRAGMA table_info(table);``\n",
    "\n",
    "We'll cover the PRAGMA statement in more depth later on, but for now it's enough to know that it shows information about a SQL database.\n",
    "\n",
    "#### Instructions:\n",
    "\n",
    "- Write a SQL query that returns the data type of each column in facts."
   ]
  },
  {
   "cell_type": "code",
   "execution_count": 25,
   "metadata": {
    "collapsed": false
   },
   "outputs": [
    {
     "name": "stdout",
     "output_type": "stream",
     "text": [
      "['id', 'code', 'name', 'area', 'area_land', 'area_water', 'population', 'population_growth', 'birth_rate', 'death_rate', 'migration_rate', 'created_at', 'updated_at']\n"
     ]
    },
    {
     "data": {
      "text/plain": [
       "[(0, 'id', 'INTEGER', 1, None, 1),\n",
       " (1, 'code', 'varchar(255)', 1, None, 0),\n",
       " (2, 'name', 'varchar(255)', 1, None, 0),\n",
       " (3, 'area', 'integer', 0, None, 0),\n",
       " (4, 'area_land', 'integer', 0, None, 0),\n",
       " (5, 'area_water', 'integer', 0, None, 0),\n",
       " (6, 'population', 'integer', 0, None, 0),\n",
       " (7, 'population_growth', 'float', 0, None, 0),\n",
       " (8, 'birth_rate', 'float', 0, None, 0),\n",
       " (9, 'death_rate', 'float', 0, None, 0),\n",
       " (10, 'migration_rate', 'float', 0, None, 0),\n",
       " (11, 'created_at', 'datetime', 0, None, 0),\n",
       " (12, 'updated_at', 'datetime', 0, None, 0)]"
      ]
     },
     "execution_count": 25,
     "metadata": {},
     "output_type": "execute_result"
    }
   ],
   "source": [
    "import sqlite3 \n",
    "conn = sqlite3.connect(\"data/factbook.db\")\n",
    "cursor = conn.execute('select * from facts')\n",
    "header = [i[0] for i in cursor.description]\n",
    "print(header)\n",
    "\n",
    "query = \"pragma table_info(facts)\"\n",
    "\n",
    "result = conn.execute(query).fetchall()\n",
    "result"
   ]
  },
  {
   "cell_type": "markdown",
   "metadata": {},
   "source": [
    "## 4: Primary Keys\n",
    "Every SQL table has a primary key. A primary key is a column or combination of columns that are unique for each row in the table. The primary key is how SQL uniquely identifies each row. Most tables have an integer column called id by default, which is the primary key.\n",
    "\n",
    "If you look back on the output of the PRAGMA statement in the last screen, you'll see something like this:\n",
    "\n",
    "| cid | name | type         | notnull | dflt_value | pk |\n",
    "|-----|------|--------------|---------|------------|----|\n",
    "| 0   | id   | INTEGER      | 1       | None       | 1  |\n",
    "| 1   | code | varchar(255) | 1       | None       | 0  |\n",
    "| 2   | name | varchar(255) | 1       | None       | 0  |\n",
    "\n",
    "There's a column called pk, which is an integer. It's set to 1 (or True) for the first row, and 0 (or False) for the others. So the first column in the facts table, id, is the primary key.\n",
    "\n",
    "The most common name for the primary key column in a SQL table is id, although it doesn't have to be.\n",
    "\n",
    "#### Instructions:\n",
    "- Write a SQL query that uses the ORDER BY and LIMIT statements to select the entire row that has the highest id value."
   ]
  },
  {
   "cell_type": "code",
   "execution_count": 26,
   "metadata": {
    "collapsed": false
   },
   "outputs": [
    {
     "data": {
      "text/plain": [
       "[(261,\n",
       "  'xx',\n",
       "  'World',\n",
       "  None,\n",
       "  None,\n",
       "  None,\n",
       "  7256490011,\n",
       "  1.08,\n",
       "  18.6,\n",
       "  7.8,\n",
       "  None,\n",
       "  '2015-11-01 13:39:09.910721',\n",
       "  '2015-11-01 13:39:09.910721')]"
      ]
     },
     "execution_count": 26,
     "metadata": {},
     "output_type": "execute_result"
    }
   ],
   "source": [
    "query = \"select * from facts order by id desc limit 1;\"\n",
    "\n",
    "result = conn.execute(query).fetchall()\n",
    "result"
   ]
  },
  {
   "cell_type": "markdown",
   "metadata": {},
   "source": [
    "## 5: Inserting Data Into A Table\n",
    "\n",
    "Sometimes, we'll receive new rows that we want to add to a SQL table. We can insert a row into a table using the INSERT SQL statement. Here's an example INSERT statement:\n",
    "\n",
    "\n",
    "``INSERT INTO tableName\n",
    "VALUES (value1, value2, ...);``\n",
    "\n",
    "Here's a concrete example:\n",
    "\n",
    "\n",
    "``INSERT INTO facts\n",
    "VALUES (262, \"dq\", \"DataquestLand\", 60000, 40000, 20000, 500000, 100, 50, 10, 20, \"2016-02-25 12:00:00\", \"2016-02-25 12:00:00\");``\n",
    "\n",
    "There's quite a bit happening, so let's unpack each part:\n",
    "\n",
    "- INSERT INTO -- this indicates that we're adding a row to a particular table.\n",
    "- facts -- the table we're inserting the row into.\n",
    "- VALUES -- this indicates that we're specifying which values to insert.\n",
    "- 262 -- the primary key -- this is one higher than the current maximum primary key.\n",
    "- The other values we're inserting are comma separated, and match the column order in facts.\n",
    "- Date and text fields are in quotes, but integer and float fields aren't.\n",
    "- Dates must be in the yyyy-mm-dd HH:MM:SS format.\n",
    "\n",
    "After the above query runs, we'll have a new row in facts that we can work with like any other row.\n",
    "\n",
    "#### Instructions:\n",
    "\n",
    "- Write a SQL query that inserts a row into facts with the following values:\n",
    "\n",
    "``262, \"dq\", \"DataquestLand\", 60000, 40000, 20000, 500000, 100, 50, 10, 20, \"2016-02-25 12:00:00\", \"2016-02-25 12:00:00\"``"
   ]
  },
  {
   "cell_type": "code",
   "execution_count": 27,
   "metadata": {
    "collapsed": false
   },
   "outputs": [
    {
     "data": {
      "text/plain": [
       "<sqlite3.Cursor at 0x103e0b3b0>"
      ]
     },
     "execution_count": 27,
     "metadata": {},
     "output_type": "execute_result"
    }
   ],
   "source": [
    "query = '''INSERT INTO facts\n",
    "VALUES (262, \"dq\", \"DataquestLand\", 60000, 40000, 20000, 500000, \n",
    "100, 50, 10, 20, \"2016-02-25 12:00:00\", \"2016-02-25 12:00:00\");'''\n",
    "\n",
    "conn.execute(query)"
   ]
  },
  {
   "cell_type": "markdown",
   "metadata": {},
   "source": [
    "## 6: Missing Values\n",
    "\n",
    "We've worked with data sets that have missing values before. Because it's so common for data to be missing, SQL has explicit support for handling missing, or NULL, values. You can retrieve any rows where a specific column is NULL by using the following syntax:\n",
    "\n",
    "\n",
    "``SELECT * from tableName\n",
    "WHERE columnName IS NULL;``\n",
    "\n",
    "Here's a concrete example:\n",
    "\n",
    "\n",
    "``SELECT * FROM facts \n",
    "WHERE area IS NULL;``\n",
    "\n",
    "If a value in a row is missing when you add it, you can also use NULL with the INSERT INTO statement:\n",
    "\n",
    "\n",
    "``INSERT INTO facts\n",
    "VALUES (262, \"dq\", \"DataquestLand\", NULL, 40000, 20000, 500000, 100, 50, 10, 20, \"2016-02-25 12:00:00\", \"2016-02-25 12:00:00\");``\n",
    "\n",
    "Some columns may specify a NOT NULL constraint, which specifies that they can't contain any missing values. If you try to insert a NULL value into one of these columns, you'll get an error.\n",
    "\n",
    "#### Instructions:\n",
    "- Write a SQL query that inserts a row into facts with the following values:\n",
    "\n",
    "``263, \"dq\", \"DataquestLand\", NULL, NULL, 20000, 500000, 100, 50, 10, 20, \"2016-02-25 12:00:00\", \"2016-02-25 12:00:00\"``"
   ]
  },
  {
   "cell_type": "code",
   "execution_count": 28,
   "metadata": {
    "collapsed": false
   },
   "outputs": [
    {
     "data": {
      "text/plain": [
       "<sqlite3.Cursor at 0x103e0b420>"
      ]
     },
     "execution_count": 28,
     "metadata": {},
     "output_type": "execute_result"
    }
   ],
   "source": [
    "query = '''insert into facts\n",
    "values (263, \"dq\", \"DataquestLand\", NULL, NULL, 20000, 500000, 100, 50, 10, 20, \n",
    "\"2016-02-25 12:00:00\", \"2016-02-25 12:00:00\")'''\n",
    "\n",
    "conn.execute(query)"
   ]
  },
  {
   "cell_type": "code",
   "execution_count": 34,
   "metadata": {
    "collapsed": false
   },
   "outputs": [
    {
     "data": {
      "text/plain": [
       "263"
      ]
     },
     "execution_count": 34,
     "metadata": {},
     "output_type": "execute_result"
    }
   ],
   "source": [
    "# now check last ID again\n",
    "query = \"select id from facts order by id desc limit 1;\"\n",
    "conn.execute(query).fetchall()[0][0]"
   ]
  },
  {
   "cell_type": "markdown",
   "metadata": {},
   "source": [
    "## 7: Updating Rows\n",
    "\n",
    "Let's say we wanted to simulate a takeover of Australia by New Zealand and rename Australia. You can use the UPDATE statement for this:\n",
    "\n",
    "\n",
    "``UPDATE tableName\n",
    "SET column1=value1, column2=value2, ...\n",
    "WHERE column1=value3, column2=value4, ...``\n",
    "\n",
    "Here's a concrete example:\n",
    "\n",
    "\n",
    "``UPDATE facts\n",
    "SET name=\"New Zealand\", code=\"nz\"\n",
    "WHERE name=\"Australia\"``\n",
    "\n",
    "The above will rename any rows where name equals Australia to New Zealand. Let's break down what's happening:\n",
    "\n",
    "- UPDATE -- indicates that we're updating rows in the table.\n",
    "- facts -- the table we're updating.\n",
    "- SET -- indicates which columns we're going to update.\n",
    "- name=\"New Zealand\" -- set the values in the name column to the value New Zealand.\n",
    "- code=\"nz\" -- set the values in the code column to the value nz.\n",
    "- WHERE -- specifies which rows to update.\n",
    "- name=\"Australia\" -- only update rows where the name column equals Australia.\n",
    "\n",
    "The above query updates two columns, name, and code, but we could easily update one column or more columns. We can also use AND and OR in the WHERE statement to provide complex logic around which rows to update.\n",
    "\n",
    "It's very important to specify a WHERE clause when running an UPDATE statement -- **if you don't, all rows will be updated**.\n",
    "\n",
    "#### Instructions:\n",
    "\n",
    "- Write a SQL query that uses the UPDATE statement to update any rows where name is United States to DataquestLand."
   ]
  },
  {
   "cell_type": "code",
   "execution_count": 35,
   "metadata": {
    "collapsed": false
   },
   "outputs": [
    {
     "data": {
      "text/plain": [
       "<sqlite3.Cursor at 0x103e0b730>"
      ]
     },
     "execution_count": 35,
     "metadata": {},
     "output_type": "execute_result"
    }
   ],
   "source": [
    "query = '''update facts set name=\"DataquestLand\" where name=\"United States\"'''\n",
    "\n",
    "conn.execute(query)"
   ]
  },
  {
   "cell_type": "markdown",
   "metadata": {},
   "source": [
    "## 8: Deleting Rows\n",
    "\n",
    "Let's say we wanted to remove any rows associated with the United States. We'd have to use the DELETE statement like this:\n",
    "\n",
    "\n",
    "``DELETE FROM tableName\n",
    "WHERE column1=value1, column2=value2, ...;``\n",
    "\n",
    "Here's a concrete example:\n",
    "\n",
    "\n",
    "``DELETE FROM facts\n",
    "WHERE name=\"United States\";``\n",
    "\n",
    "The above query will delete any rows where name equals United States. Here's a breakdown of what's happening:\n",
    "\n",
    "- DELETE FROM -- indicates that we're deleting rows.\n",
    "- facts -- the table we're deleting rows from.\n",
    "- WHERE -- specifies which rows to delete.\n",
    "- name=\"United States\" -- only delete rows where name equals United States.\n",
    "\n",
    "It's very important to specify a WHERE clause for the DELETE statement -- **if you don't, all rows will be deleted**."
   ]
  },
  {
   "cell_type": "code",
   "execution_count": 36,
   "metadata": {
    "collapsed": false
   },
   "outputs": [
    {
     "data": {
      "text/plain": [
       "<sqlite3.Cursor at 0x103e0b7a0>"
      ]
     },
     "execution_count": 36,
     "metadata": {},
     "output_type": "execute_result"
    }
   ],
   "source": [
    "query = '''delete from facts where name=\"Canada\"'''\n",
    "conn.execute(query)"
   ]
  },
  {
   "cell_type": "markdown",
   "metadata": {},
   "source": [
    "## 9: Conclusion\n",
    "\n",
    "In this mission, we covered how to modify data in SQL tables, using the INSERT, UPDATE, and DELETE statements. In the next mission, we'll dive into how to setup and modify SQL tables, including changing which columns are in the table."
   ]
  },
  {
   "cell_type": "code",
   "execution_count": 38,
   "metadata": {
    "collapsed": true
   },
   "outputs": [],
   "source": [
    "conn.close()"
   ]
  }
 ],
 "metadata": {
  "kernelspec": {
   "display_name": "Python 3",
   "language": "python",
   "name": "python3"
  },
  "language_info": {
   "codemirror_mode": {
    "name": "ipython",
    "version": 3
   },
   "file_extension": ".py",
   "mimetype": "text/x-python",
   "name": "python",
   "nbconvert_exporter": "python",
   "pygments_lexer": "ipython3",
   "version": "3.6.0"
  }
 },
 "nbformat": 4,
 "nbformat_minor": 2
}
