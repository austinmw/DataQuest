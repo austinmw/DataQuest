{
 "cells": [
  {
   "cell_type": "markdown",
   "metadata": {},
   "source": [
    "## 1: Table Schema\n",
    "\n",
    "In the last mission, we looked at a database called `factbook.db`, which contained information on each country in the world.\n",
    "\n",
    "We looked at the facts table inside `factbook.db`. Here are the first few rows of facts:\n",
    "\n",
    "| id | code | name        | area    | area_land | area_water | population | population_growth | birth_rate | death_rate | migration_rate | created_at                 | updated_at                 |\n",
    "|----|------|-------------|---------|-----------|------------|------------|-------------------|------------|------------|----------------|----------------------------|----------------------------|\n",
    "| 1  | af   | Afghanistan | 652230  | 652230    | 0          | 32564342   | 2.32              | 38.57      | 13.89      | 1.51           | 2015-11-01 13:19:49.461734 | 2015-11-01 13:19:49.461734 |\n",
    "| 2  | al   | Albania     | 28748   | 27398     | 1350       | 3029278    | 0.3               | 12.92      | 6.58       | 3.3            | 2015-11-01 13:19:54.431082 | 2015-11-01 13:19:54.431082 |\n",
    "| 3  | ag   | Algeria     | 2381741 | 2381741   | 0          | 39542166   | 1.84              | 23.67      | 4.31       | 0.92           | 2015-11-01 13:19:59.961286 | 2015-11-01 13:19:59.961286 |\n",
    "\n",
    "In the last mission, we also looked at the columns for facts, and the corresponding datatypes. Here's an excerpt:\n",
    "\n",
    "| cid | name | type         | notnull | dflt_value | pk |\n",
    "|-----|------|--------------|---------|------------|----|\n",
    "| 0   | id   | INTEGER      | 1       | None       | 1  |\n",
    "| 1   | code | varchar(255) | 1       | None       | 0  |\n",
    "| 2   | name | varchar(255) | 1       | None       | 0  |\n",
    "\n",
    "This definition, which contains information like column names, data types, and which column is the primary key, is called a table schema.\n",
    "\n",
    "Table schemas let us create new tables to store data. What we store may change over time, so SQL also allows us to modify the schema of a table over time."
   ]
  },
  {
   "cell_type": "code",
   "execution_count": 2,
   "metadata": {
    "collapsed": false
   },
   "outputs": [
    {
     "name": "stdout",
     "output_type": "stream",
     "text": [
      "Opened database successfully\n"
     ]
    }
   ],
   "source": [
    "import sqlite3\n",
    "conn = sqlite3.connect(\"data/factbook.db\")\n",
    "print(\"Opened database successfully\")"
   ]
  },
  {
   "cell_type": "markdown",
   "metadata": {},
   "source": [
    "## 2: Adding Columns\n",
    "\n",
    "Let's say we want to add a column called awesomeness to track how awesome all the countries in the facts table are. We would need to add a column to facts to track this.\n",
    "\n",
    "We can add a column with the ALTER TABLE statement:\n",
    "\n",
    "\n",
    "``ALTER TABLE tableName\n",
    "ADD columnName dataType;``\n",
    "\n",
    "Here's a concrete example:\n",
    "\n",
    "\n",
    "``ALTER TABLE facts\n",
    "ADD awesomeness integer;``\n",
    "\n",
    "The above code will add a column called awesomeness to the facts table. Let's break down what's happening:\n",
    "\n",
    "- ALTER TABLE -- indicates that we're making a change to the table schema.\n",
    "- facts -- the table we're altering.\n",
    "- ADD -- indicates that we're adding a column.\n",
    "- awesomeness -- the name of the column we're adding.\n",
    "- integer -- the data type of the column we're adding. We talked about data types in the last mission, and [here's](https://www.sqlite.org/datatype3.html) a full list.\n",
    "\n",
    "When you add a column, all the values associated with it will be NULL to begin with.\n",
    "\n",
    "#### Instructions:\n",
    "- Write a SQL query that adds a column called leader to the facts table, with the data type text."
   ]
  },
  {
   "cell_type": "code",
   "execution_count": 3,
   "metadata": {
    "collapsed": false
   },
   "outputs": [
    {
     "data": {
      "text/plain": [
       "<sqlite3.Cursor at 0x10a771f80>"
      ]
     },
     "execution_count": 3,
     "metadata": {},
     "output_type": "execute_result"
    }
   ],
   "source": [
    "query = '''alter table facts\n",
    "add leader text'''\n",
    "conn.execute(query)"
   ]
  },
  {
   "cell_type": "code",
   "execution_count": 10,
   "metadata": {
    "collapsed": false
   },
   "outputs": [
    {
     "data": {
      "text/plain": [
       "['id',\n",
       " 'code',\n",
       " 'name',\n",
       " 'area',\n",
       " 'area_land',\n",
       " 'area_water',\n",
       " 'population',\n",
       " 'population_growth',\n",
       " 'birth_rate',\n",
       " 'death_rate',\n",
       " 'migration_rate',\n",
       " 'created_at',\n",
       " 'updated_at',\n",
       " 'leader']"
      ]
     },
     "execution_count": 10,
     "metadata": {},
     "output_type": "execute_result"
    }
   ],
   "source": [
    "# check that new header was added\n",
    "headers = [i[0] for i in conn.execute(\"select * from facts\").description]\n",
    "headers"
   ]
  },
  {
   "cell_type": "markdown",
   "metadata": {},
   "source": [
    "## 3: Removing Columns\n",
    "\n",
    "You can also use the ALTER TABLE statement to remove columns that are no longer needed:\n",
    "\n",
    "\n",
    "``ALTER TABLE tableName\n",
    "DROP COLUMN columnName;``\n",
    "\n",
    "Here's a concrete example:\n",
    "\n",
    "\n",
    "``ALTER TABLE facts\n",
    "DROP COLUMN awesomeness;``\n",
    "\n",
    "The above query would remove the column awesomeness from the table facts. **This command is only possible in certain SQL versions, and isn't possible with the SQLite database engine, so we won't practice it right now.**\n",
    "\n",
    "more info: http://www.sqlitetutorial.net/sqlite-alter-table/\n",
    "\n",
    "basic example of steps to drop table column in SQLite:\n",
    "\n",
    "- Rename the equipment table to temp_equipment table.\n",
    "- Recreate the equipment table without the location column.\n",
    "- Copy rows from the temp_equipment table to the equipment table.\n",
    "- Drop the temp_equipment table."
   ]
  },
  {
   "cell_type": "markdown",
   "metadata": {},
   "source": [
    "## 4: Creating Tables\n",
    "\n",
    "We can create a new table in factbook.db using a new table schema. Let's say that we want to create a table that keeps track of leaders of countries. We would use the CREATE TABLE statement to do this:\n",
    "\n",
    "\n",
    "``CREATE TABLE dbName.tableName(\n",
    "   column1 dataType1 PRIMARY KEY,\n",
    "   column2 dataType2,\n",
    "   column3 dataType3,\n",
    "   ...\n",
    ");``\n",
    "\n",
    "Here's a concrete example:\n",
    "\n",
    "\n",
    "``CREATE TABLE factbook.leaders(\n",
    "   id integer PRIMARY KEY,\n",
    "   name text,\n",
    "   country text\n",
    ");``\n",
    "\n",
    "Let's break down each piece of this example:\n",
    "\n",
    "- CREATE TABLE -- indicates that we want to create a table.\n",
    "- factbook.leaders -- we're creating a table called leaders in the factbook database. The . separates the two.\n",
    "- ( -- indicates that we're specifying the columns and data types inside.\n",
    "- id integer PRIMARY KEY -- we're creating a column called id that has the data type integer, and is the primary key for the table. As we mentioned in the last mission, every table needs a primary key, and it's typical to make an integer column called id the primary key.\n",
    "- name text -- we're creating a second column called name with the data type text.\n",
    "- country text -- we're creating a third column called country with the data type text.\n",
    "- ) -- indicates that we're done specifying columns.\n",
    "\n",
    "When we run the above query, we'll end up with a new table called leaders that has three columns, id, name, and country. The columns will be in the order they are specified in the query."
   ]
  },
  {
   "cell_type": "markdown",
   "metadata": {},
   "source": [
    "## 5: Relations Between Tables\n",
    "\n",
    "In the past screen, we created a table called leaders. Instead of directly referring to the row in the facts table that contained the country the leader was from, we had to create a country column in leaders that contains the full name of the country. Here's how the leaders table might look:\n",
    "\n",
    "| id | name         | country       | worth     |\n",
    "|----|--------------|---------------|-----------|\n",
    "| 1  | Barack Obama | United States | 7000000.0 |\n",
    "\n",
    "As you can see, the country is just a string. Querying any leaders associated with a country requires us to specify the country name as a *string*:\n",
    "\n",
    "\n",
    "``SELECT * from leaders\n",
    "WHERE country=\"United States\";``\n",
    "\n",
    "It also makes querying the country associated with a particular leader difficult. We first need to extract the country column as a string from the leaders table, then we need to query the facts table with the string:\n",
    "\n",
    "\n",
    "``SELECT * from facts\n",
    "WHERE name=\"United States\";``\n",
    "\n",
    "There's no way to combine both sets of records with this table schema, or query them more efficiently.\n",
    "\n",
    "Fortunately, SQL databases are commonly known as **relational** databases because they support relations between tables. These relations enable us to efficiently query across multiple tables.\n",
    "\n",
    "The most common type of relation is known as a **foreign key**. A SQL foreign key points from a record in one table to a record in another table. Here's an example of creating a table that contains a foreign key:\n",
    "\n",
    "\n",
    "``CREATE TABLE factbook.leaders(\n",
    "   id integer PRIMARY KEY,\n",
    "   name text,\n",
    "   country integer,\n",
    "   worth float,\n",
    "   FOREIGN KEY(country) REFERENCES facts(id)\n",
    ");``\n",
    "\n",
    "We've seen the CREATE TABLE statement before, but here are the main changes:\n",
    "\n",
    "- country is now an integer column, because it \"points\" to the id column of the facts table.\n",
    "- FOREIGN KEY -- specifies that we're setting one column in our table schema to be a foreign key to another table.\n",
    "- (country) -- specifies the column that is a foreign key.\n",
    "- REFERENCES -- indicates the table and column we're referencing with the foreign key.\n",
    "- facts -- the table that we're referencing with the foreign key.\n",
    "- (id) -- the column in facts that we're referencing with our foreign key.\n",
    "\n",
    "After setting up this table, the country column of leaders can only be assigned integer values that exist in the id column of facts. This will point to a row in the facts table, and indicate that a particular leader represents a particular country.\n",
    "\n",
    "Here's a diagram that may help you visualize what's happening:\n",
    "\n",
    "<img src=\"data/pic3.png\">\n",
    "\n",
    "The above diagram shows how the integer value in the country column of leaders \"points\" to the corresponding value in the id column of facts, and thus associates a row in leaders with a row in facts."
   ]
  },
  {
   "cell_type": "markdown",
   "metadata": {},
   "source": [
    "## 6: Creating A Table With Relations\n",
    "\n",
    "Now that we understand foreign keys and relations, we can create a table that contains a foreign key.\n",
    "\n",
    "#### Instructions:\n",
    "\n",
    "Write a SQL query that creates a table called states in the factbook database that will contain information on each state in a country. It should have the following columns:\n",
    "\n",
    "- id -- integer data type, should be a primary key.\n",
    "- name -- text data type.\n",
    "- area -- integer data type.\n",
    "- country -- integer foreign key to the id column of the facts table."
   ]
  },
  {
   "cell_type": "code",
   "execution_count": 3,
   "metadata": {
    "collapsed": false
   },
   "outputs": [
    {
     "name": "stdout",
     "output_type": "stream",
     "text": [
      "Table created successfully\n"
     ]
    }
   ],
   "source": [
    "query = '''create table states\n",
    "    (id integer primary key,\n",
    "    name text,\n",
    "    area integer,\n",
    "    country integer,\n",
    "    foreign key(country) references facts(id));'''\n",
    "conn.execute(query)\n",
    "print(\"Table created successfully\")\n",
    "\n",
    "conn.close()"
   ]
  },
  {
   "cell_type": "markdown",
   "metadata": {
    "collapsed": true
   },
   "source": [
    "## 7: Querying Across Foreign Keys\n",
    "\n",
    "We can use the INNER JOIN statement to make querying across foreign key relationships easier:\n",
    "\n",
    "\n",
    "``SELECT [column1, column2, ...] from tableName1\n",
    "INNER JOIN tableName2\n",
    "ON tableName1.column3 == tableName2.column4;``\n",
    "\n",
    "Here's a concrete example:\n",
    "\n",
    "\n",
    "``SELECT * from states\n",
    "INNER JOIN facts\n",
    "ON states.country == facts.id;``\n",
    "\n",
    "We've seen the basic SELECT statement before, so here's what's new:\n",
    "\n",
    "- INNER JOIN -- indicates that we're combining data from two tables into one query.\n",
    "- facts -- specifies the table we're joining with states.\n",
    "- ON -- indicate how SQL matches a record in states with a record in facts.\n",
    "- facts.id -- specifies that the id column in the facts table will be used to join.\n",
    "- states.country -- specifies that the country column in the states table will be used to join.\n",
    "\n",
    "You may recall from a previous screen that the country column of states \"points\" to the id column of facts. Therefore, we're saying that we're finding the associated row in facts for each row in states.\n",
    "\n",
    "We'll get back each row of states, but with information from facts added in. This enables us to get all the information we need in one place, without having to resort to multiple queries.\n",
    "\n",
    "#### Instructions:\n",
    "\n",
    "Write a SQL query that:\n",
    "- Uses the SELECT statement to query all the columns of the landmarks table.\n",
    "- Uses INNER JOIN to combine data from the landmarks table with data from the facts table.\n",
    "    - Uses the id column from facts and the country column of landmarks to perform the join."
   ]
  },
  {
   "cell_type": "code",
   "execution_count": 9,
   "metadata": {
    "collapsed": false
   },
   "outputs": [
    {
     "data": {
      "text/html": [
       "<div>\n",
       "<table border=\"1\" class=\"dataframe\">\n",
       "  <thead>\n",
       "    <tr style=\"text-align: right;\">\n",
       "      <th></th>\n",
       "      <th>id</th>\n",
       "      <th>name</th>\n",
       "      <th>country</th>\n",
       "      <th>id</th>\n",
       "      <th>code</th>\n",
       "      <th>name</th>\n",
       "      <th>area</th>\n",
       "      <th>area_land</th>\n",
       "      <th>area_water</th>\n",
       "      <th>population</th>\n",
       "      <th>population_growth</th>\n",
       "      <th>birth_rate</th>\n",
       "      <th>death_rate</th>\n",
       "      <th>migration_rate</th>\n",
       "      <th>created_at</th>\n",
       "      <th>updated_at</th>\n",
       "    </tr>\n",
       "  </thead>\n",
       "  <tbody>\n",
       "    <tr>\n",
       "      <th>0</th>\n",
       "      <td>1</td>\n",
       "      <td>Statue of Liberty</td>\n",
       "      <td>186</td>\n",
       "      <td>186</td>\n",
       "      <td>us</td>\n",
       "      <td>United States</td>\n",
       "      <td>9826675</td>\n",
       "      <td>9161966</td>\n",
       "      <td>664709</td>\n",
       "      <td>321368864</td>\n",
       "      <td>0.78</td>\n",
       "      <td>12.49</td>\n",
       "      <td>8.15</td>\n",
       "      <td>3.86</td>\n",
       "      <td>2015-11-01 13:35:14.898271</td>\n",
       "      <td>2015-11-01 13:35:14.898271</td>\n",
       "    </tr>\n",
       "    <tr>\n",
       "      <th>1</th>\n",
       "      <td>2</td>\n",
       "      <td>Golden Gate Bridge</td>\n",
       "      <td>186</td>\n",
       "      <td>186</td>\n",
       "      <td>us</td>\n",
       "      <td>United States</td>\n",
       "      <td>9826675</td>\n",
       "      <td>9161966</td>\n",
       "      <td>664709</td>\n",
       "      <td>321368864</td>\n",
       "      <td>0.78</td>\n",
       "      <td>12.49</td>\n",
       "      <td>8.15</td>\n",
       "      <td>3.86</td>\n",
       "      <td>2015-11-01 13:35:14.898271</td>\n",
       "      <td>2015-11-01 13:35:14.898271</td>\n",
       "    </tr>\n",
       "    <tr>\n",
       "      <th>2</th>\n",
       "      <td>3</td>\n",
       "      <td>Washington Monument</td>\n",
       "      <td>186</td>\n",
       "      <td>186</td>\n",
       "      <td>us</td>\n",
       "      <td>United States</td>\n",
       "      <td>9826675</td>\n",
       "      <td>9161966</td>\n",
       "      <td>664709</td>\n",
       "      <td>321368864</td>\n",
       "      <td>0.78</td>\n",
       "      <td>12.49</td>\n",
       "      <td>8.15</td>\n",
       "      <td>3.86</td>\n",
       "      <td>2015-11-01 13:35:14.898271</td>\n",
       "      <td>2015-11-01 13:35:14.898271</td>\n",
       "    </tr>\n",
       "  </tbody>\n",
       "</table>\n",
       "</div>"
      ],
      "text/plain": [
       "   id                 name  country   id code           name     area  \\\n",
       "0   1    Statue of Liberty      186  186   us  United States  9826675   \n",
       "1   2   Golden Gate Bridge      186  186   us  United States  9826675   \n",
       "2   3  Washington Monument      186  186   us  United States  9826675   \n",
       "\n",
       "   area_land  area_water  population  population_growth  birth_rate  \\\n",
       "0    9161966      664709   321368864               0.78       12.49   \n",
       "1    9161966      664709   321368864               0.78       12.49   \n",
       "2    9161966      664709   321368864               0.78       12.49   \n",
       "\n",
       "   death_rate  migration_rate                  created_at  \\\n",
       "0        8.15            3.86  2015-11-01 13:35:14.898271   \n",
       "1        8.15            3.86  2015-11-01 13:35:14.898271   \n",
       "2        8.15            3.86  2015-11-01 13:35:14.898271   \n",
       "\n",
       "                   updated_at  \n",
       "0  2015-11-01 13:35:14.898271  \n",
       "1  2015-11-01 13:35:14.898271  \n",
       "2  2015-11-01 13:35:14.898271  "
      ]
     },
     "execution_count": 9,
     "metadata": {},
     "output_type": "execute_result"
    }
   ],
   "source": [
    "conn = sqlite3.connect(\"data/factbook_2.db\")\n",
    "\n",
    "query = '''select * from landmarks\n",
    "inner join facts\n",
    "on facts.id == landmarks.country'''\n",
    "\n",
    "\n",
    "import pandas as pd\n",
    "pd.read_sql(query, conn)"
   ]
  },
  {
   "cell_type": "markdown",
   "metadata": {},
   "source": [
    "## 8: Types Of Joins\n",
    "\n",
    "There are a few different types of joins. Before diving into them, it's helpful to know that each table in a JOIN statement has a *side*:\n",
    "\n",
    "\n",
    "``SELECT * from landmarks\n",
    "INNER JOIN facts\n",
    "ON landmarks.country == facts.id;``\n",
    "\n",
    "In the above JOIN statement, landmarks is the left side table, and facts is the right side table. The table that is specified first is the left table, and the second is the right side table. Values come from the left and right sides when the JOIN is performed:\n",
    "\n",
    "| id | name                | country | id_1 | code | name_1        | area    | area_land | area_water | population | population_growth | birth_rate | death_rate | migration_rate | created_at                 | updated_at                 |\n",
    "|----|---------------------|---------|------|------|---------------|---------|-----------|------------|------------|-------------------|------------|------------|----------------|----------------------------|----------------------------|\n",
    "| 1  | Statue of Liberty   | 186     | 186  | us   | United States | 9826675 | 9161966   | 664709     | 321368864  | 0.78              | 12.49      | 8.15       | 3.86           | 2015-11-01 13:35:14.898271 | 2015-11-01 13:35:14.898271 |\n",
    "| 2  | Golden Gate Bridge  | 186     | 186  | us   | United States | 9826675 | 9161966   | 664709     | 321368864  | 0.78              | 12.49      | 8.15       | 3.86           | 2015-11-01 13:35:14.898271 | 2015-11-01 13:35:14.898271 |\n",
    "| 3  | Washington Monument | 186     | 186  | us   | United States | 9826675 | 9161966   | 664709     | 321368864  | 0.78              | 12.49      | 8.15       | 3.86           | 2015-11-01 13:35:14.898271 | 2015-11-01 13:35:14.898271 |\n",
    "\n",
    "In the above table, id, name, and country come from landmarks. id_1, code, name_1, area, and the rest of the columns come from facts. The _1 suffixes are because some columns from the tables have the same names, so the suffixes are to disambiguate. The records are combined via the JOIN when country from the landmarks table matches id_1 from the facts table.\n",
    "\n",
    "Given that, here are the types of joins:\n",
    "\n",
    "- <mark>INNER JOIN</mark> -- only displays rows where there is a match for the ON condition in both tables. Any rows that aren't matched are excluded.\n",
    "- <mark>LEFT OUTER JOIN</mark> -- if there is no match for a row from the table on the left side of the ON condition, it is shown with NULL values for all the right side values.\n",
    "- <mark>RIGHT OUTER JOIN</mark> -- if there is no match for a row from the table on the right side of the ON condition, it is shown with NULL values for all the left side values.\n",
    "\n",
    "INNER JOIN is the most common type of join, but LEFT OUTER JOIN is also occassionally used. It's very uncommon to use RIGHT OUTER JOIN, and SQLite doesn't support it.\n",
    "\n",
    "From a syntax points of view, using the statements is the exact same, you just swap out INNER JOIN for LEFT OUTER JOIN."
   ]
  },
  {
   "cell_type": "markdown",
   "metadata": {},
   "source": [
    "## 9: Types Of Joins\n",
    "\n",
    "#### Instructions:\n",
    "Write a SQL query that:\n",
    "- Uses the SELECT statement to query all the columns of the landmarks table.\n",
    "- Uses LEFT OUTER JOIN to combine data from the landmarks table with data from the facts table.\n",
    "- Uses the id column from facts and the country column of landmarks to perform the join.\n"
   ]
  },
  {
   "cell_type": "code",
   "execution_count": 11,
   "metadata": {
    "collapsed": false
   },
   "outputs": [
    {
     "data": {
      "text/html": [
       "<div>\n",
       "<table border=\"1\" class=\"dataframe\">\n",
       "  <thead>\n",
       "    <tr style=\"text-align: right;\">\n",
       "      <th></th>\n",
       "      <th>id</th>\n",
       "      <th>name</th>\n",
       "      <th>country</th>\n",
       "      <th>id</th>\n",
       "      <th>code</th>\n",
       "      <th>name</th>\n",
       "      <th>area</th>\n",
       "      <th>area_land</th>\n",
       "      <th>area_water</th>\n",
       "      <th>population</th>\n",
       "      <th>population_growth</th>\n",
       "      <th>birth_rate</th>\n",
       "      <th>death_rate</th>\n",
       "      <th>migration_rate</th>\n",
       "      <th>created_at</th>\n",
       "      <th>updated_at</th>\n",
       "    </tr>\n",
       "  </thead>\n",
       "  <tbody>\n",
       "    <tr>\n",
       "      <th>0</th>\n",
       "      <td>1</td>\n",
       "      <td>Statue of Liberty</td>\n",
       "      <td>186</td>\n",
       "      <td>186</td>\n",
       "      <td>us</td>\n",
       "      <td>United States</td>\n",
       "      <td>9826675</td>\n",
       "      <td>9161966</td>\n",
       "      <td>664709</td>\n",
       "      <td>321368864</td>\n",
       "      <td>0.78</td>\n",
       "      <td>12.49</td>\n",
       "      <td>8.15</td>\n",
       "      <td>3.86</td>\n",
       "      <td>2015-11-01 13:35:14.898271</td>\n",
       "      <td>2015-11-01 13:35:14.898271</td>\n",
       "    </tr>\n",
       "    <tr>\n",
       "      <th>1</th>\n",
       "      <td>2</td>\n",
       "      <td>Golden Gate Bridge</td>\n",
       "      <td>186</td>\n",
       "      <td>186</td>\n",
       "      <td>us</td>\n",
       "      <td>United States</td>\n",
       "      <td>9826675</td>\n",
       "      <td>9161966</td>\n",
       "      <td>664709</td>\n",
       "      <td>321368864</td>\n",
       "      <td>0.78</td>\n",
       "      <td>12.49</td>\n",
       "      <td>8.15</td>\n",
       "      <td>3.86</td>\n",
       "      <td>2015-11-01 13:35:14.898271</td>\n",
       "      <td>2015-11-01 13:35:14.898271</td>\n",
       "    </tr>\n",
       "    <tr>\n",
       "      <th>2</th>\n",
       "      <td>3</td>\n",
       "      <td>Washington Monument</td>\n",
       "      <td>186</td>\n",
       "      <td>186</td>\n",
       "      <td>us</td>\n",
       "      <td>United States</td>\n",
       "      <td>9826675</td>\n",
       "      <td>9161966</td>\n",
       "      <td>664709</td>\n",
       "      <td>321368864</td>\n",
       "      <td>0.78</td>\n",
       "      <td>12.49</td>\n",
       "      <td>8.15</td>\n",
       "      <td>3.86</td>\n",
       "      <td>2015-11-01 13:35:14.898271</td>\n",
       "      <td>2015-11-01 13:35:14.898271</td>\n",
       "    </tr>\n",
       "  </tbody>\n",
       "</table>\n",
       "</div>"
      ],
      "text/plain": [
       "   id                 name  country   id code           name     area  \\\n",
       "0   1    Statue of Liberty      186  186   us  United States  9826675   \n",
       "1   2   Golden Gate Bridge      186  186   us  United States  9826675   \n",
       "2   3  Washington Monument      186  186   us  United States  9826675   \n",
       "\n",
       "   area_land  area_water  population  population_growth  birth_rate  \\\n",
       "0    9161966      664709   321368864               0.78       12.49   \n",
       "1    9161966      664709   321368864               0.78       12.49   \n",
       "2    9161966      664709   321368864               0.78       12.49   \n",
       "\n",
       "   death_rate  migration_rate                  created_at  \\\n",
       "0        8.15            3.86  2015-11-01 13:35:14.898271   \n",
       "1        8.15            3.86  2015-11-01 13:35:14.898271   \n",
       "2        8.15            3.86  2015-11-01 13:35:14.898271   \n",
       "\n",
       "                   updated_at  \n",
       "0  2015-11-01 13:35:14.898271  \n",
       "1  2015-11-01 13:35:14.898271  \n",
       "2  2015-11-01 13:35:14.898271  "
      ]
     },
     "execution_count": 11,
     "metadata": {},
     "output_type": "execute_result"
    }
   ],
   "source": [
    "query = '''select * from landmarks\n",
    "left outer join facts\n",
    "on facts.id == landmarks.country'''\n",
    "\n",
    "pd.read_sql(query, conn)"
   ]
  },
  {
   "cell_type": "markdown",
   "metadata": {},
   "source": [
    "## 10: Next Steps\n",
    "\n",
    "In this mission, we covered the basics of modifying table schema, creating tables, and defining relations. Relations allow us to harness the full power of SQL, and query more efficiently. In the next few missions, we'll cover relations in more depth, and talk about optimizing table performance."
   ]
  },
  {
   "cell_type": "code",
   "execution_count": 12,
   "metadata": {
    "collapsed": true
   },
   "outputs": [],
   "source": [
    "conn.close()"
   ]
  }
 ],
 "metadata": {
  "kernelspec": {
   "display_name": "Python 3",
   "language": "python",
   "name": "python3"
  },
  "language_info": {
   "codemirror_mode": {
    "name": "ipython",
    "version": 3
   },
   "file_extension": ".py",
   "mimetype": "text/x-python",
   "name": "python",
   "nbconvert_exporter": "python",
   "pygments_lexer": "ipython3",
   "version": "3.6.0"
  }
 },
 "nbformat": 4,
 "nbformat_minor": 2
}
