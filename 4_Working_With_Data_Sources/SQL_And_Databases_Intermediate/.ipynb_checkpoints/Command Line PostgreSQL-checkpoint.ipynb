{
 "cells": [
  {
   "cell_type": "markdown",
   "metadata": {},
   "source": [
    "## 1: The Psql Tool\n",
    "\n",
    "In the last mission, we worked with PostgreSQL, or Postgres, databases and tables. In this mission, we'll learn how to work with the PostgreSQL command line tool, called psql.\n",
    "\n",
    "psql is similar to the sqlite3 command line tool in that it allows you to connect to and manage databases. psql connects to a running PostgreSQL server process, then enables you to:\n",
    "\n",
    "- Run queries.\n",
    "- Manage users and permissions.\n",
    "- Manage databases.\n",
    "- See PostgreSQL system information.\n",
    "\n",
    "By default, psql will connect to a PostgreSQL server running on the current computer, using port 5432. If you don't specify a user and database to connect to, it will use the defaults. By default, the name of the currently logged in system user will be used as both the PostgreSQL user name and database name.\n",
    "\n",
    "If you're logged in to a computer as the system user dq, then type psql, you will connect to the dq database as a PostgreSQL user called dq. We'll learn later on how to connect to different databases using different PostgreSQL users.\n",
    "\n",
    "After you're finished working with psql, you can exit using the \\q command.\n",
    "\n",
    "#### Instructions:\n",
    "- Start the PostgreSQL command line tool by typing psql.\n",
    "- Exit psql by typing \\q."
   ]
  },
  {
   "cell_type": "code",
   "execution_count": 7,
   "metadata": {
    "collapsed": false
   },
   "outputs": [],
   "source": [
    "%%bash\n",
    "psql\n",
    "\\q"
   ]
  },
  {
   "cell_type": "markdown",
   "metadata": {},
   "source": [
    "## 2: Running SQL Queries\n",
    "\n",
    "After starting the psql command line tool, we can run SQL queries. Any valid SQL query will be executed. Because the psql shell is about giving instant feedback, transactions don't apply, and each command we type is immediately executed. This allows us to quickly test out queries and get results.\n",
    "\n",
    "Since creating a database is one SQL query, we can do it via psql. You may recall that the syntax to create a database is like the following:\n",
    "\n",
    "\n",
    "``CREATE DATABASE dbName;``\n",
    "\n",
    "Queries in psql must end with a semicolon (;), or they won't be performed.\n",
    "\n",
    "#### Instructions:\n",
    "- Start the psql command line tool.\n",
    "- Create a database called bank_accounts\n",
    "- Exit the psql command line tool."
   ]
  },
  {
   "cell_type": "code",
   "execution_count": null,
   "metadata": {
    "collapsed": true
   },
   "outputs": [],
   "source": [
    "%%bash\n",
    "psql\n",
    "create database bank_accounts;\n",
    "\\q"
   ]
  },
  {
   "cell_type": "markdown",
   "metadata": {},
   "source": [
    "## 3: Special PostgreSQL Commands\n",
    "\n",
    "We can run several special commands using psql. These commands start with a backslash (\\), and can perform a variety of functions, including:\n",
    "\n",
    "- Listing databases\n",
    "- Listing tables\n",
    "- Managing users\n",
    "\n",
    "You can see a full list of all of the special functions by running \\? after starting psql. You'll need to type q to exit the resulting help interface. You can also find the full list here.\n",
    "\n",
    "Two common functions to run are:\n",
    "\n",
    "- \\l -- list all available databases.\n",
    "- \\dt -- list all tables in the current database.\n",
    "- \\du -- list users.\n",
    "\n",
    "#### Instructions:\n",
    "\n",
    "- Start psql.\n",
    "- List all available databases.\n",
    "- Exit psql."
   ]
  },
  {
   "cell_type": "code",
   "execution_count": null,
   "metadata": {
    "collapsed": true
   },
   "outputs": [],
   "source": [
    "%%bash\n",
    "psql\n",
    "\\l\n",
    "\\q"
   ]
  },
  {
   "cell_type": "markdown",
   "metadata": {},
   "source": [
    "## 4: Switching Databases\n",
    "When we're connected to a specific SQL database, we can only create tables within that database, and run queries on tables in that database. In the past few screens, we've been connected to the dq database. This prevents us from manipulating tables in the bank_accounts database.\n",
    "\n",
    "You can connect to a different database using the -d option of psql. If you wanted to connect to a database called dataquest, you could use the following command:\n",
    "\n",
    "\n",
    "``psql -d dataquest``\n",
    "\n",
    "psql will start connected to the specified database, and you'll be able to create tables in the database.\n",
    "\n",
    "#### Instructions:\n",
    "\n",
    "- Start psql and connect to the bank_accounts database.\n",
    "- Create a table called deposits in bank_accounts with the following columns:\n",
    "    - id, integer, primary key\n",
    "    - name, text\n",
    "    - amount, float\n",
    "- Use the \\dt command to list all of the tables in bank_accounts.\n",
    "- Exit psql."
   ]
  },
  {
   "cell_type": "code",
   "execution_count": null,
   "metadata": {
    "collapsed": true
   },
   "outputs": [],
   "source": [
    "%%bash\n",
    "psql -d bank_accounts\n",
    "create table deposits(id integer primary key, name text, amount float);\n",
    "\\dt\n",
    "\\q"
   ]
  },
  {
   "cell_type": "markdown",
   "metadata": {},
   "source": [
    "## 5: Creating Users\n",
    "\n",
    "In order to manage access to different databases, you can also create users. Users will be able to log into a PostgreSQL database and run queries. You can create a user with the CREATE ROLE statement. Here's how the statement looks:\n",
    "\n",
    "\n",
    "``CREATE ROLE userName;``\n",
    "\n",
    "By default, the user isn't allowed to login to PostgreSQL and run queries. You can fix this by adding the WITH and LOGIN statements:\n",
    "\n",
    "\n",
    "``CREATE ROLE userName WITH LOGIN;``\n",
    "\n",
    "If you run the pseudo-code above with a real username, you may be unable to login as that user. Depending on the configuration of your PostgreSQL instance, you may either be unable to login entirely, or will only be able to login when your system user name is the same as the PostgreSQL user name you want to login as. You can get around this by creating a password -- you'll then be able to login using the password. We'll cover PostgreSQL authentication and login methods in more depth in a later mission.\n",
    "\n",
    "You can create a password using the WITH PASSWORD statement like this:\n",
    "\n",
    "\n",
    "``CREATE ROLE userName WITH LOGIN PASSWORD `password`;``\n",
    "\n",
    "If the user needs to be able to create databases, you can add that ability in with the CREATEDB statement:\n",
    "\n",
    "\n",
    "``CREATE ROLE userName WITH CREATEDB LOGIN PASSWORD 'password';``\n",
    "\n",
    "As you may be able to tell from above, we can keep modifying how the user is created by adding statements after the WITH statement. Some other statements we can add are:\n",
    "\n",
    "- CREATEROLE -- allows the user to create other users.\n",
    "- SUPERUSER -- makes the user a superuser. We'll cover what a superuser is later on.\n",
    "\n",
    "For a full list of statements that can be added, see [here](http://www.postgresql.org/docs/9.4/static/sql-createrole.html).\n",
    "\n",
    "#### Instructions:\n",
    "- Start psql.\n",
    "- Create a user called sec with the following modifying statements:\n",
    "    - LOGIN\n",
    "    - PASSWORD 'test'\n",
    "    - CREATEDB\n",
    "- List all the users using \\du.\n",
    "- Exit psql."
   ]
  },
  {
   "cell_type": "code",
   "execution_count": null,
   "metadata": {
    "collapsed": true
   },
   "outputs": [],
   "source": [
    "%%bash\n",
    "psql\n",
    "create role sec with login createdb password 'test';\n",
    "\\du\n",
    "\\q"
   ]
  },
  {
   "cell_type": "markdown",
   "metadata": {},
   "source": [
    "## 6: Adding Permissions\n",
    "When users are created, they don't have any ability, or permissions, to access tables in existing databases. This is done for security reasons, so that all permissions are issued explicitly instead of being unexpected. You can issue permissions to a user using the GRANT statement. The GRANT statement will issue permissions to access certain tables in a database to a certain user. You can allow a user to perform SELECT queries on a given table like this:\n",
    "\n",
    "\n",
    "`GRANT SELECT ON tableName TO userName;`\n",
    "\n",
    "If you want to grant different types of permissions, you can separate them with commas. The below query will allow a given user to query data from a table, update rows in the table, insert rows into the table, and delete rows from the table:\n",
    "\n",
    "\n",
    "`GRANT SELECT, INSERT, UPDATE, DELETE ON tableName TO userName;\n",
    "\n",
    "A shortcut for this is to use the ALL PRIVILEGES statement:\n",
    "\n",
    "\n",
    "`GRANT ALL PRIVILEGES ON tableName TO userName;`\n",
    "\n",
    "You can use the psql \\dp command to find out what privileges have been granted to users for a specific table:\n",
    "\n",
    "\n",
    "`\\dp tableName`\n",
    "\n",
    "#### Instructions:\n",
    "- Start psql and connect to the bank_accounts database.\n",
    "- Grant all privileges on the table deposits to the user sec.\n",
    "- List all the privileges for deposits using \\dp.\n",
    "- Exit psql."
   ]
  },
  {
   "cell_type": "code",
   "execution_count": null,
   "metadata": {
    "collapsed": true
   },
   "outputs": [],
   "source": [
    "%%bash\n",
    "psql -d bank_accounts\n",
    "grant all privileges on deposits to sec;\n",
    "\\dp\n",
    "\\q"
   ]
  },
  {
   "cell_type": "markdown",
   "metadata": {},
   "source": [
    "## 7: Removing Permissions\n",
    "There are times when you'll want to remove permissions that you granted to a user previously. Permissions can be removed using the REVOKE statement. The REVOKE statement enables you to take back any permissions given via the GRANT statement. You can revoke the ability for a user to run queries:\n",
    "\n",
    "\n",
    "`REVOKE SELECT ON tableName FROM userName;`\n",
    "\n",
    "If you want to revoke different types of permissions, you can separate them with commas. The below query will revoke permissions for a given user to query data from a table, update rows in the table, insert rows into the table, and delete rows from the table:\n",
    "\n",
    "\n",
    "`REVOKE SELECT, INSERT, UPDATE, DELETE ON tableName FROM userName;`\n",
    "\n",
    "A shortcut for this is to use the ALL PRIVILEGES statement:\n",
    "\n",
    "\n",
    "`REVOKE ALL PRIVILEGES ON tableName FROM userName;`\n",
    "\n",
    "The above syntax likely looks very similar to the GRANT syntax from the last screen. This is by design, and both are as similar as possible to make adding and removing permissions straightforward.\n",
    "\n",
    "#### Instructions:\n",
    "- Start psql and connect to the bank_accounts database.\n",
    "- Revoke all privileges on the table deposits from the user sec.\n",
    "- List all the privileges for deposits using \\dp.\n",
    "- Exit psql."
   ]
  },
  {
   "cell_type": "code",
   "execution_count": null,
   "metadata": {
    "collapsed": true
   },
   "outputs": [],
   "source": [
    "%%bash\n",
    "psql -d bank_accounts\n",
    "revoke all privileges on deposits from sec;\n",
    "\\dp\n",
    "\\q"
   ]
  },
  {
   "cell_type": "markdown",
   "metadata": {},
   "source": [
    "## 8: Superusers\n",
    "A superuser is a special type of user that overrides all access restrictions. Superusers can perform any function in a database, and a user should only be made a superuser in special cases. Adding the SUPERUSER statement to a CREATE ROLE statement will make a user a superuser:\n",
    "\n",
    "\n",
    "``CREATE ROLE userName WITH SUPERUSER;``\n",
    "\n",
    "You can also setup login and a password for the superuser:\n",
    "\n",
    "\n",
    "``CREATE ROLE userName WITH LOGIN PASSWORD 'password' SUPERUSER;``\n",
    "\n",
    "#### Instructions: \n",
    "- Start psql.\n",
    "- Create a user called aig with the following modifying statements:\n",
    "    - LOGIN\n",
    "    - PASSWORD 'test'\n",
    "    - SUPERUSER\n",
    "- List all the users using \\du.\n",
    "- Exit psql."
   ]
  },
  {
   "cell_type": "code",
   "execution_count": null,
   "metadata": {
    "collapsed": true
   },
   "outputs": [],
   "source": [
    "%%bash\n",
    "psql\n",
    "create role aig with login superuse password 'test';\n",
    "\\du\n",
    "\\q"
   ]
  }
 ],
 "metadata": {
  "kernelspec": {
   "display_name": "Python 3",
   "language": "python",
   "name": "python3"
  },
  "language_info": {
   "codemirror_mode": {
    "name": "ipython",
    "version": 3
   },
   "file_extension": ".py",
   "mimetype": "text/x-python",
   "name": "python",
   "nbconvert_exporter": "python",
   "pygments_lexer": "ipython3",
   "version": "3.6.0"
  }
 },
 "nbformat": 4,
 "nbformat_minor": 2
}
