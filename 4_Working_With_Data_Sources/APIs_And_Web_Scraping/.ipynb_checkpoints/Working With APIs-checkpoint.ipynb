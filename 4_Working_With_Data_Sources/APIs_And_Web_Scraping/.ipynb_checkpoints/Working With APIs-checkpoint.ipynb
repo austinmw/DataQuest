{
 "cells": [
  {
   "cell_type": "markdown",
   "metadata": {},
   "source": [
    "# Working With APIs: Learn to work with a simple API by finding the position of the International Space Station."
   ]
  },
  {
   "cell_type": "markdown",
   "metadata": {},
   "source": [
    "## 1: What's An API?\n",
    "\n",
    "We've worked with data sets pretty extensively so far. While they're popular resources, there are many cases where it's impractical to use one.\n",
    "\n",
    "Here are a few situations where data sets don't work well:\n",
    "\n",
    "- The data change frequently. It doesn't really make sense to regenerate a data set of stock prices, for example, and download it every minute. This approach would require a lot of bandwidth, and be very slow.\n",
    "- You only want a small piece of a much larger data set. [Reddit](https://www.reddit.com/) comments are one example. What if you want to pull just your own comments from reddit? It doesn't make much sense to download the entire reddit database, then filter it for a few items.\n",
    "- It involves repeated computation. For example, Spotify has an API that can tell you the genre of a piece of music. You could theoretically create your own classifier and use it to categorize music, but you'll never have as much data as Spotify does.\n",
    "\n",
    "In cases like these, an **application program interface (API)** is the right solution. An API is a set of methods and tools that allows different applications to interact with each other. Programmers use APIs to query and retrieve data dynamically (which they can then integrate with their own apps). A client can retrieve information quickly and effectively through an API.\n",
    "\n",
    "Reddit, Spotify, Twitter, Facebook, and many other companies provide free APIs that enable developers to access the information they store on their servers; others charge for access to their APIs.\n",
    "\n",
    "In this mission, we'll query a basic API to retrieve data about the [International Space Station](https://en.wikipedia.org/wiki/International_Space_Station) (ISS). Using an API will save us time and effort, instead of doing all the computation ourselves."
   ]
  },
  {
   "cell_type": "markdown",
   "metadata": {},
   "source": [
    "## 2: Introduction To API Requests\n",
    "Organizations host their APIs on Web servers. When you type *www.google.com* in your browser's address bar, your computer is actually asking the *www.google.com* server for a Web page, which it then returns to your browser.\n",
    "\n",
    "APIs work much the same way, except instead of your Web browser asking for a Web page, your program asks for data. The API usually returns this data in [JavaScript Object Notation](http://json.org/) (JSON) format. We'll discuss JSON more later on in this mission.\n",
    "\n",
    "We make an API request to the Web server we want to get data from. The server then replies and sends it to us. In Python, we use the [requests library](http://www.python-requests.org/en/latest/) to do this."
   ]
  },
  {
   "cell_type": "markdown",
   "metadata": {},
   "source": [
    "## 3: Types Of Requests\n",
    "\n",
    "There are many different types of requests. The most common is a GET request, which we use to retrieve data. We'll explore the other types in later missions.\n",
    "\n",
    "We can use a simple GET request to retrieve information from the [OpenNotify](http://open-notify.org/) API.\n",
    "\n",
    "OpenNotify has several API **endpoints**. An endpoint is a server route for retrieving specific data from an API. For example, the `/comments` endpoint on the reddit API might retrieve information about comments, while the `/users` endpoint might retrieve data about users.\n",
    "\n",
    "The first endpoint we'll look at on OpenNotify is the `iss-now.json` endpoint. This endpoint gets the current latitude and longitude position of the ISS. A data set wouldn't be a great fit for this task because the information changes often, and involves some calculation on the server.\n",
    "\n",
    "[Check out the complete list](http://open-notify.org/Open-Notify-API/) of OpenNotify endpoints."
   ]
  },
  {
   "cell_type": "code",
   "execution_count": 7,
   "metadata": {
    "collapsed": false
   },
   "outputs": [
    {
     "name": "stdout",
     "output_type": "stream",
     "text": [
      "200\n"
     ]
    }
   ],
   "source": [
    "# Make a get request to get the latest position of the ISS from the OpenNotify API.\n",
    "import requests\n",
    "response = requests.get(\"http://api.open-notify.org/iss-now.json\")\n",
    "status_code = response.status_code\n",
    "\n",
    "print(status_code)"
   ]
  },
  {
   "cell_type": "markdown",
   "metadata": {},
   "source": [
    "## 4: Understanding Status Codes\n",
    "The request we just made returned a status code of `200`. Web servers return status codes every time they receive an API request. A status code provides information about what happened with a request. Here are some codes that are relevant to *GET* requests:\n",
    "\n",
    "- `200` - Everything went okay, and the server returned a result (if any).\n",
    "- `301` - The server is redirecting you to a different endpoint. This can happen when a company switches domain names, or an endpoint's name has changed.\n",
    "- `401` - The server thinks you're not authenticated. This happens when you don't send the right credentials to access an API (we'll talk about this in a later mission).\n",
    "- `400` - The server thinks you made a bad request. This can happen when you don't send the information the API requires to process your request, among other things.\n",
    "- `403` - The resource you're trying to access is forbidden; you don't have the right permissions to see it.\n",
    "- `404` - The server didn't find the resource you tried to access."
   ]
  },
  {
   "cell_type": "code",
   "execution_count": 9,
   "metadata": {
    "collapsed": false
   },
   "outputs": [
    {
     "name": "stdout",
     "output_type": "stream",
     "text": [
      "404\n"
     ]
    }
   ],
   "source": [
    "# Make a GET request to http://api.open-notify.org/iss-pass.\n",
    "response = requests.get(\"http://api.open-notify.org/iss-pass\")\n",
    "\n",
    "# assign & print status code\n",
    "status_code = response.status_code\n",
    "print(status_code)"
   ]
  },
  {
   "cell_type": "markdown",
   "metadata": {},
   "source": [
    "## 5: Hitting The Right Endpoint\n",
    "\n",
    "`iss-pass` wasn't a valid endpoint, so the API's server sent us a `404` status code in response. We forgot to add `.json` at the end, like the [API documentation](API documentation) tells us to do."
   ]
  },
  {
   "cell_type": "code",
   "execution_count": 11,
   "metadata": {
    "collapsed": false
   },
   "outputs": [
    {
     "name": "stdout",
     "output_type": "stream",
     "text": [
      "400\n"
     ]
    }
   ],
   "source": [
    "# Make a GET request to http://api.open-notify.org/iss-pass.json.\n",
    "response = requests.get(\"http://api.open-notify.org/iss-pass.json\")\n",
    "\n",
    "# Assign the status code of the response to status_code.\n",
    "status_code = response.status_code\n",
    "print(status_code)"
   ]
  },
  {
   "cell_type": "markdown",
   "metadata": {},
   "source": [
    "##6: Adding Query Parameters\n",
    "You'll see that in the last example, we got a `400` status code, which indicates a bad request. If you look at the documentation for the OpenNotify API, we see that the [ISS Pass](http://open-notify.org/Open-Notify-API/ISS-Pass-Times/) endpoint requires two parameters.\n",
    "\n",
    "This endpoint returns the next time the ISS will pass over a given location on the Earth.\n",
    "\n",
    "To request this information, we'll need to pass the coordinates for a specific location to the API. We do this by passing in two parameters, latitude and longitude.\n",
    "\n",
    "To accomplish this, we can add an optional keyword argument, `params`, to our request. In this case, we need to pass in two parameters:\n",
    "\n",
    "- `lat` - The latitude of the location\n",
    "- `lon` - The longitude of the location\n",
    "\n",
    "We can make a dictionary that contains these parameters, and then pass them into the function.\n",
    "\n",
    "We can also do the same thing directly by adding the query parameters to the url, like this:\n",
    "\n",
    "``http://api.open-notify.org/iss-pass.json?lat=40.71&lon=-74``\n",
    "\n",
    "It's almost always preferable to set up the parameters as a dictionary, because the `requests` library we mentioned earlier takes care of certain issues, like properly formatting the query parameters."
   ]
  },
  {
   "cell_type": "code",
   "execution_count": 13,
   "metadata": {
    "collapsed": false
   },
   "outputs": [
    {
     "name": "stdout",
     "output_type": "stream",
     "text": [
      "b'{\\n  \"message\": \"success\", \\n  \"request\": {\\n    \"altitude\": 100, \\n    \"datetime\": 1494482211, \\n    \"latitude\": 37.78, \\n    \"longitude\": -122.41, \\n    \"passes\": 5\\n  }, \\n  \"response\": [\\n    {\\n      \"duration\": 602, \\n      \"risetime\": 1494494006\\n    }, \\n    {\\n      \"duration\": 623, \\n      \"risetime\": 1494499779\\n    }, \\n    {\\n      \"duration\": 509, \\n      \"risetime\": 1494505674\\n    }, \\n    {\\n      \"duration\": 482, \\n      \"risetime\": 1494511557\\n    }, \\n    {\\n      \"duration\": 593, \\n      \"risetime\": 1494517353\\n    }\\n  ]\\n}\\n'\n"
     ]
    }
   ],
   "source": [
    "# Use a dictionary and the parameters argument to get a response for the latitude 37.78 and \n",
    "# the longitude -122.41 (the coordinates of San Francisco).\n",
    "parameters = {\"lat\": 37.78, \"lon\": -122.41}\n",
    "response = requests.get(\"http://api.open-notify.org/iss-pass.json\", params=parameters)\n",
    "# version 2:\n",
    "# response = requests.get(\"http://api.open-notify.org/iss-pass.json?lat=40.71&lon=-74\")\n",
    "\n",
    "# Retrieve the content of the response with response.content. Assign the content to the variable content.\n",
    "content = response.content\n",
    "print(content)"
   ]
  },
  {
   "cell_type": "markdown",
   "metadata": {},
   "source": [
    "## 7: JSON Format\n",
    "You may have noticed that the content of the API response we received earlier was a `string`. Strings are the way we pass information back and forth through APIs, but it's hard to get the information we want out of them. How do we know how to decode the string we receive and work with it in Python?\n",
    "\n",
    "Luckily, there's a format we call JSON. We mentioned it earlier in the mission. This format encodes data structures like lists and dictionaries as strings to ensure that machines can read them easily. JSON is the primary format for sending and receiving data through APIs.\n",
    "\n",
    "Python offers great support for JSON through its `json` library. We can convert *lists* and *dictionaries* to JSON, and vice versa. Our ISS Pass data, for example, is a dictionary encoded as a string in JSON format.\n",
    "\n",
    "The JSON library has two main methods:\n",
    "\n",
    "- `dumps` -- Takes in a Python object, and converts it to a string\n",
    "- `loads` -- Takes a JSON string, and converts it to a Python object"
   ]
  },
  {
   "cell_type": "code",
   "execution_count": 48,
   "metadata": {
    "collapsed": false
   },
   "outputs": [
    {
     "name": "stdout",
     "output_type": "stream",
     "text": [
      "<class 'list'>\n",
      "<class 'str'>\n",
      "<class 'list'>\n",
      "<class 'str'>\n",
      "<class 'dict'>\n"
     ]
    }
   ],
   "source": [
    "# Make a list of fast food chains.\n",
    "best_food_chains = [\"Taco Bell\", \"Shake Shack\", \"Chipotle\"]\n",
    "print(type(best_food_chains))\n",
    "\n",
    "# Import the JSON library.\n",
    "import json\n",
    "\n",
    "# Use json.dumps to convert best_food_chains to a string.\n",
    "best_food_chains_string = json.dumps(best_food_chains)\n",
    "print(type(best_food_chains_string))\n",
    "\n",
    "# Convert best_food_chains_string back to a list.\n",
    "print(type(json.loads(best_food_chains_string)))\n",
    "\n",
    "# Make a dictionary\n",
    "fast_food_franchise = {\n",
    "    \"Subway\": 24722,\n",
    "    \"McDonalds\": 14098,\n",
    "    \"Starbucks\": 10821,\n",
    "    \"Pizza Hut\": 7600\n",
    "}\n",
    "\n",
    "# We can also dump a dictionary to a string and load it.\n",
    "fast_food_franchise_string = json.dumps(fast_food_franchise)\n",
    "print(type(fast_food_franchise_string))\n",
    "\n",
    "# Use the JSON function loads to convert fast_food_franchise_string to a Python object.\n",
    "# Assign the resulting Python object to fast_food_franchise_2.\n",
    "fast_food_franchise_2 = json.loads(fast_food_franchise_string)\n",
    "print(type(fast_food_franchise_2))"
   ]
  },
  {
   "cell_type": "markdown",
   "metadata": {},
   "source": [
    "## 8: Getting JSON From A Request\n",
    "\n",
    "We can get the content of a response as a Python object by using the `.json()` method on the response."
   ]
  },
  {
   "cell_type": "code",
   "execution_count": 23,
   "metadata": {
    "collapsed": false
   },
   "outputs": [
    {
     "name": "stdout",
     "output_type": "stream",
     "text": [
      "<class 'dict'>\n",
      "{'message': 'success', 'request': {'altitude': 100, 'datetime': 1494482211, 'latitude': 37.78, 'longitude': -122.41, 'passes': 5}, 'response': [{'duration': 602, 'risetime': 1494494006}, {'duration': 623, 'risetime': 1494499779}, {'duration': 509, 'risetime': 1494505674}, {'duration': 482, 'risetime': 1494511557}, {'duration': 593, 'risetime': 1494517353}]}\n",
      "3\n",
      "602\n"
     ]
    }
   ],
   "source": [
    "# Make the same request we did two screens ago.\n",
    "parameters = {\"lat\": 37.78, \"lon\": -122.41}\n",
    "response = requests.get(\"http://api.open-notify.org/iss-pass.json\", params=parameters)\n",
    "\n",
    "# Get the response data as a Python object.  Verify that it's a dictionary.\n",
    "json_data = response.json()\n",
    "print(type(json_data))\n",
    "print(json_data)\n",
    "print(len(json_data))\n",
    "\n",
    "# Get the duration value of the ISS' first pass over San Francisco \n",
    "# (this is the duration key of the first dictionary in the response list).\n",
    "# Assign the value to first_pass_duration.\n",
    "\n",
    "\n",
    "first_pass_duration = json_data['response'][0]['duration']\n",
    "print(first_pass_duration)"
   ]
  },
  {
   "cell_type": "markdown",
   "metadata": {},
   "source": [
    "## 9: Content Type\n",
    "The server sends more than a status code and the data when it generates a response. It also sends metadata containing information on how it generated the data and how to decode it. This information appears in the response headers. We can access it using the `.headers` property that responses have.\n",
    "\n",
    "The headers will appear as a dictionary. For now, the `content-type` within the headers is the most important key. It tells us the format of the response, and how to decode it. For the OpenNotify API, the format is JSON, which is why we could decode it with JSON earlier."
   ]
  },
  {
   "cell_type": "code",
   "execution_count": 26,
   "metadata": {
    "collapsed": false
   },
   "outputs": [
    {
     "name": "stdout",
     "output_type": "stream",
     "text": [
      "{'Server': 'nginx/1.6.2', 'Date': 'Thu, 11 May 2017 06:09:57 GMT', 'Content-Type': 'application/json', 'Content-Length': '521', 'Connection': 'keep-alive', 'Via': '1.1 vegur'}\n",
      "application/json\n"
     ]
    }
   ],
   "source": [
    "# Headers is a dictionary\n",
    "print(response.headers)\n",
    "\n",
    "# Get content-type from response.headers. Assign the content type to the content_type variable.\n",
    "content_type = response.headers['Content-Type']\n",
    "print(content_type)"
   ]
  },
  {
   "cell_type": "markdown",
   "metadata": {},
   "source": [
    "## 10: Finding The Number Of People In Space\n",
    "OpenNotify has one more API endpoint, `astros.json`. It tells us how many people are currently in space. You can find the format of the responses [here](http://open-notify.org/Open-Notify-API/People-In-Space/)."
   ]
  },
  {
   "cell_type": "code",
   "execution_count": 49,
   "metadata": {
    "collapsed": false
   },
   "outputs": [
    {
     "name": "stdout",
     "output_type": "stream",
     "text": [
      "dict_keys(['number', 'people', 'message'])\n",
      "5\n"
     ]
    }
   ],
   "source": [
    "# Find how many people are currently in space. Assign the result to in_space_count.\n",
    "\n",
    "response = requests.get(\"http://api.open-notify.org/astros.json\")\n",
    "\n",
    "data = response.json()\n",
    "print(data.keys())\n",
    "\n",
    "in_space_count = data['number']\n",
    "print(in_space_count)"
   ]
  }
 ],
 "metadata": {
  "kernelspec": {
   "display_name": "Python 3",
   "language": "python",
   "name": "python3"
  },
  "language_info": {
   "codemirror_mode": {
    "name": "ipython",
    "version": 3
   },
   "file_extension": ".py",
   "mimetype": "text/x-python",
   "name": "python",
   "nbconvert_exporter": "python",
   "pygments_lexer": "ipython3",
   "version": "3.6.0"
  }
 },
 "nbformat": 4,
 "nbformat_minor": 2
}
