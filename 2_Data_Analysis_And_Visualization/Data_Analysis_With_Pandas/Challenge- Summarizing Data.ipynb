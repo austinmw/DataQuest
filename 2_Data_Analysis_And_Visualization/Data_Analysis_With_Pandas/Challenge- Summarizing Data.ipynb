{
 "cells": [
  {
   "cell_type": "code",
   "execution_count": 52,
   "metadata": {
    "collapsed": false
   },
   "outputs": [
    {
     "name": "stdout",
     "output_type": "stream",
     "text": [
      "Index(['Major_code', 'Major', 'Major_category', 'Total', 'Employed',\n",
      "       'Employed_full_time_year_round', 'Unemployed', 'Unemployment_rate',\n",
      "       'Median', 'P25th', 'P75th'],\n",
      "      dtype='object') \n",
      "\n",
      "\n",
      "   Major_code                                  Major  \\\n",
      "0        1100                    GENERAL AGRICULTURE   \n",
      "1        1101  AGRICULTURE PRODUCTION AND MANAGEMENT   \n",
      "\n",
      "                    Major_category   Total  Employed  \\\n",
      "0  Agriculture & Natural Resources  128148     90245   \n",
      "1  Agriculture & Natural Resources   95326     76865   \n",
      "\n",
      "   Employed_full_time_year_round  Unemployed  Unemployment_rate  Median  \\\n",
      "0                          74078        2423           0.026147   50000   \n",
      "1                          64240        2266           0.028636   54000   \n",
      "\n",
      "   P25th    P75th  \n",
      "0  34000  80000.0  \n",
      "1  36000  80000.0   \n",
      "\n",
      "\n",
      "Index(['Rank', 'Major_code', 'Major', 'Major_category', 'Total', 'Sample_size',\n",
      "       'Men', 'Women', 'ShareWomen', 'Employed', 'Full_time', 'Part_time',\n",
      "       'Full_time_year_round', 'Unemployed', 'Unemployment_rate', 'Median',\n",
      "       'P25th', 'P75th', 'College_jobs', 'Non_college_jobs', 'Low_wage_jobs'],\n",
      "      dtype='object') \n",
      "\n",
      "\n",
      "   Rank  Major_code                           Major Major_category  Total  \\\n",
      "0     1        2419           PETROLEUM ENGINEERING    Engineering   2339   \n",
      "1     2        2416  MINING AND MINERAL ENGINEERING    Engineering    756   \n",
      "\n",
      "   Sample_size   Men  Women  ShareWomen  Employed      ...        Part_time  \\\n",
      "0           36  2057    282    0.120564      1976      ...              270   \n",
      "1            7   679     77    0.101852       640      ...              170   \n",
      "\n",
      "   Full_time_year_round  Unemployed  Unemployment_rate  Median  P25th   P75th  \\\n",
      "0                  1207          37           0.018381  110000  95000  125000   \n",
      "1                   388          85           0.117241   75000  55000   90000   \n",
      "\n",
      "   College_jobs  Non_college_jobs  Low_wage_jobs  \n",
      "0          1534               364            193  \n",
      "1           350               257             50  \n",
      "\n",
      "[2 rows x 21 columns] \n",
      "\n",
      "\n"
     ]
    }
   ],
   "source": [
    "import pandas as pd\n",
    "import numpy as np\n",
    "\n",
    "all_ages = pd.read_csv(\"data/all-ages.csv\")\n",
    "recent_grads = pd.read_csv(\"data/recent-grads.csv\")\n",
    "print(all_ages.columns,'\\n\\n')\n",
    "print(all_ages.head(2),'\\n\\n')\n",
    "print(recent_grads.columns,'\\n\\n')\n",
    "print(recent_grads.head(2),'\\n\\n')"
   ]
  },
  {
   "cell_type": "code",
   "execution_count": 21,
   "metadata": {
    "collapsed": false
   },
   "outputs": [
    {
     "name": "stdout",
     "output_type": "stream",
     "text": [
      "['Agriculture & Natural Resources' 'Biology & Life Science' 'Engineering'\n",
      " 'Humanities & Liberal Arts' 'Communications & Journalism'\n",
      " 'Computers & Mathematics' 'Industrial Arts & Consumer Services'\n",
      " 'Education' 'Law & Public Policy' 'Interdisciplinary' 'Health'\n",
      " 'Social Science' 'Physical Sciences' 'Psychology & Social Work' 'Arts'\n",
      " 'Business']\n"
     ]
    },
    {
     "data": {
      "text/plain": [
       "{'Agriculture & Natural Resources': 79981,\n",
       " 'Arts': 357130,\n",
       " 'Biology & Life Science': 453862,\n",
       " 'Business': 1302376,\n",
       " 'Communications & Journalism': 392601,\n",
       " 'Computers & Mathematics': 299008,\n",
       " 'Education': 559129,\n",
       " 'Engineering': 537583,\n",
       " 'Health': 463230,\n",
       " 'Humanities & Liberal Arts': 713468,\n",
       " 'Industrial Arts & Consumer Services': 229792,\n",
       " 'Interdisciplinary': 12296,\n",
       " 'Law & Public Policy': 179107,\n",
       " 'Physical Sciences': 185479,\n",
       " 'Psychology & Social Work': 481007,\n",
       " 'Social Science': 529966}"
      ]
     },
     "execution_count": 21,
     "metadata": {},
     "output_type": "execute_result"
    }
   ],
   "source": [
    "# Unique values in Major_category column.\n",
    "print(all_ages['Major_category'].unique())\n",
    "\n",
    "aa_cat_counts = dict(all_ages.pivot_table(index=\"Major_category\",values=\"Total\",aggfunc=np.sum))\n",
    "rg_cat_counts = dict(recent_grads.pivot_table(index=\"Major_category\",values=\"Total\",aggfunc=np.sum))\n",
    "rg_cat_counts"
   ]
  },
  {
   "cell_type": "code",
   "execution_count": 27,
   "metadata": {
    "collapsed": false
   },
   "outputs": [
    {
     "data": {
      "text/plain": [
       "0.09852546076122913"
      ]
     },
     "execution_count": 27,
     "metadata": {},
     "output_type": "execute_result"
    }
   ],
   "source": [
    "low_wage_percent = recent_grads[\"Low_wage_jobs\"].sum() / recent_grads[\"Total\"].sum()\n",
    "low_wage_percent"
   ]
  },
  {
   "cell_type": "code",
   "execution_count": 51,
   "metadata": {
    "collapsed": false
   },
   "outputs": [
    {
     "name": "stdout",
     "output_type": "stream",
     "text": [
      "43\n"
     ]
    }
   ],
   "source": [
    "# All majors, common to both DataFrames\n",
    "majors = recent_grads['Major'].unique()\n",
    "rg_lower_count = 0\n",
    "for m in majors:\n",
    "    recent_grads_row = recent_grads[recent_grads['Major'] == m]\n",
    "    all_ages_row = all_ages[all_ages['Major'] == m]\n",
    "    rg_unemp_rate = recent_grads_row.iloc[0]['Unemployment_rate']\n",
    "    aa_unemp_rate = all_ages_row.iloc[0]['Unemployment_rate']    \n",
    "   \n",
    "    if rg_unemp_rate < aa_unemp_rate:\n",
    "        rg_lower_count += 1\n",
    "\n",
    "print(rg_lower_count)"
   ]
  }
 ],
 "metadata": {
  "anaconda-cloud": {},
  "kernelspec": {
   "display_name": "Python [conda root]",
   "language": "python",
   "name": "conda-root-py"
  },
  "language_info": {
   "codemirror_mode": {
    "name": "ipython",
    "version": 3
   },
   "file_extension": ".py",
   "mimetype": "text/x-python",
   "name": "python",
   "nbconvert_exporter": "python",
   "pygments_lexer": "ipython3",
   "version": "3.5.2"
  }
 },
 "nbformat": 4,
 "nbformat_minor": 1
}
