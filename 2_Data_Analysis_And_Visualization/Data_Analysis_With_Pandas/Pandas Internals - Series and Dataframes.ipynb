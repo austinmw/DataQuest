{
 "cells": [
  {
   "cell_type": "markdown",
   "metadata": {},
   "source": [
    "## Series objects"
   ]
  },
  {
   "cell_type": "markdown",
   "metadata": {},
   "source": [
    "The three key data structures in pandas are:\n",
    "\n",
    "- **Series objects** (collections of values)  \n",
    "- DataFrames (collections of Series objects)  \n",
    "- Panels (collections of DataFrame objects)  "
   ]
  },
  {
   "cell_type": "markdown",
   "metadata": {},
   "source": [
    "Series objects use NumPy arrays for fast computation, but add valuable features to them for analyzing data. While NumPy arrays use an integer index, for example, Series objects can use other index types, such as a string index. Series objects also allow for mixed data types, and use the NaN Python value for handling missing values.  \n",
    "  \n",
    "A Series object can hold many data types, including:  \n",
    "  \n",
    "- float - For float values  \n",
    "- int - For integer values  \n",
    "- bool - For Boolean values  \n",
    "- datetime64[ns] - For date & time, without time zone  \n",
    "- datetime64[ns, tz] - For date & time, with time zone  \n",
    "- timedelta[ns] - For representing differences in dates & times (seconds, minutes, etc.)  \n",
    "- category - For categorical values  \n",
    "- object - For string values  "
   ]
  },
  {
   "cell_type": "code",
   "execution_count": 2,
   "metadata": {
    "collapsed": false
   },
   "outputs": [
    {
     "data": {
      "text/html": [
       "<div>\n",
       "<table border=\"1\" class=\"dataframe\">\n",
       "  <thead>\n",
       "    <tr style=\"text-align: right;\">\n",
       "      <th></th>\n",
       "      <th>FILM</th>\n",
       "      <th>RottenTomatoes</th>\n",
       "      <th>RottenTomatoes_User</th>\n",
       "      <th>Metacritic</th>\n",
       "      <th>Metacritic_User</th>\n",
       "      <th>IMDB</th>\n",
       "      <th>Fandango_Stars</th>\n",
       "      <th>Fandango_Ratingvalue</th>\n",
       "      <th>RT_norm</th>\n",
       "      <th>RT_user_norm</th>\n",
       "      <th>...</th>\n",
       "      <th>IMDB_norm</th>\n",
       "      <th>RT_norm_round</th>\n",
       "      <th>RT_user_norm_round</th>\n",
       "      <th>Metacritic_norm_round</th>\n",
       "      <th>Metacritic_user_norm_round</th>\n",
       "      <th>IMDB_norm_round</th>\n",
       "      <th>Metacritic_user_vote_count</th>\n",
       "      <th>IMDB_user_vote_count</th>\n",
       "      <th>Fandango_votes</th>\n",
       "      <th>Fandango_Difference</th>\n",
       "    </tr>\n",
       "  </thead>\n",
       "  <tbody>\n",
       "    <tr>\n",
       "      <th>0</th>\n",
       "      <td>Avengers: Age of Ultron (2015)</td>\n",
       "      <td>74</td>\n",
       "      <td>86</td>\n",
       "      <td>66</td>\n",
       "      <td>7.1</td>\n",
       "      <td>7.8</td>\n",
       "      <td>5.0</td>\n",
       "      <td>4.5</td>\n",
       "      <td>3.70</td>\n",
       "      <td>4.3</td>\n",
       "      <td>...</td>\n",
       "      <td>3.90</td>\n",
       "      <td>3.5</td>\n",
       "      <td>4.5</td>\n",
       "      <td>3.5</td>\n",
       "      <td>3.5</td>\n",
       "      <td>4.0</td>\n",
       "      <td>1330</td>\n",
       "      <td>271107</td>\n",
       "      <td>14846</td>\n",
       "      <td>0.5</td>\n",
       "    </tr>\n",
       "    <tr>\n",
       "      <th>1</th>\n",
       "      <td>Cinderella (2015)</td>\n",
       "      <td>85</td>\n",
       "      <td>80</td>\n",
       "      <td>67</td>\n",
       "      <td>7.5</td>\n",
       "      <td>7.1</td>\n",
       "      <td>5.0</td>\n",
       "      <td>4.5</td>\n",
       "      <td>4.25</td>\n",
       "      <td>4.0</td>\n",
       "      <td>...</td>\n",
       "      <td>3.55</td>\n",
       "      <td>4.5</td>\n",
       "      <td>4.0</td>\n",
       "      <td>3.5</td>\n",
       "      <td>4.0</td>\n",
       "      <td>3.5</td>\n",
       "      <td>249</td>\n",
       "      <td>65709</td>\n",
       "      <td>12640</td>\n",
       "      <td>0.5</td>\n",
       "    </tr>\n",
       "  </tbody>\n",
       "</table>\n",
       "<p>2 rows × 22 columns</p>\n",
       "</div>"
      ],
      "text/plain": [
       "                             FILM  RottenTomatoes  RottenTomatoes_User  \\\n",
       "0  Avengers: Age of Ultron (2015)              74                   86   \n",
       "1               Cinderella (2015)              85                   80   \n",
       "\n",
       "   Metacritic  Metacritic_User  IMDB  Fandango_Stars  Fandango_Ratingvalue  \\\n",
       "0          66              7.1   7.8             5.0                   4.5   \n",
       "1          67              7.5   7.1             5.0                   4.5   \n",
       "\n",
       "   RT_norm  RT_user_norm         ...           IMDB_norm  RT_norm_round  \\\n",
       "0     3.70           4.3         ...                3.90            3.5   \n",
       "1     4.25           4.0         ...                3.55            4.5   \n",
       "\n",
       "   RT_user_norm_round  Metacritic_norm_round  Metacritic_user_norm_round  \\\n",
       "0                 4.5                    3.5                         3.5   \n",
       "1                 4.0                    3.5                         4.0   \n",
       "\n",
       "   IMDB_norm_round  Metacritic_user_vote_count  IMDB_user_vote_count  \\\n",
       "0              4.0                        1330                271107   \n",
       "1              3.5                         249                 65709   \n",
       "\n",
       "   Fandango_votes  Fandango_Difference  \n",
       "0           14846                  0.5  \n",
       "1           12640                  0.5  \n",
       "\n",
       "[2 rows x 22 columns]"
      ]
     },
     "execution_count": 2,
     "metadata": {},
     "output_type": "execute_result"
    }
   ],
   "source": [
    "import pandas as pd\n",
    "import numpy as np\n",
    "fandango = pd.read_csv(\"data/fandango_score_comparison.csv\")\n",
    "fandango.head(2)"
   ]
  },
  {
   "cell_type": "code",
   "execution_count": 118,
   "metadata": {
    "collapsed": false
   },
   "outputs": [
    {
     "name": "stdout",
     "output_type": "stream",
     "text": [
      "0    Avengers: Age of Ultron (2015)\n",
      "1                 Cinderella (2015)\n",
      "2                    Ant-Man (2015)\n",
      "3            Do You Believe? (2015)\n",
      "4     Hot Tub Time Machine 2 (2015)\n",
      "Name: FILM, dtype: object\n",
      "0    74\n",
      "1    85\n",
      "2    80\n",
      "3    18\n",
      "4    14\n",
      "Name: RottenTomatoes, dtype: int64\n"
     ]
    }
   ],
   "source": [
    "# 2: Integer Indexes\n",
    "series_film = fandango[\"FILM\"]\n",
    "print(series_film.head())\n",
    "series_rt = fandango[\"RottenTomatoes\"]\n",
    "print(series_rt.head())"
   ]
  },
  {
   "cell_type": "code",
   "execution_count": 58,
   "metadata": {
    "collapsed": false
   },
   "outputs": [
    {
     "data": {
      "text/plain": [
       "Minions (2015)      54\n",
       "Leviathan (2014)    99\n",
       "dtype: int64"
      ]
     },
     "execution_count": 58,
     "metadata": {},
     "output_type": "execute_result"
    }
   ],
   "source": [
    "# 3: Custom Indexes\n",
    "# Import the Series object from pandas\n",
    "from pandas import Series\n",
    "# When it comes to indexes, Series objects act like both dictionaries and lists. \n",
    "film_names = series_film.values\n",
    "rt_scores = series_rt.values\n",
    "series_custom = Series(rt_scores , index=film_names)\n",
    "series_custom[['Minions (2015)', 'Leviathan (2014)']]"
   ]
  },
  {
   "cell_type": "code",
   "execution_count": 15,
   "metadata": {
    "collapsed": false
   },
   "outputs": [
    {
     "data": {
      "text/plain": [
       "The Water Diviner (2015)        63\n",
       "Irrational Man (2015)           42\n",
       "Top Five (2014)                 86\n",
       "Shaun the Sheep Movie (2015)    99\n",
       "Love & Mercy (2015)             89\n",
       "dtype: int64"
      ]
     },
     "execution_count": 15,
     "metadata": {},
     "output_type": "execute_result"
    }
   ],
   "source": [
    "# 4: Integer Index Preservation\n",
    "fiveten = series_custom[5:10]\n",
    "fiveten"
   ]
  },
  {
   "cell_type": "code",
   "execution_count": 60,
   "metadata": {
    "collapsed": false,
    "scrolled": true
   },
   "outputs": [
    {
     "name": "stdout",
     "output_type": "stream",
     "text": [
      "Avengers: Age of Ultron (2015)    74\n",
      "Cinderella (2015)                 85\n",
      "dtype: int64 \n",
      "\n",
      "Index(['Avengers: Age of Ultron (2015)', 'Cinderella (2015)'], dtype='object') \n",
      "\n",
      "['Avengers: Age of Ultron (2015)', 'Cinderella (2015)'] \n",
      "\n",
      "[\"'71 (2015)\", '5 Flights Up (2015)'] \n",
      "\n",
      "'71 (2015)             97\n",
      "5 Flights Up (2015)    52\n",
      "dtype: int64\n"
     ]
    }
   ],
   "source": [
    "# 5: Reindexing\n",
    "original_index = series_custom.index.tolist()\n",
    "sorted_index = sorted(original_index)\n",
    "sorted_by_index = series_custom.reindex(sorted_index)\n",
    "\n",
    "print(series_custom[:2],'\\n')\n",
    "print(series_custom.index[:2],'\\n')\n",
    "print(series_custom.index.tolist()[:2],'\\n')\n",
    "print(sorted_index[:2],'\\n')\n",
    "print(sorted_by_index[:2])"
   ]
  },
  {
   "cell_type": "code",
   "execution_count": 66,
   "metadata": {
    "collapsed": false
   },
   "outputs": [
    {
     "data": {
      "text/plain": [
       "Paul Blart: Mall Cop 2 (2015)    5\n",
       "Hitman: Agent 47 (2015)          7\n",
       "dtype: int64"
      ]
     },
     "execution_count": 66,
     "metadata": {},
     "output_type": "execute_result"
    }
   ],
   "source": [
    "# 6: Sorting (data alignment)\n",
    "sc2 = series_custom.sort_index()\n",
    "sc2.head(2)\n",
    "sc3 = series_custom.sort_values()\n",
    "sc3.head(2)"
   ]
  },
  {
   "cell_type": "code",
   "execution_count": 68,
   "metadata": {
    "collapsed": false
   },
   "outputs": [
    {
     "data": {
      "text/plain": [
       "Avengers: Age of Ultron (2015)    3.70\n",
       "Cinderella (2015)                 4.25\n",
       "dtype: float64"
      ]
     },
     "execution_count": 68,
     "metadata": {},
     "output_type": "execute_result"
    }
   ],
   "source": [
    "# 7: Transforming Columns with Vectorized Operations\n",
    "series_normalized = series_custom / 20 # normalize to 0-5\n",
    "series_normalized.head(2)"
   ]
  },
  {
   "cell_type": "code",
   "execution_count": 77,
   "metadata": {
    "collapsed": false
   },
   "outputs": [
    {
     "data": {
      "text/plain": [
       "Shaun the Sheep Movie (2015)    99\n",
       "Leviathan (2014)                99\n",
       "Selma (2014)                    99\n",
       "dtype: int64"
      ]
     },
     "execution_count": 77,
     "metadata": {},
     "output_type": "execute_result"
    }
   ],
   "source": [
    "# 8: Comparing and Filtering\n",
    "criteria_one = series_custom > 97\n",
    "criteria_two = series_custom <= 100\n",
    "both_criteria = series_custom[criteria_one & criteria_two]\n",
    "both_criteria.head(3)"
   ]
  },
  {
   "cell_type": "code",
   "execution_count": 81,
   "metadata": {
    "collapsed": false
   },
   "outputs": [
    {
     "data": {
      "text/plain": [
       "FILM\n",
       "Avengers: Age of Ultron (2015)    80.0\n",
       "Cinderella (2015)                 82.5\n",
       "dtype: float64"
      ]
     },
     "execution_count": 81,
     "metadata": {},
     "output_type": "execute_result"
    }
   ],
   "source": [
    "# 9: Alignment\n",
    "rt_critics = Series(fandango['RottenTomatoes'].values, index=fandango['FILM'])\n",
    "rt_users = Series(fandango['RottenTomatoes_User'].values, index=fandango['FILM'])\n",
    "rt_mean = (rt_critics + rt_users) / 2\n",
    "rt_mean.head(2)"
   ]
  },
  {
   "cell_type": "markdown",
   "metadata": {},
   "source": [
    "## Dataframes\n",
    "\n",
    "The three key data structures in pandas are:\n",
    "\n",
    "- Series objects (collections of values)  \n",
    "- **DataFrames** (collections of Series objects)  \n",
    "- Panels (collections of DataFrame objects)  "
   ]
  },
  {
   "cell_type": "code",
   "execution_count": 86,
   "metadata": {
    "collapsed": false
   },
   "outputs": [
    {
     "name": "stdout",
     "output_type": "stream",
     "text": [
      "                             FILM  RottenTomatoes  RottenTomatoes_User  \\\n",
      "0  Avengers: Age of Ultron (2015)              74                   86   \n",
      "1               Cinderella (2015)              85                   80   \n",
      "\n",
      "   Metacritic  Metacritic_User  IMDB  Fandango_Stars  Fandango_Ratingvalue  \\\n",
      "0          66              7.1   7.8             5.0                   4.5   \n",
      "1          67              7.5   7.1             5.0                   4.5   \n",
      "\n",
      "   RT_norm  RT_user_norm         ...           IMDB_norm  RT_norm_round  \\\n",
      "0     3.70           4.3         ...                3.90            3.5   \n",
      "1     4.25           4.0         ...                3.55            4.5   \n",
      "\n",
      "   RT_user_norm_round  Metacritic_norm_round  Metacritic_user_norm_round  \\\n",
      "0                 4.5                    3.5                         3.5   \n",
      "1                 4.0                    3.5                         4.0   \n",
      "\n",
      "   IMDB_norm_round  Metacritic_user_vote_count  IMDB_user_vote_count  \\\n",
      "0              4.0                        1330                271107   \n",
      "1              3.5                         249                 65709   \n",
      "\n",
      "   Fandango_votes  Fandango_Difference  \n",
      "0           14846                  0.5  \n",
      "1           12640                  0.5  \n",
      "\n",
      "[2 rows x 22 columns]\n",
      "RangeIndex(start=0, stop=146, step=1)\n"
     ]
    }
   ],
   "source": [
    "# 1: Shared Indexes\n",
    "fandango = pd.read_csv(\"data/fandango_score_comparison.csv\")\n",
    "print(fandango.head(2))\n",
    "print(fandango.index)"
   ]
  },
  {
   "cell_type": "code",
   "execution_count": 116,
   "metadata": {
    "collapsed": false
   },
   "outputs": [
    {
     "data": {
      "text/html": [
       "<div>\n",
       "<table border=\"1\" class=\"dataframe\">\n",
       "  <thead>\n",
       "    <tr style=\"text-align: right;\">\n",
       "      <th></th>\n",
       "      <th>FILM</th>\n",
       "      <th>RottenTomatoes</th>\n",
       "      <th>RottenTomatoes_User</th>\n",
       "      <th>Metacritic</th>\n",
       "      <th>Metacritic_User</th>\n",
       "      <th>IMDB</th>\n",
       "      <th>Fandango_Stars</th>\n",
       "      <th>Fandango_Ratingvalue</th>\n",
       "      <th>RT_norm</th>\n",
       "      <th>RT_user_norm</th>\n",
       "      <th>...</th>\n",
       "      <th>IMDB_norm</th>\n",
       "      <th>RT_norm_round</th>\n",
       "      <th>RT_user_norm_round</th>\n",
       "      <th>Metacritic_norm_round</th>\n",
       "      <th>Metacritic_user_norm_round</th>\n",
       "      <th>IMDB_norm_round</th>\n",
       "      <th>Metacritic_user_vote_count</th>\n",
       "      <th>IMDB_user_vote_count</th>\n",
       "      <th>Fandango_votes</th>\n",
       "      <th>Fandango_Difference</th>\n",
       "    </tr>\n",
       "  </thead>\n",
       "  <tbody>\n",
       "    <tr>\n",
       "      <th>0</th>\n",
       "      <td>Avengers: Age of Ultron (2015)</td>\n",
       "      <td>74</td>\n",
       "      <td>86</td>\n",
       "      <td>66</td>\n",
       "      <td>7.1</td>\n",
       "      <td>7.8</td>\n",
       "      <td>5.0</td>\n",
       "      <td>4.5</td>\n",
       "      <td>3.70</td>\n",
       "      <td>4.30</td>\n",
       "      <td>...</td>\n",
       "      <td>3.90</td>\n",
       "      <td>3.5</td>\n",
       "      <td>4.5</td>\n",
       "      <td>3.5</td>\n",
       "      <td>3.5</td>\n",
       "      <td>4.0</td>\n",
       "      <td>1330</td>\n",
       "      <td>271107</td>\n",
       "      <td>14846</td>\n",
       "      <td>0.5</td>\n",
       "    </tr>\n",
       "    <tr>\n",
       "      <th>145</th>\n",
       "      <td>Kumiko, The Treasure Hunter (2015)</td>\n",
       "      <td>87</td>\n",
       "      <td>63</td>\n",
       "      <td>68</td>\n",
       "      <td>6.4</td>\n",
       "      <td>6.7</td>\n",
       "      <td>3.5</td>\n",
       "      <td>3.5</td>\n",
       "      <td>4.35</td>\n",
       "      <td>3.15</td>\n",
       "      <td>...</td>\n",
       "      <td>3.35</td>\n",
       "      <td>4.5</td>\n",
       "      <td>3.0</td>\n",
       "      <td>3.5</td>\n",
       "      <td>3.0</td>\n",
       "      <td>3.5</td>\n",
       "      <td>19</td>\n",
       "      <td>5289</td>\n",
       "      <td>41</td>\n",
       "      <td>0.0</td>\n",
       "    </tr>\n",
       "  </tbody>\n",
       "</table>\n",
       "<p>2 rows × 22 columns</p>\n",
       "</div>"
      ],
      "text/plain": [
       "                                   FILM  RottenTomatoes  RottenTomatoes_User  \\\n",
       "0        Avengers: Age of Ultron (2015)              74                   86   \n",
       "145  Kumiko, The Treasure Hunter (2015)              87                   63   \n",
       "\n",
       "     Metacritic  Metacritic_User  IMDB  Fandango_Stars  Fandango_Ratingvalue  \\\n",
       "0            66              7.1   7.8             5.0                   4.5   \n",
       "145          68              6.4   6.7             3.5                   3.5   \n",
       "\n",
       "     RT_norm  RT_user_norm         ...           IMDB_norm  RT_norm_round  \\\n",
       "0       3.70          4.30         ...                3.90            3.5   \n",
       "145     4.35          3.15         ...                3.35            4.5   \n",
       "\n",
       "     RT_user_norm_round  Metacritic_norm_round  Metacritic_user_norm_round  \\\n",
       "0                   4.5                    3.5                         3.5   \n",
       "145                 3.0                    3.5                         3.0   \n",
       "\n",
       "     IMDB_norm_round  Metacritic_user_vote_count  IMDB_user_vote_count  \\\n",
       "0                4.0                        1330                271107   \n",
       "145              3.5                          19                  5289   \n",
       "\n",
       "     Fandango_votes  Fandango_Difference  \n",
       "0             14846                  0.5  \n",
       "145              41                  0.0  \n",
       "\n",
       "[2 rows x 22 columns]"
      ]
     },
     "execution_count": 116,
     "metadata": {},
     "output_type": "execute_result"
    }
   ],
   "source": [
    "# 2: Using Integer Indexes to Select Rows\n",
    "last_row = fandango.shape[0] - 1 # shape 0 is row number\n",
    "first_last = fandango.iloc[[0, last_row]]\n",
    "first_last"
   ]
  },
  {
   "cell_type": "code",
   "execution_count": 127,
   "metadata": {
    "collapsed": false
   },
   "outputs": [
    {
     "data": {
      "text/plain": [
       "Index(['Avengers: Age of Ultron (2015)', 'Cinderella (2015)', 'Ant-Man (2015)',\n",
       "       'Do You Believe? (2015)', 'Hot Tub Time Machine 2 (2015)',\n",
       "       'The Water Diviner (2015)', 'Irrational Man (2015)', 'Top Five (2014)',\n",
       "       'Shaun the Sheep Movie (2015)', 'Love & Mercy (2015)',\n",
       "       ...\n",
       "       'The Woman In Black 2 Angel of Death (2015)', 'Danny Collins (2015)',\n",
       "       'Spare Parts (2015)', 'Serena (2015)', 'Inside Out (2015)',\n",
       "       'Mr. Holmes (2015)', ''71 (2015)', 'Two Days, One Night (2014)',\n",
       "       'Gett: The Trial of Viviane Amsalem (2015)',\n",
       "       'Kumiko, The Treasure Hunter (2015)'],\n",
       "      dtype='object', name='FILM', length=146)"
      ]
     },
     "execution_count": 127,
     "metadata": {},
     "output_type": "execute_result"
    }
   ],
   "source": [
    "# 3: Using Custom Indexes\n",
    "fandango_films = fandango.set_index(fandango['FILM'],drop=False)\n",
    "fandango_films.index"
   ]
  },
  {
   "cell_type": "code",
   "execution_count": 137,
   "metadata": {
    "collapsed": false
   },
   "outputs": [
    {
     "data": {
      "text/html": [
       "<div>\n",
       "<table border=\"1\" class=\"dataframe\">\n",
       "  <thead>\n",
       "    <tr style=\"text-align: right;\">\n",
       "      <th></th>\n",
       "      <th>FILM</th>\n",
       "      <th>RottenTomatoes</th>\n",
       "      <th>RottenTomatoes_User</th>\n",
       "      <th>Metacritic</th>\n",
       "      <th>Metacritic_User</th>\n",
       "      <th>IMDB</th>\n",
       "      <th>Fandango_Stars</th>\n",
       "      <th>Fandango_Ratingvalue</th>\n",
       "      <th>RT_norm</th>\n",
       "      <th>RT_user_norm</th>\n",
       "      <th>...</th>\n",
       "      <th>IMDB_norm</th>\n",
       "      <th>RT_norm_round</th>\n",
       "      <th>RT_user_norm_round</th>\n",
       "      <th>Metacritic_norm_round</th>\n",
       "      <th>Metacritic_user_norm_round</th>\n",
       "      <th>IMDB_norm_round</th>\n",
       "      <th>Metacritic_user_vote_count</th>\n",
       "      <th>IMDB_user_vote_count</th>\n",
       "      <th>Fandango_votes</th>\n",
       "      <th>Fandango_Difference</th>\n",
       "    </tr>\n",
       "    <tr>\n",
       "      <th>FILM</th>\n",
       "      <th></th>\n",
       "      <th></th>\n",
       "      <th></th>\n",
       "      <th></th>\n",
       "      <th></th>\n",
       "      <th></th>\n",
       "      <th></th>\n",
       "      <th></th>\n",
       "      <th></th>\n",
       "      <th></th>\n",
       "      <th></th>\n",
       "      <th></th>\n",
       "      <th></th>\n",
       "      <th></th>\n",
       "      <th></th>\n",
       "      <th></th>\n",
       "      <th></th>\n",
       "      <th></th>\n",
       "      <th></th>\n",
       "      <th></th>\n",
       "      <th></th>\n",
       "    </tr>\n",
       "  </thead>\n",
       "  <tbody>\n",
       "    <tr>\n",
       "      <th>The Lazarus Effect (2015)</th>\n",
       "      <td>The Lazarus Effect (2015)</td>\n",
       "      <td>14</td>\n",
       "      <td>23</td>\n",
       "      <td>31</td>\n",
       "      <td>4.9</td>\n",
       "      <td>5.2</td>\n",
       "      <td>3.0</td>\n",
       "      <td>3.0</td>\n",
       "      <td>0.70</td>\n",
       "      <td>1.15</td>\n",
       "      <td>...</td>\n",
       "      <td>2.6</td>\n",
       "      <td>0.5</td>\n",
       "      <td>1.0</td>\n",
       "      <td>1.5</td>\n",
       "      <td>2.5</td>\n",
       "      <td>2.5</td>\n",
       "      <td>62</td>\n",
       "      <td>17691</td>\n",
       "      <td>1651</td>\n",
       "      <td>0.0</td>\n",
       "    </tr>\n",
       "    <tr>\n",
       "      <th>Gett: The Trial of Viviane Amsalem (2015)</th>\n",
       "      <td>Gett: The Trial of Viviane Amsalem (2015)</td>\n",
       "      <td>100</td>\n",
       "      <td>81</td>\n",
       "      <td>90</td>\n",
       "      <td>7.3</td>\n",
       "      <td>7.8</td>\n",
       "      <td>3.5</td>\n",
       "      <td>3.5</td>\n",
       "      <td>5.00</td>\n",
       "      <td>4.05</td>\n",
       "      <td>...</td>\n",
       "      <td>3.9</td>\n",
       "      <td>5.0</td>\n",
       "      <td>4.0</td>\n",
       "      <td>4.5</td>\n",
       "      <td>3.5</td>\n",
       "      <td>4.0</td>\n",
       "      <td>19</td>\n",
       "      <td>1955</td>\n",
       "      <td>59</td>\n",
       "      <td>0.0</td>\n",
       "    </tr>\n",
       "    <tr>\n",
       "      <th>Mr. Holmes (2015)</th>\n",
       "      <td>Mr. Holmes (2015)</td>\n",
       "      <td>87</td>\n",
       "      <td>78</td>\n",
       "      <td>67</td>\n",
       "      <td>7.9</td>\n",
       "      <td>7.4</td>\n",
       "      <td>4.0</td>\n",
       "      <td>4.0</td>\n",
       "      <td>4.35</td>\n",
       "      <td>3.90</td>\n",
       "      <td>...</td>\n",
       "      <td>3.7</td>\n",
       "      <td>4.5</td>\n",
       "      <td>4.0</td>\n",
       "      <td>3.5</td>\n",
       "      <td>4.0</td>\n",
       "      <td>3.5</td>\n",
       "      <td>33</td>\n",
       "      <td>7367</td>\n",
       "      <td>1348</td>\n",
       "      <td>0.0</td>\n",
       "    </tr>\n",
       "  </tbody>\n",
       "</table>\n",
       "<p>3 rows × 22 columns</p>\n",
       "</div>"
      ],
      "text/plain": [
       "                                                                                FILM  \\\n",
       "FILM                                                                                   \n",
       "The Lazarus Effect (2015)                                  The Lazarus Effect (2015)   \n",
       "Gett: The Trial of Viviane Amsalem (2015)  Gett: The Trial of Viviane Amsalem (2015)   \n",
       "Mr. Holmes (2015)                                                  Mr. Holmes (2015)   \n",
       "\n",
       "                                           RottenTomatoes  \\\n",
       "FILM                                                        \n",
       "The Lazarus Effect (2015)                              14   \n",
       "Gett: The Trial of Viviane Amsalem (2015)             100   \n",
       "Mr. Holmes (2015)                                      87   \n",
       "\n",
       "                                           RottenTomatoes_User  Metacritic  \\\n",
       "FILM                                                                         \n",
       "The Lazarus Effect (2015)                                   23          31   \n",
       "Gett: The Trial of Viviane Amsalem (2015)                   81          90   \n",
       "Mr. Holmes (2015)                                           78          67   \n",
       "\n",
       "                                           Metacritic_User  IMDB  \\\n",
       "FILM                                                               \n",
       "The Lazarus Effect (2015)                              4.9   5.2   \n",
       "Gett: The Trial of Viviane Amsalem (2015)              7.3   7.8   \n",
       "Mr. Holmes (2015)                                      7.9   7.4   \n",
       "\n",
       "                                           Fandango_Stars  \\\n",
       "FILM                                                        \n",
       "The Lazarus Effect (2015)                             3.0   \n",
       "Gett: The Trial of Viviane Amsalem (2015)             3.5   \n",
       "Mr. Holmes (2015)                                     4.0   \n",
       "\n",
       "                                           Fandango_Ratingvalue  RT_norm  \\\n",
       "FILM                                                                       \n",
       "The Lazarus Effect (2015)                                   3.0     0.70   \n",
       "Gett: The Trial of Viviane Amsalem (2015)                   3.5     5.00   \n",
       "Mr. Holmes (2015)                                           4.0     4.35   \n",
       "\n",
       "                                           RT_user_norm         ...           \\\n",
       "FILM                                                            ...            \n",
       "The Lazarus Effect (2015)                          1.15         ...            \n",
       "Gett: The Trial of Viviane Amsalem (2015)          4.05         ...            \n",
       "Mr. Holmes (2015)                                  3.90         ...            \n",
       "\n",
       "                                           IMDB_norm  RT_norm_round  \\\n",
       "FILM                                                                  \n",
       "The Lazarus Effect (2015)                        2.6            0.5   \n",
       "Gett: The Trial of Viviane Amsalem (2015)        3.9            5.0   \n",
       "Mr. Holmes (2015)                                3.7            4.5   \n",
       "\n",
       "                                           RT_user_norm_round  \\\n",
       "FILM                                                            \n",
       "The Lazarus Effect (2015)                                 1.0   \n",
       "Gett: The Trial of Viviane Amsalem (2015)                 4.0   \n",
       "Mr. Holmes (2015)                                         4.0   \n",
       "\n",
       "                                           Metacritic_norm_round  \\\n",
       "FILM                                                               \n",
       "The Lazarus Effect (2015)                                    1.5   \n",
       "Gett: The Trial of Viviane Amsalem (2015)                    4.5   \n",
       "Mr. Holmes (2015)                                            3.5   \n",
       "\n",
       "                                           Metacritic_user_norm_round  \\\n",
       "FILM                                                                    \n",
       "The Lazarus Effect (2015)                                         2.5   \n",
       "Gett: The Trial of Viviane Amsalem (2015)                         3.5   \n",
       "Mr. Holmes (2015)                                                 4.0   \n",
       "\n",
       "                                           IMDB_norm_round  \\\n",
       "FILM                                                         \n",
       "The Lazarus Effect (2015)                              2.5   \n",
       "Gett: The Trial of Viviane Amsalem (2015)              4.0   \n",
       "Mr. Holmes (2015)                                      3.5   \n",
       "\n",
       "                                           Metacritic_user_vote_count  \\\n",
       "FILM                                                                    \n",
       "The Lazarus Effect (2015)                                          62   \n",
       "Gett: The Trial of Viviane Amsalem (2015)                          19   \n",
       "Mr. Holmes (2015)                                                  33   \n",
       "\n",
       "                                           IMDB_user_vote_count  \\\n",
       "FILM                                                              \n",
       "The Lazarus Effect (2015)                                 17691   \n",
       "Gett: The Trial of Viviane Amsalem (2015)                  1955   \n",
       "Mr. Holmes (2015)                                          7367   \n",
       "\n",
       "                                           Fandango_votes  Fandango_Difference  \n",
       "FILM                                                                            \n",
       "The Lazarus Effect (2015)                            1651                  0.0  \n",
       "Gett: The Trial of Viviane Amsalem (2015)              59                  0.0  \n",
       "Mr. Holmes (2015)                                    1348                  0.0  \n",
       "\n",
       "[3 rows x 22 columns]"
      ]
     },
     "execution_count": 137,
     "metadata": {},
     "output_type": "execute_result"
    }
   ],
   "source": [
    "# 4: Using a Custom Index for Selection\n",
    "movies = [\"The Lazarus Effect (2015)\", \"Gett: The Trial of Viviane Amsalem (2015)\", \"Mr. Holmes (2015)\"]\n",
    "best_movies_ever = fandango_films.loc[movies]\n",
    "best_movies_ever"
   ]
  },
  {
   "cell_type": "code",
   "execution_count": 145,
   "metadata": {
    "collapsed": false
   },
   "outputs": [
    {
     "name": "stdout",
     "output_type": "stream",
     "text": [
      "Metacritic_User               1.505529\n",
      "IMDB                          0.955447\n",
      "Fandango_Stars                0.538532\n",
      "Fandango_Ratingvalue          0.501106\n",
      "RT_norm                       1.503265\n",
      "RT_user_norm                  0.997787\n",
      "Metacritic_norm               0.972522\n",
      "Metacritic_user_nom           0.752765\n",
      "IMDB_norm                     0.477723\n",
      "RT_norm_round                 1.509404\n",
      "RT_user_norm_round            1.003559\n",
      "Metacritic_norm_round         0.987561\n",
      "Metacritic_user_norm_round    0.785412\n",
      "IMDB_norm_round               0.501043\n",
      "Fandango_Difference           0.152141\n",
      "dtype: float64\n"
     ]
    }
   ],
   "source": [
    "# 5: Apply() Logic Over the Columns in a Dataframe\n",
    "\n",
    "# returns the data types as a Series\n",
    "types = fandango_films.dtypes\n",
    "# filter data types to just floats, index attributes returns just column names\n",
    "float_columns = types[types.values == 'float64'].index\n",
    "# use bracket notation to filter columns to just float columns\n",
    "float_df = fandango_films[float_columns]\n",
    "\n",
    "# `x` is a Series object representing a column\n",
    "deviations = float_df.apply(lambda x: np.std(x))\n",
    "print(deviations)"
   ]
  },
  {
   "cell_type": "code",
   "execution_count": 149,
   "metadata": {
    "collapsed": false
   },
   "outputs": [
    {
     "name": "stdout",
     "output_type": "stream",
     "text": [
      "                                Metacritic_User  IMDB  Fandango_Stars  \\\n",
      "FILM                                                                    \n",
      "Avengers: Age of Ultron (2015)             14.2  15.6            10.0   \n",
      "\n",
      "                                Fandango_Ratingvalue  RT_norm  RT_user_norm  \\\n",
      "FILM                                                                          \n",
      "Avengers: Age of Ultron (2015)                   9.0      7.4           8.6   \n",
      "\n",
      "                                Metacritic_norm  Metacritic_user_nom  \\\n",
      "FILM                                                                   \n",
      "Avengers: Age of Ultron (2015)              6.6                  7.1   \n",
      "\n",
      "                                IMDB_norm  RT_norm_round  RT_user_norm_round  \\\n",
      "FILM                                                                           \n",
      "Avengers: Age of Ultron (2015)        7.8            7.0                 9.0   \n",
      "\n",
      "                                Metacritic_norm_round  \\\n",
      "FILM                                                    \n",
      "Avengers: Age of Ultron (2015)                    7.0   \n",
      "\n",
      "                                Metacritic_user_norm_round  IMDB_norm_round  \\\n",
      "FILM                                                                          \n",
      "Avengers: Age of Ultron (2015)                         7.0              8.0   \n",
      "\n",
      "                                Fandango_Difference  \n",
      "FILM                                                 \n",
      "Avengers: Age of Ultron (2015)                  1.0  \n",
      "                                Metacritic_User  IMDB  Fandango_Stars  \\\n",
      "FILM                                                                    \n",
      "Avengers: Age of Ultron (2015)             3.55   3.9             2.5   \n",
      "\n",
      "                                Fandango_Ratingvalue  RT_norm  RT_user_norm  \\\n",
      "FILM                                                                          \n",
      "Avengers: Age of Ultron (2015)                  2.25     1.85          2.15   \n",
      "\n",
      "                                Metacritic_norm  Metacritic_user_nom  \\\n",
      "FILM                                                                   \n",
      "Avengers: Age of Ultron (2015)             1.65                1.775   \n",
      "\n",
      "                                IMDB_norm  RT_norm_round  RT_user_norm_round  \\\n",
      "FILM                                                                           \n",
      "Avengers: Age of Ultron (2015)       1.95           1.75                2.25   \n",
      "\n",
      "                                Metacritic_norm_round  \\\n",
      "FILM                                                    \n",
      "Avengers: Age of Ultron (2015)                   1.75   \n",
      "\n",
      "                                Metacritic_user_norm_round  IMDB_norm_round  \\\n",
      "FILM                                                                          \n",
      "Avengers: Age of Ultron (2015)                        1.75              2.0   \n",
      "\n",
      "                                Fandango_Difference  \n",
      "FILM                                                 \n",
      "Avengers: Age of Ultron (2015)                 0.25  \n"
     ]
    }
   ],
   "source": [
    "# 6: Apply Logic Over Columns: Practice\n",
    "double_df = float_df.apply(lambda x: x*2)\n",
    "print(double_df.head(1))\n",
    "halved_df = float_df.apply(lambda x: x/2)\n",
    "print(halved_df.head(1))"
   ]
  },
  {
   "cell_type": "code",
   "execution_count": 156,
   "metadata": {
    "collapsed": false
   },
   "outputs": [
    {
     "name": "stdout",
     "output_type": "stream",
     "text": [
      "FILM\n",
      "Avengers: Age of Ultron (2015)    0.375\n",
      "Cinderella (2015)                 0.125\n",
      "Ant-Man (2015)                    0.225\n",
      "Do You Believe? (2015)            0.925\n",
      "Hot Tub Time Machine 2 (2015)     0.150\n",
      "dtype: float64\n"
     ]
    },
    {
     "data": {
      "text/plain": [
       "FILM\n",
       "Avengers: Age of Ultron (2015)                    3.925\n",
       "Cinderella (2015)                                 3.875\n",
       "Ant-Man (2015)                                    4.275\n",
       "Do You Believe? (2015)                            3.275\n",
       "Hot Tub Time Machine 2 (2015)                     1.550\n",
       "The Water Diviner (2015)                          3.250\n",
       "Irrational Man (2015)                             3.225\n",
       "Top Five (2014)                                   3.300\n",
       "Shaun the Sheep Movie (2015)                      4.250\n",
       "Love & Mercy (2015)                               4.300\n",
       "Far From The Madding Crowd (2015)                 3.800\n",
       "Black Sea (2015)                                  3.150\n",
       "Leviathan (2014)                                  3.775\n",
       "Unbroken (2014)                                   3.375\n",
       "The Imitation Game (2014)                         4.350\n",
       "Taken 3 (2015)                                    2.300\n",
       "Ted 2 (2015)                                      3.075\n",
       "Southpaw (2015)                                   4.050\n",
       "Night at the Museum: Secret of the Tomb (2014)    2.900\n",
       "Pixels (2015)                                     2.675\n",
       "McFarland, USA (2015)                             4.025\n",
       "Insidious: Chapter 3 (2015)                       3.125\n",
       "The Man From U.N.C.L.E. (2015)                    3.975\n",
       "Run All Night (2015)                              3.300\n",
       "Trainwreck (2015)                                 3.350\n",
       "Selma (2014)                                      3.925\n",
       "Ex Machina (2015)                                 4.125\n",
       "Still Alice (2015)                                4.075\n",
       "Wild Tales (2014)                                 4.500\n",
       "The End of the Tour (2015)                        4.100\n",
       "                                                  ...  \n",
       "Clouds of Sils Maria (2015)                       3.450\n",
       "Testament of Youth (2015)                         3.950\n",
       "Infinitely Polar Bear (2015)                      3.875\n",
       "Phoenix (2015)                                    4.025\n",
       "The Wolfpack (2015)                               3.575\n",
       "The Stanford Prison Experiment (2015)             4.300\n",
       "Tangerine (2015)                                  3.975\n",
       "Magic Mike XXL (2015)                             2.950\n",
       "Home (2015)                                       3.450\n",
       "The Wedding Ringer (2015)                         2.475\n",
       "Woman in Gold (2015)                              3.825\n",
       "The Last Five Years (2015)                        3.225\n",
       "Mission: Impossible â€“ Rogue Nation (2015)       4.250\n",
       "Amy (2015)                                        4.475\n",
       "Jurassic World (2015)                             3.775\n",
       "Minions (2015)                                    2.725\n",
       "Max (2015)                                        3.300\n",
       "Paul Blart: Mall Cop 2 (2015)                     1.500\n",
       "The Longest Ride (2015)                           3.025\n",
       "The Lazarus Effect (2015)                         1.800\n",
       "The Woman In Black 2 Angel of Death (2015)        1.725\n",
       "Danny Collins (2015)                              3.650\n",
       "Spare Parts (2015)                                3.850\n",
       "Serena (2015)                                     1.950\n",
       "Inside Out (2015)                                 4.475\n",
       "Mr. Holmes (2015)                                 3.925\n",
       "'71 (2015)                                        3.925\n",
       "Two Days, One Night (2014)                        4.150\n",
       "Gett: The Trial of Viviane Amsalem (2015)         3.850\n",
       "Kumiko, The Treasure Hunter (2015)                3.175\n",
       "dtype: float64"
      ]
     },
     "execution_count": 156,
     "metadata": {},
     "output_type": "execute_result"
    }
   ],
   "source": [
    "# 7: Apply() Over Dataframe Rows\n",
    "rt_mt_user = float_df[['RT_user_norm', 'Metacritic_user_nom']]\n",
    "rt_mt_deviations = rt_mt_user.apply(lambda x: np.std(x), axis=1)\n",
    "print(rt_mt_deviations[0:5])\n",
    "rt_mt_means = rt_mt_user.apply(lambda x: np.mean(x), axis=1)\n",
    "rt_mt_means"
   ]
  },
  {
   "cell_type": "code",
   "execution_count": null,
   "metadata": {
    "collapsed": true
   },
   "outputs": [],
   "source": []
  }
 ],
 "metadata": {
  "anaconda-cloud": {},
  "kernelspec": {
   "display_name": "Python [conda root]",
   "language": "python",
   "name": "conda-root-py"
  },
  "language_info": {
   "codemirror_mode": {
    "name": "ipython",
    "version": 3
   },
   "file_extension": ".py",
   "mimetype": "text/x-python",
   "name": "python",
   "nbconvert_exporter": "python",
   "pygments_lexer": "ipython3",
   "version": "3.5.2"
  }
 },
 "nbformat": 4,
 "nbformat_minor": 1
}
