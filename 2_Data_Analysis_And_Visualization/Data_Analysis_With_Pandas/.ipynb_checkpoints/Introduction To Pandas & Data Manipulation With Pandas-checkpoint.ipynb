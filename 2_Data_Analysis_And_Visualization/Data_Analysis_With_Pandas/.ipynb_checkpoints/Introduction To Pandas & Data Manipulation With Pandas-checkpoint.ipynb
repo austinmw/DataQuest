{
 "cells": [
  {
   "cell_type": "markdown",
   "metadata": {},
   "source": [
    "Pandas is a library that unifies the most common workflows that data analysts and data scientists previously relied on many different libraries for. Pandas has quickly became an important tool in a data professional's toolbelt and is the most popular library for working with tabular data in Python. Tabular data is any data that can be represented as rows and columns. The CSV files we've worked with in previous missions are all examples of tabular data.\n",
    "\n",
    "To represent tabular data, pandas uses a custom data structure called a dataframe. A dataframe is a highly efficient, 2-dimensional data structure that provides a suite of methods and attributes to quickly explore, analyze, and visualize data. The dataframe is similar to the NumPy 2D array but adds support for many features that help you work with tabular data.\n",
    "\n",
    "One of the biggest advantages that pandas has over NumPy is the ability to store mixed data types in rows and columns. Many tabular datasets contain a range of data types and pandas dataframes handle mixed data types effortlessly while NumPy doesn't. Pandas dataframes can also handle missing values gracefully using a custom object, NaN, to represent those values. A common complaint with NumPy is its lack of an object to represent missing values and people end up having to find and replace these values manually. In addition, pandas dataframes contain axis labels for both rows and columns and enable you to refer to elements in the dataframe more intuitively. Since many tabular datasets contain column titles, this means that dataframes preserve the metadata from the file around the data."
   ]
  },
  {
   "cell_type": "code",
   "execution_count": null,
   "metadata": {
    "collapsed": false
   },
   "outputs": [],
   "source": [
    "# read_csv()\n",
    "import pandas\n",
    "food_info = pandas.read_csv(\"food_info.csv\")\n",
    "print(type(food_info))"
   ]
  },
  {
   "cell_type": "code",
   "execution_count": null,
   "metadata": {
    "collapsed": false
   },
   "outputs": [],
   "source": [
    "# shape attribute, head() method\n",
    "print(food_info.head(3)) # head() default is 5 rows\n",
    "dimensions = food_info.shape\n",
    "print(dimensions)\n",
    "num_rows = dimensions[0]\n",
    "print(num_rows)\n",
    "num_cols = dimensions[1]\n",
    "print(num_cols)\n",
    "\n",
    "first_twenty = food_info.head(20)"
   ]
  },
  {
   "cell_type": "code",
   "execution_count": null,
   "metadata": {
    "collapsed": false
   },
   "outputs": [],
   "source": [
    "# loc[] method\n",
    "hundredth_row = food_info.loc[99]\n",
    "print(hundredth_row)"
   ]
  },
  {
   "cell_type": "code",
   "execution_count": null,
   "metadata": {
    "collapsed": false
   },
   "outputs": [],
   "source": [
    "# DataFrame.dtypes\n",
    "print(food_info.dtypes)"
   ]
  },
  {
   "cell_type": "code",
   "execution_count": null,
   "metadata": {
    "collapsed": false
   },
   "outputs": [],
   "source": [
    "# selecting multiple rows\n",
    "print(\"Rows 3, 4, 5 and 6\")\n",
    "print(food_info.loc[3:6])\n",
    "\n",
    "print(\"Rows 2, 5, and 10\")\n",
    "two_five_ten = [2,5,10]\n",
    "print(food_info.loc[two_five_ten])\n",
    "num_rows = food_info.shape[0]\n",
    "last_rows = food_info.loc[num_rows-5:num_rows]"
   ]
  },
  {
   "cell_type": "code",
   "execution_count": null,
   "metadata": {
    "collapsed": false
   },
   "outputs": [],
   "source": [
    "# selecting individual columns\n",
    "# Series object.\n",
    "ndb_col = food_info[\"NDB_No\"]\n",
    "print(ndb_col)\n",
    "\n",
    "# Display the type of the column to confirm it's a Series object.\n",
    "print(type(ndb_col))\n",
    "\n",
    "saturated_fat = food_info[\"FA_Sat_(g)\"]\n",
    "cholesterol = food_info[\"Cholestrl_(mg)\"]"
   ]
  },
  {
   "cell_type": "code",
   "execution_count": null,
   "metadata": {
    "collapsed": false
   },
   "outputs": [],
   "source": [
    "# selecting multiple columns by name\n",
    "zinc_copper = food_info[[\"Zinc_(mg)\", \"Copper_(mg)\"]]\n",
    "\n",
    "columns = [\"Zinc_(mg)\", \"Copper_(mg)\"]\n",
    "zinc_copper = food_info[columns]\n",
    "\n",
    "selenium_thiamin = food_info[[\"Selenium_(mcg)\",\"Thiamin_(mg)\"]]"
   ]
  },
  {
   "cell_type": "code",
   "execution_count": null,
   "metadata": {
    "collapsed": false
   },
   "outputs": [],
   "source": [
    "# columns attribute, tolist() method, string endswith() method\n",
    "print(food_info.columns)\n",
    "print(food_info.head(2))\n",
    "col_names = food_info.columns.tolist()\n",
    "gram_columns = []\n",
    "\n",
    "for c in col_names:\n",
    "    if c.endswith(\"(g)\"):\n",
    "        gram_columns.append(c)\n",
    "gram_df = food_info[gram_columns]\n",
    "print(gram_df.head(3))"
   ]
  },
  {
   "cell_type": "markdown",
   "metadata": {},
   "source": [
    "**Data Manipulation With Pandas**\n",
    "\n",
    "In the previous mission, we learned how to explore a pandas DataFrame. In this mission, we'll explore how to manipulate a DataFrame and make transformations to it. "
   ]
  },
  {
   "cell_type": "code",
   "execution_count": null,
   "metadata": {
    "collapsed": true
   },
   "outputs": [],
   "source": [
    "# import, read file, get column names as list, print first three rows\n",
    "import pandas as pd\n",
    "\n",
    "food_info = pd.read_csv(\"food_info.csv\")\n",
    "col_names = food_info.columns.tolist()\n",
    "print(col_names)\n",
    "food_info.head(3)"
   ]
  },
  {
   "cell_type": "code",
   "execution_count": null,
   "metadata": {
    "collapsed": true
   },
   "outputs": [],
   "source": [
    "# Transforming a column\n",
    "sodium_grams = food_info[\"Sodium_(mg)\"]/1000\n",
    "sugar_milligrams = food_info[\"Sugar_Tot_(g)\"]*1000"
   ]
  },
  {
   "cell_type": "code",
   "execution_count": null,
   "metadata": {
    "collapsed": true
   },
   "outputs": [],
   "source": [
    "# Performing math with multiple columns\n",
    "grams_of_protein_per_gram_of_water = food_info[\"Protein_(g)\"]/food_info[\"Water_(g)\"]\n",
    "milligrams_of_calcium_and_iron = food_info[\"Calcium_(mg)\"] +  food_info[\"Iron_(mg)\"]"
   ]
  },
  {
   "cell_type": "code",
   "execution_count": null,
   "metadata": {
    "collapsed": true
   },
   "outputs": [],
   "source": [
    "# Create a Nutritional Index\n",
    "weighted_protein = food_info[\"Protein_(g)\"]*2\n",
    "weighted_fat = food_info[\"Lipid_Tot_(g)\"]*-0.75\n",
    "initial_rating = weighted_protein + weighted_fat"
   ]
  },
  {
   "cell_type": "code",
   "execution_count": null,
   "metadata": {
    "collapsed": true
   },
   "outputs": [],
   "source": [
    "# Normalizing columns in a data set\n",
    "print(food_info[\"Protein_(g)\"][0:5])\n",
    "max_protein = food_info[\"Protein_(g)\"].max()\n",
    "max_fat = food_info[\"Lipid_Tot_(g)\"].max()\n",
    "\n",
    "normalized_protein = food_info[\"Protein_(g)\"]/max_protein\n",
    "normalized_fat = food_info[\"Lipid_Tot_(g)\"]/max_fat"
   ]
  },
  {
   "cell_type": "code",
   "execution_count": null,
   "metadata": {
    "collapsed": true
   },
   "outputs": [],
   "source": [
    "# Creating a new column\n",
    "food_info[\"Normalized_Protein\"] = normalized_protein\n",
    "food_info[\"Normalized_Fat\"] = normalized_fat"
   ]
  },
  {
   "cell_type": "code",
   "execution_count": null,
   "metadata": {
    "collapsed": true
   },
   "outputs": [],
   "source": [
    "# Create a normalized nutritional index\n",
    "food_info[\"Norm_Nutr_Index\"] = 2*food_info[\"Normalized_Protein\"]-0.75*food_info[\"Normalized_Fat\"]"
   ]
  },
  {
   "cell_type": "code",
   "execution_count": 1,
   "metadata": {
    "collapsed": true
   },
   "outputs": [
    {
     "ename": "NameError",
     "evalue": "name 'food_info' is not defined",
     "output_type": "error",
     "traceback": [
      "\u001b[0;31m---------------------------------------------------------------------------\u001b[0m",
      "\u001b[0;31mNameError\u001b[0m                                 Traceback (most recent call last)",
      "\u001b[0;32m<ipython-input-1-3af9e79f6cdc>\u001b[0m in \u001b[0;36m<module>\u001b[0;34m()\u001b[0m\n\u001b[1;32m      1\u001b[0m \u001b[0;31m# Sort DataFrame in-place on a column in descending order\u001b[0m\u001b[0;34m\u001b[0m\u001b[0;34m\u001b[0m\u001b[0m\n\u001b[0;32m----> 2\u001b[0;31m \u001b[0mfood_info\u001b[0m\u001b[0;34m.\u001b[0m\u001b[0msort_values\u001b[0m\u001b[0;34m(\u001b[0m\u001b[0;34m\"Norm_Nutr_Index\"\u001b[0m\u001b[0;34m,\u001b[0m \u001b[0minplace\u001b[0m\u001b[0;34m=\u001b[0m\u001b[0;32mTrue\u001b[0m\u001b[0;34m,\u001b[0m \u001b[0mascending\u001b[0m\u001b[0;34m=\u001b[0m\u001b[0;32mFalse\u001b[0m\u001b[0;34m)\u001b[0m\u001b[0;34m\u001b[0m\u001b[0m\n\u001b[0m",
      "\u001b[0;31mNameError\u001b[0m: name 'food_info' is not defined"
     ]
    }
   ],
   "source": [
    "# Sort DataFrame in-place on a column in descending order\n",
    "food_info.sort_values(\"Norm_Nutr_Index\", inplace=True, ascending=False)"
   ]
  }
 ],
 "metadata": {
  "anaconda-cloud": {},
  "kernelspec": {
   "display_name": "Python [conda root]",
   "language": "python",
   "name": "conda-root-py"
  },
  "language_info": {
   "codemirror_mode": {
    "name": "ipython",
    "version": 3
   },
   "file_extension": ".py",
   "mimetype": "text/x-python",
   "name": "python",
   "nbconvert_exporter": "python",
   "pygments_lexer": "ipython3",
   "version": "3.5.2"
  }
 },
 "nbformat": 4,
 "nbformat_minor": 1
}
