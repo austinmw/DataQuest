{
 "cells": [
  {
   "cell_type": "markdown",
   "metadata": {},
   "source": [
    "# Intermediate Linear Regression\n",
    "### Learn how to use linear regression to estimate the speed at which the Leaning Tower of Pisa was moving.\n",
    "\n",
    "##### Contents:\n",
    "- Pisa data\n",
    "- statsmodels.api as sm\n",
    "    - sm.add_constant(X) (1's const column)\n",
    "    - linear = sm.OLS(y, X)\n",
    "    - linearfit = linear.fit()\n",
    "    - linearfit.summary()\n",
    "    - yhat = linearfit.predict(X)\n",
    "    - residuals = yhat - y\n",
    "    - plt.hist(residuals)\n",
    "- Sum of Square Error (SSE) also known as Residual Sum of Squares (RSS) or Sum of Squared Residuals (SSR)\n",
    "- [Total Sum of Squares (TSS)](https://en.wikipedia.org/wiki/Total_sum_of_squares)\n",
    "- Regression Sum of Squares (RSS) [also known as explained sum of squares (ESS)](https://en.wikipedia.org/wiki/Explained_sum_of_squares) (**NOT** Residual Sum of Squares)\n",
    "    - TSS = RSS{ESS} + SSE\n",
    "        - Wiki: total sum of squares = explained sum of squares + residual sum of squares.\n",
    "    - MSE = Residual Sum of Squares / n\n",
    "- Coefficient of Determination (R-Squared)\n",
    "    - R-Squared = 1 - SSE/TSS = RSS/TSS\n",
    "    - the percentage of variation in the target variable explained by our model\n",
    "- linearfit.params\n",
    "- variance of coefficients\n",
    "\n",
    "\n",
    "**Note:** $\\hat y$ = predicted values, $\\bar y$ = mean value of response (Doesn't actually need the $i$ subscript)\n",
    "\n",
    "## 1: Introduction To The Data\n",
    "\n",
    "The Leaning Tower of Pisa is one of the largest tourist attractions in Italy. For hundreds of years this tower slowly leaned to one side, eventually reaching 5.5 degrees off axis, nearly 3 meters horizontal at it's peak. Yearly data was recorded from 1975 to 1987 measuring the tower's lean. In 1988 restoration began on the tower to stop more leaning in the future. The data is provided in the dataframe `pisa`. The column `lean` represents the number of meters the tower is off axis at the respective year. In this mission we will try to estimate the leaning rate using a linear regression and interpret its coefficient and statistics.\n",
    "\n",
    "<img src=\"https://dq-content.s3.amazonaws.com/Mr5AVef.png\">\n",
    "\n",
    "#### Instructions:\n",
    "- Create a scatter plot with `year` on the x-axis and `lean` on the y-axis"
   ]
  },
  {
   "cell_type": "code",
   "execution_count": 1,
   "metadata": {
    "collapsed": false
   },
   "outputs": [
    {
     "data": {
      "text/html": [
       "<div>\n",
       "<style>\n",
       "    .dataframe thead tr:only-child th {\n",
       "        text-align: right;\n",
       "    }\n",
       "\n",
       "    .dataframe thead th {\n",
       "        text-align: left;\n",
       "    }\n",
       "\n",
       "    .dataframe tbody tr th {\n",
       "        vertical-align: top;\n",
       "    }\n",
       "</style>\n",
       "<table border=\"1\" class=\"dataframe\">\n",
       "  <thead>\n",
       "    <tr style=\"text-align: right;\">\n",
       "      <th></th>\n",
       "      <th>lean</th>\n",
       "      <th>year</th>\n",
       "    </tr>\n",
       "  </thead>\n",
       "  <tbody>\n",
       "    <tr>\n",
       "      <th>0</th>\n",
       "      <td>2.9642</td>\n",
       "      <td>1975</td>\n",
       "    </tr>\n",
       "    <tr>\n",
       "      <th>1</th>\n",
       "      <td>2.9644</td>\n",
       "      <td>1976</td>\n",
       "    </tr>\n",
       "    <tr>\n",
       "      <th>2</th>\n",
       "      <td>2.9656</td>\n",
       "      <td>1977</td>\n",
       "    </tr>\n",
       "    <tr>\n",
       "      <th>3</th>\n",
       "      <td>2.9667</td>\n",
       "      <td>1978</td>\n",
       "    </tr>\n",
       "    <tr>\n",
       "      <th>4</th>\n",
       "      <td>2.9673</td>\n",
       "      <td>1979</td>\n",
       "    </tr>\n",
       "    <tr>\n",
       "      <th>5</th>\n",
       "      <td>2.9688</td>\n",
       "      <td>1980</td>\n",
       "    </tr>\n",
       "    <tr>\n",
       "      <th>6</th>\n",
       "      <td>2.9696</td>\n",
       "      <td>1981</td>\n",
       "    </tr>\n",
       "    <tr>\n",
       "      <th>7</th>\n",
       "      <td>2.9698</td>\n",
       "      <td>1982</td>\n",
       "    </tr>\n",
       "    <tr>\n",
       "      <th>8</th>\n",
       "      <td>2.9713</td>\n",
       "      <td>1983</td>\n",
       "    </tr>\n",
       "    <tr>\n",
       "      <th>9</th>\n",
       "      <td>2.9717</td>\n",
       "      <td>1984</td>\n",
       "    </tr>\n",
       "    <tr>\n",
       "      <th>10</th>\n",
       "      <td>2.9725</td>\n",
       "      <td>1985</td>\n",
       "    </tr>\n",
       "    <tr>\n",
       "      <th>11</th>\n",
       "      <td>2.9742</td>\n",
       "      <td>1986</td>\n",
       "    </tr>\n",
       "    <tr>\n",
       "      <th>12</th>\n",
       "      <td>2.9757</td>\n",
       "      <td>1987</td>\n",
       "    </tr>\n",
       "  </tbody>\n",
       "</table>\n",
       "</div>"
      ],
      "text/plain": [
       "      lean  year\n",
       "0   2.9642  1975\n",
       "1   2.9644  1976\n",
       "2   2.9656  1977\n",
       "3   2.9667  1978\n",
       "4   2.9673  1979\n",
       "5   2.9688  1980\n",
       "6   2.9696  1981\n",
       "7   2.9698  1982\n",
       "8   2.9713  1983\n",
       "9   2.9717  1984\n",
       "10  2.9725  1985\n",
       "11  2.9742  1986\n",
       "12  2.9757  1987"
      ]
     },
     "execution_count": 1,
     "metadata": {},
     "output_type": "execute_result"
    }
   ],
   "source": [
    "import pandas\n",
    "import matplotlib.pyplot as plt\n",
    "%matplotlib inline\n",
    "\n",
    "pisa = pandas.DataFrame({\"year\": range(1975, 1988), \n",
    "                         \"lean\": [2.9642, 2.9644, 2.9656, 2.9667, 2.9673, 2.9688, 2.9696, \n",
    "                                  2.9698, 2.9713, 2.9717, 2.9725, 2.9742, 2.9757]})\n",
    "pisa"
   ]
  },
  {
   "cell_type": "code",
   "execution_count": 2,
   "metadata": {
    "collapsed": false
   },
   "outputs": [
    {
     "data": {
      "text/plain": [
       "<matplotlib.collections.PathCollection at 0x11ae8f470>"
      ]
     },
     "execution_count": 2,
     "metadata": {},
     "output_type": "execute_result"
    },
    {
     "data": {
      "image/png": "[encoded data removed]",
      "text/plain": [
       "<matplotlib.figure.Figure at 0x10ee10ba8>"
      ]
     },
     "metadata": {},
     "output_type": "display_data"
    }
   ],
   "source": [
    "plt.scatter(pisa.year, pisa.lean)"
   ]
  },
  {
   "cell_type": "markdown",
   "metadata": {},
   "source": [
    "## 2: Fit The Linear Model\n",
    "\n",
    "From the scatter plot you just made, we visually see that a linear regression looks to be a good fit for the data. In this mission we will learn how to understand key statistical concepts of the linear regression model.\n",
    "\n",
    "Statsmodels is a library which allows for rigorous statistical analysis in python. For linear models, statsmodels provides ample statistical measures for proper evaluation. The class sm.OLS is used to fit linear models, standing for ordinary least squares. After the initialization of our model we fit data to it using the .fit() method that estimates the coefficients of the linear model. OLS() does not automatically add an intercept to our model. We can add a column of 1's to add another coefficient to our model and since the coefficient is multiplied by 1 we are given an intercept.\n",
    "\n",
    "#### Instructions: \n",
    "\n",
    "- linearfit contains the fitted linear model to our data. Print the summary of the model by using the method .summary().\n",
    "    - Don't worry about understanding all of the summary, we will cover many of the statistics in the following screens."
   ]
  },
  {
   "cell_type": "code",
   "execution_count": 3,
   "metadata": {
    "collapsed": false
   },
   "outputs": [
    {
     "name": "stderr",
     "output_type": "stream",
     "text": [
      "/Users/austin/anaconda/lib/python3.6/site-packages/statsmodels/compat/pandas.py:56: FutureWarning: The pandas.core.datetools module is deprecated and will be removed in a future version. Please use the pandas.tseries module instead.\n",
      "  from pandas.core import datetools\n",
      "/Users/austin/anaconda/lib/python3.6/site-packages/scipy/stats/stats.py:1334: UserWarning: kurtosistest only valid for n>=20 ... continuing anyway, n=13\n",
      "  \"anyway, n=%i\" % int(n))\n"
     ]
    },
    {
     "data": {
      "text/html": [
       "<table class=\"simpletable\">\n",
       "<caption>OLS Regression Results</caption>\n",
       "<tr>\n",
       "  <th>Dep. Variable:</th>          <td>lean</td>       <th>  R-squared:         </th> <td>   0.988</td>\n",
       "</tr>\n",
       "<tr>\n",
       "  <th>Model:</th>                   <td>OLS</td>       <th>  Adj. R-squared:    </th> <td>   0.987</td>\n",
       "</tr>\n",
       "<tr>\n",
       "  <th>Method:</th>             <td>Least Squares</td>  <th>  F-statistic:       </th> <td>   904.1</td>\n",
       "</tr>\n",
       "<tr>\n",
       "  <th>Date:</th>             <td>Thu, 13 Jul 2017</td> <th>  Prob (F-statistic):</th> <td>6.50e-12</td>\n",
       "</tr>\n",
       "<tr>\n",
       "  <th>Time:</th>                 <td>14:59:39</td>     <th>  Log-Likelihood:    </th> <td>  83.777</td>\n",
       "</tr>\n",
       "<tr>\n",
       "  <th>No. Observations:</th>      <td>    13</td>      <th>  AIC:               </th> <td>  -163.6</td>\n",
       "</tr>\n",
       "<tr>\n",
       "  <th>Df Residuals:</th>          <td>    11</td>      <th>  BIC:               </th> <td>  -162.4</td>\n",
       "</tr>\n",
       "<tr>\n",
       "  <th>Df Model:</th>              <td>     1</td>      <th>                     </th>     <td> </td>   \n",
       "</tr>\n",
       "<tr>\n",
       "  <th>Covariance Type:</th>      <td>nonrobust</td>    <th>                     </th>     <td> </td>   \n",
       "</tr>\n",
       "</table>\n",
       "<table class=\"simpletable\">\n",
       "<tr>\n",
       "    <td></td>       <th>coef</th>     <th>std err</th>      <th>t</th>      <th>P>|t|</th>  <th>[0.025</th>    <th>0.975]</th>  \n",
       "</tr>\n",
       "<tr>\n",
       "  <th>const</th> <td>    1.1233</td> <td>    0.061</td> <td>   18.297</td> <td> 0.000</td> <td>    0.988</td> <td>    1.258</td>\n",
       "</tr>\n",
       "<tr>\n",
       "  <th>year</th>  <td>    0.0009</td> <td>  3.1e-05</td> <td>   30.069</td> <td> 0.000</td> <td>    0.001</td> <td>    0.001</td>\n",
       "</tr>\n",
       "</table>\n",
       "<table class=\"simpletable\">\n",
       "<tr>\n",
       "  <th>Omnibus:</th>       <td> 0.310</td> <th>  Durbin-Watson:     </th> <td>   1.642</td>\n",
       "</tr>\n",
       "<tr>\n",
       "  <th>Prob(Omnibus):</th> <td> 0.856</td> <th>  Jarque-Bera (JB):  </th> <td>   0.450</td>\n",
       "</tr>\n",
       "<tr>\n",
       "  <th>Skew:</th>          <td> 0.094</td> <th>  Prob(JB):          </th> <td>   0.799</td>\n",
       "</tr>\n",
       "<tr>\n",
       "  <th>Kurtosis:</th>      <td> 2.108</td> <th>  Cond. No.          </th> <td>1.05e+06</td>\n",
       "</tr>\n",
       "</table>"
      ],
      "text/plain": [
       "<class 'statsmodels.iolib.summary.Summary'>\n",
       "\"\"\"\n",
       "                            OLS Regression Results                            \n",
       "==============================================================================\n",
       "Dep. Variable:                   lean   R-squared:                       0.988\n",
       "Model:                            OLS   Adj. R-squared:                  0.987\n",
       "Method:                 Least Squares   F-statistic:                     904.1\n",
       "Date:                Thu, 13 Jul 2017   Prob (F-statistic):           6.50e-12\n",
       "Time:                        14:59:39   Log-Likelihood:                 83.777\n",
       "No. Observations:                  13   AIC:                            -163.6\n",
       "Df Residuals:                      11   BIC:                            -162.4\n",
       "Df Model:                           1                                         \n",
       "Covariance Type:            nonrobust                                         \n",
       "==============================================================================\n",
       "                 coef    std err          t      P>|t|      [0.025      0.975]\n",
       "------------------------------------------------------------------------------\n",
       "const          1.1233      0.061     18.297      0.000       0.988       1.258\n",
       "year           0.0009    3.1e-05     30.069      0.000       0.001       0.001\n",
       "==============================================================================\n",
       "Omnibus:                        0.310   Durbin-Watson:                   1.642\n",
       "Prob(Omnibus):                  0.856   Jarque-Bera (JB):                0.450\n",
       "Skew:                           0.094   Prob(JB):                        0.799\n",
       "Kurtosis:                       2.108   Cond. No.                     1.05e+06\n",
       "==============================================================================\n",
       "\n",
       "Warnings:\n",
       "[1] Standard Errors assume that the covariance matrix of the errors is correctly specified.\n",
       "[2] The condition number is large, 1.05e+06. This might indicate that there are\n",
       "strong multicollinearity or other numerical problems.\n",
       "\"\"\""
      ]
     },
     "execution_count": 3,
     "metadata": {},
     "output_type": "execute_result"
    }
   ],
   "source": [
    "import statsmodels.api as sm\n",
    "\n",
    "y = pisa.lean # target\n",
    "X = pisa.year  # features\n",
    "X = sm.add_constant(X)  # add a column of 1's as the constant term\n",
    "\n",
    "# OLS -- Ordinary Least Squares Fit\n",
    "linear = sm.OLS(y, X)\n",
    "# fit model\n",
    "linearfit = linear.fit()\n",
    "\n",
    "linearfit.summary()"
   ]
  },
  {
   "cell_type": "markdown",
   "metadata": {},
   "source": [
    "## 3: Define A Basic Linear Model\n",
    "\n",
    "We see that the printed summary contains a lot of information about our model. To understand these statistical measures we must start with a formal definition of a basic linear regression model. Mathematically, a basic linear regression model is defined as $y_i = \\beta_0 + \\beta_1 x_i + e_i$ where $e_i \\sim N(0,\\sigma^2)$ is the error term for each observation $i$ where $\\beta_0$ is the intercept and $\\beta_1$ is the slope. The residual for the prediction of observation $i$ is $e_i = \\hat{y_i} - y_i$ where $\\hat{y_i}$ is the prediction. $N(0, \\sigma^2)$ is a normal distribution with mean $0$ and a variance $\\sigma^2$ This means that the model assumes that the errors, known as residuals, between our prediction and observed values are normally distributed and that the average error is 0. Estimated coefficients, those which are modeled, will be referred to as $\\hat{\\beta_i}$ while $\\beta_i$ is the true coefficient. In the end, \\hat{y_i} = \\hat{\\beta_0} + \\hat{\\beta_1} x_i  is the model we will estimate.\n",
    "\n",
    "#### Instructions: \n",
    "\n",
    "- Using `linearfit` with data `X` and `y` predict the residuals.\n",
    "- Residuals are computed by subtracting the observed values from the predicted values.\n",
    "- Assign the residuals to variable `residuals`."
   ]
  },
  {
   "cell_type": "code",
   "execution_count": 4,
   "metadata": {
    "collapsed": false
   },
   "outputs": [
    {
     "name": "stdout",
     "output_type": "stream",
     "text": [
      "0     2.963778\n",
      "1     2.964710\n",
      "2     2.965642\n",
      "3     2.966574\n",
      "4     2.967505\n",
      "5     2.968437\n",
      "6     2.969369\n",
      "7     2.970301\n",
      "8     2.971233\n",
      "9     2.972165\n",
      "10    2.973097\n",
      "11    2.974029\n",
      "12    2.974960\n",
      "dtype: float64\n"
     ]
    }
   ],
   "source": [
    "# Our predicted values of y\n",
    "yhat = linearfit.predict(X)\n",
    "print(yhat)"
   ]
  },
  {
   "cell_type": "code",
   "execution_count": 5,
   "metadata": {
    "collapsed": false
   },
   "outputs": [],
   "source": [
    "residuals = yhat - y"
   ]
  },
  {
   "cell_type": "markdown",
   "metadata": {},
   "source": [
    "## 4: Histogram Of Residuals\n",
    "\n",
    "We've used histograms in the past to visualize the distribution of our data. By creating a histogram of our residuals we can visually accept or reject the assumption of normality of the errors. If the histogram of residuals looks similar to a bell curve then we will accept the assumption of normality. There are more rigorous statistical tests to test for normality which we will cover in future lessons.\n",
    "\n",
    "#### Instructions:\n",
    "- Create a histogram with 5 bins of the residuals using matplotlib's hist() function.\n",
    "    - The bins parameter allows us to specify the number of bins."
   ]
  },
  {
   "cell_type": "code",
   "execution_count": 6,
   "metadata": {
    "collapsed": false
   },
   "outputs": [
    {
     "data": {
      "image/png": "[encoded data removed]",
      "text/plain": [
       "<matplotlib.figure.Figure at 0x11ae48da0>"
      ]
     },
     "metadata": {},
     "output_type": "display_data"
    }
   ],
   "source": [
    "plt.hist(residuals, bins=5)\n",
    "plt.show()"
   ]
  },
  {
   "cell_type": "markdown",
   "metadata": {},
   "source": [
    "## 5: Interpretation Of Histogram\n",
    "\n",
    "Our dataset only has 13 observations in it making it difficult to interpret such a plot. Though the plot looks somewhat normal the largest bin only has 4 observations. In this case we cannot reject the assumption that the residuals are normal. Let's move forward with this linear model and look at measures of statistical fit."
   ]
  },
  {
   "cell_type": "markdown",
   "metadata": {},
   "source": [
    "## 6: Sum Of Squares\n",
    "\n",
    "Many of the statistical measures used to evaluate linear regression models rely on three sum of squares measures. The three measures include Sum of Square Error (SSE), Regression Sum of Squares (RSS), and Total Sum of Squares (TSS). In aggregate each of these measures explain the variance of the entire model. We define the measures as the following:\n",
    "\n",
    "$SSE = \\sum_{i=1}^n (y_i - \\hat{y_i})^2 = \\sum_{i=1}^n e_i^2$. We see that SSE is the sum of all residuals giving us a measure between the model's prediction and the observed values.\n",
    "\n",
    "$RSS = \\sum_{i=1}^n (\\bar{y_i} - \\hat{y_i})^2 \\text{ where }\\bar{y_i} = \\dfrac{1}{n}\\sum_{i=1}^n y_i$. RSS measures the amount of explained variance which our model accounts for. For instance, if we were to predict every observation as the mean of the observed values then our model would be useless and RSS would be very low. A large RSS and small SSE can be an indicator of a strong model.\n",
    "\n",
    "$TSS = \\sum_{i=1}^n (y_i - \\bar{y_i})^2$. TSS measures the total amount of variation within the data.\n",
    "\n",
    "With some algebra we can show that $TSS = RSS +  SSE$. Intuitively this makes sense, the total amount of variance in the data is captured by the variance explained by the model plus the variance missed by the model.\n",
    "\n",
    "#### Instructions:\n",
    "\n",
    "- Compute the RSS and TSS for our model, linearfit, using the formulas above.\n",
    "    - Assign the RSS to variable RSS and the TSS to variable TSS."
   ]
  },
  {
   "cell_type": "code",
   "execution_count": 17,
   "metadata": {
    "collapsed": false
   },
   "outputs": [
    {
     "name": "stdout",
     "output_type": "stream",
     "text": [
      "1.9228571428566404e-06 0.00015804483516481858 0.00015996769230767523\n"
     ]
    }
   ],
   "source": [
    "import numpy as np\n",
    "\n",
    "# Sum of Squared Error (also known as Residual Sum of Squares, RSS)\n",
    "# sum the (predicted - observed) squared\n",
    "SSE = np.sum((y.values-yhat)**2)\n",
    "\n",
    "# Regression Sum of Squares (also known as Explained Sum of Squares, ESS)\n",
    "# sum the (mean - predicted) squared\n",
    "RSS = np.sum((y.mean() - yhat)**2)\n",
    "\n",
    "# Total Sum of Squares \n",
    "# sum of the squared differences of each observation from the overall mean\n",
    "TSS = SSE + RSS\n",
    "\n",
    "print(SSE, RSS, TSS)"
   ]
  },
  {
   "cell_type": "markdown",
   "metadata": {},
   "source": [
    "## 7: R-Squared\n",
    "\n",
    "The **coefficient of determination**, also known as R-Squared, is a great measure of linear dependence. It is a single number which tells us what the percentage of variation in the target variable is explained by our model.\n",
    "\n",
    "$$ R^2 = 1 - \\dfrac{SSE}{TSS} = \\dfrac{RSS}{TSS}$$\n",
    "\n",
    "Intuitively we know that a low SSE and high RSS indicates a good fit. This single measure tells us what percentage of the total variation of the data our model is accounting for. Correspondingly, the $R^2$ exists between 0 and 1.\n",
    "\n",
    "#### Instructions:\n",
    "\n",
    "- Compute the R-Squared for our model, linearfit. Assign the R-squared to variable R2."
   ]
  },
  {
   "cell_type": "code",
   "execution_count": 19,
   "metadata": {
    "collapsed": false
   },
   "outputs": [
    {
     "name": "stdout",
     "output_type": "stream",
     "text": [
      "0.987979715684\n"
     ]
    }
   ],
   "source": [
    "SSE = np.sum((y.values-yhat)**2)\n",
    "ybar = np.mean(y.values)\n",
    "RSS = np.sum((ybar-yhat)**2)\n",
    "TSS = np.sum((y.values-ybar)**2)\n",
    "\n",
    "R2 = RSS / TSS\n",
    "print(R2)"
   ]
  },
  {
   "cell_type": "markdown",
   "metadata": {},
   "source": [
    "## 8: Interpretation Of R-Squared\n",
    "\n",
    "We see that the R-Squared value is very high for our linear model, 0.988, accounting for 98.8% of the variation within the data."
   ]
  },
  {
   "cell_type": "markdown",
   "metadata": {},
   "source": [
    "## 9: Coefficients Of The Linear Model\n",
    "\n",
    "The ability to understand and interpret coefficients is a huge advantage of linear models over some more complex ones. Each $\\beta_i$ in a linear model $f(x) = \\beta_0 + \\beta_1 x$ is a coefficient. Fortunately there are methods to find the confidence of the estimated coefficients.\n",
    "\n",
    "Below we see the summary of our model. There are many statistics here including R-squared, the number of observations, and others. In the second section there are coefficients with corresponding statistics. The row `year` corresponds to the independent variable x while `lean` is the target variable. The variable `const` represents the model's intercept.\n",
    "\n",
    "First we look at the coefficient itself. The coefficient measures how much the dependent variable will change with a unit increase in the independent variable. For instance, we see that the coefficient for year is 0.0009. This means that on average the tower of Pisa will lean 0.0009 meters per year.\n",
    "\n",
    "#### Instructions:\n",
    "\n",
    "- Assuming no external forces on the tower, how many meters will the tower of Pisa lean in `15` years?\n",
    "    - Assign the number of meters moved to variable `delta`."
   ]
  },
  {
   "cell_type": "code",
   "execution_count": 31,
   "metadata": {
    "collapsed": false
   },
   "outputs": [
    {
     "name": "stdout",
     "output_type": "stream",
     "text": [
      "\n",
      " const    1.123338\n",
      "year     0.000932\n",
      "dtype: float64\n"
     ]
    }
   ],
   "source": [
    "# Print the models summary\n",
    "#print(linearfit.summary())\n",
    "\n",
    "#The models parameters\n",
    "print(\"\\n\",linearfit.params)"
   ]
  },
  {
   "cell_type": "code",
   "execution_count": 30,
   "metadata": {
    "collapsed": true
   },
   "outputs": [],
   "source": [
    "delta = linearfit.params[\"year\"] * 15"
   ]
  },
  {
   "cell_type": "markdown",
   "metadata": {},
   "source": [
    "## 10: [Variance Of Coefficients](https://en.wikipedia.org/wiki/Regression_analysis)\n",
    "\n",
    "The variance of each of the coefficients is an important and powerful measure. In our example the coefficient of `year` represents the number of meters the tower will lean each year. The variance of this coefficient would then give us an interval of the expected movement for each year.\n",
    "\n",
    "In the summary output, next to each coefficient, you see a column with standard errors. The standard error is the square root of the estimated variance. The estimated variance for a single variable linear model is defined as:\n",
    "\n",
    "$$s^2(\\hat{\\beta_1}) = \\dfrac{\\sum_{i=1}^n (y_i - \\hat{y_i})^2}{(n-2) \\sum_{i=1}^n (x_i - \\bar{x})^2} = \\dfrac{SSE}{(n-2) \\sum_{i=1}^n (x_i - \\bar{x})^2}$$\n",
    "\n",
    "This formulation can be shown by taking the variance of our estimated $\\hat{\\beta_1}$ but we will not cover that here. Analyzing the formula term by term we see that the numerator, SSE, represents the error within the model. A small error in the model will then decrease the coefficient's variance. The denominator term, $\\sum_{i=1}^n (x_i - \\bar{x})^2$, measures the amount of variance within x. A large variance within the independent variable decreases the coefficient's variance. The entire value is divided by (n-2) to normalize over the SSE terms while accounting for 2 degrees of freedom in the model.\n",
    "\n",
    "Using this variance we will be able to compute t-statistics and confidence intervals regarding this $\\beta_1$. We will get to these in the following screens.\n",
    "\n",
    "**Note:** The denominator is the sample size reduced by the number of model parameters estimated from the same data, $(n-p)$, for $p$ regressors or $(n-p-1$ if an intercept is used. In this case, $p=1$ so the denominator is $n-2$.\n",
    "\n",
    "#### Instructions:\n",
    "- Compute $s^2({\\hat{\\beta_1}})$ for `linearfit`.\n",
    "    - Assign this variance to variable `s2b1`.\n",
    "    \n",
    "    "
   ]
  },
  {
   "cell_type": "code",
   "execution_count": 39,
   "metadata": {
    "collapsed": false
   },
   "outputs": [
    {
     "name": "stdout",
     "output_type": "stream",
     "text": [
      "9.604681033249953e-10\n"
     ]
    }
   ],
   "source": [
    "xvar = np.sum((pisa.year - pisa.year.mean())**2)\n",
    "s2b1 = SSE / ((len(y) - 2) * xvar)\n",
    "\n",
    "print(s2b1)"
   ]
  },
  {
   "cell_type": "markdown",
   "metadata": {},
   "source": [
    "## 11: T-Distribution\n",
    "\n",
    "Statistical tests can be done to show that the lean of the tower is dependent on the year. A common test of statistical significance is the student t-test. The student t-test relies on the t-distribution, which is very similar to the normal distribution, following the bell curve but with a lower peak.\n",
    "\n",
    "The t-distribution accounts for the number of observations in our sample set while the normal distribution assumes we have the entire population. In general, the smaller the sample we have the less confidence we have in our estimates. The t-distribution takes this into account by increasing the variance relative to the number of observations. You will see that as the number of observations increases the t-distribution approaches the normal distribution.\n",
    "\n",
    "The density functions of the t-distributions are used in significance testing. The probability density function (pdf) models the relative likelihood of a continuous random variable. The cumulative density function (cdf) models the probability of a random variable being less than or equal to a point. The degrees of freedom (df) accounts for the number of observations in the sample. In general the degrees of freedom will be equal to the number of observations minus 2. Say we had a sample size with just 2 observations, we could fit a line through them perfectly and no error in the model. To account for this we subtract 2 from the number of observations to compute the degrees of freedom.\n",
    "\n",
    "Scipy has functions in the library `scipy.stats.t` which can be used to compute the pdf and cdf of the t-distribution for any number of degrees of freedom. `scipy.stats.t.pdf(x,df)` is used to estimate the pdf at variable x with df degrees of freedom.\n",
    "\n",
    "#### Instructions:\n",
    "- Make a plot comparing 2 pdfs of the t-distribution with different degrees of freedom.\n",
    "- With the `x` variable given, compute the pdf with 3 degrees of freedom and assign it to variable `tdist3`.\n",
    "- Then compute a similar pdf with 30 degrees of freedom and assign it to variable `tdist30`.\n",
    "- On a single plot, plot `x` on the x-axis for both `tdist3` and `tdist30` on the y-axis."
   ]
  },
  {
   "cell_type": "code",
   "execution_count": 40,
   "metadata": {
    "collapsed": false
   },
   "outputs": [
    {
     "name": "stdout",
     "output_type": "stream",
     "text": [
      "[ 0.02297204  0.02441481  0.02596406  0.02762847  0.0294174   0.031341\n",
      "  0.03341025  0.03563701  0.03803403  0.04061509  0.04339497  0.04638952\n",
      "  0.04961567  0.05309149  0.05683617  0.06086996  0.0652142   0.06989116\n",
      "  0.07492395  0.08033633  0.08615245  0.09239652  0.0990924   0.10626304\n",
      "  0.11392986  0.12211193  0.13082504  0.14008063  0.14988449  0.16023537\n",
      "  0.17112343  0.18252859  0.1944188   0.20674834  0.21945618  0.23246464\n",
      "  0.2456783   0.2589835   0.27224841  0.28532401  0.29804594  0.31023748\n",
      "  0.32171351  0.33228555  0.34176766  0.34998293  0.35677032  0.36199128\n",
      "  0.36553585  0.36732769  0.36732769  0.36553585  0.36199128  0.35677032\n",
      "  0.34998293  0.34176766  0.33228555  0.32171351  0.31023748  0.29804594\n",
      "  0.28532401  0.27224841  0.2589835   0.2456783   0.23246464  0.21945618\n",
      "  0.20674834  0.1944188   0.18252859  0.17112343  0.16023537  0.14988449\n",
      "  0.14008063  0.13082504  0.12211193  0.11392986  0.10626304  0.0990924\n",
      "  0.09239652  0.08615245  0.08033633  0.07492395  0.06989116  0.0652142\n",
      "  0.06086996  0.05683617  0.05309149  0.04961567  0.04638952  0.04339497\n",
      "  0.04061509  0.03803403  0.03563701  0.03341025  0.031341    0.0294174\n",
      "  0.02762847  0.02596406  0.02441481  0.02297204]\n"
     ]
    }
   ],
   "source": [
    "from scipy.stats import t\n",
    "\n",
    "# 100 values between -3 and 3\n",
    "x = np.linspace(-3,3,100)\n",
    "\n",
    "# Compute the pdf with 3 degrees of freedom\n",
    "print(t.pdf(x=x, df=3))"
   ]
  },
  {
   "cell_type": "code",
   "execution_count": null,
   "metadata": {
    "collapsed": true
   },
   "outputs": [],
   "source": []
  }
 ],
 "metadata": {
  "kernelspec": {
   "display_name": "Python 3",
   "language": "python",
   "name": "python3"
  },
  "language_info": {
   "codemirror_mode": {
    "name": "ipython",
    "version": 3
   },
   "file_extension": ".py",
   "mimetype": "text/x-python",
   "name": "python",
   "nbconvert_exporter": "python",
   "pygments_lexer": "ipython3",
   "version": "3.6.0"
  }
 },
 "nbformat": 4,
 "nbformat_minor": 2
}
