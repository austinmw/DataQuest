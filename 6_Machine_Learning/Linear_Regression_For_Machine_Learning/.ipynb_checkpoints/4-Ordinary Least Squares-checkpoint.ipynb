{
 "cells": [
  {
   "cell_type": "markdown",
   "metadata": {},
   "source": [
    "# Ordinary Least Squares\n",
    "### Learn how to fit a model using OLS.\n",
    "\n",
    "##### Contents:\n",
    "- Intro to OLS estimation\n",
    "    - Comparison to gradient descent\n",
    "    - OLS parameter estimation formula\n",
    "    - statsmodels.api.add_constant\n",
    "    - OLS parameter estimate algorithm\n",
    "- Cost Function in Matrix Form\n",
    "    - Derivative Of The Cost Function in Matrix Form\n",
    "- Gradient Descent Vs. Ordinary Least Squares\n",
    "- "
   ]
  },
  {
   "cell_type": "code",
   "execution_count": 2,
   "metadata": {
    "collapsed": true
   },
   "outputs": [],
   "source": [
    "import numpy as np\n",
    "import pandas as pd\n",
    "import matplotlib.pyplot as plt\n",
    "\n",
    "data = pd.read_csv('data/AmesHousing.txt', delimiter=\"\\t\")\n",
    "train = data[0:1460]\n",
    "test = data[1460:]\n",
    "\n",
    "features = ['Wood Deck SF', 'Fireplaces', 'Full Bath', '1st Flr SF', 'Garage Area',\n",
    "       'Gr Liv Area', 'Overall Qual']"
   ]
  },
  {
   "cell_type": "markdown",
   "metadata": {},
   "source": [
    "## 1: Introduction\n",
    "\n",
    "In the last mission, we explored an iterative technique for model fitting named gradient descent. The gradient descent algorithm requires multiple iterations to converge on the optimal parameter values and the number of iterations is highly dependent on the initial parameter values and the learning rate we select.\n",
    "\n",
    "In this mission, we'll explore a technique called **ordinary least squares estimation** or OLS estimation for short. Unlike gradient descent, OLS estimation provides a clear formula to directly calculate the optimal parameter values that minimizes the cost function. To understand OLS estimation, we need to first frame our linear regression problem in the matrix form. We've mostly worked with the following form of the linear regression model:\n",
    "\n",
    "$\\hat{y} = a_0 + a_1x_1 + a_2x_2 + ... + a_nx_n$\n",
    "\n",
    "While this form represents the relationship between the features ($x_1$ to $x_n$) and the target column ($y$) well when there are just a few parameter values, it doesn't scale well to when we have hundreds of parameters. If you recall from the [Linear Algebra for Machine Learning course](https://www.dataquest.io/course/linear-algebra-for-machine-learning), we explored how matrix notation lets us better represent and reason about a linear system with many variables. With that in mind, here's what the matrix form of our linear regression model looks like:\n",
    "\n",
    "$Xa  =  \\hat{y}$\n",
    "\n",
    "Where $X$ is a matrix representing the columns from the training set our model uses, $a$ is a vector representing the parameter values, and $y$ is the vector of predictions. Here's a diagram with some sample values for each:\n",
    "\n",
    "**broken image link, fix later**\n",
    "\n",
    "Now that we've gained an understanding for the matrix representation of the linear regression model, let's take a peek at the OLS estimation formula that results in the optimal vector $A$:\n",
    "\n",
    "$a = (X^TX)^{-1} X^Ty$\n",
    "\n",
    "**NOTE: $(X^TX)^{-1} X^T$ is called the [Moore–Penrose pseudoinverse](https://en.wikipedia.org/wiki/Moore–Penrose_pseudoinverse) matrix of X. This formulation highlights the point that estimation can be carried out if, and only if, there is no perfect [multicollinearity](https://en.wikipedia.org/wiki/Multicollinearity) between the explanatory variables (which would cause the matrix $(X^TX)$ to have no inverse).**\n",
    "\n",
    "Let's start by computing OLS estimation to find the best parameters for a model using the following features:\n",
    "\n",
    "    features = ['Wood Deck SF', 'Fireplaces', 'Full Bath', '1st Flr SF', 'Garage Area',\n",
    "           'Gr Liv Area', 'Overall Qual']\n",
    "           \n",
    "In the following screens, we'll dive into the mathematical derivation of the OLS estimation technique. It's important to note that you'll most likely never implement this technique in a data science role and will instead use an existing, efficient implementation (scikit-learn uses OLS under the hood when you call `fit()` on a [LinearRegression instance](http://scikit-learn.org/stable/modules/generated/sklearn.linear_model.LinearRegression.html)).\n",
    "\n",
    "#### Instructions:\n",
    "- Select just the features in features from the training set and assign to X.\n",
    "- Select the SalePrice column from the training set and assign to y.\n",
    "- Use the OLS estimation formula to return the optimal parameter values.         "
   ]
  },
  {
   "cell_type": "code",
   "execution_count": 56,
   "metadata": {
    "collapsed": false
   },
   "outputs": [
    {
     "data": {
      "text/html": [
       "<div>\n",
       "<style>\n",
       "    .dataframe thead tr:only-child th {\n",
       "        text-align: right;\n",
       "    }\n",
       "\n",
       "    .dataframe thead th {\n",
       "        text-align: left;\n",
       "    }\n",
       "\n",
       "    .dataframe tbody tr th {\n",
       "        vertical-align: top;\n",
       "    }\n",
       "</style>\n",
       "<table border=\"1\" class=\"dataframe\">\n",
       "  <thead>\n",
       "    <tr style=\"text-align: right;\">\n",
       "      <th></th>\n",
       "      <th>const</th>\n",
       "      <th>Wood Deck SF</th>\n",
       "      <th>Fireplaces</th>\n",
       "      <th>Full Bath</th>\n",
       "      <th>1st Flr SF</th>\n",
       "      <th>Garage Area</th>\n",
       "      <th>Gr Liv Area</th>\n",
       "      <th>Overall Qual</th>\n",
       "    </tr>\n",
       "  </thead>\n",
       "  <tbody>\n",
       "    <tr>\n",
       "      <th>0</th>\n",
       "      <td>1.0</td>\n",
       "      <td>210</td>\n",
       "      <td>2</td>\n",
       "      <td>1</td>\n",
       "      <td>1656</td>\n",
       "      <td>528.0</td>\n",
       "      <td>1656</td>\n",
       "      <td>6</td>\n",
       "    </tr>\n",
       "    <tr>\n",
       "      <th>1</th>\n",
       "      <td>1.0</td>\n",
       "      <td>140</td>\n",
       "      <td>0</td>\n",
       "      <td>1</td>\n",
       "      <td>896</td>\n",
       "      <td>730.0</td>\n",
       "      <td>896</td>\n",
       "      <td>5</td>\n",
       "    </tr>\n",
       "    <tr>\n",
       "      <th>2</th>\n",
       "      <td>1.0</td>\n",
       "      <td>393</td>\n",
       "      <td>0</td>\n",
       "      <td>1</td>\n",
       "      <td>1329</td>\n",
       "      <td>312.0</td>\n",
       "      <td>1329</td>\n",
       "      <td>6</td>\n",
       "    </tr>\n",
       "    <tr>\n",
       "      <th>3</th>\n",
       "      <td>1.0</td>\n",
       "      <td>0</td>\n",
       "      <td>2</td>\n",
       "      <td>2</td>\n",
       "      <td>2110</td>\n",
       "      <td>522.0</td>\n",
       "      <td>2110</td>\n",
       "      <td>7</td>\n",
       "    </tr>\n",
       "    <tr>\n",
       "      <th>4</th>\n",
       "      <td>1.0</td>\n",
       "      <td>212</td>\n",
       "      <td>1</td>\n",
       "      <td>2</td>\n",
       "      <td>928</td>\n",
       "      <td>482.0</td>\n",
       "      <td>1629</td>\n",
       "      <td>5</td>\n",
       "    </tr>\n",
       "  </tbody>\n",
       "</table>\n",
       "</div>"
      ],
      "text/plain": [
       "   const  Wood Deck SF  Fireplaces  Full Bath  1st Flr SF  Garage Area  \\\n",
       "0    1.0           210           2          1        1656        528.0   \n",
       "1    1.0           140           0          1         896        730.0   \n",
       "2    1.0           393           0          1        1329        312.0   \n",
       "3    1.0             0           2          2        2110        522.0   \n",
       "4    1.0           212           1          2         928        482.0   \n",
       "\n",
       "   Gr Liv Area  Overall Qual  \n",
       "0         1656             6  \n",
       "1          896             5  \n",
       "2         1329             6  \n",
       "3         2110             7  \n",
       "4         1629             5  "
      ]
     },
     "execution_count": 56,
     "metadata": {},
     "output_type": "execute_result"
    }
   ],
   "source": [
    "X = train[features].copy()\n",
    "from statsmodels.api import add_constant\n",
    "X = add_constant(X) # add const column for intercept parameter\n",
    "y = train['SalePrice']\n",
    "\n",
    "X.head()"
   ]
  },
  {
   "cell_type": "code",
   "execution_count": 57,
   "metadata": {
    "collapsed": false
   },
   "outputs": [
    {
     "name": "stdout",
     "output_type": "stream",
     "text": [
      "(1, 8)\n",
      "[[ -1.12764871e+05   3.78815268e+01   7.08698430e+03  -2.22197281e+03\n",
      "    4.31853639e+01   6.48808564e+01   3.87112549e+01   2.45531837e+04]]\n"
     ]
    }
   ],
   "source": [
    "XT = np.transpose(X)\n",
    "XTX = np.dot(XT, np.matrix(X))\n",
    "XTX_inv = np.linalg.inv(XTX)\n",
    "\n",
    "Beta_hat = np.dot(np.dot(XTX_inv, XT), y)\n",
    "\n",
    "print(Beta_hat.shape)\n",
    "print(Beta_hat)"
   ]
  },
  {
   "cell_type": "markdown",
   "metadata": {},
   "source": [
    "## Cost Function\n",
    "\n",
    "Unlike gradient descent, OLS estimation provides what is known as a **closed form solution** to the problem of finding the optimal parameter values. A closed form solution is one where a solution can be computed arithmetically with a predictable amount of mathematical operations. Gradient descent, on the other hand, is an algorithmic approach that can require a different number of iteration (and therefore a different number of mathematical operations) based on the initial parameter values, the learning rate, etc. While the approach is different, both techniques share the high level objective of minimizing the cost function.\n",
    "\n",
    "Before we can dive into how the cost function is represented in the matrix form, let's understand how the error is represented. Because the error is the difference between the predictions made using the model $\\hat y$ and the actual labels $y$, it's represented as a vector. The greek letter for E (epsilon $\\epsilon$) is often used to represent the error vector:\n",
    "\n",
    "$\\epsilon =  \\hat{y} - y$\n",
    "\n",
    "We can build on this to define $y$:\n",
    "\n",
    "$y = Xa + \\epsilon$\n",
    "\n",
    "Even though this closely resembles the matrix equation of $Ax+b$, we have 2 unknowns (the vector $a$ and the vector $\\hat y$. We're looking for a model, represented using the parameter vector $a$, that will minimize the mean squared error between the labels, $y$, and the predictions, $\\hat y$. Said another way, the cost function is this mean squared error.\n",
    "\n",
    "Here's what the cost function looks like in matrix form:\n",
    "\n",
    "$J(a) = \\dfrac{1}{n} (Xa - y)^T(Xa - y)$"
   ]
  },
  {
   "cell_type": "markdown",
   "metadata": {},
   "source": [
    "## 3: Derivative Of The Cost Function\n",
    "\n",
    "The derivative of the cost function is decently involved, and out of scope for this mission. Understanding the derivation requires some familiarity with [matrix calculus](https://en.wikipedia.org/wiki/Matrix_calculus), which is a specific notation for applying calculus concepts to matrices. If you're interested in the derivation, we recommend that you read Eli Bendersky's wonderful walkthrough of the derivation [on his blog](http://eli.thegreenplace.net/2015/the-normal-equation-and-matrix-calculus/).\n",
    "\n",
    "Here's the derivative of the cost function:\n",
    "\n",
    "$\\frac{dJ(a)}{da} = 2X^TXa - 2X^Ty$\n",
    "\n",
    "To find the vector $a$ that minmizes the cost function $J(a)$, we need to set the derivative equal to $0$ and solve for $a$:\n",
    "\n",
    "$2X^TXa - 2X^Ty = 0$\n",
    "\n",
    "Let's move the second term to the right hand side and divide both sides by $2$:\n",
    "\n",
    "$X^TXa = X^Ty$\n",
    "\n",
    "Our goal is to isolate $a$, the parameter vector. The last step we need to perform is \"divide out\" $X^TX$ from the left hand side.\n",
    "\n",
    "If you recall, we can \"divide\" matrix terms by computing the inverse. Let's dig up the example we explored in the linear algebra course. We can cancel $A$ from the following equation $Ax=b$ by multiplying both sides by the inverse $A^{-1}Ax = A^{-1}b$. This leaves us with $x = A^{-1}b$.\n",
    "\n",
    "To cancel $X^TX$  from the left side, we need to compute the inverse of it and multiply it by both sides. We're now left with the OLS estimation formula:\n",
    "\n",
    "$a = (X^TX)^{-1}X^Ty$"
   ]
  },
  {
   "cell_type": "markdown",
   "metadata": {},
   "source": [
    "## 4: Gradient Descent Vs. Ordinary Least Squares\n",
    "\n",
    "Now that we've explored a lot of the math that underlies OLS estimation, let's understand its limitations. The biggest limitation is that OLS estimation is computationally expensive when the data is large. This is because computing a matrix inverse has a computational complexity of approximately $O(n^3)$. You can read more about computational complexity of the matrix inverse and other common matrix operations [on Wikipedia](https://en.wikipedia.org/wiki/Computational_complexity_of_mathematical_operations#Matrix_algebra).\n",
    "\n",
    "OLS is commonly used when the number of elements in the dataset (and therefore the matrix that's inverted) is less than a few million elements. On larger datasets, gradient descent is used because it's much more flexible. For many practical problems, we can set a threshold accuracy value (or a set number of iterations) and use a \"good enough\" solution. This is especially useful when iterating and trying different features in our model."
   ]
  },
  {
   "cell_type": "markdown",
   "metadata": {},
   "source": [
    "## 5: Next Steps\n",
    "\n",
    "In this mission, we explored a closed form solution to fitting a linear regression model called OLS estimation. We explored some of the intuition behind the math for this technique and ended by exploring it's computational complexity. In the next mission, we'll explore how to clean some of the remaining features in the training set to use in our model."
   ]
  }
 ],
 "metadata": {
  "kernelspec": {
   "display_name": "Python 3",
   "language": "python",
   "name": "python3"
  },
  "language_info": {
   "codemirror_mode": {
    "name": "ipython",
    "version": 3
   },
   "file_extension": ".py",
   "mimetype": "text/x-python",
   "name": "python",
   "nbconvert_exporter": "python",
   "pygments_lexer": "ipython3",
   "version": "3.6.0"
  }
 },
 "nbformat": 4,
 "nbformat_minor": 2
}
