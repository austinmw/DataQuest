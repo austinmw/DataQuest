{
 "cells": [
  {
   "cell_type": "markdown",
   "metadata": {},
   "source": [
    "# The Linear Regression Model\n",
    "### Learn how to use linear regression for machine learning.\n",
    "\n",
    "##### Contents:\n",
    "- Parametric vs. Nonparametric\n",
    "- Intro to the Data\n",
    "- Simple Linear Regression (univariate)\n",
    "    - pandas.DataFrame.corr()\n",
    "    - Residual Sum Of Squares (RSS)\n",
    "        - comparison to MSE\n",
    "- sklearn.linear_model.LinearRegression\n",
    "- Multiple Linear Regression (multivariate)\n",
    "- \n",
    "\n",
    "\n",
    "## 1: Instance Based Learning Vs. Model Based Learning\n",
    "\n",
    "In the first course in this step, **Machine Learning Fundamentals**, we walked through the full machine learning workflow using the k-nearest neighbors algorithm. K-nearest neighbors works by finding similar, labelled examples from the training set for each instance in the test set and uses them to predict the label. K-nearest neighbors is known as an [instance-based learning](https://en.wikipedia.org/wiki/Instance-based_learning) algorithm because it relies completely on previous instances to make predictions. The k-nearest neighbors algorithm doesn't try to understand or capture the relationship between the feature columns and the target column.\n",
    "\n",
    "Because the entire training dataset is used to find a new instance's nearest neighbors to make label predictions, this algorithm doesn't scale well to medium and larger datasets. If we have a million instances in our training data set and we want to make predictions for a hundred thousand new instances, we'd have to sort the million instances in the training set by Euclidean distance for *each* instance. The following diagram provides an overview of the complexity of k-nearest neighbors:\n",
    "\n",
    "<img src=\"img/knn_complexity.svg\">\n",
    "\n",
    "We need to instead learn about **parametric machine learning** approaches, like linear regression and logistic regression. Unlike the k-nearest neighbors algorithm, the result of the training process for these machine learning algorithms is a mathematical function that best approximates the patterns in the training set. In machine learning, this function is often referred to as a model.\n",
    "\n",
    "In this course, we'll explore the most commonly used machine learning model -- the **linear regression model**. Parametric machine learning approaches work by making assumptions about the relationship between the features and the target column. In linear regression, the approximate relationship between the feature columns and the target column is expressed as a linear regression equation:\n",
    "\n",
    "$y = a_1x_1 + a_2x_2 + a_3x_3 + ... + a_nx_n$\n",
    "\n",
    "The following diagram provides an overview of the machine learning process for linear regression. For now, the goal isn't to understand the entire process but more to compare and contrast with the **nonparametric** approach of k-nearest neighbors.\n",
    "\n",
    "<img src=\"img/regression_complexity.svg\">\n",
    "\n",
    "In this mission, we'll provide an overview of how we use a linear regression model to make predictions. We'll use scikit-learn for the model training process, so we can focus on gaining intuition for the model-based learning approach to machine learning. In later missions in this course, we'll dive the math behind how a model is fit to the dataset, how to select and transform features, and more.\n",
    "\n",
    "In the next screen, we'll introduce the dataset we'll be using throughout this course."
   ]
  },
  {
   "cell_type": "markdown",
   "metadata": {},
   "source": [
    "## 2: Introduction To The Data\n",
    "\n",
    "To get familiar with this machine learning approach, we'll work with a dataset on sold houses in Ames, Iowa. Each row in the dataset describes the properties of a single house as well as the amount it was sold for. In this course, we'll build models that predict the final sale price from its other other attributes. Specifically, we'll explore the following questions:\n",
    "\n",
    "- Which properties of a house most affect the final sale price?\n",
    "- How effectively can we predict the sale price from just its properties?\n",
    "\n",
    "This dataset was originally compiled by [Dean De Cock](http://www.truman.edu/faculty-staff/decock/) for the primary purpose of having a high quality dataset for regression. You can read more about his process and motivation [here](http://ww2.amstat.org/publications/jse/v19n3/decock.pdf) and download the dataset [here](https://ww2.amstat.org/publications/jse/v19n3/decock/AmesHousing.txt).\n",
    "\n",
    "Here are some of the columns:\n",
    "\n",
    "- Lot Area: Lot size in square feet.\n",
    "- Overall Qual: Rates the overall material and finish of the house.\n",
    "- Overall Cond: Rates the overall condition of the house.\n",
    "- Year Built: Original construction date.\n",
    "- Low Qual Fin SF: Low quality finished square feet (all floors).\n",
    "- Full Bath: Full bathrooms above grade.\n",
    "- Fireplaces: Number of fireplaces.\n",
    "\n",
    "Let's start by generating train and test datasets and getting more familiar with the data.\n",
    "\n",
    "#### Instructions:\n",
    "\n",
    "- Read AmesHousing.txt into a dataframe using the tab delimiter (\\t) and assign to data.\n",
    "- Select the first 1460 rows from from data and assign to train.\n",
    "- Select the remaining rows from data and assign to test.\n",
    "- Use the dataframe.info() method to display information about each column.\n",
    "- Read the data documentation to get more familiar with each column.\n",
    "- Using the data documentation, determine which column is the target column we want to predict. Assign the column name as a string to target."
   ]
  },
  {
   "cell_type": "code",
   "execution_count": 11,
   "metadata": {
    "collapsed": true
   },
   "outputs": [],
   "source": [
    "import numpy as np\n",
    "import pandas as pd\n",
    "import matplotlib.pyplot as plt\n",
    "import seaborn as sns\n",
    "%matplotlib inline"
   ]
  },
  {
   "cell_type": "code",
   "execution_count": 14,
   "metadata": {
    "collapsed": false
   },
   "outputs": [
    {
     "data": {
      "text/html": [
       "<div>\n",
       "<style>\n",
       "    .dataframe thead tr:only-child th {\n",
       "        text-align: right;\n",
       "    }\n",
       "\n",
       "    .dataframe thead th {\n",
       "        text-align: left;\n",
       "    }\n",
       "\n",
       "    .dataframe tbody tr th {\n",
       "        vertical-align: top;\n",
       "    }\n",
       "</style>\n",
       "<table border=\"1\" class=\"dataframe\">\n",
       "  <thead>\n",
       "    <tr style=\"text-align: right;\">\n",
       "      <th></th>\n",
       "      <th>Order</th>\n",
       "      <th>PID</th>\n",
       "      <th>MS SubClass</th>\n",
       "      <th>MS Zoning</th>\n",
       "      <th>Lot Frontage</th>\n",
       "      <th>Lot Area</th>\n",
       "      <th>Street</th>\n",
       "      <th>Alley</th>\n",
       "      <th>Lot Shape</th>\n",
       "      <th>Land Contour</th>\n",
       "      <th>...</th>\n",
       "      <th>Pool Area</th>\n",
       "      <th>Pool QC</th>\n",
       "      <th>Fence</th>\n",
       "      <th>Misc Feature</th>\n",
       "      <th>Misc Val</th>\n",
       "      <th>Mo Sold</th>\n",
       "      <th>Yr Sold</th>\n",
       "      <th>Sale Type</th>\n",
       "      <th>Sale Condition</th>\n",
       "      <th>SalePrice</th>\n",
       "    </tr>\n",
       "  </thead>\n",
       "  <tbody>\n",
       "    <tr>\n",
       "      <th>0</th>\n",
       "      <td>1</td>\n",
       "      <td>526301100</td>\n",
       "      <td>20</td>\n",
       "      <td>RL</td>\n",
       "      <td>141.0</td>\n",
       "      <td>31770</td>\n",
       "      <td>Pave</td>\n",
       "      <td>NaN</td>\n",
       "      <td>IR1</td>\n",
       "      <td>Lvl</td>\n",
       "      <td>...</td>\n",
       "      <td>0</td>\n",
       "      <td>NaN</td>\n",
       "      <td>NaN</td>\n",
       "      <td>NaN</td>\n",
       "      <td>0</td>\n",
       "      <td>5</td>\n",
       "      <td>2010</td>\n",
       "      <td>WD</td>\n",
       "      <td>Normal</td>\n",
       "      <td>215000</td>\n",
       "    </tr>\n",
       "    <tr>\n",
       "      <th>1</th>\n",
       "      <td>2</td>\n",
       "      <td>526350040</td>\n",
       "      <td>20</td>\n",
       "      <td>RH</td>\n",
       "      <td>80.0</td>\n",
       "      <td>11622</td>\n",
       "      <td>Pave</td>\n",
       "      <td>NaN</td>\n",
       "      <td>Reg</td>\n",
       "      <td>Lvl</td>\n",
       "      <td>...</td>\n",
       "      <td>0</td>\n",
       "      <td>NaN</td>\n",
       "      <td>MnPrv</td>\n",
       "      <td>NaN</td>\n",
       "      <td>0</td>\n",
       "      <td>6</td>\n",
       "      <td>2010</td>\n",
       "      <td>WD</td>\n",
       "      <td>Normal</td>\n",
       "      <td>105000</td>\n",
       "    </tr>\n",
       "    <tr>\n",
       "      <th>2</th>\n",
       "      <td>3</td>\n",
       "      <td>526351010</td>\n",
       "      <td>20</td>\n",
       "      <td>RL</td>\n",
       "      <td>81.0</td>\n",
       "      <td>14267</td>\n",
       "      <td>Pave</td>\n",
       "      <td>NaN</td>\n",
       "      <td>IR1</td>\n",
       "      <td>Lvl</td>\n",
       "      <td>...</td>\n",
       "      <td>0</td>\n",
       "      <td>NaN</td>\n",
       "      <td>NaN</td>\n",
       "      <td>Gar2</td>\n",
       "      <td>12500</td>\n",
       "      <td>6</td>\n",
       "      <td>2010</td>\n",
       "      <td>WD</td>\n",
       "      <td>Normal</td>\n",
       "      <td>172000</td>\n",
       "    </tr>\n",
       "    <tr>\n",
       "      <th>3</th>\n",
       "      <td>4</td>\n",
       "      <td>526353030</td>\n",
       "      <td>20</td>\n",
       "      <td>RL</td>\n",
       "      <td>93.0</td>\n",
       "      <td>11160</td>\n",
       "      <td>Pave</td>\n",
       "      <td>NaN</td>\n",
       "      <td>Reg</td>\n",
       "      <td>Lvl</td>\n",
       "      <td>...</td>\n",
       "      <td>0</td>\n",
       "      <td>NaN</td>\n",
       "      <td>NaN</td>\n",
       "      <td>NaN</td>\n",
       "      <td>0</td>\n",
       "      <td>4</td>\n",
       "      <td>2010</td>\n",
       "      <td>WD</td>\n",
       "      <td>Normal</td>\n",
       "      <td>244000</td>\n",
       "    </tr>\n",
       "    <tr>\n",
       "      <th>4</th>\n",
       "      <td>5</td>\n",
       "      <td>527105010</td>\n",
       "      <td>60</td>\n",
       "      <td>RL</td>\n",
       "      <td>74.0</td>\n",
       "      <td>13830</td>\n",
       "      <td>Pave</td>\n",
       "      <td>NaN</td>\n",
       "      <td>IR1</td>\n",
       "      <td>Lvl</td>\n",
       "      <td>...</td>\n",
       "      <td>0</td>\n",
       "      <td>NaN</td>\n",
       "      <td>MnPrv</td>\n",
       "      <td>NaN</td>\n",
       "      <td>0</td>\n",
       "      <td>3</td>\n",
       "      <td>2010</td>\n",
       "      <td>WD</td>\n",
       "      <td>Normal</td>\n",
       "      <td>189900</td>\n",
       "    </tr>\n",
       "  </tbody>\n",
       "</table>\n",
       "<p>5 rows × 82 columns</p>\n",
       "</div>"
      ],
      "text/plain": [
       "   Order        PID  MS SubClass MS Zoning  Lot Frontage  Lot Area Street  \\\n",
       "0      1  526301100           20        RL         141.0     31770   Pave   \n",
       "1      2  526350040           20        RH          80.0     11622   Pave   \n",
       "2      3  526351010           20        RL          81.0     14267   Pave   \n",
       "3      4  526353030           20        RL          93.0     11160   Pave   \n",
       "4      5  527105010           60        RL          74.0     13830   Pave   \n",
       "\n",
       "  Alley Lot Shape Land Contour    ...     Pool Area Pool QC  Fence  \\\n",
       "0   NaN       IR1          Lvl    ...             0     NaN    NaN   \n",
       "1   NaN       Reg          Lvl    ...             0     NaN  MnPrv   \n",
       "2   NaN       IR1          Lvl    ...             0     NaN    NaN   \n",
       "3   NaN       Reg          Lvl    ...             0     NaN    NaN   \n",
       "4   NaN       IR1          Lvl    ...             0     NaN  MnPrv   \n",
       "\n",
       "  Misc Feature Misc Val Mo Sold Yr Sold Sale Type  Sale Condition  SalePrice  \n",
       "0          NaN        0       5    2010       WD           Normal     215000  \n",
       "1          NaN        0       6    2010       WD           Normal     105000  \n",
       "2         Gar2    12500       6    2010       WD           Normal     172000  \n",
       "3          NaN        0       4    2010       WD           Normal     244000  \n",
       "4          NaN        0       3    2010       WD           Normal     189900  \n",
       "\n",
       "[5 rows x 82 columns]"
      ]
     },
     "execution_count": 14,
     "metadata": {},
     "output_type": "execute_result"
    }
   ],
   "source": [
    "data = pd.read_table(\"data/AmesHousing.txt\", delimiter=\"\\t\")\n",
    "data.head()"
   ]
  },
  {
   "cell_type": "code",
   "execution_count": 8,
   "metadata": {
    "collapsed": false
   },
   "outputs": [
    {
     "name": "stdout",
     "output_type": "stream",
     "text": [
      "<class 'pandas.core.frame.DataFrame'>\n",
      "RangeIndex: 2930 entries, 0 to 2929\n",
      "Data columns (total 82 columns):\n",
      "Order              2930 non-null int64\n",
      "PID                2930 non-null int64\n",
      "MS SubClass        2930 non-null int64\n",
      "MS Zoning          2930 non-null object\n",
      "Lot Frontage       2440 non-null float64\n",
      "Lot Area           2930 non-null int64\n",
      "Street             2930 non-null object\n",
      "Alley              198 non-null object\n",
      "Lot Shape          2930 non-null object\n",
      "Land Contour       2930 non-null object\n",
      "Utilities          2930 non-null object\n",
      "Lot Config         2930 non-null object\n",
      "Land Slope         2930 non-null object\n",
      "Neighborhood       2930 non-null object\n",
      "Condition 1        2930 non-null object\n",
      "Condition 2        2930 non-null object\n",
      "Bldg Type          2930 non-null object\n",
      "House Style        2930 non-null object\n",
      "Overall Qual       2930 non-null int64\n",
      "Overall Cond       2930 non-null int64\n",
      "Year Built         2930 non-null int64\n",
      "Year Remod/Add     2930 non-null int64\n",
      "Roof Style         2930 non-null object\n",
      "Roof Matl          2930 non-null object\n",
      "Exterior 1st       2930 non-null object\n",
      "Exterior 2nd       2930 non-null object\n",
      "Mas Vnr Type       2907 non-null object\n",
      "Mas Vnr Area       2907 non-null float64\n",
      "Exter Qual         2930 non-null object\n",
      "Exter Cond         2930 non-null object\n",
      "Foundation         2930 non-null object\n",
      "Bsmt Qual          2850 non-null object\n",
      "Bsmt Cond          2850 non-null object\n",
      "Bsmt Exposure      2847 non-null object\n",
      "BsmtFin Type 1     2850 non-null object\n",
      "BsmtFin SF 1       2929 non-null float64\n",
      "BsmtFin Type 2     2849 non-null object\n",
      "BsmtFin SF 2       2929 non-null float64\n",
      "Bsmt Unf SF        2929 non-null float64\n",
      "Total Bsmt SF      2929 non-null float64\n",
      "Heating            2930 non-null object\n",
      "Heating QC         2930 non-null object\n",
      "Central Air        2930 non-null object\n",
      "Electrical         2929 non-null object\n",
      "1st Flr SF         2930 non-null int64\n",
      "2nd Flr SF         2930 non-null int64\n",
      "Low Qual Fin SF    2930 non-null int64\n",
      "Gr Liv Area        2930 non-null int64\n",
      "Bsmt Full Bath     2928 non-null float64\n",
      "Bsmt Half Bath     2928 non-null float64\n",
      "Full Bath          2930 non-null int64\n",
      "Half Bath          2930 non-null int64\n",
      "Bedroom AbvGr      2930 non-null int64\n",
      "Kitchen AbvGr      2930 non-null int64\n",
      "Kitchen Qual       2930 non-null object\n",
      "TotRms AbvGrd      2930 non-null int64\n",
      "Functional         2930 non-null object\n",
      "Fireplaces         2930 non-null int64\n",
      "Fireplace Qu       1508 non-null object\n",
      "Garage Type        2773 non-null object\n",
      "Garage Yr Blt      2771 non-null float64\n",
      "Garage Finish      2771 non-null object\n",
      "Garage Cars        2929 non-null float64\n",
      "Garage Area        2929 non-null float64\n",
      "Garage Qual        2771 non-null object\n",
      "Garage Cond        2771 non-null object\n",
      "Paved Drive        2930 non-null object\n",
      "Wood Deck SF       2930 non-null int64\n",
      "Open Porch SF      2930 non-null int64\n",
      "Enclosed Porch     2930 non-null int64\n",
      "3Ssn Porch         2930 non-null int64\n",
      "Screen Porch       2930 non-null int64\n",
      "Pool Area          2930 non-null int64\n",
      "Pool QC            13 non-null object\n",
      "Fence              572 non-null object\n",
      "Misc Feature       106 non-null object\n",
      "Misc Val           2930 non-null int64\n",
      "Mo Sold            2930 non-null int64\n",
      "Yr Sold            2930 non-null int64\n",
      "Sale Type          2930 non-null object\n",
      "Sale Condition     2930 non-null object\n",
      "SalePrice          2930 non-null int64\n",
      "dtypes: float64(11), int64(28), object(43)\n",
      "memory usage: 1.8+ MB\n"
     ]
    }
   ],
   "source": [
    "train = data.iloc[:1460]\n",
    "test = data.iloc[1460:]\n",
    "data.info()"
   ]
  },
  {
   "cell_type": "code",
   "execution_count": 10,
   "metadata": {
    "collapsed": false
   },
   "outputs": [],
   "source": [
    "target = \"SalePrice\""
   ]
  },
  {
   "cell_type": "markdown",
   "metadata": {},
   "source": [
    "## 3: Simple Linear Regression\n",
    "\n",
    "We'll start by understanding the univariate case of linear regression, also known as **simple linear regression**. The following equation is the general form of the simple linear regression model.\n",
    "\n",
    "$\\hat{y} = a_1x_1 + a_0$\n",
    "\n",
    "$\\hat{y}$ represents the target column while $x_1$ represents the feature column we choose to use in our model. These values are independent of the dataset. On the other hand, $a_0$ and $a_1$ represent the **parameter** values that are specific to the dataset. The goal of simple linear regression is to find the optimal parameter values that best describe the relationship between the feature column and the target column. The following diagram shows different simple linear regression models depending on the data:\n",
    "\n",
    "<img src=\"img/simple_linear_regression.svg\">\n",
    "\n",
    "The first step is to select the feature, $x_1$, we want to use in our model. Once we select this feature, we can use scikit-learn to determine the optimal parameter values $a_1$ and $a_0$ based on the training data. Because one of the assumptions of linear regression is that the relationship between the feature(s) and the target column is linear, we want to pick a feature that seems like it has the strongest correlation with the final sale price.\n",
    "\n",
    "#### Instructions:\n",
    "- Generate 3 scatter plots in the same column:\n",
    "    - The first plot should plot the Garage Area column on the x-axis against the SalePrice column on the y-axis.\n",
    "    - The second one should plot the Gr Liv Area column on the x-axis against the SalePrice column on the y-axis.\n",
    "    - The third one should plot the Overall Cond column on the x-axis against the SalePrice column on the y-axis.\n",
    "- Read more about these 3 columns in the data documentation."
   ]
  },
  {
   "cell_type": "code",
   "execution_count": 24,
   "metadata": {
    "collapsed": false
   },
   "outputs": [
    {
     "data": {
      "text/plain": [
       "<matplotlib.collections.PathCollection at 0x11c79dda0>"
      ]
     },
     "execution_count": 24,
     "metadata": {},
     "output_type": "execute_result"
    },
    {
     "data": {
      "image/png": "[encoded data removed]",
      "text/plain": [
       "<matplotlib.figure.Figure at 0x11d364f98>"
      ]
     },
     "metadata": {},
     "output_type": "display_data"
    }
   ],
   "source": [
    "f, axes = plt.subplots(3, 1)\n",
    "f.set_size_inches(5,15)\n",
    "axes[0].scatter(data['Garage Area'], data['SalePrice'])\n",
    "axes[1].scatter(data['Gr Liv Area'], data['SalePrice'])\n",
    "axes[2].scatter(data['Overall Cond'], data['SalePrice'])"
   ]
  },
  {
   "cell_type": "markdown",
   "metadata": {},
   "source": [
    "## 4: Least Squares\n",
    "\n",
    "From the last screen, we can tell that the `GrLivArea` feature correlates the most with the `SalePrice` column. We can confirm this by calculating the correlation between pairs of these columns using the [pandas.DataFrame.corr()](https://pandas.pydata.org/pandas-docs/stable/generated/pandas.DataFrame.corr.html) method:\n",
    "\n",
    "    >>> train[['GarageArea', 'GrLivArea', 'OverallCond', 'SalePrice']].corr()\n",
    "                 GarageArea  GrLivArea  OverallCond  SalePrice\n",
    "    GarageArea     1.000000   0.468997    -0.151521   0.623431\n",
    "    GrLivArea      0.468997   1.000000    -0.079686   0.708624\n",
    "    OverallCond   -0.151521  -0.079686     1.000000  -0.077856\n",
    "    SalePrice      0.623431   0.708624    -0.077856   1.000000\n",
    "    \n",
    "The correlation between `GrLivArea` and `SalePrice` is around `0.709`, which is the highest. Recall that the closer the correlation coefficient is to `1.0`, the stronger the correlation. Here's the updated form of our model:    \n",
    "\n",
    "$\\hat{y} = a_1*GrLivArea + a_0$\n",
    "\n",
    "Let's now move on to understanding the model fitting criteria.\n",
    "\n",
    "**Residual Sum Of Squares**\n",
    "\n",
    "To find the optimal parameters for a linear regression model, we want to optimize the model's **residual sum of squares** (or [RSS](https://en.wikipedia.org/wiki/Residual_sum_of_squares)). If you call, residual (often referred to as errors) describes the difference between the predicted values for the target column ($\\hat y$) and the true values ($y$):\n",
    "\n",
    "<img src=\"img/visualizing_rss.svg\">\n",
    "\n",
    "We want this difference to be as small as possible. Calculating RSS involves summing the *squared* errors:\n",
    "\n",
    "$RSS = (y_1 - \\hat{y_1})^2 +  (y_2 - \\hat{y_2})^2 + ... + (y_n - \\hat{y_n})^2$\n",
    "\n",
    "We can shorten this to:\n",
    "\n",
    "$RSS = \\sum_{i=1}^{n} (y_i - \\hat{y_i})^2$\n",
    "\n",
    "If you recall, the calculation for RSS seems very similar to the calculation for MSE (mean squared error). Here's the formula for MSE, adapted for our new notation:\n",
    "\n",
    "$MSE = \\frac{1}{n} \\sum_{i=1}^{n} (y_i - \\hat{y_i})^2$\n",
    "\n",
    "While we used the MSE on the test set, it's clear that the goal of minimizing RSS on the training set when training is a good idea."
   ]
  },
  {
   "cell_type": "markdown",
   "metadata": {},
   "source": [
    "## 5: Using Scikit-Learn To Train And Predict\n",
    "\n",
    "Let's now use scikit-learn to find the optimal parameter values for our model. The scikit-learn library was designed to easily swap and try different models. Because we're familiar with the scikit-learn workflow for k-nearest neighbors, switching to using linear regression is straightforward.\n",
    "\n",
    "Instead of working with the `sklearn.neighbors.KNeighborsRegressors` class, we work with the `sklearn.linear_model.LinearRegression` class. The `LinearRegression` class also has it's own `fit()` method. Specific to this model, however, is the `coef_` and `intercept_` attributes, which return $a_1$ ($a_1$ to $a_n$ if it were a multivariate regression model) and $a_0$accordingly.\n",
    "\n",
    "#### Instructions:\n",
    "- Import and instantiate a linear regression model.\n",
    "- Fit a linear regression model that uses the feature and target columns we explored in the last 2 screens. Use the default arguments.\n",
    "- Display the coefficient and intercept of the fitted model using the coef_ and intercept_ attributes.\n",
    "- Assign $a_1$ to a1 and $a_0$ to a0."
   ]
  },
  {
   "cell_type": "code",
   "execution_count": 27,
   "metadata": {
    "collapsed": false
   },
   "outputs": [
    {
     "name": "stdout",
     "output_type": "stream",
     "text": [
      "5366.82171006 [ 116.86624683]\n"
     ]
    }
   ],
   "source": [
    "from sklearn.linear_model import LinearRegression\n",
    "\n",
    "model = LinearRegression()\n",
    "model.fit(train[['Gr Liv Area']], train.SalePrice)\n",
    "a1 = model.coef_\n",
    "a0 = model.intercept_\n",
    "\n",
    "print(a0, a1)"
   ]
  },
  {
   "cell_type": "markdown",
   "metadata": {},
   "source": [
    "## 6: Making Predictions\n",
    "\n",
    "In the last step, we fit a univariate linear regression model between the `GrLivArea` and `SalePrice` column. We then displayed the single coefficient and the residuel value. If we refer back to the format of our linear regression model, the fitted model can be represented as:\n",
    "\n",
    "$\\hat{y} = 116.86624683x_1 + 5366.82171006$\n",
    "\n",
    "One way to interpret this model is \"for every 1 square foot increase in above ground living area, we can expect the home's value to increase by approximately 116.87 dollars\".\n",
    "\n",
    "We can now use the `predict()` method to predict the labels using the training data and compare them with the actual labels. To quantify the fit, we can use mean squared error. Let's also perform simple validation by making predictions on the test set and calculate the MSE value for those predictions as well.\n",
    "\n",
    "#### Instructions:\n",
    "- Use the fitted model to make predictions on both the training and test sets.\n",
    "- Calculate the RMSE value for the predictions on the training set and assign to train_rmse.\n",
    "- Calculate the RMSE value for the predictions on the training set and assign to test_rmse."
   ]
  },
  {
   "cell_type": "code",
   "execution_count": 30,
   "metadata": {
    "collapsed": false
   },
   "outputs": [
    {
     "name": "stdout",
     "output_type": "stream",
     "text": [
      "56034.3620014 57088.2516126\n"
     ]
    }
   ],
   "source": [
    "from sklearn.metrics import mean_squared_error\n",
    "\n",
    "train_predictions = model.predict(train[['Gr Liv Area']])\n",
    "train_mse = mean_squared_error(train_predictions, train.SalePrice)\n",
    "train_rmse = train_mse ** (1/2)\n",
    "\n",
    "test_predictions = model.predict(test[['Gr Liv Area']])\n",
    "test_mse = mean_squared_error(test_predictions, test.SalePrice)\n",
    "test_rmse = test_mse ** (1/2)\n",
    "\n",
    "print(train_rmse, test_rmse)"
   ]
  },
  {
   "cell_type": "markdown",
   "metadata": {},
   "source": [
    "## 7: Multiple Linear Regression\n",
    "\n",
    "Now that we've explored the basics of simple linear regression, we can extend what we've learned to the multivariate case (often called **multiple linear regression**). A multiple linear regression model allows us to capture the relationship between multiple feature columns and the target column. Here's what the formula looks like:\n",
    "\n",
    "$\\hat{y} = a_0 + a_1x_1 + a_2x_2 + ... + a_nx_n$\n",
    "\n",
    "When using multiple features, the main challenge is **selecting relevant features**. In a later mission in this course, we'll dive into some approaches for feature selection. For now, let's train a model using the following columns from the dataset to see how train and test RMSE values are improved.\n",
    "\n",
    "- Lot Area\n",
    "- Gr Liv Area\n",
    "\n",
    "#### Instructions:\n",
    "- Train a linear regression model using the columns in cols.\n",
    "- Use the fitted model to make predictions on both the training and test dataset.\n",
    "- Calculate the RMSE value for the predictions on the training set and assign to train_rmse_2.\n",
    "- Calculate the RMSE value for the predictions on the training set and assign to test_rmse_2."
   ]
  },
  {
   "cell_type": "code",
   "execution_count": 32,
   "metadata": {
    "collapsed": false
   },
   "outputs": [
    {
     "name": "stdout",
     "output_type": "stream",
     "text": [
      "56032.3980153\n",
      "57066.9077945\n"
     ]
    }
   ],
   "source": [
    "cols = ['Overall Cond', 'Gr Liv Area']\n",
    "model.fit(train[cols], train['SalePrice'])\n",
    "train_predictions = model.predict(train[cols])\n",
    "test_predictions = model.predict(test[cols])\n",
    "\n",
    "train_rmse_2 = np.sqrt(mean_squared_error(train_predictions, train['SalePrice']))\n",
    "test_rmse_2 = np.sqrt(mean_squared_error(test_predictions, test['SalePrice']))\n",
    "\n",
    "print(train_rmse_2)\n",
    "print(test_rmse_2)"
   ]
  },
  {
   "cell_type": "markdown",
   "metadata": {},
   "source": [
    "## 8: Next Steps\n",
    "\n",
    "In this mission, we explored the basics of linear regression for machine learning. In the next two missions, we'll dive deeply into 2 different approaches for fitting a linear regression model."
   ]
  }
 ],
 "metadata": {
  "kernelspec": {
   "display_name": "Python 3",
   "language": "python",
   "name": "python3"
  },
  "language_info": {
   "codemirror_mode": {
    "name": "ipython",
    "version": 3
   },
   "file_extension": ".py",
   "mimetype": "text/x-python",
   "name": "python",
   "nbconvert_exporter": "python",
   "pygments_lexer": "ipython3",
   "version": "3.6.0"
  }
 },
 "nbformat": 4,
 "nbformat_minor": 2
}
