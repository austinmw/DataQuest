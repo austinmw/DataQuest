{
 "cells": [
  {
   "cell_type": "markdown",
   "metadata": {},
   "source": [
    "# Finding Extreme Points\n",
    "### Learn how to use a functions derivative to find extreme points.  \n",
    "\n",
    "##### Contents:\n",
    "- Recap of Limits\n",
    "- Intro to Derivatives\n",
    "- Differentiation\n",
    "- Critical Points\n",
    "- Extreme Values\n",
    "    - local extrema\n",
    "- Power Rule    \n",
    "- Linearity of Differentiation\n",
    "\n",
    "## Recap\n",
    "\n",
    "In the last mission, we learned how to use limits to calculate the point a function approaches when the input value approaches a specific value. We applied this technique to calculate the slope of the tangent line at a specific point on our nonlinear function: $y = -(x^2) + 3x - 1$. If you recall from the first mission in this course, we're interested in determining the highest point on this curve.\n",
    "\n",
    "If you've ever hiked a mountain before, you'll be familiar with how the trail slopes up until you reach the peak. Once you're at the peak, however, all of the paths back down slope downwards. Understanding how the slope varies throughout a curve provides a useful lens for determining the maximum point on a curve.\n",
    "\n",
    "We'll start by building some visual intuition for how a function's slope and it's maximum point are related. In the widget below, we've generated two plots. As you vary $x$, the plot on the left **visualizes how the tangent line for the curve changes** while the plot on the right **visualizes how the slope of this tangent line changes.**\n",
    "\n",
    "<img src=\"img/recap.png\">"
   ]
  },
  {
   "cell_type": "markdown",
   "metadata": {},
   "source": [
    "## 2: Introduction To Derivatives\n",
    "\n",
    "When $x# is less than $1.5$, the slope is positive. As $x$ approaches $1.5$ from the left side, the slope decreases and approaches $0$. At $x=1.5$, the slope of the tangent line is exactly $0$. When we increased $x$ past $1.5$ the slope of the tangent line becomes increasingly negative. The highest point on our curve acts as a kind of transition point from positive slope to negative slope. We'll discuss this in further detail later in this mission.\n",
    "\n",
    "By plotting the slopes at many different $x$ values (the plot on the right from the last screen), we can tell that they follow a straight line. This line can be described as its own function, and is known as the **derivative**. A function's derivative can tell us the slope of the tangent line for any $x$ value along the function.\n",
    "\n",
    "So far, we've been solving for the slope at specific points by plugging in the specific $x$ value into the slope equation as expressed as a limit. To find the general function that describes the slope at any point, we need to solve the limit using the original variable instead of replacing with a specific $x$ value.\n",
    "\n",
    "Let's first start by rewriting the slope equation to the more common form. Instead of using $x_1$ and $x_2$ in the slope equation, let's use $x$ and $x+h$. This version of the slope equation is how most textbooks and resources refer to slope:\n",
    "\n",
    "$\\lim_{h \\to 0} \\frac{f(x + h) - f(x)}{h}$\n",
    "\n",
    "In this form, $h$ represents the distance between the 2 points: $x$ and $x+h$. The slope is the value the limit approaches as $h$ approaches $0$. Use the following widget to become familiar with this form of slope. In the next screen, we'll dive into finding the derivative function."
   ]
  },
  {
   "cell_type": "markdown",
   "metadata": {},
   "source": [
    "## 3: Differentiation\n",
    "\n",
    "The process of finding a function's derivative is known as [differentiation](https://en.wikipedia.org/wiki/Derivative#Differentiation). Instead of selecting a specific $x$ value, we'll leave $x$ where it is and expand the equation to solve for the derivative. Since $f(x) = -(x)^2 + 3x - 1$, this works out to:\n",
    "\n",
    "$\\lim_{h \\to 0} \\frac{(-(x + h)^2 +3(x + h) - 1) - (-(x)^2 + 3x - 1)}{h}$\n",
    "\n",
    "If we continue expanding the equation to individual terms only, we get:\n",
    "\n",
    "$\\lim_{h \\to 0} \\frac{-x^2 - 2xh - h^2 +3x + 3h - 1 + x^2 - 3x + 1}{h}$\n",
    "\n",
    "After cancelling out opposing terms, we get the following equation:\n",
    "\n",
    "$\\lim_{h \\to 0} \\frac{-2xh - h^2 + 3h}{h}$\n",
    "\n",
    "Once we factor our the $h$ that all of the terms in the numerator share, we get:\n",
    "\n",
    "$\\lim_{h \\to 0} \\frac{h(-2x - h + 3)}{h}$\n",
    "\n",
    "Once we cancel the $h$ on both the numerator and the denominator, we finally get a defined limit.\n",
    "\n",
    "$\\lim_{h \\to 0} -2x - h + 3$\n",
    "\n",
    "We're going to ask you to solve the final step using direct substitution, which we discussed in the last mission. Note that the result of this limit won't be a single value, but instead a new function.\n",
    "\n",
    "#### Instructions:\n",
    "- Simplify the equation by using direct substitution to solve the limit.\n",
    "- Use numpy.linspace() to generate 110 values from -5 to 6 and assign to x.\n",
    "- Transform x using the equation you just solved and assign to y.\n",
    "- Generate a line plot using x and y."
   ]
  },
  {
   "cell_type": "code",
   "execution_count": 3,
   "metadata": {
    "collapsed": false
   },
   "outputs": [
    {
     "data": {
      "image/png": "[encoded data removed]",
      "text/plain": [
       "<matplotlib.figure.Figure at 0x10c75a8d0>"
      ]
     },
     "metadata": {},
     "output_type": "display_data"
    }
   ],
   "source": [
    "import matplotlib.pyplot as plt\n",
    "import numpy as np\n",
    "\n",
    "x = np.linspace(-5, 6, 110)\n",
    "y = -2*x + 3\n",
    "plt.plot(x,y)\n",
    "plt.show()"
   ]
  },
  {
   "cell_type": "markdown",
   "metadata": {},
   "source": [
    "## 4: Critical Points\n",
    "\n",
    "The line plot we generated in the last step matches the one from the first step that visualizes how the slope changes for different $x$ values. We use the following notation to specify that $-2x+3$ is our curve's derivative:\n",
    "\n",
    "$y' = -2x + 3$\n",
    "\n",
    "The following is an alternative form of notation, which makes it clear that the derivative of $y$ is a function of $x$:\n",
    "\n",
    "$f'(x) = -2x + 3$\n",
    "\n",
    "The last common notation is the following, which can be read as \"the derivative with respect to $x$ is\":\n",
    "\n",
    "$\\frac{d}{dx}[ -x^2 + 3x - 1 ] =  -2x + 3$\n",
    "\n",
    "Earlier in the mission, we discussed how the slope at $x=1.5$ was $0$ and acted as a transition point from positive slope to negative slope. This is formally known as a **critical point**. At a function's critical point, the slope is either $0$ or undefined. Not all critical points act as transition points for slopes, however. The following widget visualizes the slope for $y=x^3$ and lets you explore how the slope changes before and aftere the critical point. You'll notice how the slope remains positive before and after the critical point.\n",
    "\n",
    "<img src=\"img/critical_points.png\">"
   ]
  },
  {
   "cell_type": "markdown",
   "metadata": {},
   "source": [
    "## Extreme Values\n",
    "\n",
    "In the last screen, we observed how the slope didn't change from positive to negative at the critical point. Critical points are interesting to us in data science when they represent **extreme values**. Extreme values can be split into 2 categories -- minimum and maximum. As we noticed at the beginning of the mission, a critical point can be a maximum value if the slope transitions from negative to positive at that point. When the slope transitions from positive to negative at a point, it can be a minimum value. If the slope doesn't transition at a critical point, like at $x=0$ for $y=x^3$ in the last screen, then it can't be a minimum or a maximum point.\n",
    "\n",
    "A curve can have multiple critical points and multiple candidates for minimum and maximum values. The following curve has 3 critical points and all 3 meet the criteria of transitioning slope from positive to negative or negative to positive. At the same time, none of the values are the highest points on the curve (while one of them seems to be the lowest).\n",
    "\n",
    "<img src=\"img/curve_three_critical_points.png\" style=\"width: 600px\"/>\n",
    "\n",
    "These values are known as **local extrema**, since they're the lowest or highest value in the interval surrounding each point. If a critical point is the lowest point in the interval surrounding it, it's known as a **relative minimum**. If it's the highest point in the neighborhood, it's known as a **relative maximum**.\n",
    "\n",
    "<img src=\"img/curve_three_critical_points_relative_minmax.png\" style=\"width: 600px\"/>\n",
    "\n",
    "Since we know that relative minimums and maximums can occur when the slope is $0$, we can solve for the critical points using arithmetic (instead of relying on just the graph). To calculate the critical point for our original curve, we need to set our derivative function to $0$ and solve for $x$.\n",
    "\n",
    "$-2x + 3 = 0$\n",
    "\n",
    "After moving $-2x$ to the right side and dividing both sides by $-2$, we get:\n",
    "\n",
    "$x=1.5$\n",
    "\n",
    "This matches the value we observed visually in the first screen in this mission. Since this curve only had 1 critical point and the slope transitioned from positive to negative, we can safely say that this is a relative maximum."
   ]
  },
  {
   "cell_type": "markdown",
   "metadata": {},
   "source": [
    "## 6: Power Rule\n",
    "\n",
    "We calculated the derivative for our curve using a limit and working out the arithmetic. We then set the derivative function to $0$ and calculated the critical points. This approach be painful to do for more complex functions like $y=x^5-x$ because we'll need to replace $x$ with $x+h$and expand the exponent $(x+h)^5$:\n",
    "\n",
    "$f'(x) = \\lim_{h \\to 0} \\frac{((x + h)^5 - (x + h)) - (x^5 - x) }{h}$\n",
    "\n",
    "We can instead apply derivative rules to more easily calculate the derivative function. These derivative rules have proofs that are outside the scope of this mission, but we'll link to the proof so you can build an understanding on your own.\n",
    "\n",
    "The first rule we'll introduce is the [power rule](https://en.wikipedia.org/wiki/Power_rule), which helps us take the derivative for functions with exponents.\n",
    "\n",
    "$f'(x) = r x^{r-1}$\n",
    "\n",
    "If our original function is $f(x)=x^2$, $r$ would be $2$. Its derivative would be $f'(x) = 2x^{2-1}$ or $f'(x) = 2x$ for short. The function for our original curve is a similar value ($-x^2$) added to $3x-1$:\n",
    "\n",
    "$f(x) = -(x)^2 + 3x - 1$\n",
    "\n",
    "When we calculate the derivative of a function, we're really computing and solving a limit. We can use the properties of limits to break down the function into 3 different derivatives. We can then apply the power rule to each component:\n",
    "\n",
    "$f'(x) = -2x + 3$\n",
    "\n",
    "This matches the derivative function we computed by hand using limits. Let's practice applying the power rule to some more functions.\n",
    "\n",
    "#### Instructions:\n",
    "\n",
    "- Calculate the derivative of $f(x)=x^5$ using pencil and paper. Use the derivative function to look up the slope at $x=2$ and assign to `slope_one`.\n",
    "- Calculate the derivative of $f(x)=x^9$ using pencil and paper. Use the derivative function to look up the slope at $x=0$ and assign to `slope_two`."
   ]
  },
  {
   "cell_type": "code",
   "execution_count": 5,
   "metadata": {
    "collapsed": true
   },
   "outputs": [],
   "source": [
    "derivative_one = \"5x^4\"\n",
    "derivative_two = \"9x^8\"\n",
    "slope_one = 80\n",
    "slope_two = 0"
   ]
  },
  {
   "cell_type": "markdown",
   "metadata": {},
   "source": [
    "## 7: Linearity Of Differentiation\n",
    "\n",
    "Another important set of rules is [linearity of differentiation](https://en.wikipedia.org/wiki/Linearity_of_differentiation). We'll switch to using the $\\frac {d}{dx}$ notation when discussing these rules. Like with limit functions, we can separate mathematical terms that are being added or subtracted and differentiate them separately.\n",
    "\n",
    "Linearity of differentiation consists of 2 rules. First is the **sum rule**:\n",
    "\n",
    "$\\frac {d}{dx} [f(x) + g(x)] = \\frac {d}{dx} [f(x)] + \\frac {d}{dx} [g(x)]$\n",
    "\n",
    "Second is the **constant factor rule**, which lets us pull out constants from the derivative:\n",
    "\n",
    "$\\frac {d}{dx} [cf(x)] = c\\frac {d}{dx} [f(x)]$\n",
    "\n",
    "By combining both of these rules, we can find the derivative for a wide range of functions. For example:\n",
    "\n",
    "$\\frac {d}{dx} [-x^3 + x^2 ] =  \\frac {d}{dx} [-x^3] + \\frac {d}{dx} [x^2] = -3x^2 + 2x$\n",
    "\n",
    "#### Instructions:\n",
    "\n",
    "- Calculate the derivative of $f(x) = x^5 - x$ using pencil and paper. Use the derivative function to look up the slope at $x=1$ and assign to `slope_three`.\n",
    "- Calculate the derivative of $f(x) = x^3 - x^2$ using pencil and paper. Use the derivative function to look up the slope at $x=2$ and assign to `slope_four`."
   ]
  },
  {
   "cell_type": "code",
   "execution_count": 6,
   "metadata": {
    "collapsed": true
   },
   "outputs": [],
   "source": [
    "derivative_three = \"5x^4 - 1\"\n",
    "derivative_four = \"3x^2 - 2x\"\n",
    "slope_three = 4\n",
    "slope_four = 8"
   ]
  },
  {
   "cell_type": "markdown",
   "metadata": {},
   "source": [
    "## 8: Practicing Finding Extreme Values\n",
    "\n",
    "In the past, we started by plotting the curve and visually observing where the critical points could be. This time around, we're not going to paint a visual picture and will instead ask you to use arithmetic to find the extreme values.\n",
    "\n",
    "You'll need to first set $3x^2 - 2x$ to $0$ and solve for $x$. Once you've found the critical point(s), you can analyze the slope around the point(s) to see if slope transitions from positive to negative or vice versa.\n",
    "\n",
    "#### Instructions:\n",
    "Find the critical points for $x^3 - x^2$.\n",
    "- Create 2 empty lists and assign to `rel_min` and `rel_max`.\n",
    "- If a critical point is a relative minimum, add it to the list `rel_min`.\n",
    "- If a critical point is a relative maximum, add it to the list `rel_max`."
   ]
  },
  {
   "cell_type": "code",
   "execution_count": 7,
   "metadata": {
    "collapsed": true
   },
   "outputs": [],
   "source": [
    "derivative = \"3x^2 - 2x\"\n",
    "critical_points = [0, 2/3]\n",
    "rel_min = [2/3]\n",
    "rel_max = [0]"
   ]
  },
  {
   "cell_type": "code",
   "execution_count": 19,
   "metadata": {
    "collapsed": false
   },
   "outputs": [
    {
     "data": {
      "image/png": "[encoded data removed]",
      "text/plain": [
       "<matplotlib.figure.Figure at 0x110448f28>"
      ]
     },
     "metadata": {},
     "output_type": "display_data"
    },
    {
     "data": {
      "image/png": "[encoded data removed]",
      "text/plain": [
       "<matplotlib.figure.Figure at 0x1102175f8>"
      ]
     },
     "metadata": {},
     "output_type": "display_data"
    }
   ],
   "source": [
    "x = np.linspace(-5,5,100)\n",
    "\n",
    "plt.plot(x, x**3 - x**2)\n",
    "plt.vlines([0, 2/3], 0, 10)\n",
    "plt.title('orig function')\n",
    "plt.show()\n",
    "\n",
    "plt.plot(x, 3*x**2 - 2*x)\n",
    "plt.title('derivative')\n",
    "plt.show()"
   ]
  },
  {
   "cell_type": "markdown",
   "metadata": {},
   "source": [
    "## 9: Next Steps\n",
    "\n",
    "In this mission, we explored how to calculate the derivative for a function and find extreme values. We now have the groundwork necessary to understand how linear regression models are fit, which we'll cover in the next course."
   ]
  }
 ],
 "metadata": {
  "kernelspec": {
   "display_name": "Python 3",
   "language": "python",
   "name": "python3"
  },
  "language_info": {
   "codemirror_mode": {
    "name": "ipython",
    "version": 3
   },
   "file_extension": ".py",
   "mimetype": "text/x-python",
   "name": "python",
   "nbconvert_exporter": "python",
   "pygments_lexer": "ipython3",
   "version": "3.6.0"
  }
 },
 "nbformat": 4,
 "nbformat_minor": 2
}
