{
 "cells": [
  {
   "cell_type": "markdown",
   "metadata": {},
   "source": [
    "# Solution Sets\n",
    "### Learn about the different types of solution sets for a linear system.\n",
    "\n",
    "##### Contents:\n",
    "- Review of Solving Matrix Equation\n",
    "    - Gaussian Elimination\n",
    "    - Matrix Inverse\n",
    "- Inconsistent Systems\n",
    "- Singular Matrix (contains no inverse)\n",
    "- Possible Solutions For Nonhomogenous Systems (non-zero constant terms)\n",
    " - Square, Nonhomogenous System\n",
    " - Rectangular, Nonhomogenous System\n",
    "- Homogenous Systems \n",
    "    - trivial solution \n",
    "    - parametric vector form\n",
    "- Summary Of Linear Systems  \n",
    "\n",
    "## 1: Introduction\n",
    "\n",
    "In this course, we've explored **two different ways to find the solution to $A\\vec{x} = \\vec{b}$ when $\\vec{b}$ isn't a vector containing all zeroes ($b \\ne \\vec{0}$)**. The first way we explored was **Gaussian elimination**, which involves using the row operations to transform the augmented representation of a linear system to echelon form and then finally to reduced row echelon form. The second way we explored was to compute the **matrix inverse** of $A$ and left multiplying both sides of the equation to find $\\vec{x}$.\n",
    "\n",
    "While we can use these techniques to solve most of the linear systems we'll encounter, we need to learn what to do when:\n",
    "\n",
    "- the solution set for a linear system doesn't exist\n",
    "- the solution set for a linear system isn't just a single vector\n",
    "- $b$ is equal to $\\vec{0}$\n",
    "\n",
    "In this mission, we'll wrap up this course by exploring all three of these situations."
   ]
  },
  {
   "cell_type": "markdown",
   "metadata": {},
   "source": [
    "## 2: Inconsistent Systems\n",
    "\n",
    "Not all systems of equations have a solution and these systems are **inconsistent**. An inconsistent system will have two or more equations that don't overlap in values, making it impossible to find a solution. Let's look at a concrete example:\n",
    "\n",
    "$\\left[\\begin{array}{rr|r}\n",
    "8 & 4 & 5 \\\\ \n",
    "4 & 2 & 5\n",
    "\\end{array}\\right]$\n",
    "\n",
    "Let's try to reduce this matrix to echelon form. We can divide the first row by two:\n",
    "\n",
    "$\\left[\\begin{array}{rr|r}\n",
    "4 & 2 & 2.5 \\\\ \n",
    "4 & 2 & 5\n",
    "\\end{array}\\right]$\n",
    "\n",
    "If we subtract the top row from the bottom row (R2 - R1) and divide the first row by 4 (R1 / 4), the augented matrix ends up with zeroes for the coefficients in R2:\n",
    "\n",
    "$\\left[\\begin{array}{rr|r}\n",
    "1 & 1/2 & 1.25 \\\\ \n",
    "0 & 0 & 2.5\n",
    "\\end{array}\\right]$\n",
    "\n",
    "If we plot both of these linear equations, it'll become clear why no solution exists for this linear system.\n",
    "\n",
    "#### Instructions:\n",
    "\n",
    "- Use pencil and paper to extract the equations from the augmented matrix $\\left[\\begin{array}{rr|r}\n",
    "8 & 4 & 5 \\\\ \n",
    "4 & 2 & 5\n",
    "\\end{array}\\right]\n",
    "$ and rewrite them in slope-intercept form: $y=mx+b$\n",
    "- Use numpy.linspace() to generate 1000, evenly spaced values between 0 and 20 and assign to x.\n",
    "- Transform x using the first equation and assign the result to y1.\n",
    "- Transform x using the second equation and assign the result to y2.\n",
    "- Generate 2 line plots on the same subplot, setting the line color of both to \"blue\":\n",
    "    - One with x on the x-axis and y1 on the y-axis.\n",
    "    - One with x on the x-axis and y2 on the y-axis.\n",
    "- Skip selecting a value range for the x and y axes, and instead let matplotlib automatically select based on the data."
   ]
  },
  {
   "cell_type": "code",
   "execution_count": 1,
   "metadata": {
    "collapsed": true
   },
   "outputs": [],
   "source": [
    "import numpy as np\n",
    "import matplotlib.pyplot as plt"
   ]
  },
  {
   "cell_type": "code",
   "execution_count": 3,
   "metadata": {
    "collapsed": false
   },
   "outputs": [
    {
     "data": {
      "image/png": "[encoded data removed]",
      "text/plain": [
       "<matplotlib.figure.Figure at 0x10f1a1e80>"
      ]
     },
     "metadata": {},
     "output_type": "display_data"
    }
   ],
   "source": [
    "import numpy as np\n",
    "import matplotlib.pyplot as plt\n",
    "x = np.linspace(0, 20, 1000)\n",
    "y1 = -2*x + (5/4)\n",
    "y2 = -2*x + (5/2)\n",
    "\n",
    "plt.plot(x, y1, c='blue')\n",
    "plt.plot(x, y2, c='blue')\n",
    "plt.show()"
   ]
  },
  {
   "cell_type": "markdown",
   "metadata": {},
   "source": [
    "## 3: Singular Matrix\n",
    "\n",
    "From the plot of the linear system, we can tell that the linear system has no solution because both of the lines are parallel and don't intersect. Because both equations have the same slope ($-2$) but different y-intercept values ($5/2$ and $5/4$), this should match our intuition. While we can plot the equations when working with only 2 variables to determine that no solution exists, we need a more general way that builds on what we've learned in linear algebra. Let's first discuss how to handle this for square matrices.\n",
    "\n",
    "In the last mission, we learned about the matrix inverse, and how the inverse only exists if the determinant of the matrix is not equal to 0. When we're working with a square matrix, one where the number of rows and the number of columns are equal, we can compute the determinant and if it's equal to 0 then we say that the matrix is **singular**, or **contains no inverse**.\n",
    "\n",
    "If we calculate the determinant of the coefficient matrix from the last step, we can tell that the matrix is singular and the linear system doesn't contain a solution.\n",
    "\n",
    "$A = \n",
    "\\left[\\begin{array}{rr}\n",
    "8 & 4 \\\\ \n",
    "4 & 2 \n",
    "\\end{array}\\right]$\n",
    "\n",
    "Recall that the formula for the determinant of a 2 by 2 square matrix is:\n",
    "\n",
    "$det(A) = ad - bc$\n",
    "\n",
    "If we substitute the values, we get a determinant of $0$:\n",
    "\n",
    "$det(A) = 8*2 - 4*2 = 0$"
   ]
  },
  {
   "cell_type": "markdown",
   "metadata": {},
   "source": [
    "## 4: Possible Solutions For Nonhomogenous Systems\n",
    "\n",
    "So far, we've only looked at linear systems where the constants vector ($\\vec{b}$) doesn't contain all zeroes. These linear systems are known as **nonhomogenous systems**. Here's the nonhomogenous system from earlier:\n",
    "\n",
    "$\\left[\\begin{array}{rr|r}\n",
    "8 & 4 & 5 \\\\ \n",
    "4 & 2 & 5\n",
    "\\end{array}\\right]$\n",
    "\n",
    "On the other hand, when the constant vector is equal to the zero vector, that system is known as a **homogenous system**. Here's an example:\n",
    "\n",
    "$\\left[\\begin{array}{rr|r}\n",
    "8 & 4 & 0 \\\\ \n",
    "4 & 2 & 0\n",
    "\\end{array}\\right]$\n",
    "\n",
    "The distinction exists because homogenous systems **always have a solution**, the zero vector. We'll explore the homogenous system more in the next few steps. For now, let's explore nonhomogenous systems further.\n",
    "\n",
    "**Square, Nonhomogenous System**\n",
    "\n",
    "For square, nonhomogenous systems, there are 3 possible solutions:\n",
    "\n",
    "- no solution\n",
    "- a single solution\n",
    "- infinitely many solutions\n",
    "\n",
    "Here's a diagram that compares the 3 different possible solutions in a simple, 2D nonhomogenous linear system. These ideas extend past 2 dimensions, but it's easier to build intuition in 2 dimensions.\n",
    "\n",
    "<img src=\"img/nonhomog_possible_solutions.svg\">\n",
    "\n",
    "**Rectangular, Nonhomogenous System**\n",
    "\n",
    "For a rectangular (nonsquare), nohomogenous systems, there are 2 possible solutions:\n",
    "\n",
    "- no solution\n",
    "- infinitely many solutions\n",
    "\n",
    "Let's look at a higher dimensional example:\n",
    "\n",
    "$\\left[\\begin{array}{rrr|r}\n",
    "1 & 0 & 3 & 1\\\\ \n",
    "1 & 2 & 1 & 2\n",
    "\\end{array}\\right]$\n",
    "\n",
    "The first step to transform this matrix into echelon form is to subtract row 1 from row 2 (R2 - R1):\n",
    "\n",
    "$\\left[\\begin{array}{rrr|r}\n",
    "1 & 0 & 3 & 1\\\\ \n",
    "0 & 2 & -2 & 1\n",
    "\\end{array}\\right]$\n",
    "\n",
    "The second step is to divide row 2 by 2 (R2/2):\n",
    "\n",
    "$\\left[\\begin{array}{rrr|r}\n",
    "1 & 0 & 3 & 1\\\\ \n",
    "0 & 1 & -1 & 1/2\n",
    "\\end{array}\\right]$\n",
    "\n",
    "If we convert this system back to equation form, we get the following system:\n",
    "\n",
    "$x_1 + 3x_3 = 1 \\\\ \n",
    "x_2 - x_3 = 1/2$\n",
    "\n",
    "If we solve for each variable, we get the following solution:\n",
    "\n",
    "$x_1 = 1 - 3x_3 \\\\ \n",
    "x_2 = 1/2 + x_3$\n",
    "\n",
    "$x_3$ is known as a **free variable**, because it's allowed to vary freely. You'll notice that both $x_1$ and $x_2$ are expressed in terms of $x_3$. **This system has infinitely many solutions**, because for any real number we plug in for $x_3$, we'll get different values for $x_1$ and $x_2$.\n",
    "\n",
    "Said another way, there are infinite solutions to this system because there's an inifinite number of values that $x_3$  could be that make this system true. This set of infinite solutions is known as a **solution space**. Let's test this using some random examples."
   ]
  },
  {
   "cell_type": "markdown",
   "metadata": {},
   "source": [
    "## 5: Homogenous Systems\n",
    "\n",
    "We can solve any homogenous system, $A\\vec{x} = 0$, by setting $x$ to the zero vector $\\vec{0}$. This is known as the **trivial solution**, since it isn't a particularly useful solution for us. For homogenous systems, we're interested in determining if infinitely many solutions exist or not. Let's look at a concrete example:\n",
    "\n",
    "$\\left[\\begin{array}{rrr|r}\n",
    "6 & 10 & -8 & 0\\\\ \n",
    "-6 & -4 & 8 & 0 \\\\\n",
    "3 & 1/2 & -4 & 0\n",
    "\\end{array}\\right]$\n",
    "\n",
    "After standard row reduction to echelon form, here's what the matrix looks like:\n",
    "\n",
    "$\\left[\\begin{array}{rrr|r}\n",
    "3 & 5 & -4 & 0\\\\ \n",
    "0 & 3 & 0 & 0 \\\\\n",
    "0 & 0 & 0 & 0\n",
    "\\end{array}\\right]$\n",
    "\n",
    "Interestingly, the last row is the equation $0=0$.  If the last row contained an untrue equation like $0=3$, then the system has no solution. For this system, however, we can continue reducing to find the solution space. We eventually get to the following matrix:\n",
    "\n",
    "$\\left[\\begin{array}{rrr|r}\n",
    "1 & 0 & -4/3 & 0\\\\ \n",
    "0 & 1 & 0 & 0 \\\\\n",
    "0 & 0 & 0 & 0\n",
    "\\end{array}\\right]$\n",
    "\n",
    "If we conver this to equation form, we get:\n",
    "\n",
    "$x_1 - 4x_3 = 0 \\\\\n",
    "x_2 = 0$\n",
    "\n",
    "In this system, $x_3$ is a free variable, $x_1 = \\frac{4}{3}x_3$ and $x_2=0$. This system has an infinite solution space, because changing $x_3$ leads to a different, valid solution.\n",
    "\n",
    "When the solution is a solution space (and not just a unique set of values), it's common to rewrite it into **parametric vector form**. Here's what that looks like:\n",
    "\n",
    "$\\vec{x} = x_3* \\begin{bmatrix}\n",
    "4/3\\\\\n",
    "0 \\\\\n",
    "1\n",
    "\\end{bmatrix}$\n",
    "\n",
    "#### Instructions:\n",
    "\n",
    "- Create a function named test_homog that accepts a single parameter: x3.\n",
    "    - This function should first use the parameter value to calculate $x_1$ and $x_2$. Use the solution functions we just calculated and assign to x1 and x2.\n",
    "    - Then, this function should plug in x1, x2, and x3 into the original linear system (feel free to use the echelon form instead for compactness) and return True if both equations are true and False otherwise. You'll need to convert the initial, augmented matrix representation of the system to standard form by hand first.\n",
    "- Use the test_homog() function to see if setting $x_3$ to 1 returns True. Assign the result of the function to b_one.\n",
    "- Use the test_homog() function to see if setting $x_3$ to -10 returns True. Assign the result of the function to b_two."
   ]
  },
  {
   "cell_type": "code",
   "execution_count": 5,
   "metadata": {
    "collapsed": false
   },
   "outputs": [
    {
     "name": "stdout",
     "output_type": "stream",
     "text": [
      "True True\n"
     ]
    }
   ],
   "source": [
    "def test_homog(x3):\n",
    "    x1 = float(4/3*x3)\n",
    "    x2 = 0\n",
    "    return((3*x1 + 5*x2 - 4*x3 == 0) and (x2 == 0))\n",
    "\n",
    "b_one = test_homog(1)\n",
    "b_two = test_homog(-10)\n",
    "\n",
    "print(b_one, b_two)"
   ]
  },
  {
   "cell_type": "markdown",
   "metadata": {},
   "source": [
    "## 6: Summary Of Linear Systems\n",
    "\n",
    "In this course, we've explored a few different ways to classify linear systems.\n",
    "\n",
    "**Square vs. Rectangular**\n",
    "\n",
    "When $A$ is a square matrix, we can compute the determinant to determine if there's a solution and the matrix inverse if the determinant isn't equal to $0$. Unfortunately, computing the determinant and matrix inverse are very computationally intensive and should only be used for low dimensional matrices. These techniques are incredibly useful when working with small linear systems by hand, however.\n",
    "\n",
    "When $A$ is a rectangular matrix, we're looking to determine if the system has no solutions or infinitely many solutions using Gaussian elimination. If the latter, it's common to express the solution space in parametric vector form.\n",
    "\n",
    "**Nonhomogenous vs. Homogenous**\n",
    "\n",
    "When $A$ is nonhomogenous, the linear system can contain zero, one, or infinitely many solutions. However, if $A$ is rectangular and nonhomogenous, it can't contain just a unique solution (there will always be a free variable).\n",
    "\n",
    "When $A$ is homogenous, the linear system always contains the trivial solution (the zero vector). To determine if there's a solution space, we need to use Gaussian elimination to see if there are any inconsistent equations. If not, we can express the solution space in parametric form using the free variable."
   ]
  },
  {
   "cell_type": "markdown",
   "metadata": {},
   "source": [
    "## 7: Next Steps\n",
    "\n",
    "In this mission, we explored some linear systems that had no solution set, had a solution set that wasn't a vector, and where $b$ is equal to $0$. We now have a solid foundation of calculus and linear algebra that we can build on to understand most of the more advanced machine learning techniques. Next up is a course on a machine learning technique called linear regression."
   ]
  }
 ],
 "metadata": {
  "kernelspec": {
   "display_name": "Python 3",
   "language": "python",
   "name": "python3"
  },
  "language_info": {
   "codemirror_mode": {
    "name": "ipython",
    "version": 3
   },
   "file_extension": ".py",
   "mimetype": "text/x-python",
   "name": "python",
   "nbconvert_exporter": "python",
   "pygments_lexer": "ipython3",
   "version": "3.6.0"
  }
 },
 "nbformat": 4,
 "nbformat_minor": 2
}
