{
 "cells": [
  {
   "cell_type": "markdown",
   "metadata": {},
   "source": [
    "# Multiple Category Chi-Squared Tests\n",
    "\n",
    "### Learn how to apply the chi-squared test across more than one category at a time.\n",
    "\n",
    "##### Contents:\n",
    "- Multiple categories\n",
    "- Expected value\n",
    "- Chi-squared\n",
    "- Statistical significance\n",
    "- Cross tables\n",
    "    - Generating expected values\n",
    "-     \n",
    "    \n",
    "##### Basic steps:\n",
    "1) convert observations to proportions  \n",
    "2) calculate expected values from proportion totals and observations overall total  \n",
    "3) calculate chi-squared value  \n",
    "4) construct chi-squared sampling distribution  \n",
    "5) determine p-value  \n",
    "6) compare p-value to p-threshold  \n",
    "\n",
    "**Note: Remember, In simple terms, P-Value is the probability that your data isn't representative of the reality.**"
   ]
  },
  {
   "cell_type": "markdown",
   "metadata": {},
   "source": [
    "## 1: Multiple Categories\n",
    "\n",
    "In the last mission, we looked at the gender frequencies of people included in a data set on US income. The dataset consists of 32561 rows, and here are the first few:\n",
    "\n",
    "| age | workclass        | fnlwgt | education | education_num | marital_status     | occupation        | relationship  | race  | sex  | capital_gain | capital_loss | hours_per_week | native_country | high_income |\n",
    "|-----|------------------|--------|-----------|---------------|--------------------|-------------------|---------------|-------|------|--------------|--------------|----------------|----------------|-------------|\n",
    "| 39  | State-gov        | 77516  | Bachelors | 13            | Never-married      | Adm-clerical      | Not-in-family | White | Male | 2174         | 0            | 40             | United-States  | <=50K       |\n",
    "| 50  | Self-emp-not-inc | 83311  | Bachelors | 13            | Married-civ-spouse | Exec-managerial   | Husband       | White | Male | 0            | 0            | 13             | United-States  | <=50K       |\n",
    "| 38  | Private          | 215646 | HS-grad   | 9             | Divorced           | Handlers-cleaners | Not-in-family | White | Male | 0            | 0            | 40             | United-States  | <=50K       |\n",
    "\n",
    "Each row represents a single person who was counted in the 1990 US Census, and contains information about their income and demograpics. Here are some of the relevant columns:\n",
    "\n",
    "- age -- how old the person is\n",
    "- workclass -- the type of sector the person is employed in.\n",
    "- race -- the race of the person.\n",
    "- sex -- the gender of the person, either Male or Female.\n",
    "- high_income -- if the person makes more the 50k or not.\n",
    "\n",
    "In the last mission, we calculated a chi-squared value indicating how the observed frequencies in a single categorical column, such as sex, varied from the US population as a whole.\n",
    "\n",
    "In this mission, we'll look how to make this same technique applicable to cross tables, that show how two categorical columns interact. For instance, here's a table showing the relationship between sex and high_income:\n",
    "\n",
    "<img src=\"data/pic9.png\">\n",
    "\n",
    "On looking at this diagram, you might see a pattern between sex and high_income. But it's hard to immediately quantify that pattern, and tell if it's significant. **We can apply the chi-squared test (also known as the [chi-squared test of association](https://en.wikipedia.org/wiki/Chi-squared_test)) to figure out if there's a statistically significant correlation between two categorical columns.**\n"
   ]
  },
  {
   "cell_type": "markdown",
   "metadata": {},
   "source": [
    "## 2: Calculating Expected Values\n",
    "\n",
    "In the single category chi-squared test, we find expected values from other data sets, and then compare with our own observed values. In a multiple category chi-squared test, we calculate expected values across our whole dataset. We'll illustrate this by converting our chart from last screen into proportions:\n",
    "\n",
    "<img src=\"data/pic10.png\">\n",
    "\n",
    "Each cell represents the proportion of people in the data set that fall into the specified categories.\n",
    "\n",
    "- 20.5% of Males in the whole data set earn >50k in income.\n",
    "- 33.1% of the whole dataset is Female\n",
    "- 75.9% of the whole dataset earns <=50k.\n",
    "\n",
    "We can use our total proportions to calculate expected values. 24.1% of all people in income earn >50k, and 33.1% of all people in income are Female, so we'd expect the proportion of people who are female and earn >50k to be .241 * .331, which is .0799771. We have this expectation based on the proportions of Females and >50k earners across the whole dataset. Instead, we see that the observed proportion is .036, which indicates that there may be some correlation between the sex and high_income columns.\n",
    "\n",
    "We can convert our expected proportion to an expected value by multiplying by 32561, the total number of rows in the data set, which gives us 32561 * .0799771, or 2597.4.\n",
    "\n",
    "#### Instructions:\n",
    "\n",
    "Using the expected proportions in the table above, calculate the expected values for each of the 4 cells in the table.\n",
    "- Calculate the expected value for Males who earn >50k, and assign to males_over50k.\n",
    "- Calculate the expected value for Males who earn <=50k, and assign to males_under50k.\n",
    "- Calculate the expected value for Females who earn >50k, and assign to females_over50k.\n",
    "- Calculate the expected value for Females who earn <=50k, and assign to females_under50k."
   ]
  },
  {
   "cell_type": "code",
   "execution_count": 16,
   "metadata": {
    "collapsed": false
   },
   "outputs": [
    {
     "data": {
      "text/html": [
       "<div>\n",
       "<style>\n",
       "    .dataframe thead tr:only-child th {\n",
       "        text-align: right;\n",
       "    }\n",
       "\n",
       "    .dataframe thead th {\n",
       "        text-align: left;\n",
       "    }\n",
       "\n",
       "    .dataframe tbody tr th {\n",
       "        vertical-align: top;\n",
       "    }\n",
       "</style>\n",
       "<table border=\"1\" class=\"dataframe\">\n",
       "  <thead>\n",
       "    <tr style=\"text-align: right;\">\n",
       "      <th></th>\n",
       "      <th>age</th>\n",
       "      <th>workclass</th>\n",
       "      <th>fnlwgt</th>\n",
       "      <th>education</th>\n",
       "      <th>education_num</th>\n",
       "      <th>marital_status</th>\n",
       "      <th>occupation</th>\n",
       "      <th>relationship</th>\n",
       "      <th>race</th>\n",
       "      <th>sex</th>\n",
       "      <th>capital_gain</th>\n",
       "      <th>capital_loss</th>\n",
       "      <th>hours_per_week</th>\n",
       "      <th>native_country</th>\n",
       "      <th>high_income</th>\n",
       "    </tr>\n",
       "  </thead>\n",
       "  <tbody>\n",
       "    <tr>\n",
       "      <th>0</th>\n",
       "      <td>39</td>\n",
       "      <td>State-gov</td>\n",
       "      <td>77516</td>\n",
       "      <td>Bachelors</td>\n",
       "      <td>13</td>\n",
       "      <td>Never-married</td>\n",
       "      <td>Adm-clerical</td>\n",
       "      <td>Not-in-family</td>\n",
       "      <td>White</td>\n",
       "      <td>Male</td>\n",
       "      <td>2174</td>\n",
       "      <td>0</td>\n",
       "      <td>40</td>\n",
       "      <td>United-States</td>\n",
       "      <td>&lt;=50K</td>\n",
       "    </tr>\n",
       "    <tr>\n",
       "      <th>1</th>\n",
       "      <td>50</td>\n",
       "      <td>Self-emp-not-inc</td>\n",
       "      <td>83311</td>\n",
       "      <td>Bachelors</td>\n",
       "      <td>13</td>\n",
       "      <td>Married-civ-spouse</td>\n",
       "      <td>Exec-managerial</td>\n",
       "      <td>Husband</td>\n",
       "      <td>White</td>\n",
       "      <td>Male</td>\n",
       "      <td>0</td>\n",
       "      <td>0</td>\n",
       "      <td>13</td>\n",
       "      <td>United-States</td>\n",
       "      <td>&lt;=50K</td>\n",
       "    </tr>\n",
       "  </tbody>\n",
       "</table>\n",
       "</div>"
      ],
      "text/plain": [
       "   age          workclass  fnlwgt   education  education_num  \\\n",
       "0   39          State-gov   77516   Bachelors             13   \n",
       "1   50   Self-emp-not-inc   83311   Bachelors             13   \n",
       "\n",
       "        marital_status        occupation    relationship    race    sex  \\\n",
       "0        Never-married      Adm-clerical   Not-in-family   White   Male   \n",
       "1   Married-civ-spouse   Exec-managerial         Husband   White   Male   \n",
       "\n",
       "   capital_gain  capital_loss  hours_per_week  native_country high_income  \n",
       "0          2174             0              40   United-States       <=50K  \n",
       "1             0             0              13   United-States       <=50K  "
      ]
     },
     "execution_count": 16,
     "metadata": {},
     "output_type": "execute_result"
    }
   ],
   "source": [
    "import numpy as np\n",
    "import pandas as pd\n",
    "import matplotlib.pyplot as plt\n",
    "%matplotlib inline\n",
    "\n",
    "income = pd.read_csv(\"data/income.csv\")\n",
    "income.head(2)"
   ]
  },
  {
   "cell_type": "code",
   "execution_count": 3,
   "metadata": {
    "collapsed": false
   },
   "outputs": [
    {
     "name": "stdout",
     "output_type": "stream",
     "text": [
      "5249.777469000001 2597.423531\n",
      "16533.531531000004 8180.267469000001\n"
     ]
    }
   ],
   "source": [
    "males_over50k = .669 * .241 * 32561\n",
    "males_under50k = .669 * .759 * 32561\n",
    "females_over50k = .331 * .241 * 32561\n",
    "females_under50k = .331 * .759 * 32561\n",
    "\n",
    "print(males_over50k, females_over50k)\n",
    "print(males_under50k, females_under50k)"
   ]
  },
  {
   "cell_type": "markdown",
   "metadata": {},
   "source": [
    "## 3: Calculating Chi-Squared\n",
    "In the last screen, you should have ended up with a table like this:\n",
    "\n",
    "<img src=\"data/pic11.png\">\n",
    "\n",
    "Now that we have our expected values, we can calculate the chi-squared value by using the same principle from the previous mission. Here are the steps:\n",
    "\n",
    "- Subtract the expected value from the observed value.\n",
    "- Square the difference.\n",
    "- Divide the squared difference by the expected value.\n",
    "- Repeat for all the observed and expected values and add up the values.\n",
    "\n",
    "Here's the formula:\n",
    "\n",
    "\n",
    "Here's the table of our observed values for reference:\n",
    "\n",
    "<img src=\"data/pic12.png\">\n",
    "\n",
    "#### Instructions:\n",
    "- Compute the chi-squared value for the observed values above and the expected values above.\n",
    "    - Assign the result to chisq_gender_income."
   ]
  },
  {
   "cell_type": "code",
   "execution_count": 5,
   "metadata": {
    "collapsed": false
   },
   "outputs": [
    {
     "data": {
      "text/plain": [
       "1517.5510981525103"
      ]
     },
     "execution_count": 5,
     "metadata": {},
     "output_type": "execute_result"
    }
   ],
   "source": [
    "observed = [6662, 1179, 15128, 9592]\n",
    "expected = [5249.8, 2597.4, 16533.5, 8180.3]\n",
    "\n",
    "values = []\n",
    "for i, obs in enumerate(observed):\n",
    "    exp = expected[i]\n",
    "    value = (obs - exp) ** 2 / exp\n",
    "    values.append(value)\n",
    "\n",
    "chisq_gender_income = sum(values); chisq_gender_income"
   ]
  },
  {
   "cell_type": "markdown",
   "metadata": {},
   "source": [
    "## 4: Finding Statistical Significance\n",
    "\n",
    "Now that we've found our chi-squared value, 1517.6, we can use the same technique with the chi-squared sampling distribution from the last mission to find a p-value associated with the chi-squared value. The p-value will tell us whether the difference between the observed and expected values is statistically significant or not.\n",
    "\n",
    "**Rather than construct a sampling distribution again manually, we'll use the scipy.stats.chisquare function that we covered in the last mission.**\n",
    "\n",
    "If we had a table of expected values that looked like this:\n",
    "\n",
    "<img src=\"data/pic13.png\">\n",
    "\n",
    "And a table of observed values that looked like this:\n",
    "\n",
    "\n",
    "<img src=\"data/pic14.png\">\n",
    "\n",
    "We could find the chi-squared value and the p-value using the scipy.stats.chisquare function like this:\n",
    "\n",
    "\n",
    "    import numpy as np\n",
    "    from scipy.stats import chisquare\n",
    "\n",
    "    observed = np.array([10, 10, 5, 5])\n",
    "    expected = np.array([5, 5, 10, 10])\n",
    "    chisquare_value, pvalue = chisquare(observed, expected)\n",
    "\n",
    "\n",
    "#### Instructions:\n",
    "Here are our expected values from the last screen:\n",
    "\n",
    "<img src=\"data/pic15.png\">\n",
    "\n",
    "And here are our observed values:\n",
    "\n",
    "\n",
    "<img src=\"data/pic16.png\">\n",
    "\n",
    "- Use the scipy.stats.chisquare function to find the chi-squared value and p-value for the above observed and expected counts.\n",
    "    - Assign the p-value to pvalue_gender_income."
   ]
  },
  {
   "cell_type": "code",
   "execution_count": 7,
   "metadata": {
    "collapsed": false
   },
   "outputs": [
    {
     "name": "stdout",
     "output_type": "stream",
     "text": [
      "1517.55109815 0.0\n"
     ]
    }
   ],
   "source": [
    "from scipy.stats import chisquare\n",
    "\n",
    "observed = np.array([6662, 1179, 15128, 9592])\n",
    "expected = np.array([5249.8, 2597.4, 16533.5, 8180.3])\n",
    "\n",
    "chisq_value, pvalue_gender_income = chisquare(observed, expected)\n",
    "print(chisq_value, pvalue_gender_income)"
   ]
  },
  {
   "cell_type": "markdown",
   "metadata": {},
   "source": [
    "## 5: Cross Tables\n",
    "We can also scale up the chi-squared test to cases where each category contains more than two possibilities. We'll illustrate this with an example where we look at sex vs race.\n",
    "\n",
    "Before we can find the chi-squared value, we need to find the observed frequency counts. We can do this using the <mark>pandas.crosstab</mark> function. The crosstab function will print a table that shows frequency counts for two or more columns. Here's how you could use the pandas.crosstab function:\n",
    "\n",
    "\n",
    "    import pandas\n",
    "    \n",
    "    table = pandas.crosstab(income[\"sex\"], [income[\"high_income\"]])\n",
    "    print(table)\n",
    "\n",
    "The above code will print a table showing how many people from income fall into each category of sex and high_income.\n",
    "\n",
    "The second parameter passed into pandas.crosstab is actually a list -- this parameter can contain more than one item.\n",
    "\n",
    "#### Instructions:\n",
    "Use the pandas.crosstab function to print out a table comparing the sex column of income to the race column of income."
   ]
  },
  {
   "cell_type": "code",
   "execution_count": 11,
   "metadata": {
    "collapsed": false
   },
   "outputs": [
    {
     "name": "stdout",
     "output_type": "stream",
     "text": [
      "race      Amer-Indian-Eskimo   Asian-Pac-Islander   Black   Other   White\n",
      "sex                                                                      \n",
      " Female                  119                  346    1555     109    8642\n",
      " Male                    192                  693    1569     162   19174\n"
     ]
    }
   ],
   "source": [
    "table = pd.crosstab(income[\"sex\"], [income[\"race\"]])\n",
    "print(table)"
   ]
  },
  {
   "cell_type": "markdown",
   "metadata": {},
   "source": [
    "## 6: Finding Expected Values\n",
    "\n",
    "Now that we have the observed frequency counts, we can generate the expected values. We can use the scipy.stats.chi2_contingency function to do this. The function takes in a cross table of observed counts, and returns the chi-squared value, the p-value, the degrees of freedom, and the expected frequencies. Let's say we have the following observed counts:\n",
    "\n",
    "<img src=\"data/pic17.png\">\n",
    "\n",
    "Here's how we could use the scipy.stats.chi2_contingency function:\n",
    "\n",
    "\n",
    "    import numpy as np\n",
    "    from scipy.stats import chi2_contingency\n",
    "    observed = np.array([[5, 5], [10, 10]])\n",
    "    \n",
    "    chisq_value, pvalue, df, expected = chi2_contingency(observed)\n",
    "    \n",
    "    \n",
    "You can also directly pass the result of the pandas.crosstab function into the scipy.stats.chi2_contingency function, which makes it extremely easy to do perform a chi-squared test.\n",
    "\n",
    "####Instructions:\n",
    "- Use the scipy.stats.chi2_contingency function to calculate the pvalue for the sex and race columns of income.\n",
    "    - Assign the result to pvalue_gender_race.\n"
   ]
  },
  {
   "cell_type": "code",
   "execution_count": 33,
   "metadata": {
    "collapsed": false
   },
   "outputs": [
    {
     "name": "stdout",
     "output_type": "stream",
     "text": [
      "race      Amer-Indian-Eskimo   Asian-Pac-Islander   Black   Other   White\n",
      "sex                                                                      \n",
      " Female                  119                  346    1555     109    8642\n",
      " Male                    192                  693    1569     162   19174\n",
      "[[   102.87709223    343.69549461   1033.40204539     89.64531188\n",
      "    9201.3800559 ]\n",
      " [   208.12290777    695.30450539   2090.59795461    181.35468812\n",
      "   18614.6199441 ]]\n",
      "5.19206130276e-97\n"
     ]
    }
   ],
   "source": [
    "from scipy.stats import chi2_contingency\n",
    "\n",
    "table = pd.crosstab(income[\"sex\"], [income[\"race\"]])\n",
    "chisq_value, pvalue_gender_race, df, expected = chi2_contingency(table)\n",
    "\n",
    "print(table)\n",
    "print(expected)\n",
    "print(pvalue_gender_race) # 0 => reject null hypothesis"
   ]
  },
  {
   "cell_type": "markdown",
   "metadata": {},
   "source": [
    "## 7: Caveats\n",
    "\n",
    "Now that we've learned the chi-squared test, you should be able **to figure out if the association between two columns of categorical data is statistically significant or not**. There are a few caveats to using the chi-squared test that are important to cover, though:\n",
    "\n",
    "- Finding that a result isn't significant doesn't mean that no association between the columns exists. For instance, if we found that the chi-squared test between the sex and race columns returned a p-value of .1, it wouldn't mean that there is no relationship between sex and race. It just means that there isn't a statistically significant relationship.\n",
    "- Finding a statistically significant result doesn't imply anything about what the correlation is. For instance, finding that a chi-squared test between sex and race results in a p-value of .01 doesn't mean that the dataset contains too many Females who are White (or too few). A statistically significant finding means that some evidence of a relationship between the variables exists, but needs to be investigated further.\n",
    "- Chi-squared tests can only be applied in the case where each possibility within a category is independent. For instance, the Census counts individuals as either Male or Female, not both.\n",
    "- Chi-squared tests are more valid when the numbers in each cell of the cross table are larger. So if each number is 100, great -- if each number is 1, you may need to gather more data."
   ]
  },
  {
   "cell_type": "markdown",
   "metadata": {},
   "source": [
    "## 8: Next Steps\n",
    "\n",
    "In this mission, we covered chi-squared tests for multiple categories, and learned how to quickly perform chi-squared tests. We learned when to apply and when not to apply chi-squared tests. Chi-squared tests can be a powerful tool to discover correlations and figure out when anomalies in your data should be investigated further."
   ]
  }
 ],
 "metadata": {
  "kernelspec": {
   "display_name": "Python 3",
   "language": "python",
   "name": "python3"
  },
  "language_info": {
   "codemirror_mode": {
    "name": "ipython",
    "version": 3
   },
   "file_extension": ".py",
   "mimetype": "text/x-python",
   "name": "python",
   "nbconvert_exporter": "python",
   "pygments_lexer": "ipython3",
   "version": "3.6.0"
  }
 },
 "nbformat": 4,
 "nbformat_minor": 2
}
