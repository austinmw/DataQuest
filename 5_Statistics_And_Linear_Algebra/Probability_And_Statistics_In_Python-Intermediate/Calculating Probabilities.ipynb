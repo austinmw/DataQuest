{
 "cells": [
  {
   "cell_type": "markdown",
   "metadata": {},
   "source": [
    "# Calculating Probabilities\n",
    "\n",
    "##### Contents:\n",
    "    - Intro to the data\n",
    "    - Basic probability\n",
    "    - Binomial distribution\n",
    "        - long drawn out example\n",
    "    - Statistical significance"
   ]
  },
  {
   "cell_type": "markdown",
   "metadata": {},
   "source": [
    "## 1: The Dataset\n",
    "In the last mission, we looked at probability, and the ideas of disjunctive, dependent, and conjunctive probabilities.\n",
    "\n",
    "We'll dive more into probability in this mission, and calculate more complex probabilities. But first, we'll look at the dataset we'll be using.\n",
    "\n",
    "In many countries, there are bikesharing programs where anyone can rent a bike from a depot, and return it at other depots throughout a city. There is one such program in Washington, D.C., in the US. We'll be looking at the number of bikes that were rented by day. Here are the relevant columns:\n",
    "\n",
    "- dteday -- the date that we're looking at.\n",
    "- casual -- the number of casual riders (people who hadn't previously signed up with the bikesharing program) that - - rented bikes on the day.\n",
    "- registered -- the number of registered riders (people who signed up previously) that rented bikes.\n",
    "- cnt -- the total number of bikes rented.\n",
    "\n",
    "This data was collected by Hadi Fanaee-T at the University of Porto, and can be downloaded [here](http://archive.ics.uci.edu/ml/datasets/Bike+Sharing+Dataset)."
   ]
  },
  {
   "cell_type": "code",
   "execution_count": 1,
   "metadata": {
    "collapsed": true
   },
   "outputs": [],
   "source": [
    "import numpy as np\n",
    "import pandas as pd\n",
    "import scipy.stats as stats"
   ]
  },
  {
   "cell_type": "code",
   "execution_count": 9,
   "metadata": {
    "collapsed": false
   },
   "outputs": [
    {
     "name": "stdout",
     "output_type": "stream",
     "text": [
      "Index(['instant', 'dteday', 'season', 'yr', 'mnth', 'holiday', 'weekday',\n",
      "       'workingday', 'weathersit', 'temp', 'atemp', 'hum', 'windspeed',\n",
      "       'casual', 'registered', 'cnt'],\n",
      "      dtype='object')\n"
     ]
    },
    {
     "data": {
      "text/html": [
       "<div>\n",
       "<style>\n",
       "    .dataframe thead tr:only-child th {\n",
       "        text-align: right;\n",
       "    }\n",
       "\n",
       "    .dataframe thead th {\n",
       "        text-align: left;\n",
       "    }\n",
       "\n",
       "    .dataframe tbody tr th {\n",
       "        vertical-align: top;\n",
       "    }\n",
       "</style>\n",
       "<table border=\"1\" class=\"dataframe\">\n",
       "  <thead>\n",
       "    <tr style=\"text-align: right;\">\n",
       "      <th></th>\n",
       "      <th>dteday</th>\n",
       "      <th>casual</th>\n",
       "      <th>registered</th>\n",
       "      <th>cnt</th>\n",
       "    </tr>\n",
       "  </thead>\n",
       "  <tbody>\n",
       "    <tr>\n",
       "      <th>0</th>\n",
       "      <td>2011-01-01</td>\n",
       "      <td>331</td>\n",
       "      <td>654</td>\n",
       "      <td>985</td>\n",
       "    </tr>\n",
       "    <tr>\n",
       "      <th>1</th>\n",
       "      <td>2011-01-02</td>\n",
       "      <td>131</td>\n",
       "      <td>670</td>\n",
       "      <td>801</td>\n",
       "    </tr>\n",
       "    <tr>\n",
       "      <th>2</th>\n",
       "      <td>2011-01-03</td>\n",
       "      <td>120</td>\n",
       "      <td>1229</td>\n",
       "      <td>1349</td>\n",
       "    </tr>\n",
       "    <tr>\n",
       "      <th>3</th>\n",
       "      <td>2011-01-04</td>\n",
       "      <td>108</td>\n",
       "      <td>1454</td>\n",
       "      <td>1562</td>\n",
       "    </tr>\n",
       "    <tr>\n",
       "      <th>4</th>\n",
       "      <td>2011-01-05</td>\n",
       "      <td>82</td>\n",
       "      <td>1518</td>\n",
       "      <td>1600</td>\n",
       "    </tr>\n",
       "  </tbody>\n",
       "</table>\n",
       "</div>"
      ],
      "text/plain": [
       "       dteday  casual  registered   cnt\n",
       "0  2011-01-01     331         654   985\n",
       "1  2011-01-02     131         670   801\n",
       "2  2011-01-03     120        1229  1349\n",
       "3  2011-01-04     108        1454  1562\n",
       "4  2011-01-05      82        1518  1600"
      ]
     },
     "execution_count": 9,
     "metadata": {},
     "output_type": "execute_result"
    }
   ],
   "source": [
    "bikes = pd.read_csv(\"data/bike_rental_day.csv\")\n",
    "print(bikes.columns)\n",
    "\n",
    "relevent = [\"dteday\", \"casual\", \"registered\", \"cnt\"]\n",
    "bikes = bikes[relevent]\n",
    "bikes.head()"
   ]
  },
  {
   "cell_type": "markdown",
   "metadata": {},
   "source": [
    "## 2: Probability Of Renting Bikes\n",
    "Let's explore our data a bit, first by finding the probability that more than 2000 bikes will be rented on any given day.\n",
    "\n",
    "#### Instructions:\n",
    "- Find the probability that more than 4000 bikes were rented on any given day.\n",
    "- Assign the result to probability_over_4000."
   ]
  },
  {
   "cell_type": "code",
   "execution_count": 11,
   "metadata": {
    "collapsed": false
   },
   "outputs": [
    {
     "name": "stdout",
     "output_type": "stream",
     "text": [
      "0.86593707250342\n"
     ]
    }
   ],
   "source": [
    "# Find the number of days the bikes rented exceeded the threshold.\n",
    "days_over_threshold = bikes[bikes[\"cnt\"] > 2000].shape[0]\n",
    "# Find the total number of days we have data for.\n",
    "total_days = bikes.shape[0]\n",
    "\n",
    "# Get the probability that more than 2000 bikes were rented for any given day.\n",
    "probability_over_2000 = days_over_threshold / total_days\n",
    "print(probability_over_2000)\n",
    "\n",
    "days_over_threshold = bikes[bikes[\"cnt\"] > 4000].shape[0]\n",
    "probability_over_4000 = days_over_threshold / total_days"
   ]
  },
  {
   "cell_type": "markdown",
   "metadata": {},
   "source": [
    "## 3: Up To Or Greater\n",
    "\n",
    "Let's say we flip three coins, and we want to know the probability of getting 2 or more heads. In order to do this, we'd need to add the probability of getting exactly 2 heads with the probability of getting exactly 3 heads. The probability that any single coin will be heads is .5 (the probability that the coin will be tails is the same, .5).\n",
    "\n",
    "The probability of 3 heads is easy to calculate -- this can only happen in one situation, where all three coins are heads, or .5 * .5 * .5, which equals .125.\n",
    "\n",
    "The probability of 2 heads is a little trickier -- there are three different combinations that the three coins can configure themselves in to end up with 2 heads. We show this in the table below, using H for heads, and T for tails.\n",
    "\n",
    "\n",
    "``Coin 1    Coin 2    Coin 3\n",
    "H         H         T\n",
    "T         H         H\n",
    "H         T         H``\n",
    "\n",
    "Each one of these has a probability of .5 * .5 * .5, so we just multiply 3 * .125 to get .375, the probability that we'll get 2 heads.\n",
    "\n",
    "We then just have to add up the probability of getting 2 heads to the probability of getting 3 heads to get .5, the probability of getting 2 or more heads when we flip 3 coins."
   ]
  },
  {
   "cell_type": "markdown",
   "metadata": {},
   "source": [
    "## 4: Calculating Probabilities\n",
    "Now that we know how to calculate probabilities for coins, let's calculate the probability that 1 coin out of 3 is heads.\n",
    "\n",
    "#### Instructions:\n",
    "- Find the probability that 1 coin out of 3 is heads.\n",
    "- Assign the result to coin_1_prob."
   ]
  },
  {
   "cell_type": "code",
   "execution_count": 12,
   "metadata": {
    "collapsed": false
   },
   "outputs": [
    {
     "data": {
      "text/plain": [
       "0.375"
      ]
     },
     "execution_count": 12,
     "metadata": {},
     "output_type": "execute_result"
    }
   ],
   "source": [
    "coin_1_prob = 3*0.5**3"
   ]
  },
  {
   "cell_type": "markdown",
   "metadata": {},
   "source": [
    "## 5: Number Of Combinations\n",
    "What we found in the last screen was that there were exactly 3 combinations of coins to get 2 out of the 3 coins to be heads. There was exactly 1 combination to get all three coins to be heads.\n",
    "\n",
    "Let's scale this example up a little bit. Let's say that we live in Los Angeles, CA, and the chance of any single day being sunny is .7. The chance of a day not being sunny is .3.\n",
    "\n",
    "If we have a sample of 5 days, and we want to find the chance that all 5 of them will be sunny, there's only one combination that allows this to happen -- the sunny outcome has to occur on all 5 days:\n",
    "\n",
    "\n",
    "``Day 1    Day 2    Day 3    Day 4    Day 5\n",
    "S        S        S        S        S``\n",
    "\n",
    "If we want to find the probability that only 4 days will be sunny, there are 5 possible combinations.\n",
    "\n",
    "\n",
    "``Day 1    Day 2    Day 3    Day 4    Day 5\n",
    "S        S        S        S        N\n",
    "S        S        S        N        S\n",
    "S        S        N        S        S\n",
    "S        N        S        S        S\n",
    "N        S        S        S        S``\n",
    "\n",
    "You may notice a pattern here. The most extreme cases -- a given outcome happening all the time or none of the time, can only occur in one combination. The next step lower, a given outcome happening every time except once, or a given outcome only happening once, can happen in as many combinations as there are total events."
   ]
  },
  {
   "cell_type": "markdown",
   "metadata": {},
   "source": [
    "## 6: Calculating The Number Of Combinations\n",
    "Now that we've worked out some tables, let's practice a bit.\n",
    "\n",
    "#### Instructions:\n",
    "- Find the number of combinations in which 1 day will be sunny.\n",
    "    - Assign the result to sunny_1_combinations."
   ]
  },
  {
   "cell_type": "code",
   "execution_count": 1,
   "metadata": {
    "collapsed": true
   },
   "outputs": [],
   "source": [
    "# There are 5 combinations in which one day can be sunny.\n",
    "# SNNNN\n",
    "# NSNNN\n",
    "# NNSNN\n",
    "# NNNSN\n",
    "# NNNNS\n",
    "\n",
    "sunny_1_combinations = 5"
   ]
  },
  {
   "cell_type": "markdown",
   "metadata": {},
   "source": [
    "## 7: Number Of Combinations Formula (\"n choose k\", order doesn't matter)\n",
    "\n",
    "In fact, there's an easily quantifiable pattern with the number of combinations. We can calculate the number of combinations in which an outcome can occur k times in a set of events with a formula:\n",
    "\n",
    "$$\\frac{N!}{k!(N-k)!}$$\n",
    "\n",
    "\n",
    "In this formula, is the total number of events we have, and is the target number of times we want our desired outcome to occur. So if we wanted to find the number of combinations in which 4 out of 5 days can be sunny, we'd set to 5, and to 4. The symbol means factorial. A factorial means \"multiply every number from 1 to this number together\". So is 1*2*3*4, which is 24.\n",
    "\n",
    "Plugging 4 and 5 into this formula gives us `5` \n",
    "\n",
    "This matches our intuitive answer that we got earlier!"
   ]
  },
  {
   "cell_type": "markdown",
   "metadata": {},
   "source": [
    "## 8: Finding The Number Of Combinations\n",
    "\n",
    "We can calculate probabilities greater than or equal to a threshold with our bike sharing data. We found that the probability of having more riders than 4000 is about .6. We can use this to find the probability that in 10 days, 7 or more days have more than 4000 riders.\n",
    "\n",
    "But first, let's find the number of combinations in which 7 days out of 10 have more than 4000 rentals. We can repeat this process for 8 and 9 days.\n",
    "\n",
    "#### Instructions\n",
    "- Find the number of combinations where 8 days out of 10 have more than 4000 rentals. Assign the result to combinations_8.\n",
    "- Find the number of combinations where 9 days out of 10 have more than 4000 rentals. Assign the result to combinations_9.\n"
   ]
  },
  {
   "cell_type": "code",
   "execution_count": 11,
   "metadata": {
    "collapsed": false
   },
   "outputs": [
    {
     "name": "stdout",
     "output_type": "stream",
     "text": [
      "120.0 45.0 10.0\n"
     ]
    }
   ],
   "source": [
    "import math\n",
    "def find_outcome_combinations(N, k):\n",
    "    # Calculate the numerator of our formula.\n",
    "    numerator = math.factorial(N)\n",
    "    # Calculate the denominator.\n",
    "    denominator = math.factorial(k) * math.factorial(N - k)\n",
    "    # Divide them to get the final value.\n",
    "    return numerator / denominator\n",
    "\n",
    "combinations_7 = find_outcome_combinations(10, 7)\n",
    "combinations_8 = find_outcome_combinations(10, 8)\n",
    "combinations_9 = find_outcome_combinations(10, 9)\n",
    "print(combinations_7,combinations_8,combinations_9)"
   ]
  },
  {
   "cell_type": "markdown",
   "metadata": {},
   "source": [
    "# 9: The Probability For Each Combination\n",
    "\n",
    "Let's go back to our example about the number of sunny days in Los Angeles. We can call the probability that a day will be sunny , and the probability that a day won't be sunny .\n",
    "\n",
    "is the probability that an outcome will occur, and is the complementary probability that the outcome won't happen -- .\n",
    "\n",
    "When we calculate the number of combinations in which a given outcome can occur k times in N events, each of those combinations has a certain probability of occurring.\n",
    "\n",
    "Let's say that for sunny days in Los Angeles, is .7, and is .3. If we look at 5 days, there is one combination in which every day is sunny -- the probability for this combination is .7 * .7 * .7 * .7 * .7, which equals .168.\n",
    "\n",
    "There are 5 combinations in which only 4 days are sunny -- you can see our table earlier for a closer look. We can calculate the probability of the first combination with .7 * .7 * .7 * .7 * .3, which equals .072. The probability of the second combination is .7 * .7 * .7 * .3 * .7, which equals .072. We're multiplying all the same numbers, just in a different order, so this combination has the same probability as the first combination. The probability for each combination in which of the same outcome can happen in events is always the same."
   ]
  },
  {
   "cell_type": "markdown",
   "metadata": {},
   "source": [
    "## 10: Calculating The Probability Of One Combination\n",
    "Now that we calculated the probability for a single combination occurring, let's practice the calculation a bit more.\n",
    "\n",
    "#### Instructions:\n",
    "- Find the probability of a single combination for finding 3 days out of 5 are sunny.\n",
    "    - The combination is Sunny, Sunny, Sunny, Not Sunny, Not Sunny.\n",
    "    - Assign the result to prob_combination_3."
   ]
  },
  {
   "cell_type": "code",
   "execution_count": 7,
   "metadata": {
    "collapsed": false
   },
   "outputs": [
    {
     "data": {
      "text/plain": [
       "0.03086999999999999"
      ]
     },
     "execution_count": 7,
     "metadata": {},
     "output_type": "execute_result"
    }
   ],
   "source": [
    "prob_combination_3 = .7 * .7 * .7 * .3 * .3\n",
    "prob_combination_3"
   ]
  },
  {
   "cell_type": "markdown",
   "metadata": {},
   "source": [
    "## 11: Per Combination Probability Formula\n",
    "\n",
    "As we learned earlier, the probability for each combination in which $k$\n",
    " of the same outcome can happen in $N$\n",
    " events is always the same. Given this, we can calculate the probability of a given outcome happening $k$\n",
    " times in $N$\n",
    " events by multiplying the number of combinations in which our result can occur by the probability of a single combination occurring.\n",
    "\n",
    "The probability of a single combination occurring is given by $p^{k}*q^{N-k}$\n",
    ". We can verify this with our sunny days example. First, let's find the probability of one combination in which there are 5 sunny days out of 5:\n",
    "\n",
    "$.7^{5} * .3^{5-5} = .168 *.3^{0} = .168 * 1 = .168$\n",
    "\n",
    "Now, let's find the probability of one combination in which there are 4 sunny days out of 5:\n",
    "\n",
    "$.7^{4}*.3^{5-4}=.24*.3^{1}=.24*.3=.072$\n",
    "\n",
    "\n",
    "This matches up perfectly with what we did earlier. To find the overall probabilty of 4 days out of 5 being sunny, we just multiply the number of combinations by the probability of any single combination occurring. This gives us .36."
   ]
  },
  {
   "cell_type": "markdown",
   "metadata": {},
   "source": [
    "## 12: Function To Calculate The Probability Of A Single Combination\n",
    "\n",
    "Now we know enough to find the probability that within 10 days, 7 or more days have more than 4000 riders. The probability of having more than 4000 riders on any single day is about .6. This means that $p$\n",
    " is .6, and $q$\n",
    " is .4.\n",
    "\n",
    "#### Instructions:\n",
    "- Write a function to find the probability of a single combination occurring.\n",
    "- Use the function to calculate the probability of 8 days out of 10 having more than 4000 riders.\n",
    "    - Assign the result to prob_8.\n",
    "- Use the function to calculate the probability of 9 days out of 10 having more than 4000 riders.\n",
    "    - Assign the result to prob_9.\n",
    "- Use the function to calculate the probability of 10 days out of 10 having more than 4000 riders.\n",
    "    - Assign the result to prob_10."
   ]
  },
  {
   "cell_type": "code",
   "execution_count": 19,
   "metadata": {
    "collapsed": false
   },
   "outputs": [
    {
     "name": "stdout",
     "output_type": "stream",
     "text": [
      "0.12093235199999997 0.04031078399999999 0.006046617599999997\n"
     ]
    }
   ],
   "source": [
    "def find_combination_probability(N,k, p, q):\n",
    "    return p ** k * q ** (N-k)\n",
    "\n",
    "p = .6\n",
    "q = .4\n",
    "\n",
    "# binomial pmf\n",
    "prob_8 = find_outcome_combinations(10, 8) * find_combination_probability(10, 8, p, q)\n",
    "prob_9 = find_outcome_combinations(10, 9) * find_combination_probability(10, 9, p, q)\n",
    "prob_10 = find_outcome_combinations(10, 10) * find_combination_probability(10, 10, p, q)\n",
    "\n",
    "print(prob_8,prob_9,prob_10)"
   ]
  },
  {
   "cell_type": "markdown",
   "metadata": {},
   "source": [
    "## 13: Statistical Significance\n",
    "\n",
    "Let's say we've invented a weather control device that can make the weather sunny (if only!), and we decide to test it on Los Angeles. The device isn't perfect, and can't make every single day sunny -- it can only increase the chance that a day is sunny. We turn it on for 10 days, and notice that the weather is sunny in 8 of those.\n",
    "\n",
    "We touched on the question of statistical significance before -- it's the question of whether a result happened as the result of something we changed, or whether a result is a matter of random chance.\n",
    "\n",
    "**Typically, researchers will use 5% as a significance threshold** -- if an event would only happen 5% or less of the time by random chance, then it is statistically significant. If an event would happen more than 5% of the time by random chance, then it isn't statistically significant.\n",
    "\n",
    "In order to determine statistical significance, we need to determine the percentage chance that the number of outcomes we saw or greater could happen by random chance.\n",
    "\n",
    "In our case, there is 12% chance that the weather would be sunny 8 days out of 10 by random chance. We add this to 4% for 9 days out of 10, and .6% for 10 days out of 10 to get a 16.6% total chance of the sunny outcome happening 8 or more time in our 10 days. Our result isn't statistically significant, so we'd have to go back to the lab and spend some time adding more flux capacitors to our weather control device.\n",
    "\n",
    "Let's say we recalibrate our weather control device successfully, and observe for 10 more days, of which 9 of them are sunny. This only has a 4.6% chance of happening randomly (probability of 9 plus probability of 10). This is a statistically significant result, but it isn't a slam-dunk. It would require more investigation, including collecting results for more days, to get a more conclusive result.\n",
    "\n",
    "In practice, setting statistical significance thresholds is tricky, and can be highly variable. We'll be touching on how to set thresholds later on.\n",
    "\n",
    "**note: for a normal distribution, 5% of the data is 2 standard deviations from the mean**"
   ]
  }
 ],
 "metadata": {
  "kernelspec": {
   "display_name": "Python 3",
   "language": "python",
   "name": "python3"
  },
  "language_info": {
   "codemirror_mode": {
    "name": "ipython",
    "version": 3
   },
   "file_extension": ".py",
   "mimetype": "text/x-python",
   "name": "python",
   "nbconvert_exporter": "python",
   "pygments_lexer": "ipython3",
   "version": "3.6.0"
  }
 },
 "nbformat": 4,
 "nbformat_minor": 2
}
