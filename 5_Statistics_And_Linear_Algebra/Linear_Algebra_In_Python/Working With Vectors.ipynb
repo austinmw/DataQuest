{
 "cells": [
  {
   "cell_type": "markdown",
   "metadata": {},
   "source": [
    "# Working With Vectors\n",
    "\n",
    "### Learn about vectors and matrix multiplication while looking at NBA player data.\n",
    "\n",
    "##### Contents:\n",
    "- Vector basics\n",
    "    - row, column vectors\n",
    "    - addition/subtraction, multiplication/division\n",
    "    - geometric intuition\n",
    "- Plotting vectors with matplotlib.pyplot.quiver()\n",
    "- Vector length\n",
    "- Dot product\n",
    "- Linear regression\n",
    "- Vector and Matrix multiplication"
   ]
  },
  {
   "cell_type": "code",
   "execution_count": 1,
   "metadata": {
    "collapsed": true
   },
   "outputs": [],
   "source": [
    "import numpy as np"
   ]
  },
  {
   "cell_type": "markdown",
   "metadata": {
    "collapsed": true
   },
   "source": [
    "## 1: Introduction To Vectors\n",
    "\n",
    "Let's take a closer look at matrices, which consist of rows and columns.\n",
    "\n",
    "We call a matrix with a single column a column vector:\n",
    "\n",
    "$$\\begin{bmatrix}\n",
    "3\\\\ \n",
    "1\\\\ \n",
    "2\n",
    "\\end{bmatrix}$$\n",
    " \n",
    "We call a matrix with a single row a row vector:\n",
    "\n",
    "$$\\begin{bmatrix}\n",
    "3 & 1 & 2\n",
    "\\end{bmatrix}$$\n",
    " \n",
    "Notice that a vector is a single row or a single column. We can add vectors together:\n",
    "\n",
    "\n",
    "$$\\begin{bmatrix}\n",
    "3\\\\ \n",
    "1\\\\ \n",
    "2\n",
    "\\end{bmatrix} + \\begin{bmatrix}\n",
    "1\\\\ \n",
    "2\\\\ \n",
    "3\n",
    "\\end{bmatrix} = \n",
    "\\begin{bmatrix}\n",
    "4\\\\ \n",
    "3\\\\ \n",
    "5\n",
    "\\end{bmatrix}$$\n",
    " \n",
    " \n",
    "To add two vectors, we just add the elements at the same position in each vector together.\n",
    "\n",
    "#### Instructions:\n",
    "- Add vector1 and vector2, and assign the result to vector1_2.\n",
    "- Add vector3 and vector1, and assign the result to vector3_1."
   ]
  },
  {
   "cell_type": "code",
   "execution_count": 4,
   "metadata": {
    "collapsed": false
   },
   "outputs": [
    {
     "name": "stdout",
     "output_type": "stream",
     "text": [
      "[12 11 10 12]\n",
      "[14  9 13  9]\n"
     ]
    }
   ],
   "source": [
    "vector1 = np.asarray([4, 5, 7, 10])\n",
    "vector2 = np.asarray([8, 6, 3, 2])\n",
    "vector3 = np.asarray([10, 4, 6, -1])\n",
    "\n",
    "vector1_2 = vector1 + vector2; print(vector1_2)\n",
    "vector3_1 = vector3 + vector1; print(vector3_1)"
   ]
  },
  {
   "cell_type": "markdown",
   "metadata": {},
   "source": [
    "## 2: Multiplying Vectors By Scalars\n",
    "\n",
    "We can also multiply vectors by single numbers called scalars.\n",
    "\n",
    "$$4 * \\begin{bmatrix}\n",
    "1\\\\ \n",
    "2\\\\ \n",
    "3\n",
    "\\end{bmatrix} = \n",
    "\\begin{bmatrix}\n",
    "4\\\\ \n",
    "8\\\\ \n",
    "12\n",
    "\\end{bmatrix}$$\n",
    " \n",
    "In the example above, 4 is a scalar that we are multiplying the vector by. We multiply each element in the vector by the scalar.\n",
    "\n",
    "#### Instructions:\n",
    "- Multiply vector by the scalar 7 and assign the result to vector_7.\n",
    "- Divide vector by the scalar 8 and assign the result to vector_8."
   ]
  },
  {
   "cell_type": "code",
   "execution_count": 6,
   "metadata": {
    "collapsed": false
   },
   "outputs": [
    {
     "name": "stdout",
     "output_type": "stream",
     "text": [
      "[28 -7 49]\n",
      "[ 0.5   -0.125  0.875]\n"
     ]
    }
   ],
   "source": [
    "vector = np.asarray([4, -1, 7])\n",
    "\n",
    "vector_7 = 7 * vector; print(vector_7)\n",
    "vector_8 = vector / 8; print(vector_8)"
   ]
  },
  {
   "cell_type": "markdown",
   "metadata": {},
   "source": [
    "## 3: Geometric Intuition Of Vectors\n",
    "\n",
    "So far, we've worked with one-dimensional arrays, or vectors. We call the number of elements in a vector the vector dimension. For instance, the dimension of this vector is 2:\n",
    "\n",
    "$$\\begin{bmatrix}\n",
    "1\\\\ \n",
    "2\n",
    "\\end{bmatrix}$$\n",
    "\n",
    "We can project vectors of dimension 1 onto a one-dimensional coordinate system, like this:\n",
    "\n",
    "<img src=\"data/pic2.png\">\n",
    "\n",
    "The diagram above has a vector with one dimension. Each dimension can have a magnitude, which indicates how large the vector is in that dimension. In this case, our vector is magnitude 1, so it stretches from 0 to 1. Note that there's nothing in our vector that indicates it has to start at 0. We could also start our vector at 1:\n",
    "\n",
    "<img src=\"data/pic3.png\">\n",
    "\n",
    "The only information a vector encodes is where it's going (magnitude), not where it originates. We can also have a vector that extends in a negative direction:\n",
    "\n",
    "<img src=\"data/pic4.png\">\n",
    "\n",
    "We can apply this same principle to two-dimensional vectors, except that we have to draw them in two-dimensional coordinate spaces:\n",
    "\n",
    "$$\\begin{bmatrix}\n",
    "1 \\\\\n",
    "2\n",
    "\\end{bmatrix}$$\n",
    "\n",
    "<img src=\"data/pic5.png\">\n",
    "\n",
    "As you can see above, we've drawn the same vector twice—once where it starts at 0,0, and once where it starts at 1,0.\n",
    "\n",
    "We can add vectors by starting one vector where another ends:\n",
    "\n",
    "<img src=\"data/pic6.png\">\n",
    "\n",
    "The final vector we end up with is:\n",
    "\n",
    "$$\\begin{bmatrix}\n",
    "1 \\\\\n",
    "2\n",
    "\\end{bmatrix} + \n",
    "\\begin{bmatrix}\n",
    "2 \\\\\n",
    "2\n",
    "\\end{bmatrix} =\n",
    "\\begin{bmatrix}\n",
    "3 \\\\\n",
    "4\n",
    "\\end{bmatrix}$$\n",
    "\n",
    "As we add more dimensions to vectors, we need to add more coordinate dimensions to accurately plot them. We won't plot out three-dimensional vectors now, but it's useful to understand what's happening conceptually."
   ]
  },
  {
   "cell_type": "markdown",
   "metadata": {},
   "source": [
    "## 4: Plotting Vectors\n",
    "\n",
    "We can make the geometric interpretation of vectors clearer by plotting them with the <mark>.quiver()</mark> method of matplotlib.pyplot. This enables us to plot vectors on a 2D coordinate grid. Then we can see what adding vectors together looks like.\n",
    "\n",
    "In order to plot vectors, we would use:\n",
    "\n",
    "\n",
    "    import matplotlib.pyplot as plt\n",
    "    plt.quiver(X, Y, U, V, angles='xy', scale_units='xy', scale=1)\n",
    "    \n",
    "- X - The x-coordinate origin of the vector\n",
    "- Y - The y-coordinate origin of the vector\n",
    "- U - The distance the vector moves on the x-axis\n",
    "- V - The distance the vector moves on the y-axis\n",
    "\n",
    "X, Y, U, and V are all one-dimensional NumPy arrays (vectors), or lists. The first item in each array corresponds to the first vector, the second item corresponds to the second vector, and so on. We can make the arrays as long or as short as we want.\n",
    "\n",
    "If you look at the plot, you'll notice that it stacked both vectors. The second vector begins right where the first vector ends. In fact, if you look at both vectors together, they end up getting us to the coordinates 4,4.\n",
    "\n",
    "This is vector addition! Drawing one vector right where the other one ends gives us the result of adding the two vectors together.\n",
    "\n",
    "#### Instructions:\n",
    "- Make a new plot that contains the two vectors in the first plot, but also adds a vector that starts at origin 0,0, then goes over 4 and up 4.\n",
    "    - This will end up at the coordinates 4,4.\n",
    "    - The final plot will have three vectors on it.\n",
    "- Set the x and y-axis limits to [0,6]."
   ]
  },
  {
   "cell_type": "code",
   "execution_count": 10,
   "metadata": {
    "collapsed": false
   },
   "outputs": [
    {
     "data": {
      "image/png": "[encoded data removed]",
      "text/plain": [
       "<matplotlib.figure.Figure at 0x10c953a90>"
      ]
     },
     "metadata": {},
     "output_type": "display_data"
    },
    {
     "data": {
      "image/png": "[encoded data removed]",
      "text/plain": [
       "<matplotlib.figure.Figure at 0x10c9f52b0>"
      ]
     },
     "metadata": {},
     "output_type": "display_data"
    }
   ],
   "source": [
    "import numpy as np\n",
    "import matplotlib.pyplot as plt\n",
    "\n",
    "# We're going to plot two vectors\n",
    "# The first will start at origin 0,0, then go over 1 and up 2\n",
    "# The second will start at origin 1,2, then go over 3 and up 2\n",
    "X = [0,1]\n",
    "Y = [0,2]\n",
    "U = [1,3]\n",
    "V = [2,2]\n",
    "# Create the plot\n",
    "plt.quiver(X, Y, U, V, angles='xy', scale_units='xy', scale=1)\n",
    "# Set the x-axis limits\n",
    "plt.xlim([0,6])\n",
    "# Set the y-axis limits\n",
    "plt.ylim([0,6])\n",
    "# Show the plot\n",
    "plt.show()\n",
    "\n",
    "# startX, startY, distX, distY\n",
    "plt.quiver([0,1,0], [0,2,0], [1,3,4], [2,2,4], angles='xy', scale_units='xy', scale=1)\n",
    "plt.xlim([0,6])\n",
    "plt.ylim([0,6])\n",
    "plt.show()"
   ]
  },
  {
   "cell_type": "markdown",
   "metadata": {},
   "source": [
    "## 5: Determining Vector Length\n",
    "\n",
    "Now that we can plot vectors, we can intuitively figure out vector length. We just saw that we can represent a two-dimensional vector as a line. Let's say we have this vector:\n",
    "\n",
    "$$X = \\begin{bmatrix}\n",
    "2 \\\\\n",
    "3\n",
    "\\end{bmatrix}$$\n",
    "\n",
    "Because it's a line, we can calculate its length with the Pythagorean theorem. If you think about it, this vector is just the sum of these two component vectors:\n",
    "\n",
    "$$X = \\begin{bmatrix}\n",
    "2 \\\\ \n",
    "3\n",
    "\\end{bmatrix} = \\begin{bmatrix}\n",
    "0\\\\\n",
    "3\n",
    "\\end{bmatrix} + \\begin{bmatrix}\n",
    "2 \\\\\n",
    "0\n",
    "\\end{bmatrix}$$\n",
    "\n",
    "Both component vectors only have length in one dimension. If we were creating the components of a three-dimensional vector, there would be three components, and so on for even higher-dimensional vectors.\n",
    "\n",
    "The plot of our [2,3] vector illustrates this concept, and it's really just a triangle we're making. We can find the length of the hypotenuse (long side) of a triangle with the famous formula $a^{2}+b^{2}=c^{2}$, which is the Pythagorean theorem. We can rewrite this to find the length of $c$\n",
    ", the hypotenuse. This gives us $c=\\sqrt{a^{2}+b^{2}}$\n",
    ". The length of any vector, no matter how many dimensions, is the square root of the sum of all of its elements squared.\n",
    "\n",
    "To find the length of a vector, we just apply the formula. In a two-dimensional vector, the first element is the length of the bottom of the triangle ($a$), and the second element is the length of the right side of the triangle ($b$). By taking the square root of $a^{2}+b^{2}$\n",
    ", we can find the length of the vector. We'll plot this out below to make it more clear.\n",
    "\n",
    "Let's plot the two component vectors of the $\\begin{bmatrix} 2 \\\\ 3 \\end{bmatrix}$ vector we care about.\n",
    " \n",
    "#### Instructions:\n",
    "\n",
    "- Compute the length of the vector $\\begin{bmatrix} 2 \\\\ 3 \\end{bmatrix}$, and assign the result to vector_length.\n",
    " \n",
    "\n"
   ]
  },
  {
   "cell_type": "code",
   "execution_count": 13,
   "metadata": {
    "collapsed": false
   },
   "outputs": [
    {
     "data": {
      "image/png": "[encoded data removed]",
      "text/plain": [
       "<matplotlib.figure.Figure at 0x10cb58828>"
      ]
     },
     "metadata": {},
     "output_type": "display_data"
    },
    {
     "name": "stdout",
     "output_type": "stream",
     "text": [
      "3.605551275463989\n"
     ]
    }
   ],
   "source": [
    "# We're going to plot three vectors\n",
    "# The first will start at origin 0,0, then go over 2 (this represents the bottom of the triangle)\n",
    "# The second will start at origin 2,2, then go up 3 (this is the right side of the triangle)\n",
    "# The third will start at origin 0,0, then go over 2 and up 3 (this is our vector, and the hypotenuse of the triangle)\n",
    "X = [0,2,0]\n",
    "Y = [0,0,0]\n",
    "U = [2,0,2]\n",
    "V = [0,3,3]\n",
    "# Create the plot\n",
    "plt.quiver(X, Y, U, V, angles='xy', scale_units='xy', scale=1)\n",
    "plt.xlim([0,6])\n",
    "plt.ylim([0,6])\n",
    "plt.show()\n",
    "\n",
    "vector_length = (U[2]**2 + V[2]**2)**(1/2); print(vector_length)"
   ]
  },
  {
   "cell_type": "markdown",
   "metadata": {},
   "source": [
    "## 6: Calculating The Dot Product\n",
    "\n",
    "The dot product can tell us how much of one vector is pointing in the same direction as another vector. We find the dot product for vectors like this:\n",
    "\n",
    "$$\\vec{a}\\cdot\\vec{b}=\\begin{bmatrix}\n",
    "a_{1} \\\\\n",
    "a_{2} \\\\\n",
    "a_{3}\n",
    "\\end{bmatrix} \\cdot\n",
    "\\begin{bmatrix}\n",
    "b_{1} \\\\\n",
    "b_{2} \\\\\n",
    "b_{3}\n",
    "\\end{bmatrix} = a_{1}b_{1} + a_{2}b_{2} + a_{3}b_{3}$$\n",
    "\n",
    "$\\overrightarrow{\\bf a}$ and $\\overrightarrow{\\bf b}$ are vectors. $a_{1}$ is the first element of the a vector, $a_{2}$ is the second, and so on. What this equation is saying is that we calculate the dot product by:\n",
    "\n",
    "1. Multiplying the first element of $\\bf a$\n",
    " by the first element of $\\bf b$\n",
    "2. Adding the result to the second element of $\\bf a$\n",
    " multiplied by the second element of $\\bf b$\n",
    "3. Adding the result of that operation to the third element of $\\bf a$\n",
    " multiplied by the third element of $\\bf b$\n",
    "\n",
    "**This gives us a number that indicates how much of the length of $\\bf a$\n",
    " is pointing in the same direction as $\\bf b$**\n",
    ". If we project $\\bf a$\n",
    " onto the vector $\\bf b$\n",
    ", then it indicates how much of $\\bf a$\n",
    "is \"in\" vector $\\bf b$\n",
    ". When two vectors are at 90 degree angles, the dot product will be 0.\n",
    "\n",
    "We can apply dot products to vectors with any number of dimensions. To do this, we multiply the elements at the same positions in both vectors, and add the results.\n",
    "\n",
    "Here's an example:\n",
    "\n",
    "$$\\begin{bmatrix}\n",
    "1 \\\\\n",
    "1\n",
    "\\end{bmatrix} \n",
    "\\cdot\n",
    "\\begin{bmatrix}\n",
    "-1 \\\\\n",
    "1\n",
    "\\end{bmatrix} = 1 * -1 + 1 * 1 = 0$$\n",
    "\n",
    "When two vectors are the same, the dot product will be the square of the vector length:\n",
    "\n",
    "$$\\begin{bmatrix}\n",
    "2 \\\\\n",
    "3\n",
    "\\end{bmatrix} \n",
    "\\cdot\n",
    "\\begin{bmatrix}\n",
    "2 \\\\\n",
    "3\n",
    "\\end{bmatrix} = 2 * 2 + 3 * 3 = 4 + 9 = 13$$\n",
    "\n",
    "It's not extremely important to understand the meaning of the dot product right now, but its calculation is important in many ways. Chief among them is determining whether vectors are **orthogonal**. Two vectors are orthogonal if they're perpendicular (at a 90 degree angle to each other) and their dot product is 0.\n",
    "\n",
    "#### Instructions:\n",
    "- Assign the dot product of the vector $\\begin{bmatrix} 3 \\\\ 4 \\\\ 5 \\\\ 6 \\end{bmatrix}$ and the vector $\\begin{bmatrix} 5 \\\\ 6 \\\\ 7 \\\\ 8 \\end{bmatrix}$ to `dot`."
   ]
  },
  {
   "cell_type": "code",
   "execution_count": 19,
   "metadata": {
    "collapsed": false
   },
   "outputs": [
    {
     "data": {
      "image/png": "[encoded data removed]",
      "text/plain": [
       "<matplotlib.figure.Figure at 0x10d0879e8>"
      ]
     },
     "metadata": {},
     "output_type": "display_data"
    },
    {
     "name": "stdout",
     "output_type": "stream",
     "text": [
      "122\n",
      "122\n",
      "122\n"
     ]
    }
   ],
   "source": [
    "# These two vectors are orthogonal\n",
    "X = [0,0]\n",
    "Y = [0,0]\n",
    "U = [1,-1]\n",
    "V = [1,1]\n",
    "plt.quiver(X, Y, U, V, angles='xy', scale_units='xy', scale=1)\n",
    "plt.xlim([-2,2])\n",
    "plt.ylim([-2,2])\n",
    "plt.show()\n",
    "\n",
    "dot = 3 * 5 + 4 * 6 + 5 * 7 + 6 * 8; print(dot)\n",
    "\n",
    "# or\n",
    "dot = np.dot([3,4,5,6],[5,6,7,8]); print(dot)\n",
    "dot = np.dot(np.array([3,4,5,6]),np.array([5,6,7,8])); print(dot) # with np arrays"
   ]
  },
  {
   "cell_type": "markdown",
   "metadata": {},
   "source": [
    "## 7: Making Predictions With Linear Regression\n",
    "\n",
    "Now let's try predicting how many points NBA players scored in 2013 using the number of field goals they attempted. Our algorithm will be single variable linear regression. Remember that a single variable linear regression takes the form $y=mx+b$. $y$ is the variable we want to predict, $x$ is the value of the predictor variable, $m$ is the coefficient (slope), and $b$ is an intercept term.\n",
    "\n",
    "If you've completed the statistics lessons, you'll recall that we worked out how to calculate the slope and intercept there. We won't rehash that in this lesson; we'll just tell you that the slope is 1.26 and the intercept is -18.92.\n",
    "\n",
    "Let's make predictions on the nba dataframe, using the slope and intercept.\n",
    "\n",
    "#### Instructions:\n",
    "- For each row in nba:\n",
    "    - Predict the pts column using the fga column.\n",
    "    - Use the variables slope and intercept (which we already loaded in) to complete the linear regression equation.\n",
    "- Your final output should be a pandas series. Assign it to predictions."
   ]
  },
  {
   "cell_type": "code",
   "execution_count": 49,
   "metadata": {
    "collapsed": false
   },
   "outputs": [
    {
     "data": {
      "text/html": [
       "<div>\n",
       "<style>\n",
       "    .dataframe thead tr:only-child th {\n",
       "        text-align: right;\n",
       "    }\n",
       "\n",
       "    .dataframe thead th {\n",
       "        text-align: left;\n",
       "    }\n",
       "\n",
       "    .dataframe tbody tr th {\n",
       "        vertical-align: top;\n",
       "    }\n",
       "</style>\n",
       "<table border=\"1\" class=\"dataframe\">\n",
       "  <thead>\n",
       "    <tr style=\"text-align: right;\">\n",
       "      <th></th>\n",
       "      <th>player</th>\n",
       "      <th>pos</th>\n",
       "      <th>age</th>\n",
       "      <th>bref_team_id</th>\n",
       "      <th>g</th>\n",
       "      <th>gs</th>\n",
       "      <th>mp</th>\n",
       "      <th>fg</th>\n",
       "      <th>fga</th>\n",
       "      <th>fg.</th>\n",
       "      <th>...</th>\n",
       "      <th>drb</th>\n",
       "      <th>trb</th>\n",
       "      <th>ast</th>\n",
       "      <th>stl</th>\n",
       "      <th>blk</th>\n",
       "      <th>tov</th>\n",
       "      <th>pf</th>\n",
       "      <th>pts</th>\n",
       "      <th>season</th>\n",
       "      <th>season_end</th>\n",
       "    </tr>\n",
       "  </thead>\n",
       "  <tbody>\n",
       "    <tr>\n",
       "      <th>0</th>\n",
       "      <td>Quincy Acy</td>\n",
       "      <td>SF</td>\n",
       "      <td>23</td>\n",
       "      <td>TOT</td>\n",
       "      <td>63</td>\n",
       "      <td>0</td>\n",
       "      <td>847</td>\n",
       "      <td>66</td>\n",
       "      <td>141</td>\n",
       "      <td>0.468</td>\n",
       "      <td>...</td>\n",
       "      <td>144</td>\n",
       "      <td>216</td>\n",
       "      <td>28</td>\n",
       "      <td>23</td>\n",
       "      <td>26</td>\n",
       "      <td>30</td>\n",
       "      <td>122</td>\n",
       "      <td>171</td>\n",
       "      <td>2013-2014</td>\n",
       "      <td>2013</td>\n",
       "    </tr>\n",
       "    <tr>\n",
       "      <th>1</th>\n",
       "      <td>Steven Adams</td>\n",
       "      <td>C</td>\n",
       "      <td>20</td>\n",
       "      <td>OKC</td>\n",
       "      <td>81</td>\n",
       "      <td>20</td>\n",
       "      <td>1197</td>\n",
       "      <td>93</td>\n",
       "      <td>185</td>\n",
       "      <td>0.503</td>\n",
       "      <td>...</td>\n",
       "      <td>190</td>\n",
       "      <td>332</td>\n",
       "      <td>43</td>\n",
       "      <td>40</td>\n",
       "      <td>57</td>\n",
       "      <td>71</td>\n",
       "      <td>203</td>\n",
       "      <td>265</td>\n",
       "      <td>2013-2014</td>\n",
       "      <td>2013</td>\n",
       "    </tr>\n",
       "    <tr>\n",
       "      <th>2</th>\n",
       "      <td>Jeff Adrien</td>\n",
       "      <td>PF</td>\n",
       "      <td>27</td>\n",
       "      <td>TOT</td>\n",
       "      <td>53</td>\n",
       "      <td>12</td>\n",
       "      <td>961</td>\n",
       "      <td>143</td>\n",
       "      <td>275</td>\n",
       "      <td>0.520</td>\n",
       "      <td>...</td>\n",
       "      <td>204</td>\n",
       "      <td>306</td>\n",
       "      <td>38</td>\n",
       "      <td>24</td>\n",
       "      <td>36</td>\n",
       "      <td>39</td>\n",
       "      <td>108</td>\n",
       "      <td>362</td>\n",
       "      <td>2013-2014</td>\n",
       "      <td>2013</td>\n",
       "    </tr>\n",
       "  </tbody>\n",
       "</table>\n",
       "<p>3 rows × 31 columns</p>\n",
       "</div>"
      ],
      "text/plain": [
       "         player pos  age bref_team_id   g  gs    mp   fg  fga    fg.  \\\n",
       "0    Quincy Acy  SF   23          TOT  63   0   847   66  141  0.468   \n",
       "1  Steven Adams   C   20          OKC  81  20  1197   93  185  0.503   \n",
       "2   Jeff Adrien  PF   27          TOT  53  12   961  143  275  0.520   \n",
       "\n",
       "      ...      drb  trb  ast  stl  blk  tov   pf  pts     season  season_end  \n",
       "0     ...      144  216   28   23   26   30  122  171  2013-2014        2013  \n",
       "1     ...      190  332   43   40   57   71  203  265  2013-2014        2013  \n",
       "2     ...      204  306   38   24   36   39  108  362  2013-2014        2013  \n",
       "\n",
       "[3 rows x 31 columns]"
      ]
     },
     "execution_count": 49,
     "metadata": {},
     "output_type": "execute_result"
    }
   ],
   "source": [
    "import pandas as pd\n",
    "nba = pd.read_csv(\"data/nba_2013.csv\")\n",
    "interested = [\"player\",\"fg\",\"pts\"]\n",
    "nba[interested].head()\n",
    "nba.head(3)"
   ]
  },
  {
   "cell_type": "markdown",
   "metadata": {},
   "source": [
    "#### To find $b$ and $m$ of regression line:\n",
    "\n",
    "first find:\n",
    "1. $\\bar x$, $\\bar y$\n",
    "2. Solve for either:\n",
    "    - $cov(x,y)$ and $var(x)$,  OR \n",
    "    - Pearson-r ($r_{xy}$) and $\\sigma x$ and $\\sigma y$\n",
    "\n",
    "\n",
    "Then, solve for $m$ and $b$:\n",
    "\n",
    "$$m=\\frac{cov(x,y)}{var(x)}=r_{xy}*(\\frac{\\sigma y}{\\sigma x})$$\n",
    "\n",
    "$$b=\\bar y - m \\bar x$$"
   ]
  },
  {
   "cell_type": "code",
   "execution_count": 46,
   "metadata": {
    "collapsed": false
   },
   "outputs": [
    {
     "name": "stdout",
     "output_type": "stream",
     "text": [
      "192.88149688149687 516.5821205821206\n",
      "171.8327932742214 470.4222283541248 0.992040802789\n",
      "2.71588464678 -7.26177544568\n",
      "80190.5920435 29526.508844421307\n",
      "2.71588464678 -7.26177544568\n"
     ]
    }
   ],
   "source": [
    "fg_mean = nba.fg.mean()\n",
    "pts_mean = nba.pts.mean()\n",
    "print(fg_mean, pts_mean)\n",
    "\n",
    "from scipy.stats import pearsonr\n",
    "r, _ = pearsonr(nba.fg, nba.pts) # returns r, pvalue\n",
    "fg_std = nba.fg.std()\n",
    "pts_std = nba.pts.std()\n",
    "print(fg_std, pts_std, r)\n",
    "m = r * (pts_std / fg_std)\n",
    "b = pts_mean - (m * fg_mean)\n",
    "print(m, b)\n",
    "\n",
    "# alternatively,\n",
    "cov_xy = np.cov(nba.fg, nba.pts)[0][1]\n",
    "var_x = nba.fg.var()\n",
    "m2 = cov_xy / var_x\n",
    "b2 = pts_mean - (m2 * fg_mean)\n",
    "print(cov_xy, var_x)\n",
    "print(m2, b2)"
   ]
  },
  {
   "cell_type": "markdown",
   "metadata": {},
   "source": [
    "##### Note: pandas uses Bessel's correction by default (for std and var) whereas numpy does not"
   ]
  },
  {
   "cell_type": "code",
   "execution_count": 33,
   "metadata": {
    "collapsed": false
   },
   "outputs": [
    {
     "data": {
      "text/html": [
       "<div>\n",
       "<style>\n",
       "    .dataframe thead tr:only-child th {\n",
       "        text-align: right;\n",
       "    }\n",
       "\n",
       "    .dataframe thead th {\n",
       "        text-align: left;\n",
       "    }\n",
       "\n",
       "    .dataframe tbody tr th {\n",
       "        vertical-align: top;\n",
       "    }\n",
       "</style>\n",
       "<table border=\"1\" class=\"dataframe\">\n",
       "  <thead>\n",
       "    <tr style=\"text-align: right;\">\n",
       "      <th></th>\n",
       "      <th>player</th>\n",
       "      <th>fg</th>\n",
       "      <th>pts</th>\n",
       "      <th>predictions</th>\n",
       "    </tr>\n",
       "  </thead>\n",
       "  <tbody>\n",
       "    <tr>\n",
       "      <th>0</th>\n",
       "      <td>Quincy Acy</td>\n",
       "      <td>66</td>\n",
       "      <td>171</td>\n",
       "      <td>171.986611</td>\n",
       "    </tr>\n",
       "    <tr>\n",
       "      <th>1</th>\n",
       "      <td>Steven Adams</td>\n",
       "      <td>93</td>\n",
       "      <td>265</td>\n",
       "      <td>245.315497</td>\n",
       "    </tr>\n",
       "    <tr>\n",
       "      <th>2</th>\n",
       "      <td>Jeff Adrien</td>\n",
       "      <td>143</td>\n",
       "      <td>362</td>\n",
       "      <td>381.109729</td>\n",
       "    </tr>\n",
       "    <tr>\n",
       "      <th>3</th>\n",
       "      <td>Arron Afflalo</td>\n",
       "      <td>464</td>\n",
       "      <td>1330</td>\n",
       "      <td>1252.908701</td>\n",
       "    </tr>\n",
       "    <tr>\n",
       "      <th>4</th>\n",
       "      <td>Alexis Ajinca</td>\n",
       "      <td>136</td>\n",
       "      <td>328</td>\n",
       "      <td>362.098537</td>\n",
       "    </tr>\n",
       "  </tbody>\n",
       "</table>\n",
       "</div>"
      ],
      "text/plain": [
       "          player   fg   pts  predictions\n",
       "0     Quincy Acy   66   171   171.986611\n",
       "1   Steven Adams   93   265   245.315497\n",
       "2    Jeff Adrien  143   362   381.109729\n",
       "3  Arron Afflalo  464  1330  1252.908701\n",
       "4  Alexis Ajinca  136   328   362.098537"
      ]
     },
     "execution_count": 33,
     "metadata": {},
     "output_type": "execute_result"
    }
   ],
   "source": [
    "nba[\"predictions\"] = m*nba.fg + b\n",
    "nba.head()"
   ]
  },
  {
   "cell_type": "code",
   "execution_count": 43,
   "metadata": {
    "collapsed": false
   },
   "outputs": [
    {
     "data": {
      "image/png": "[encoded data removed]",
      "text/plain": [
       "<matplotlib.figure.Figure at 0x114755d68>"
      ]
     },
     "metadata": {},
     "output_type": "display_data"
    }
   ],
   "source": [
    "import matplotlib.pyplot as plt\n",
    "plt.scatter(nba.fg, nba.pts)\n",
    "plt.plot(nba.fg, nba.predictions)\n",
    "plt.show()"
   ]
  },
  {
   "cell_type": "markdown",
   "metadata": {},
   "source": [
    "## 8: Vector And Matrix Multiplication\n",
    "We can multiply vectors and matrices, which will enable us to perform linear regression much more quickly and efficiently. When multiplying a vector and a matrix, it can be useful to think of multiplying a matrix by a one-column matrix instead:\n",
    "\n",
    "$$\\begin{bmatrix}\n",
    "3 & 1\\\\\n",
    "2 & 2\n",
    "\\end{bmatrix} * \\begin{bmatrix}\n",
    "2 \\\\\n",
    "1\n",
    "\\end{bmatrix}$$\n",
    "\n",
    "When we multiply a matrix and a vector, we write out the dimensions in terms of numbers of rows and columns:\n",
    "\n",
    "    2x2 * 2x1\n",
    "    \n",
    "In this case, we're multiplying a 2x2 matrix (A) by a 2x1 matrix (B). The inner numbers must match in order for multiplication to work. So the first matrix needs the same number of columns as the second matrix has rows. We can't multiply B * A, only A * B.\n",
    "\n",
    "When we multiply matrices, we multiply each row of the first matrix by each column of the second matrix.\n",
    "\n",
    "$$\\begin{bmatrix}\n",
    "3 & 1\\\\\n",
    "2 & 2\n",
    "\\end{bmatrix} * \\begin{bmatrix}\n",
    "2 \\\\\n",
    "1\n",
    "\\end{bmatrix} = \\begin{bmatrix}\n",
    "(3 * 2) + (1 * 1) \\\\\n",
    "(2 * 2) + (2 * 1)\n",
    "\\end{bmatrix}$$\n",
    "\n",
    "We multiply the first item in the first row of A by the first item in the first column of B. Then, we multiply the second item in the first row of A by the second item in the first column of B. Next, we add these values together to get the item at the position 1,1 in the resulting matrix.\n",
    "\n",
    "We continue by multipling the first item in the second row of A by the first item in the first column of B. We then multiply the second item in the second row of A by the second item in the first column of B. We then add these values together to get the item at the position 1,2 in the resulting matrix.\n",
    "\n",
    "The resulting matrix will always have the same number of rows as the first matrix we're multiplying, and the same number of columns as the second matrix.\n",
    "\n",
    "We can generalize what we do by assigning A11 as the value of A in the first row and first column, A12 as the value of A in the first row and second column, and so on:\n",
    "\n",
    "$$\\begin{bmatrix}\n",
    "A11 & A12\\\\\n",
    "A21 & A22\n",
    "\\end{bmatrix} * \\begin{bmatrix}\n",
    "B11 \\\\\n",
    "B21\n",
    "\\end{bmatrix} = \\begin{bmatrix}\n",
    "(A11 * B11) + (A12 * B21) \\\\\n",
    "(A21 * B11) + (A22 * B21)\n",
    "\\end{bmatrix}$$\n",
    "\n",
    "This gives us more general rules to apply to any case of matrix multiplication."
   ]
  },
  {
   "cell_type": "markdown",
   "metadata": {},
   "source": [
    "## 9: Multiplying A Matrix By A Vector\n",
    "\n",
    "The process we used for predicting our linear regression coefficients is fine when we're basing predictions on a single column. Remember, though, that the linear regression equation has a coefficient for every single column we're using for the prediction. So for three variables, it would be $y=m_{1}x_{1} + m_{2}x_{2} + m_{3}x_{3} + b$.\n",
    "\n",
    "Sometimes, we'll have thousands of columns we want to use to make predictions. Writing this out becomes tedious (although we could use a for loop). It's also very slow computationally, because we have to do thousands of separate calculations, and we can't optimize them.\n",
    "\n",
    "Fortunately, there's a faster and better way to solve linear regression equations, among other things. This method is matrix multiplication, which serves as the foundational block of much of machine learning.\n",
    "\n",
    "For example, let's say that this matrix represents the coefficients of a linear regression (the first row is the x coefficient, the second row is the intercept term; there's only one column, so this is a column vector):\n",
    "\n",
    "$$\\begin{bmatrix}\n",
    "    3 \\\\\n",
    "-1\n",
    "\\end{bmatrix}$$\n",
    "\n",
    "This matrix represents the values of rows that we want to use to generate predictions. The first column is the x-values, and the second column is there so we can add the intercept term to the equation (this will make sense soon):\n",
    "\n",
    "$$\\begin{bmatrix}\n",
    "2 & 1 \\\\\n",
    "5 & 1 \\\\\n",
    "-1 & 1\n",
    "\\end{bmatrix}$$\n",
    "\n",
    "$$\\begin{bmatrix} 2 & 1 \\\\ 5 & 1 \\\\ -1 & 1 \\end{bmatrix} * \\begin{bmatrix}\n",
    "3 \\\\\n",
    "-1\n",
    "\\end{bmatrix} \n",
    "= \\begin{bmatrix}\n",
    "2 * 3 + 1 * -1 \\\\\n",
    "5 * 3 + 1 * -1 \\\\\n",
    "-1 * 3 + 1 * -1\n",
    "\\end{bmatrix} = \\begin{bmatrix}\n",
    "5 \\\\\n",
    "14 \\\\\n",
    "-4\n",
    "\\end{bmatrix}$$\n",
    "\n",
    "What we're doing is beginning at the first row in our data. Then we multiply the first element of the first row by the first element in the coefficients. Next, we multiply the second element in the first row by the second element in the coefficients column. We add these together.\n",
    "\n",
    "Then, we do the same for the second row in the data. We go across the rows in the first matrix we multiply, and go down the columns in the second matrix we multiply.\n",
    "\n",
    "Here's a more generic version:\n",
    "\n",
    "$$\\begin{bmatrix} a_{11} & a_{12} \\\\ a_{21} & a_{22} \\\\ a_{31} & a_{32} \\end{bmatrix} * \\begin{bmatrix}\n",
    "b_{11} \\\\\n",
    "b_{21}\n",
    "\\end{bmatrix} \n",
    "= \\begin{bmatrix}\n",
    "a_{11} * b_{11} + a_{12} * b_{21} \\\\\n",
    "a_{21} * b_{11} + a_{22} * b_{21} \\\\\n",
    "a_{31} * b_{11} + a_{32} * b_{21}\n",
    "\\end{bmatrix}$$\n",
    "\n",
    "This is actually much faster and more efficient for a machine to compute than the method of addition we used earlier. Adding the second column of 1s to the row enables us to add the intercept term when we multiply everything out.\n",
    "\n",
    "We can perform matrix multiplication in Python using numpy.dot.\n",
    "\n",
    "#### Instructions:\n",
    "- Multiply nba_rows by nba_coefs.\n",
    "    - nba_rows has two columns. The first contains the number of field goals each player attempted in 2013, and the second is a constant 1 value that enables us to add in the intercept.\n",
    "    - Assign the result to predictions."
   ]
  },
  {
   "cell_type": "code",
   "execution_count": 53,
   "metadata": {
    "collapsed": false
   },
   "outputs": [],
   "source": [
    "slope = m; intercept = b;\n",
    "\n",
    "import numpy as np\n",
    "# Set up the coefficients as a column vector\n",
    "coefs = np.asarray([[3], [-1]])\n",
    "# Set up the rows we're using to make predictions\n",
    "rows = np.asarray([[2,1], [5,1], [-1,1]])\n",
    "\n",
    "# We can use np.dot to do matrix multiplication  \n",
    "# This multiplies rows by coefficients\n",
    "# The order is important\n",
    "np.dot(rows, coefs)\n",
    "\n",
    "\n",
    "nba_coefs = np.asarray([[slope], [intercept]])\n",
    "nba_rows = np.vstack([nba[\"fga\"], np.ones(nba.shape[0])]).T\n",
    "predictions = np.dot(nba_rows, nba_coefs)"
   ]
  },
  {
   "cell_type": "markdown",
   "metadata": {},
   "source": [
    "## 10: Special Cases In Matrix Multiplication\n",
    "\n",
    "We looked at a special case of matrix multiplication on previous screens. This special case occurs when one matrix only has a single column or row. We can generalize and look at matrix mutiplication more broadly. The same rules apply, but we need to worry about a bit more complexity. Here's an example:\n",
    "\n",
    "$$\\begin{bmatrix}\n",
    "1 & 3\\\\\n",
    "2 & 4\n",
    "\\end{bmatrix} * \\begin{bmatrix}\n",
    "3 & 1 \\\\\n",
    "4 & 2\n",
    "\\end{bmatrix} = \\begin{bmatrix}\n",
    "(1 * 3) + (3 * 4) & (1 * 1) + (3 * 2)\\\\\n",
    "(2 * 3) + (4 * 4) & (2 * 1) + (4 * 2)\n",
    "\\end{bmatrix} = \\begin{bmatrix}\n",
    "15 & 7\\\\\n",
    "22 & 10\n",
    "\\end{bmatrix}$$\n",
    "\n",
    "The resulting matrix has the same number of rows as A (the first matrix we're multiplying) has columns, and the same number of columns as B (the second matrix we're multiplying) has rows.\n",
    "\n",
    "Here's the general rule for how the multiplication works:\n",
    "\n",
    "$$\\begin{bmatrix}\n",
    "(A11 * B11) + (A12 * B21) & (A11 * B12) + (A12 * B22)\\\\\n",
    "(A21 * B11) + (A22 * B21) & (A21 * B12) + (A22 * B22)\n",
    "\\end{bmatrix}$$\n",
    "\n",
    "Each cell in the resulting matrix is generated when we multiply a row in A by a column in B.\n",
    "\n",
    "- Position 1,1 in the result is created by multiplying the first row of A by the first column of B.\n",
    "- Position 1,2 in the result is created by multiplying the first row of A by the second column of B.\n",
    "- Position 2,1 in the result is created by multiplying the second row of A by the first column of B.\n",
    "- Position 2,2 in the result is created by multiplying the second row of A by the second column of B."
   ]
  },
  {
   "cell_type": "markdown",
   "metadata": {},
   "source": [
    "## 11: Applying Matrix Multiplication\n",
    "Multiplying a matrix by a vector, like we did a few screens ago, is a special case of matrix multiplication. The more general case is multiplying two matrices by each other. We multiply a matrix by another matrix in many machine learning methods, including neural networks. Just like with linear regression, it enables us to do multiple calculations much more quickly than we could otherwise.\n",
    "\n",
    "Let's say we wanted to multiply two matrices. First, the number of columns of the first matrix has to equal the number of rows of the second matrix. The final matrix will have as many rows as the first matrix, and as many columns as the second matrix. You can think of this in terms of matrix dimensions. We can multiply a 3x2 (rows x columns) matrix by a 2x3 matrix, and the final result will be 3x3.\n",
    "\n",
    "Here's the generic version:\n",
    "\n",
    "$$\\begin{bmatrix} \n",
    "a_{11} & a_{12} \\\\ \n",
    "a_{21} & a_{22} \\\\ \n",
    "a_{31} & a_{32} \n",
    "\\end{bmatrix} * \n",
    "\\begin{bmatrix}\n",
    "b_{11} & b_{12}\\\\\n",
    "b_{21} & b_{22}\n",
    "\\end{bmatrix} \n",
    "= \\begin{bmatrix}\n",
    "a_{11} * b_{11} + a_{12} * b_{21} & a_{11} * b_{12} + a_{12} * b_{22}\\\\\n",
    "a_{21} * b_{11} + a_{22} * b_{21} & a_{21} * b_{12} + a_{22} * b_{22}\\\\\n",
    "a_{31} * b_{11} + a_{32} * b_{21} & a_{31} * b_{12} + a_{32} * b_{22}\n",
    "\\end{bmatrix}$$\n",
    "\n",
    "And here's an example:\n",
    "\n",
    "$$\\begin{bmatrix} \n",
    "2 & 1 \\\\ \n",
    "5 & 1 \\\\ \n",
    "-1 & 1 \n",
    "\\end{bmatrix} * \n",
    "\\begin{bmatrix}\n",
    "3 & 1 \\\\\n",
    "-1 & 2\n",
    "\\end{bmatrix} \n",
    "= \\begin{bmatrix}\n",
    "2 * 3 + 1 * -1 & 2 * 1 + 1 * 2\\\\\n",
    "5 * 3 + 1 * -1 & 5 * 1 + 1 * 2\\\\\n",
    "-1 * 3 + 1 * -1 & -1 * 1 + 1 * 2\n",
    "\\end{bmatrix} = \\begin{bmatrix}\n",
    "5 & 4 \\\\\n",
    "14 & 7 \\\\\n",
    "-4 & 1\n",
    "\\end{bmatrix}$$\n",
    "\n",
    "We can multiply matrices with NumPy's .dot function. It's important to understand how matrix multiplication works, but you'll almost never have to do it by hand.\n",
    "\n",
    "#### Instructions:\n",
    "- Multiply A and B together, and assign the result to C."
   ]
  },
  {
   "cell_type": "code",
   "execution_count": 57,
   "metadata": {
    "collapsed": false
   },
   "outputs": [
    {
     "name": "stdout",
     "output_type": "stream",
     "text": [
      "[[23  9]\n",
      " [29 13]\n",
      " [38 16]]\n"
     ]
    }
   ],
   "source": [
    "A = np.asarray([[5,2], [3,5], [6,5]])\n",
    "B = np.asarray([[3,1], [4,2]])\n",
    "\n",
    "C = np.dot(A,B); print(C)"
   ]
  }
 ],
 "metadata": {
  "kernelspec": {
   "display_name": "Python 3",
   "language": "python",
   "name": "python3"
  },
  "language_info": {
   "codemirror_mode": {
    "name": "ipython",
    "version": 3
   },
   "file_extension": ".py",
   "mimetype": "text/x-python",
   "name": "python",
   "nbconvert_exporter": "python",
   "pygments_lexer": "ipython3",
   "version": "3.6.0"
  }
 },
 "nbformat": 4,
 "nbformat_minor": 2
}
