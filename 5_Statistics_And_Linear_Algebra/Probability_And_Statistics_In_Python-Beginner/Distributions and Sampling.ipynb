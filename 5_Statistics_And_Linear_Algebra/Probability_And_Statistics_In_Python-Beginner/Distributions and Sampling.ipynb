{
 "cells": [
  {
   "cell_type": "markdown",
   "metadata": {},
   "source": [
    "# Distributions and Sampling\n",
    "\n",
    "##### Contents:\n",
    "- random library\n",
    "    - random.sample\n",
    "- Population vs Sample\n"
   ]
  },
  {
   "cell_type": "markdown",
   "metadata": {},
   "source": [
    "## 1: Exploring The Data\n",
    "In this mission, we'll be looking at US income data. Each row is a single county in the US. For each county, we have the following columns:\n",
    "\n",
    "- id -- the county id.\n",
    "- county -- the name and state of the county.\n",
    "- pop_over_25 -- the number of adults over age 25.\n",
    "- median_income -- the median income for residents over age 25 in the county.\n",
    "- median_income_no_hs -- median income for residents without a high school education.\n",
    "- median_income_hs -- median income for high school graduates who didn't go to college.\n",
    "- median_income_some_college -- median income for residents who went to college but didn't graduate.\n",
    "- median_income_college -- median income for college graduates.\n",
    "- median_income_graduate_degree -- median income for those with a masters or other graduate degree.\n",
    "\n",
    "The figures are the estimated values for 2013, from the American Community Survey(ACS). The ACS is conducted yearly by the US Census Bureau, and gives a picture of demographic changes between the larger census, which the US does every 10 years.\n",
    "\n",
    "#### Instructions:\n",
    "- Find the county with the lowest median income in the US (median_income). Assign the name of the county (county) to lowest_income_county.\n",
    "- Find the county that has more than 500000 residents with the lowest median income. Assign the name of the county to lowest_income_high_pop_county."
   ]
  },
  {
   "cell_type": "code",
   "execution_count": 3,
   "metadata": {
    "collapsed": false
   },
   "outputs": [
    {
     "data": {
      "text/html": [
       "<div>\n",
       "<style>\n",
       "    .dataframe thead tr:only-child th {\n",
       "        text-align: right;\n",
       "    }\n",
       "\n",
       "    .dataframe thead th {\n",
       "        text-align: left;\n",
       "    }\n",
       "\n",
       "    .dataframe tbody tr th {\n",
       "        vertical-align: top;\n",
       "    }\n",
       "</style>\n",
       "<table border=\"1\" class=\"dataframe\">\n",
       "  <thead>\n",
       "    <tr style=\"text-align: right;\">\n",
       "      <th></th>\n",
       "      <th>id</th>\n",
       "      <th>county</th>\n",
       "      <th>pop_over_25</th>\n",
       "      <th>median_income</th>\n",
       "      <th>median_income_no_hs</th>\n",
       "      <th>median_income_hs</th>\n",
       "      <th>median_income_some_college</th>\n",
       "      <th>median_income_college</th>\n",
       "      <th>median_income_graduate_degree</th>\n",
       "    </tr>\n",
       "  </thead>\n",
       "  <tbody>\n",
       "    <tr>\n",
       "      <th>0</th>\n",
       "      <td>1001</td>\n",
       "      <td>Autauga County, Alabama</td>\n",
       "      <td>35696</td>\n",
       "      <td>34581</td>\n",
       "      <td>17946</td>\n",
       "      <td>30157</td>\n",
       "      <td>33225</td>\n",
       "      <td>53248</td>\n",
       "      <td>68125</td>\n",
       "    </tr>\n",
       "    <tr>\n",
       "      <th>1</th>\n",
       "      <td>1003</td>\n",
       "      <td>Baldwin County, Alabama</td>\n",
       "      <td>130063</td>\n",
       "      <td>31352</td>\n",
       "      <td>17474</td>\n",
       "      <td>25242</td>\n",
       "      <td>30922</td>\n",
       "      <td>46017</td>\n",
       "      <td>55933</td>\n",
       "    </tr>\n",
       "    <tr>\n",
       "      <th>2</th>\n",
       "      <td>1005</td>\n",
       "      <td>Barbour County, Alabama</td>\n",
       "      <td>18988</td>\n",
       "      <td>25182</td>\n",
       "      <td>20692</td>\n",
       "      <td>21325</td>\n",
       "      <td>24090</td>\n",
       "      <td>41888</td>\n",
       "      <td>50245</td>\n",
       "    </tr>\n",
       "  </tbody>\n",
       "</table>\n",
       "</div>"
      ],
      "text/plain": [
       "     id                   county  pop_over_25  median_income  \\\n",
       "0  1001  Autauga County, Alabama        35696          34581   \n",
       "1  1003  Baldwin County, Alabama       130063          31352   \n",
       "2  1005  Barbour County, Alabama        18988          25182   \n",
       "\n",
       "   median_income_no_hs  median_income_hs  median_income_some_college  \\\n",
       "0                17946             30157                       33225   \n",
       "1                17474             25242                       30922   \n",
       "2                20692             21325                       24090   \n",
       "\n",
       "   median_income_college  median_income_graduate_degree  \n",
       "0                  53248                          68125  \n",
       "1                  46017                          55933  \n",
       "2                  41888                          50245  "
      ]
     },
     "execution_count": 3,
     "metadata": {},
     "output_type": "execute_result"
    }
   ],
   "source": [
    "import pandas as pd\n",
    "income = pd.read_csv(\"data/us_income.csv\")\n",
    "income.head(3)"
   ]
  },
  {
   "cell_type": "code",
   "execution_count": 11,
   "metadata": {
    "collapsed": false
   },
   "outputs": [
    {
     "name": "stdout",
     "output_type": "stream",
     "text": [
      "Starr County, Texas\n",
      "Miami-Dade County, Florida\n"
     ]
    }
   ],
   "source": [
    "lowest_income_county = income[\"county\"][income[\"median_income\"].idxmin()]\n",
    "\n",
    "high_pop = income[income[\"pop_over_25\"] > 500000]\n",
    "lowest_income_high_pop_county = high_pop[\"county\"][high_pop[\"median_income\"].idxmin()]\n",
    "\n",
    "print(lowest_income_county)\n",
    "print(lowest_income_high_pop_county)"
   ]
  },
  {
   "cell_type": "markdown",
   "metadata": {},
   "source": [
    "## 2: Random Numbers\n",
    "Sometimes, instead of looking at a whole dataset, you just want to take a sample of it. This usually happens when dealing with the whole set of data is impractical. This can be due to processing power and memory constraints -- it is sometimes much faster to analyze 1/10th of a dataset than the whole thing. It can also be due to cost or other complexities.\n",
    "\n",
    "The ACS is an example of this. It would be costly and impractical to survey every household in the US every year. Instead, the ACS randomly samples all of the addresses in the US, and picks about 1 in every 40 to participate.\n",
    "\n",
    "We'll get into how a sample and a full population compare shortly. For now, let's look at how we can generate a random sample.\n",
    "\n",
    "The first step is to generate random numbers. We can use the <mark>random</mark> package in Python to do this for us.\n",
    "\n",
    "#### Instructions:\n",
    "- Set a random seed of 20 and generate a list of 10 random numbers between the values 0 and 10.\n",
    "- Assign the list to new_sequence."
   ]
  },
  {
   "cell_type": "code",
   "execution_count": 48,
   "metadata": {
    "collapsed": false
   },
   "outputs": [
    {
     "name": "stdout",
     "output_type": "stream",
     "text": [
      "3\n",
      "[9, 0, 6, 7, 9]\n",
      "[9, 0, 6, 7, 9]\n",
      "[7, 8, 7, 7, 8]\n",
      "[10, 2, 4, 10, 10, 1, 5, 9, 2, 0]\n"
     ]
    }
   ],
   "source": [
    "import random\n",
    "\n",
    "# Returns a random integer between the numbers 0 and 10, inclusive.\n",
    "num = random.randint(0, 10)\n",
    "print(num)\n",
    "\n",
    "# Generate a sequence of 10 random numbers between the values of 0 and 10.\n",
    "random_sequence = [random.randint(0, 10) for _ in range(10)]\n",
    "\n",
    "# Sometimes, when we generate a random sequence, we want it to be the same sequence whenever the program is run.\n",
    "# An example is when you use random numbers to select a subset of the data, and you want other people\n",
    "# looking at the same data to get the same subset.\n",
    "# We can ensure this by setting a random seed.\n",
    "# A random seed is an integer that is used to \"seed\" a random number generator.\n",
    "# After a random seed is set, the numbers generated after will follow the same sequence.\n",
    "random.seed(10)\n",
    "print([random.randint(0,10) for _ in range(5)])\n",
    "random.seed(10)\n",
    "# Same sequence as above.\n",
    "print([random.randint(0,10) for _ in range(5)])\n",
    "random.seed(11)\n",
    "# Different seed means different sequence.\n",
    "print([random.randint(0,10) for _ in range(5)])\n",
    "\n",
    "random.seed(20)\n",
    "new_sequence = [random.randint(0,10) for _ in range(10)]\n",
    "print(new_sequence)"
   ]
  },
  {
   "cell_type": "markdown",
   "metadata": {},
   "source": [
    "## 3: Selecting Items From A List\n",
    "When we do sampling, we usually want to select a certain number of items from a list. There are a few ways to do this.\n",
    "\n",
    "The easiest way is to use the <mark>random.sample</mark> method to select a specified number of items from a list."
   ]
  },
  {
   "cell_type": "code",
   "execution_count": 49,
   "metadata": {
    "collapsed": false
   },
   "outputs": [
    {
     "name": "stdout",
     "output_type": "stream",
     "text": [
      "[200, 300, 20, 600]\n"
     ]
    }
   ],
   "source": [
    "# Let's say that we have some data on how much shoppers spend in a store.\n",
    "shopping = [300, 200, 100, 600, 20]\n",
    "\n",
    "# We want to sample the data, and only select 4 elements.\n",
    "\n",
    "random.seed(1)\n",
    "shopping_sample = random.sample(shopping, 4)\n",
    "\n",
    "# 4 random items from the shopping list.\n",
    "print(shopping_sample)"
   ]
  },
  {
   "cell_type": "markdown",
   "metadata": {},
   "source": [
    "## 4: Population Vs Sample\n",
    "\n",
    "Let's say that you have a normal, six-sided die. You roll it four times, and you get 1, 1, 3, 4. Based on this, could you conclude that there is a 50% probability of rolling a 1, a 25% probability of rolling a 3, and a 25% probability of rolling a 4?\n",
    "\n",
    "No, as it's pretty easy to see that a die has a 1/6 chance of rolling any single digit. This means that the probabilities we observe are not necessarily the true probabilities of an event occurring.\n",
    "\n",
    "As you may be able to guess, the larger the sample size (in this case, the more rolls we perform), the closer to the \"true\" probabilities we get. Let's explore this more.\n",
    "\n",
    "#### Instructions:\n",
    "- Set the random seed to 1, then generate a medium sample of 100 die rolls. Plot the result using a histogram with 6 bins.\n",
    "- Set the random seed to 1, then generate a large sample of 10000 die rolls. Plot the result using a histogram with 6 bins."
   ]
  },
  {
   "cell_type": "code",
   "execution_count": 57,
   "metadata": {
    "collapsed": false
   },
   "outputs": [
    {
     "data": {
      "image/png": "[encoded data removed]",
      "text/plain": [
       "<matplotlib.figure.Figure at 0x11e0da1d0>"
      ]
     },
     "metadata": {},
     "output_type": "display_data"
    },
    {
     "data": {
      "image/png": "[encoded data removed]",
      "text/plain": [
       "<matplotlib.figure.Figure at 0x11d930e80>"
      ]
     },
     "metadata": {},
     "output_type": "display_data"
    },
    {
     "data": {
      "image/png": "[encoded data removed]",
      "text/plain": [
       "<matplotlib.figure.Figure at 0x11def37b8>"
      ]
     },
     "metadata": {},
     "output_type": "display_data"
    }
   ],
   "source": [
    "import matplotlib.pyplot as plt\n",
    "\n",
    "# A function that returns the result of a die roll.\n",
    "def roll():\n",
    "    return random.randint(1, 6)\n",
    "\n",
    "random.seed(1)\n",
    "small_sample = [roll() for _ in range(10)]\n",
    "\n",
    "# Plot a histogram with 6 bins (1 for each possible outcome of the die roll)\n",
    "plt.hist(small_sample, 6)\n",
    "plt.show()\n",
    "\n",
    "random.seed(1)\n",
    "medium_sample = [roll() for _ in range(100)]\n",
    "plt.hist(medium_sample, 6)\n",
    "plt.show()\n",
    "\n",
    "random.seed(1)\n",
    "large_sample = [roll() for _ in range(10000)]\n",
    "plt.hist(large_sample,6)\n",
    "plt.show()"
   ]
  },
  {
   "cell_type": "markdown",
   "metadata": {},
   "source": [
    "## 5: Finding The Right Sample Size\n",
    "As you can see from the graphs above, the probability of rolling a 1 should be around .166. However, we only really noticed the probability reaching this value once we got to 10000 dice rolls. Generally, the lower your sample size, the more variability the probability will have around the \"true\" probability.\n",
    "\n",
    "We can graph out this variability by repeatedly rolling the die N times. So we could do 20 trials of rolling the die 10 times, and graph out all the resulting probabilities of rolling a 1. This would tell us how much error we could expect by rolling the die 20 times.\n",
    "\n",
    "#### Instructions:\n",
    "- Set the random seed to 1, then generate probabilities for 300 trials of 100 die rolls each. Make a histogram with 20 bins.\n",
    "- Set the random seed to 1, then generate probabilities for 300 trials of 1000 die rolls each. Make a histogram with 20 bins."
   ]
  },
  {
   "cell_type": "code",
   "execution_count": 63,
   "metadata": {
    "collapsed": false
   },
   "outputs": [
    {
     "data": {
      "image/png": "[encoded data removed]",
      "text/plain": [
       "<matplotlib.figure.Figure at 0x11dd1a9b0>"
      ]
     },
     "metadata": {},
     "output_type": "display_data"
    },
    {
     "data": {
      "image/png": "[encoded data removed]",
      "text/plain": [
       "<matplotlib.figure.Figure at 0x11e2d4fd0>"
      ]
     },
     "metadata": {},
     "output_type": "display_data"
    },
    {
     "data": {
      "image/png": "[encoded data removed]",
      "text/plain": [
       "<matplotlib.figure.Figure at 0x11e0916a0>"
      ]
     },
     "metadata": {},
     "output_type": "display_data"
    }
   ],
   "source": [
    "def probability_of_one(num_trials, num_rolls):\n",
    "    \"\"\"\n",
    "    This function will take in the number of trials, and the number of rolls per trial.\n",
    "    Then it will conduct each trial, and record the probability of rolling a one.\n",
    "    \"\"\"\n",
    "    probabilities = []\n",
    "    for i in range(num_trials):\n",
    "        die_rolls = [roll() for _ in range(num_rolls)]\n",
    "        one_prob = len([d for d in die_rolls if d==1]) / num_rolls\n",
    "        probabilities.append(one_prob)\n",
    "    return probabilities\n",
    "\n",
    "random.seed(1)\n",
    "small_sample = probability_of_one(300, 50)\n",
    "plt.hist(small_sample, 20)\n",
    "plt.show()\n",
    "\n",
    "random.seed(1)\n",
    "medium_sample = probability_of_one(300,100)\n",
    "plt.hist(medium_sample, 20)\n",
    "plt.show()\n",
    "\n",
    "random.seed(1)\n",
    "large_sample = probability_of_one(300,1000)\n",
    "plt.hist(large_sample, 20)\n",
    "plt.show()\n",
    "\n",
    "# approaches bell curve with peak at \"true\" probability -> Central limit theorem"
   ]
  },
  {
   "cell_type": "markdown",
   "metadata": {},
   "source": [
    "## 6: What Are The Odds?\n",
    "\n",
    "See how the graphs in the last screen got \"steeper\" as we added more rolls? This is because the variability around the mean decreases as we have more samples in each trial.\n",
    "\n",
    "One interesting thing that we can do given the distributions above is find the odds of getting a certain probability for rolling a one given the number of rolls we make.\n",
    "\n",
    "So, if we do 100 rolls of the die, and get a .25 probability of rolling a 1, we could look up how many trials in our data above got that probability or higher for one.\n",
    "\n",
    "This lets us find how likely our result is.\n",
    "\n",
    "#### Instructions:\n",
    "- Find how many standard deviations away from the mean of large_sample .18 is. Assign the result to deviations_from_mean.\n",
    "- Find how many probabilities in large sample are greater than or equal to .18. Assign the result to over_18_count."
   ]
  },
  {
   "cell_type": "code",
   "execution_count": 65,
   "metadata": {
    "collapsed": false
   },
   "outputs": [
    {
     "name": "stdout",
     "output_type": "stream",
     "text": [
      "1.14517051164 38\n"
     ]
    }
   ],
   "source": [
    "import numpy\n",
    "\n",
    "large_sample_std = numpy.std(large_sample)\n",
    "\n",
    "deviations_from_mean = abs(sum(large_sample)/len(large_sample) - 0.18)/large_sample_std\n",
    "\n",
    "over_18_count = sum([1 for i in large_sample if i >= 0.18])\n",
    "\n",
    "print(deviations_from_mean, over_18_count)"
   ]
  },
  {
   "cell_type": "markdown",
   "metadata": {},
   "source": [
    "## 7: Sampling Counties\n",
    "Now, let's look at why random sampling is important instead of just picking any rows we want.\n",
    "\n",
    "#### Instructions:\n",
    "- Use the select_random_sample function to pick 1000 random samples of 100 counties each from the income data. Find the mean of the median_income column for each sample.\n",
    "- Plot a histogram with 20 bins of all the mean median incomes"
   ]
  },
  {
   "cell_type": "code",
   "execution_count": 67,
   "metadata": {
    "collapsed": false
   },
   "outputs": [
    {
     "name": "stdout",
     "output_type": "stream",
     "text": [
      "31063.09385937003\n"
     ]
    },
    {
     "data": {
      "image/png": "[encoded data removed]",
      "text/plain": [
       "<matplotlib.figure.Figure at 0x11ddfc400>"
      ]
     },
     "metadata": {},
     "output_type": "display_data"
    },
    {
     "data": {
      "image/png": "[encoded data removed]",
      "text/plain": [
       "<matplotlib.figure.Figure at 0x11e19b668>"
      ]
     },
     "metadata": {},
     "output_type": "display_data"
    }
   ],
   "source": [
    "# This is the mean median income in any US county.\n",
    "mean_median_income = income[\"median_income\"].mean()\n",
    "print(mean_median_income)\n",
    "\n",
    "def get_sample_mean(start, end):\n",
    "    return income[\"median_income\"][start:end].mean()\n",
    "\n",
    "def find_mean_incomes(row_step):\n",
    "    mean_median_sample_incomes = []\n",
    "    # Iterate over the indices of the income rows\n",
    "    # Starting at 0, and counting in blocks of row_step (0, row_step, row_step * 2, etc).\n",
    "    for i in range(0, income.shape[0], row_step):\n",
    "        # Find the mean median for the row_step counties from i to i+row_step.\n",
    "        mean_median_sample_incomes.append(get_sample_mean(i, i+row_step))\n",
    "    return mean_median_sample_incomes\n",
    "\n",
    "nonrandom_sample = find_mean_incomes(100)\n",
    "plt.hist(nonrandom_sample, 20)\n",
    "plt.show()\n",
    "\n",
    "# What you're seeing above is the result of biased sampling.\n",
    "# Instead of selecting randomly, we selected counties that were next to each other in the data.\n",
    "# This picked counties in the same state more often that not, and created means that didn't represent the whole country.\n",
    "# This is the danger of not using random sampling -- you end up with samples that don't reflect the entire population.\n",
    "# This gives you a distribution that isn't normal.\n",
    "\n",
    "import random\n",
    "def select_random_sample(count):\n",
    "    random_indices = random.sample(range(0, income.shape[0]), count)\n",
    "    return income.iloc[random_indices]\n",
    "\n",
    "random.seed(1)\n",
    "\n",
    "\n",
    "random_sample = [select_random_sample(100)[\"median_income\"].mean() for _ in range(1000)]\n",
    "plt.hist(random_sample, 20)\n",
    "plt.show()"
   ]
  },
  {
   "cell_type": "markdown",
   "metadata": {},
   "source": [
    "## 8: An Experiment\n",
    "Let's say we're the US government (oh no!). We want to run an experiment to see whether a certain kind of adult education can help high school graduates earn more relative to college graduates than they could otherwise.\n",
    "\n",
    "We decide to trial our program in 100 counties, and measure the median incomes of both groups in 5 years.\n",
    "\n",
    "At the end of 5 years, we first need to measure the whole population to determine the typical ratio between high school graduate earnings and college graduate earnings.\n",
    "\n",
    "#### Instructions;\n",
    "- Select 1000 random samples of 100 counties each from the income data using the select_random_sample method.\n",
    "- For each sample:\n",
    "    - Divide the median_income_hs column by median_income_college to get ratios.\n",
    "    - Then, find the mean of all the ratios in the sample.\n",
    "    - Add it to the list, mean_ratios.\n",
    "- Plot a histogram containing 20 bins of the mean_ratios list."
   ]
  },
  {
   "cell_type": "code",
   "execution_count": 68,
   "metadata": {
    "collapsed": false
   },
   "outputs": [
    {
     "data": {
      "image/png": "[encoded data removed]",
      "text/plain": [
       "<matplotlib.figure.Figure at 0x11e1e3ef0>"
      ]
     },
     "metadata": {},
     "output_type": "display_data"
    }
   ],
   "source": [
    "def select_random_sample(count):\n",
    "    random_indices = random.sample(range(0, income.shape[0]), count)\n",
    "    return income.iloc[random_indices]\n",
    "\n",
    "random.seed(1)\n",
    "mean_ratios = []\n",
    "for i in range(1000):\n",
    "    sample = select_random_sample(100)\n",
    "    ratios = sample[\"median_income_hs\"] / sample[\"median_income_college\"]\n",
    "    mean_ratios.append(ratios.mean())\n",
    "    \n",
    "plt.hist(mean_ratios, 20)\n",
    "plt.show()"
   ]
  },
  {
   "cell_type": "markdown",
   "metadata": {},
   "source": [
    "## 9: Statistical Significance\n",
    "\n",
    "After 5 years, we determine that the mean ratio in our random sample of 100 counties is .675 -- that is, high school graduates on average earn 67.5% of what college graduates do.\n",
    "\n",
    "Now that we have our result, how do we know if our hypothesis is correct? Remember, our hypothesis was about the whole population, not about the sample.\n",
    "\n",
    "Statistical significance is used to determine if a result is valid for a population or not. You usually set a significance level beforehand that will determine if your hypothesis is true or not. After conducting the experiment, you check against the significance level to determine.\n",
    "\n",
    "A common significance level is **.05**. This means: \"only 5% or less of the time will the result have been due to chance\".\n",
    "\n",
    "In our case, chance could be that the high school graduates in the county changed income some way other than through our program -- maybe some higher paying factory jobs came to town, or there were some other educational initiatives around.\n",
    "\n",
    "In order to test for significance, we compare our result ratio with the mean ratios we found in the last section.\n",
    "\n",
    "#### Instructions: \n",
    "- Determine how many values in mean_ratios are greater than or equal to .675.\n",
    "- Divide by the total number of items in mean_ratios to get the significance level.\n",
    "- Assign the result to significance_value.\n",
    "\n",
    "##### note: significance level is like the complement of confidence interval"
   ]
  },
  {
   "cell_type": "code",
   "execution_count": 71,
   "metadata": {
    "collapsed": false
   },
   "outputs": [
    {
     "data": {
      "text/plain": [
       "0.014"
      ]
     },
     "execution_count": 71,
     "metadata": {},
     "output_type": "execute_result"
    }
   ],
   "source": [
    "significance_value = sum([1 for i in mean_ratios if i >= 0.675]) / len(mean_ratios)\n",
    "significance_value"
   ]
  },
  {
   "cell_type": "markdown",
   "metadata": {},
   "source": [
    "## 10: Final Result\n",
    "Our significance value was .014. Based on the entire population, only 1.4% of the time will the wage results we saw have occurred on their own. So our experiment exceeded our significance level (**lower means more significant**). Thus, our experiment showed that the program did improve the wages of high school graduates relative to college graduates.\n",
    "\n",
    "You may have noticed earlier that the more samples in our trials, the \"steeper\" the histograms of outcomes get (look back on the probability of rolling one with the die if you need a refresher). This \"steepness\" arose because the more trials we have, the less likely the value is to vary from the \"true\" value.\n",
    "\n",
    "This same principle applies to significance testing. You need a larger deviation from the mean to have something be \"significant\" if your sample size is smaller. The larger the trial, the smaller the deviation needs to be to get a significant result.\n",
    "\n",
    "You may be asking at this point how we can determine statistical significance without knowing the population values upfront. In a lot of cases, like drug trials, you don't have the capability to measure everyone in the world to compare against your sample.\n",
    "\n",
    "Statistics gives us tools to deal with this, and we'll learn about them in the next missions."
   ]
  }
 ],
 "metadata": {
  "kernelspec": {
   "display_name": "Python 3",
   "language": "python",
   "name": "python3"
  },
  "language_info": {
   "codemirror_mode": {
    "name": "ipython",
    "version": 3
   },
   "file_extension": ".py",
   "mimetype": "text/x-python",
   "name": "python",
   "nbconvert_exporter": "python",
   "pygments_lexer": "ipython3",
   "version": "3.6.0"
  }
 },
 "nbformat": 4,
 "nbformat_minor": 2
}
