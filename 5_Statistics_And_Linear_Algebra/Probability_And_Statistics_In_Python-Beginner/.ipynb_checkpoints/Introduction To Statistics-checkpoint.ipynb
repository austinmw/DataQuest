{
 "cells": [
  {
   "cell_type": "markdown",
   "metadata": {},
   "source": [
    "## 1: Introduction To Scales\n",
    "At its core, statistics is about counting and measuring.\n",
    "\n",
    "In order to do both effectively, we have to define scales on which to base our counts. A scale represents the possible values that a variable can have.\n",
    "\n",
    "#### Instructions: \n",
    "- Compute the mean of car_speeds, and assign the result to mean_car_speed.\n",
    "- Compute the mean of earthquake_intensities, and assign the result to mean_earthquake_intensities. Note that this value will not be meaningful, because we shouldn't average values on a logarithmic scale this way."
   ]
  },
  {
   "cell_type": "code",
   "execution_count": 5,
   "metadata": {
    "collapsed": false
   },
   "outputs": [
    {
     "name": "stdout",
     "output_type": "stream",
     "text": [
      "26.0 5.2\n"
     ]
    }
   ],
   "source": [
    "car_speeds = [10,20,30,50,20]\n",
    "earthquake_intensities = [2,7,4,5,8]\n",
    "\n",
    "mean_car_speed = sum(car_speeds)/len(car_speeds)\n",
    "mean_earthquake_intensities = sum(earthquake_intensities)/len(earthquake_intensities)\n",
    "\n",
    "print(mean_car_speed, mean_earthquake_intensities)"
   ]
  },
  {
   "cell_type": "markdown",
   "metadata": {},
   "source": [
    "## 2: Discrete And Continuous Scales\n",
    "\n",
    "Scales can be either discrete or continuous.\n",
    "\n",
    "Think of someone marking down the number of inches a snail crawls every day. The snail could crawl 1 inch, 2 inches, 1.5 inches, 1.51 inches, or any other number, and it would be a valid observation. This is because inches are on a continuous scale, and even fractions of an inch are possible.\n",
    "\n",
    "Now think of someone counting the number of cars in a parking lot each day. 1 car, 2 cars, and 10 cars are valid measurements, but 1.5 cars isn't valid.\n",
    "\n",
    "Half of a car isn't a meaningful quantity, because cars are discrete. You can't have 52% of a car - you either have a car, or you don't.\n",
    "\n",
    "You can still average items on discrete scales, though. You could say \"1.75 cars use this parking lot each day, on average.\" Any daily value for number of cars, however, would need to be a whole number.\n",
    "\n",
    "#### Instructions:\n",
    "- Make a line plot with day_numbers on the x axis and snail_crawl_length on the y axis.\n",
    "- Make a line plot with day_numbers on the x axis and cars_in_parking_lot on the y axis."
   ]
  },
  {
   "cell_type": "code",
   "execution_count": 6,
   "metadata": {
    "collapsed": true
   },
   "outputs": [],
   "source": [
    "import matplotlib.pyplot as plt"
   ]
  },
  {
   "cell_type": "code",
   "execution_count": 7,
   "metadata": {
    "collapsed": false
   },
   "outputs": [
    {
     "data": {
      "image/png": "[encoded data removed]",
      "text/plain": [
       "<matplotlib.figure.Figure at 0x10e32ccc0>"
      ]
     },
     "metadata": {},
     "output_type": "display_data"
    },
    {
     "data": {
      "image/png": "[encoded data removed]",
      "text/plain": [
       "<matplotlib.figure.Figure at 0x1038e37b8>"
      ]
     },
     "metadata": {},
     "output_type": "display_data"
    }
   ],
   "source": [
    "day_numbers = [1,2,3,4,5,6,7]\n",
    "snail_crawl_length = [.5,2,5,10,1,.25,4]\n",
    "cars_in_parking_lot = [5,6,4,2,1,7,8]\n",
    "\n",
    "plt.plot(day_numbers, snail_crawl_length)\n",
    "plt.show()\n",
    "plt.plot(day_numbers, cars_in_parking_lot)\n",
    "plt.show()"
   ]
  },
  {
   "cell_type": "markdown",
   "metadata": {},
   "source": [
    "## 3: Understanding Scale Starting Points\n",
    "Some scales use the zero value in different ways. Think of the number of cars in a parking lot.\n",
    "\n",
    "Zero cars in the lot means that there are absolutely no cars at all, so absolute zero is at 0 cars. You can't have negative cars.\n",
    "\n",
    "Now, think of degrees Fahrenheit.\n",
    "\n",
    "Zero degrees doesn't mean that there isn't any warmth; the degree scale can also be negative, and absolute zero (when there is no warmth at all) is at -459.67 degrees.\n",
    "\n",
    "**Scales with absolute zero points that aren't at 0 don't enable us to take meaningful ratios**. For example, if four cars parked in the lot yesterday and eight park today, I can safely say that twice as many cars are in the lot today.\n",
    "\n",
    "However, if it was 32 degrees Fahrenheit yesterday, and it's 64 degrees today, I can't say that it's twice as warm today as yesterday.\n",
    "\n",
    "#### Instructions:\n",
    "- Convert the values in fahrenheit_degrees so that absolute zero is at the value 0. If you think this is already the case, don't change anything. Assign the result to degrees_zero.\n",
    "- Convert the values in yearly_town_population so that absolute zero is at the value 0. If you think this is already the case, don't change anything. Assign the result to population_zero."
   ]
  },
  {
   "cell_type": "code",
   "execution_count": 8,
   "metadata": {
    "collapsed": false
   },
   "outputs": [],
   "source": [
    "fahrenheit_degrees = [32, 64, 78, 102]\n",
    "yearly_town_population = [100,102,103,110,105,120]\n",
    "\n",
    "degrees_zero = [i+459.67 for i in fahrenheit_degrees]\n",
    "population_zero = yearly_town_population"
   ]
  },
  {
   "cell_type": "markdown",
   "metadata": {},
   "source": [
    "## 4: Working With Ordinal Scales\n",
    "So far, we've looked at equal interval and discrete scales, where all of the values are numbers. We can also have ordinal scales, where items are **ordered by rank**.\n",
    "\n",
    "For example, we could ask people how many cigarettes they smoke per day, and the answers could be \"none,\" \"a few,\" \"some,\" or \"a lot.\" These answers don't map exactly to numbers of cigarettes, but we know that \"a few\" is more than \"none.\"\n",
    "\n",
    "This is an ordinal rating scale. We can assign numbers to the answers in a logical order to make them easier to work with.\n",
    "\n",
    "For example, we could map 0 to \"none,\" 1 to \"a few,\" 2 to \"some,\" and so on.\n",
    "\n",
    "#### Instructions:\n",
    "- In the following code block, assign a number to each survey response that corresponds with its position on the scale (\"none\" is 0, and so on).\n",
    "- Compute the average value of all the survey responses, and assign it to average_smoking."
   ]
  },
  {
   "cell_type": "code",
   "execution_count": 9,
   "metadata": {
    "collapsed": false
   },
   "outputs": [
    {
     "data": {
      "text/plain": [
       "0.8571428571428571"
      ]
     },
     "execution_count": 9,
     "metadata": {},
     "output_type": "execute_result"
    }
   ],
   "source": [
    "# Results from our survey on how many cigarettes people smoke per day\n",
    "survey_responses = [\"none\", \"some\", \"a lot\", \"none\", \"a few\", \"none\", \"none\"]\n",
    "\n",
    "survey_scale = [\"none\", \"a few\", \"some\", \"a lot\"]\n",
    "survey_numbers = [survey_scale.index(response) for response in survey_responses]\n",
    "average_smoking = sum(survey_numbers) / len(survey_numbers)\n",
    "average_smoking"
   ]
  },
  {
   "cell_type": "markdown",
   "metadata": {},
   "source": [
    "## 5: Grouping Values With Categorical Scales\n",
    "We can also have categorical scales, which group values into general categories.\n",
    "\n",
    "One example is gender, which can be male or female.\n",
    "\n",
    "Unlike ordinal scales, categorical scales don't have an order. In our gender example, for instance, one category isn't greater than or less than the other.\n",
    "\n",
    "Categories are common in data science. You'll typically use them to split data into groups.\n",
    "\n",
    "#### Instructions:\n",
    "- Compute the average savings for everyone who is \"male\". Assign the result to male_savings.\n",
    "- Compute the average savings for everyone who is \"female\". Assign the result to female_savings."
   ]
  },
  {
   "cell_type": "code",
   "execution_count": 10,
   "metadata": {
    "collapsed": false
   },
   "outputs": [
    {
     "name": "stdout",
     "output_type": "stream",
     "text": [
      "2133.3333333333335 4166.666666666667\n"
     ]
    }
   ],
   "source": [
    "# Let's say that these lists are both columns in a matrix.  Index 0 is the first row in both, and so on.\n",
    "gender = [\"male\", \"female\", \"female\", \"male\", \"male\", \"female\"]\n",
    "savings = [1200, 5000, 3400, 2400, 2800, 4100]\n",
    "male_savings_list = [savings[i] for i in range(0, len(gender)) if gender[i] == \"male\"]\n",
    "female_savings_list = [savings[i] for i in range(0, len(gender)) if gender[i] == \"female\"]\n",
    "\n",
    "male_savings = sum(male_savings_list) / len(male_savings_list)\n",
    "female_savings = sum(female_savings_list) / len(female_savings_list)\n",
    "\n",
    "print(male_savings, female_savings)"
   ]
  },
  {
   "cell_type": "markdown",
   "metadata": {},
   "source": [
    "## 6: Visualizing Counts With Frequency Histograms\n",
    "Remember how statistics is all about counting? A frequency histogram is a type of plot that helps us visualize counts of data.\n",
    "\n",
    "These plots tally how many times each value occurs in a list, then graph the values on the x-axis and the counts on the y-axis.\n",
    "\n",
    "Frequency histograms give us a better understanding of where values fall within a data set.\n",
    "\n",
    "#### Instructions:\n",
    "- Plot a histogram of student_scores."
   ]
  },
  {
   "cell_type": "code",
   "execution_count": 11,
   "metadata": {
    "collapsed": false
   },
   "outputs": [
    {
     "data": {
      "image/png": "[encoded data removed]",
      "text/plain": [
       "<matplotlib.figure.Figure at 0x11186dda0>"
      ]
     },
     "metadata": {},
     "output_type": "display_data"
    },
    {
     "data": {
      "image/png": "[encoded data removed]",
      "text/plain": [
       "<matplotlib.figure.Figure at 0x11195c7f0>"
      ]
     },
     "metadata": {},
     "output_type": "display_data"
    }
   ],
   "source": [
    "# Let's say that we watch cars drive by and calculate average speed in miles per hour\n",
    "average_speed = [10, 20, 25, 27, 28, 22, 15, 18, 17]\n",
    "import matplotlib.pyplot as plt\n",
    "plt.hist(average_speed)\n",
    "plt.show()\n",
    "\n",
    "# Let's say we measure student test scores from 0-100\n",
    "student_scores = [15, 80, 95, 100, 45, 75, 65]\n",
    "plt.hist(student_scores)\n",
    "plt.show()"
   ]
  },
  {
   "cell_type": "markdown",
   "metadata": {},
   "source": [
    "## 7: Aggregating Values With Histogram Bins\n",
    "\n",
    "You may have noticed that the code on the last screen plotted all of the values.\n",
    "\n",
    "In contrast, histograms use bins to count values. Bins aggregate values into predefined \"buckets.\"\n",
    "\n",
    "Here's how they work. If the x-axis ranges from 0 to 10 and we have 10 bins, the first bin would be for values between 0-1, the second would be for values between 1-2, and so on.\n",
    "\n",
    "If we have five bins, the first bin would be for values between 0-2, the second would be for values between 2-4, and so on.\n",
    "\n",
    "Each value in the list that falls within the bin would increase the bin's count by one. The result looks like a bar chart. Bins give us a better understanding of the shape and distribution of the data than graphing each count individually.\n",
    "\n",
    "Now that you know about bins, we'd like to point something out about what you saw on the previous screen. matplotlib's default number of bins for a plot is 10. We had fewer values than that, so matplotlib displayed all of the values.\n",
    "\n",
    "Let's experiment a bit with using different numbers of bins to gain a better understanding of how they work.\n",
    "\n",
    "#### Instructions:\n",
    "- Plot a histogram of average_speed with only 2 bins."
   ]
  },
  {
   "cell_type": "code",
   "execution_count": 12,
   "metadata": {
    "collapsed": false
   },
   "outputs": [
    {
     "data": {
      "image/png": "[encoded data removed]",
      "text/plain": [
       "<matplotlib.figure.Figure at 0x1119bdb70>"
      ]
     },
     "metadata": {},
     "output_type": "display_data"
    },
    {
     "data": {
      "image/png": "[encoded data removed]",
      "text/plain": [
       "<matplotlib.figure.Figure at 0x11186ee48>"
      ]
     },
     "metadata": {},
     "output_type": "display_data"
    },
    {
     "data": {
      "image/png": "[encoded data removed]",
      "text/plain": [
       "<matplotlib.figure.Figure at 0x111820e48>"
      ]
     },
     "metadata": {},
     "output_type": "display_data"
    }
   ],
   "source": [
    "average_speed = [10, 20, 25, 27, 28, 22, 15, 18, 17]\n",
    "import matplotlib.pyplot as plt\n",
    "plt.hist(average_speed, bins=6)\n",
    "plt.show()\n",
    "\n",
    "# As you can see, matplotlib groups the values in the list into the nearest bins.\n",
    "# If we have fewer bins, each bin will have a higher count (because there will be fewer bins to group all of the values into).\n",
    "# If there are more bins, the total for each one will decrease, because each one will contain fewer values.\n",
    "plt.hist(average_speed, bins=4)\n",
    "plt.show()\n",
    "\n",
    "plt.hist(average_speed, bins=2)\n",
    "plt.show()"
   ]
  },
  {
   "cell_type": "markdown",
   "metadata": {},
   "source": [
    "## 8: Measuring Data Skew\n",
    "Now that you know how to make histograms, did you notice how the plots have \"shapes?\"\n",
    "\n",
    "These shapes are important because they can show us the distributional characteristics of the data. The first characteristic we'll look at is skew.\n",
    "\n",
    "Skew refers to **asymmetry in the data**. When data is concentrated on the right side of the histogram, for example, we say it has a negative skew. When the data is concentrated on the left, we say it has a positive skew.\n",
    "\n",
    "We can measure the level of skew with the skew function. A positive value indicates a positive skew, a negative value indicates a negative skew, and a value close to zero indicates no skew.\n",
    "\n",
    "#### Instructions: \n",
    "- Assign the skew of test_scores_positive to positive_skew.\n",
    "- Assign the skew of test_scores_negative to negative_skew.\n",
    "- Assign the skew of test_scores_normal to no_skew."
   ]
  },
  {
   "cell_type": "code",
   "execution_count": null,
   "metadata": {
    "collapsed": false
   },
   "outputs": [],
   "source": [
    "# We've already loaded in some numpy arrays. We'll make some plots with them.\n",
    "# The arrays contain student test scores that are on a 0-100 scale.\n",
    "import matplotlib.pyplot as plt\n",
    "\n",
    "# See how there's a long slope to the left?\n",
    "# The data is concentrated in the right part of the distribution, but some people also scored poorly.\n",
    "# This plot has a negative skew.\n",
    "plt.hist(test_scores_negative)\n",
    "plt.show()\n",
    "\n",
    "# This plot has a long slope to the right.\n",
    "# Most students did poorly, but a few did really well.\n",
    "# This plot has a positive skew.\n",
    "plt.hist(test_scores_positive)\n",
    "plt.show()\n",
    "\n",
    "# This plot has no skew either way. Most of the values are in the center, and there is no long slope either way.\n",
    "# It is an unskewed distribution.\n",
    "plt.hist(test_scores_normal)\n",
    "plt.show()\n",
    "\n",
    "# We can test how skewed a distribution is using the skew function.\n",
    "# A positive value means positive skew, a negative value means negative skew, and close to zero means no skew.\n",
    "from scipy.stats import skew\n",
    "positive_skew = skew(test_scores_positive)\n",
    "negative_skew = skew(test_scores_negative)\n",
    "no_skew = skew(test_scores_normal)"
   ]
  },
  {
   "cell_type": "markdown",
   "metadata": {},
   "source": [
    "## 9: Checking For Outliers With Kurtosis\n",
    "\n",
    "Kurtosis is another characteristic of distributions. Kurtosis measures whether the distribution is short and flat, or tall and skinny. In other words, it assesses the **shape of the peak**.\n",
    "\n",
    "\"Shorter\" distributions have a lower maximum frequency, but higher subsequent frequencies. A high kurtosis may indicate problems with outliers (very large or very small values that skew the data).\n",
    "\n",
    "#### Instructions:\n",
    "- Assign the kurtosis of test_scores_platy to kurt_platy.\n",
    "- Assign the kurtosis of test_scores_lepto to kurt_lepto.\n",
    "- Assign the kurtosis of test_scores_meso to kurt_meso."
   ]
  },
  {
   "cell_type": "code",
   "execution_count": null,
   "metadata": {
    "collapsed": true
   },
   "outputs": [],
   "source": [
    "import matplotlib.pyplot as plt\n",
    "\n",
    "# This plot is short. It is platykurtic.\n",
    "# Notice how the values are distributed fairly evenly, and there isn't a large cluster in the middle.\n",
    "# Student performance varied widely.\n",
    "plt.hist(test_scores_platy)\n",
    "plt.show()\n",
    "\n",
    "# This plot is tall. It is leptokurtic.\n",
    "# Most students performed similarly.\n",
    "plt.hist(test_scores_lepto)\n",
    "plt.show()\n",
    "\n",
    "# The height of this plot neither short nor tall. It is mesokurtic.\n",
    "plt.hist(test_scores_meso)\n",
    "plt.show()\n",
    "\n",
    "# We can measure kurtosis with the kurtosis function.\n",
    "# Negative values indicate platykurtic distributions, positive values indicate leptokurtic distributions, and values near 0 are mesokurtic.\n",
    "from scipy.stats import kurtosis\n",
    "kurt_platy = kurtosis(test_scores_platy)\n",
    "kurt_lepto = kurtosis(test_scores_lepto)\n",
    "kurt_meso = kurtosis(test_scores_meso)"
   ]
  },
  {
   "cell_type": "markdown",
   "metadata": {},
   "source": [
    "## 10: Modality\n",
    "Modality is another characteristic of distributions. Modality refers to the **number of modes, or peaks**, in a distribution.\n",
    "\n",
    "Real-world data is often unimodal (it has only one mode).\n",
    "\n",
    "#### Instructions: \n",
    "- Plot test_scores_multi, which has four peaks."
   ]
  },
  {
   "cell_type": "code",
   "execution_count": null,
   "metadata": {
    "collapsed": false
   },
   "outputs": [],
   "source": [
    "import matplotlib.pyplot as plt\n",
    "\n",
    "# This plot has one mode. It is unimodal.\n",
    "plt.hist(test_scores_uni)\n",
    "plt.show()\n",
    "\n",
    "# This plot has two peaks. It is bimodal.\n",
    "# This could happen if one group of students learned the material and another learned something else, for example.\n",
    "plt.hist(test_scores_bi)\n",
    "plt.show()\n",
    "\n",
    "# More than one peak means that the plot is multimodal.\n",
    "# We can't easily measure the modality of a plot, like we can with kurtosis or skew.\n",
    "# Often, the best way to detect multimodality is to examine the plot visually.\n",
    "plt.hist(test_scores_multi)\n",
    "plt.show()"
   ]
  },
  {
   "cell_type": "markdown",
   "metadata": {},
   "source": [
    "## 11: Measures Of Central Tendency (mean, median, mode)\n",
    "\n",
    "Now that we know how to measure the characteristics of a distribution, let's look at central tendency measures.\n",
    "\n",
    "Central tendency measures assess how likely the data points are to cluster around a central value.\n",
    "\n",
    "The first one we'll look at is the mean. We've calculated mean before, but let's explore it further.\n",
    "\n",
    "The mean is just the sum of all of the elements in an array divided by the number of elements.\n",
    "\n",
    "#### Instructions: \n",
    "- Compute the mean of test_scores_normal, and assign it to mean_normal.\n",
    "- Compute the mean of test_scores_negative, and assign it to mean_negative.\n",
    "- Compute the mean of test_scores_positive, and assign it to mean_positive."
   ]
  },
  {
   "cell_type": "code",
   "execution_count": null,
   "metadata": {
    "collapsed": true
   },
   "outputs": [],
   "source": [
    "import matplotlib.pyplot as plt\n",
    "# Let's put a line over our plot that shows the mean.\n",
    "# This is the same histogram we plotted for skew a few screens ago.\n",
    "plt.hist(test_scores_normal)\n",
    "# We can use the .mean() method of a numpy array to compute the mean.\n",
    "mean_test_score = test_scores_normal.mean()\n",
    "# The axvline function will plot a vertical line over an existing plot.\n",
    "plt.axvline(mean_test_score)\n",
    "\n",
    "# Now we can show the plot and clear the figure.\n",
    "plt.show()\n",
    "\n",
    "# When we plot test_scores_negative, which is a very negatively skewed distribution, we see that the small values on the left pull the mean in that direction.\n",
    "# Very large and very small values can easily skew the mean.\n",
    "# Very skewed distributions can make the mean misleading.\n",
    "plt.hist(test_scores_negative)\n",
    "plt.axvline(test_scores_negative.mean())\n",
    "plt.show()\n",
    "\n",
    "# We can do the same with the positive side.\n",
    "# Notice how the very high values pull the mean to the right more than we would expect.\n",
    "plt.hist(test_scores_positive)\n",
    "plt.axvline(test_scores_positive.mean())\n",
    "plt.show()\n",
    "mean_normal = test_scores_normal.mean()\n",
    "mean_negative = test_scores_negative.mean()\n",
    "mean_positive = test_scores_positive.mean()"
   ]
  },
  {
   "cell_type": "markdown",
   "metadata": {},
   "source": [
    "## 12: Calcultaing The Median\n",
    "Median is another measure of central tendency. This is the midpoint of an array.\n",
    "\n",
    "To calculate the median, we need to sort the array, then take the value in the middle. If there are two values in the middle (because there are an even number of items in the array), then we take the mean of the two middle values.\n",
    "\n",
    "The median is less sensitive to very large or very small values (which we call outliers), and is a more realistic center of the distribution.\n",
    "\n",
    "#### Instructions:\n",
    "\n",
    "- Plot a histogram for test_scores_positive.\n",
    "- Add a blue line for the median.\n",
    "- Add a red line for the mean.\n"
   ]
  },
  {
   "cell_type": "code",
   "execution_count": null,
   "metadata": {
    "collapsed": true
   },
   "outputs": [],
   "source": [
    "# Let's plot the mean and median side-by-side in a negatively skewed distribution.\n",
    "# Unfortunately, arrays don't have a nice median method, so we have to use a numpy function to compute it.\n",
    "import numpy\n",
    "import matplotlib.pyplot as plt\n",
    "\n",
    "# Plot the histogram\n",
    "plt.hist(test_scores_negative)\n",
    "# Compute the median\n",
    "median = numpy.median(test_scores_negative)\n",
    "\n",
    "# Plot the median in blue (the color argument of \"b\" means blue)\n",
    "plt.axvline(median, color=\"b\")\n",
    "\n",
    "# Plot the mean in red\n",
    "plt.axvline(test_scores_negative.mean(), color=\"r\")\n",
    "\n",
    "# Notice how the median is further to the right than the mean.\n",
    "# It's less sensitive to outliers, and isn't pulled to the left.\n",
    "plt.show()\n",
    "plt.hist(test_scores_positive)\n",
    "plt.axvline(numpy.median(test_scores_positive), color=\"b\")\n",
    "plt.axvline(test_scores_positive.mean(), color=\"r\")\n",
    "plt.show()"
   ]
  },
  {
   "cell_type": "markdown",
   "metadata": {},
   "source": [
    "## 13: Overview Of The Titanic Data\n",
    "\n",
    "On the next few screens, we'll work on cleaning up and analyzing data on passenger survival from the Titanic. Each row represents a passenger on the Titanic, complete with personal details and information on their survival.\n",
    "\n",
    "Here are some of the relevant columns:\n",
    "\n",
    "- name - The passenger's name\n",
    "- sex - The passenger's gender\n",
    "- age - the passenger's age\n",
    "\n",
    "Several of the columns have missing values, such as the age and sex columns. Before we can analyze the data, we'll need to deal with these values first."
   ]
  },
  {
   "cell_type": "markdown",
   "metadata": {
    "collapsed": true
   },
   "source": [
    "## 14: Removing Missing Data\n",
    "\n",
    "Now that we've learned a bit about statistics, let's practice on our Titanic data.\n",
    "\n",
    "The data is a manifest of all the passengers on the Titanic, a ship that sunk in April 1912. It contains passenger names, ages, and other information (such as whether or not they survived).\n",
    "\n",
    "Unfortunately, not all of the data is available; details such as age are missing for some passengers. Before we can analyze the data, we have to do something about the missing rows.\n",
    "\n",
    "The easiest way to address them is to just remove all of the rows with missing data. This isn't necessarily the best solution in all cases, but we'll learn about other ways to handle these situations later on.\n",
    "\n",
    "#### Instructions:\n",
    "- Remove the NaN values in the \"age\" and \"sex\" columns.\n",
    "- Assign the result to new_titanic_survival."
   ]
  },
  {
   "cell_type": "code",
   "execution_count": 14,
   "metadata": {
    "collapsed": false
   },
   "outputs": [
    {
     "name": "stdout",
     "output_type": "stream",
     "text": [
      "(1310, 14)\n",
      "(0, 14)\n",
      "(293, 14)\n",
      "(1046, 14)\n"
     ]
    },
    {
     "data": {
      "text/html": [
       "<div>\n",
       "<style>\n",
       "    .dataframe thead tr:only-child th {\n",
       "        text-align: right;\n",
       "    }\n",
       "\n",
       "    .dataframe thead th {\n",
       "        text-align: left;\n",
       "    }\n",
       "\n",
       "    .dataframe tbody tr th {\n",
       "        vertical-align: top;\n",
       "    }\n",
       "</style>\n",
       "<table border=\"1\" class=\"dataframe\">\n",
       "  <thead>\n",
       "    <tr style=\"text-align: right;\">\n",
       "      <th></th>\n",
       "      <th>pclass</th>\n",
       "      <th>survived</th>\n",
       "      <th>name</th>\n",
       "      <th>sex</th>\n",
       "      <th>age</th>\n",
       "      <th>sibsp</th>\n",
       "      <th>parch</th>\n",
       "      <th>ticket</th>\n",
       "      <th>fare</th>\n",
       "      <th>cabin</th>\n",
       "      <th>embarked</th>\n",
       "      <th>boat</th>\n",
       "      <th>body</th>\n",
       "      <th>home.dest</th>\n",
       "    </tr>\n",
       "  </thead>\n",
       "  <tbody>\n",
       "    <tr>\n",
       "      <th>0</th>\n",
       "      <td>1.0</td>\n",
       "      <td>1.0</td>\n",
       "      <td>Allen, Miss. Elisabeth Walton</td>\n",
       "      <td>female</td>\n",
       "      <td>29.0000</td>\n",
       "      <td>0.0</td>\n",
       "      <td>0.0</td>\n",
       "      <td>24160</td>\n",
       "      <td>211.3375</td>\n",
       "      <td>B5</td>\n",
       "      <td>S</td>\n",
       "      <td>2</td>\n",
       "      <td>NaN</td>\n",
       "      <td>St Louis, MO</td>\n",
       "    </tr>\n",
       "    <tr>\n",
       "      <th>1</th>\n",
       "      <td>1.0</td>\n",
       "      <td>1.0</td>\n",
       "      <td>Allison, Master. Hudson Trevor</td>\n",
       "      <td>male</td>\n",
       "      <td>0.9167</td>\n",
       "      <td>1.0</td>\n",
       "      <td>2.0</td>\n",
       "      <td>113781</td>\n",
       "      <td>151.5500</td>\n",
       "      <td>C22 C26</td>\n",
       "      <td>S</td>\n",
       "      <td>11</td>\n",
       "      <td>NaN</td>\n",
       "      <td>Montreal, PQ / Chesterville, ON</td>\n",
       "    </tr>\n",
       "    <tr>\n",
       "      <th>2</th>\n",
       "      <td>1.0</td>\n",
       "      <td>0.0</td>\n",
       "      <td>Allison, Miss. Helen Loraine</td>\n",
       "      <td>female</td>\n",
       "      <td>2.0000</td>\n",
       "      <td>1.0</td>\n",
       "      <td>2.0</td>\n",
       "      <td>113781</td>\n",
       "      <td>151.5500</td>\n",
       "      <td>C22 C26</td>\n",
       "      <td>S</td>\n",
       "      <td>NaN</td>\n",
       "      <td>NaN</td>\n",
       "      <td>Montreal, PQ / Chesterville, ON</td>\n",
       "    </tr>\n",
       "    <tr>\n",
       "      <th>3</th>\n",
       "      <td>1.0</td>\n",
       "      <td>0.0</td>\n",
       "      <td>Allison, Mr. Hudson Joshua Creighton</td>\n",
       "      <td>male</td>\n",
       "      <td>30.0000</td>\n",
       "      <td>1.0</td>\n",
       "      <td>2.0</td>\n",
       "      <td>113781</td>\n",
       "      <td>151.5500</td>\n",
       "      <td>C22 C26</td>\n",
       "      <td>S</td>\n",
       "      <td>NaN</td>\n",
       "      <td>135.0</td>\n",
       "      <td>Montreal, PQ / Chesterville, ON</td>\n",
       "    </tr>\n",
       "    <tr>\n",
       "      <th>4</th>\n",
       "      <td>1.0</td>\n",
       "      <td>0.0</td>\n",
       "      <td>Allison, Mrs. Hudson J C (Bessie Waldo Daniels)</td>\n",
       "      <td>female</td>\n",
       "      <td>25.0000</td>\n",
       "      <td>1.0</td>\n",
       "      <td>2.0</td>\n",
       "      <td>113781</td>\n",
       "      <td>151.5500</td>\n",
       "      <td>C22 C26</td>\n",
       "      <td>S</td>\n",
       "      <td>NaN</td>\n",
       "      <td>NaN</td>\n",
       "      <td>Montreal, PQ / Chesterville, ON</td>\n",
       "    </tr>\n",
       "  </tbody>\n",
       "</table>\n",
       "</div>"
      ],
      "text/plain": [
       "   pclass  survived                                             name     sex  \\\n",
       "0     1.0       1.0                    Allen, Miss. Elisabeth Walton  female   \n",
       "1     1.0       1.0                   Allison, Master. Hudson Trevor    male   \n",
       "2     1.0       0.0                     Allison, Miss. Helen Loraine  female   \n",
       "3     1.0       0.0             Allison, Mr. Hudson Joshua Creighton    male   \n",
       "4     1.0       0.0  Allison, Mrs. Hudson J C (Bessie Waldo Daniels)  female   \n",
       "\n",
       "       age  sibsp  parch  ticket      fare    cabin embarked boat   body  \\\n",
       "0  29.0000    0.0    0.0   24160  211.3375       B5        S    2    NaN   \n",
       "1   0.9167    1.0    2.0  113781  151.5500  C22 C26        S   11    NaN   \n",
       "2   2.0000    1.0    2.0  113781  151.5500  C22 C26        S  NaN    NaN   \n",
       "3  30.0000    1.0    2.0  113781  151.5500  C22 C26        S  NaN  135.0   \n",
       "4  25.0000    1.0    2.0  113781  151.5500  C22 C26        S  NaN    NaN   \n",
       "\n",
       "                         home.dest  \n",
       "0                     St Louis, MO  \n",
       "1  Montreal, PQ / Chesterville, ON  \n",
       "2  Montreal, PQ / Chesterville, ON  \n",
       "3  Montreal, PQ / Chesterville, ON  \n",
       "4  Montreal, PQ / Chesterville, ON  "
      ]
     },
     "execution_count": 14,
     "metadata": {},
     "output_type": "execute_result"
    }
   ],
   "source": [
    "import pandas\n",
    "f = \"./data/titanic_survival.csv\"\n",
    "titanic_survival = pandas.read_csv(f)\n",
    "\n",
    "# Luckily, pandas DataFrames have a method that can drop rows that have missing data\n",
    "# Let's look at how large the DataFrame is first\n",
    "print(titanic_survival.shape)\n",
    "\n",
    "# There were 1,310 passengers on the Titanic, according to our data\n",
    "# Now let's drop any rows that have missing data\n",
    "# The DataFrame dropna method will do this for us\n",
    "# It will remove any rows with that contain missing values\n",
    "new_titanic_survival = titanic_survival.dropna()\n",
    "\n",
    "# Hmm, it looks like we were too zealous with dropping rows that contained NA values\n",
    "# We now have no rows in our DataFrame\n",
    "# This is because some of the later columns, which aren't immediately relevant to our analysis, contain a lot of missing values\n",
    "print(new_titanic_survival.shape)\n",
    "\n",
    "# We can use the subset keyword argument to the dropna method so that it only drops rows if there are NA values in certain columns\n",
    "# This line of code will drop any row where the embarkation port (where people boarded the Titanic) or cabin number is missing\n",
    "new_titanic_survival = titanic_survival.dropna(subset=[\"embarked\", \"cabin\"])\n",
    "\n",
    "# This result is much better. We've only removed the rows we needed to.\n",
    "print(new_titanic_survival.shape)\n",
    "\n",
    "# drop NaN values in \"age\" and \"sex\" columns\n",
    "new_titanic_survival = titanic_survival.dropna(subset=[\"age\",\"sex\"])\n",
    "print(new_titanic_survival.shape)\n",
    "\n",
    "new_titanic_survival.head()"
   ]
  },
  {
   "cell_type": "markdown",
   "metadata": {},
   "source": [
    "## 15: Plotting Age\n",
    "\n",
    "Now that we've cleaned up the data, let's analyze it.\n",
    "\n",
    "#### Instructions:\n",
    "\n",
    "- Plot a histogram of the \"age\" column in new_titanic_survival.\n",
    "    - Add a blue line for the median.\n",
    "    - Add a red line for the mean.    "
   ]
  },
  {
   "cell_type": "code",
   "execution_count": 15,
   "metadata": {
    "collapsed": true
   },
   "outputs": [],
   "source": [
    "import matplotlib.pyplot as plt\n",
    "import numpy as np"
   ]
  },
  {
   "cell_type": "code",
   "execution_count": 27,
   "metadata": {
    "collapsed": false
   },
   "outputs": [
    {
     "name": "stdout",
     "output_type": "stream",
     "text": [
      "29.8811345124283 28.0\n"
     ]
    },
    {
     "data": {
      "image/png": "[encoded data removed]",
      "text/plain": [
       "<matplotlib.figure.Figure at 0x1120b8da0>"
      ]
     },
     "metadata": {},
     "output_type": "display_data"
    }
   ],
   "source": [
    "avg = new_titanic_survival[\"age\"].mean()\n",
    "med = np.median(new_titanic_survival[\"age\"])\n",
    "print(avg,med)\n",
    "plt.hist(new_titanic_survival[\"age\"])\n",
    "plt.axvline(avg, color='r')\n",
    "plt.axvline(med, color=\"b\")\n",
    "plt.show()"
   ]
  },
  {
   "cell_type": "markdown",
   "metadata": {},
   "source": [
    "## 16: Calculating Indexes For Age\n",
    "The age distribution is very interesting. It shows that many people in their 20s-40s were travelling without children.\n",
    "\n",
    "Now that we know what the distribution looks like, let's calculate its characteristics and central tendency measures.\n",
    "\n",
    "#### Instructions:\n",
    "- Assign the mean of the \"age\" column of new_titanic_survival to mean_age.\n",
    "- Assign the median of the \"age\" column of new_titanic_survival to median_age.\n",
    "- Assign the skew of the \"age\" column of new_titanic_survival to skew_age.\n",
    "- Assign the kurtosis of the \"age\" column of new_titanic_survival to kurtosis_age."
   ]
  },
  {
   "cell_type": "code",
   "execution_count": 31,
   "metadata": {
    "collapsed": false
   },
   "outputs": [
    {
     "name": "stdout",
     "output_type": "stream",
     "text": [
      "29.8811345124283 28.0 0.4070870379484177 0.14051780299368888\n"
     ]
    }
   ],
   "source": [
    "from scipy.stats import skew\n",
    "from scipy.stats import kurtosis\n",
    "import numpy as np\n",
    "\n",
    "mean_age = new_titanic_survival[\"age\"].mean()\n",
    "median_age = np.median(new_titanic_survival[\"age\"])\n",
    "skew_age = skew(new_titanic_survival[\"age\"])\n",
    "kurtosis_age = kurtosis(new_titanic_survival[\"age\"])\n",
    "# inspect modality visually\n",
    "\n",
    "print(mean_age, median_age, skew_age, kurtosis_age)"
   ]
  }
 ],
 "metadata": {
  "kernelspec": {
   "display_name": "Python 3",
   "language": "python",
   "name": "python3"
  },
  "language_info": {
   "codemirror_mode": {
    "name": "ipython",
    "version": 3
   },
   "file_extension": ".py",
   "mimetype": "text/x-python",
   "name": "python",
   "nbconvert_exporter": "python",
   "pygments_lexer": "ipython3",
   "version": "3.6.0"
  }
 },
 "nbformat": 4,
 "nbformat_minor": 2
}
