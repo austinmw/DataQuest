{
 "cells": [
  {
   "cell_type": "markdown",
   "metadata": {},
   "source": [
    "## 1: Command Line Python\n",
    "\n",
    "We looked at the command line Python interpreter in the last mission. The interpreter lets you run Python commands and see their results immediately. It's very useful for quickly testing snippets of code and debugging. But it's not a good way to develop Python programs, because the commands aren't saved anywhere.\n",
    "\n",
    "In order to develop Python programs, we'll need to make files containing Python code. We'll then be able to use the interpreter to run them from the command line. This way, we can save all our commands, but still see what's happening.\n",
    "\n",
    "This is a very common way to develop using Python -- use an IDE or text editor to create Python files, then run them from the command line.\n",
    "\n",
    "In order to make a file that Python can execute on the command line, we'll need to add some lines to a blank file:\n",
    "\n",
    "    if __name__ == \"__main__\":\n",
    "        print(\"Welcome to a Python script\")\n",
    "    \n",
    "The code above will print Welcome to a Python script when it's run from the command line. To run it, we just need to put those lines into a file, and then call it with python file.py (assuming the file is called file.py).\n",
    "\n",
    "This works because the \\__name\\__ variable in Python scripts is automatically set to the name of the module. If the module is being run from the command line, it will be set to \\__main\\__. Checking this allows us to tell if a script is being run from the command line or not.\n",
    "\n",
    "\"One of the reasons for doing this is that sometimes you write a module (a .py file) where it can be executed directly. Alternatively, it can also be imported and used in another module. By doing the main check, you can have that code only execute when you want to run the module as a program and not have it execute when someone just wants to import your module and call your functions themselves.\""
   ]
  },
  {
   "cell_type": "code",
   "execution_count": 32,
   "metadata": {
    "collapsed": false
   },
   "outputs": [
    {
     "name": "stdout",
     "output_type": "stream",
     "text": [
      "if __name__ == \"__main__\":\n",
      "    print(\"Welcome to a Python script\")\n",
      "\n",
      "Welcome to a Python script\n"
     ]
    }
   ],
   "source": [
    "%%bash\n",
    "\n",
    "# remove old file\n",
    "rm script.py\n",
    "\n",
    "# escape quotes in echo redirects\n",
    "echo \"if __name__ == \\\"__main__\\\":\" > script.py\n",
    "# >> appends to end instead of overwriting with >\n",
    "echo \"    print(\\\"Welcome to a Python script\\\")\" >> script.py\n",
    "\n",
    "# show contents\n",
    "cat script.py\n",
    "\n",
    "echo # blank line\n",
    "# run from command line\n",
    "python script.py"
   ]
  },
  {
   "cell_type": "markdown",
   "metadata": {},
   "source": [
    "## 2: Python Versions\n",
    "\n",
    "There are actually two versions of Python on this machine. We ran the last script using the default python executable, which is Python version 2. We'll instead want to use Python 3, which we can access with the python3 executable."
   ]
  },
  {
   "cell_type": "code",
   "execution_count": 38,
   "metadata": {
    "collapsed": false
   },
   "outputs": [
    {
     "name": "stderr",
     "output_type": "stream",
     "text": [
      "Python 3.5.2 :: Anaconda custom (x86_64)\n"
     ]
    }
   ],
   "source": [
    "%%bash\n",
    "\n",
    "# On my machine, \"python\" is mapped to Anaconda python3\n",
    "python --version"
   ]
  },
  {
   "cell_type": "markdown",
   "metadata": {},
   "source": [
    "## 3: Installing Packages\n",
    "\n",
    "Packages are an important way to extend the functionality of Python. We've worked with packages like matplotlib and pandas. The best way to install packages is to use the command line, and a program called pip. The newest versions of Python include pip by default, so installing Python will automatically give you access to pip.\n",
    "\n",
    "In order to install a package with pip, we just use pip install. pip install requests will install the requests package, which can be used to interact with websites and APIs."
   ]
  },
  {
   "cell_type": "code",
   "execution_count": 41,
   "metadata": {
    "collapsed": true
   },
   "outputs": [],
   "source": [
    "# Managing most of my packages with Conda instead of pip"
   ]
  },
  {
   "cell_type": "markdown",
   "metadata": {},
   "source": [
    "## 4/5/6/7: Virtual Environments\n",
    "\n",
    "In the previous screen, we used the default version of pip, which installed requests for the python executable, which is Python version 2.\n",
    "\n",
    "What if we had instead wanted to install requests for Python 3? This type of version switching can get confusing, and different projects can require different packages and Python versions. A nice way to avoid issues with different package versions are virtual environments. By default, the system has one python executable, and you have to install all packages and libraries globally. This means that every single project on your machine has to use the same version of Python, and the same versions of every package.\n",
    "\n",
    "By default, you can't use different versions of Python without some hacks. One such hack is renaming python to python3 so we can have access to both Python 2 and Python 3.\n",
    "\n",
    "A better solution for this is for each project we write to have its own version of Python, along with its own packages. This way, we don't need to worry that upgrading the version of a package will affect other projects on the system and cause them to stop working.\n",
    "\n",
    "Virtual environments, or virtualenvs, let us do this. You can create a new virtualenv with the virtualenv command. In order to access this, you normally have to install the virtualenv package, but we've already installed it to simplify the process.\n",
    "\n",
    "Typing virtualenv main will create a virtualenv named main. It will create a folder in the current directory called main that will hold all the packages you install into the virtual environment.\n",
    "\n",
    "**(Using Conda as a replacement to virtualenv)**"
   ]
  },
  {
   "cell_type": "code",
   "execution_count": null,
   "metadata": {
    "collapsed": false,
    "scrolled": true
   },
   "outputs": [],
   "source": [
    "%%bash\n",
    "\n",
    "# create virtual environment\n",
    "conda create --name newvirtualenv python=3.5.2 anaconda\n",
    "\n",
    "# activate virtual environment\n",
    "source activate newvirtualenv\n",
    "\n",
    "# list virtual environments\n",
    "conda env list\n",
    "\n",
    "# install packges to virtual environment\n",
    "conda install -n newvirtualenv numpy\n",
    "\n",
    "# deactivate virtual environment\n",
    "source deactivate\n",
    "\n",
    "# delete virtual environment\n",
    "conda env remove --name newvirtualenv\n",
    "\n",
    "# relist virtual environments (alternative way)\n",
    "conda info --envs "
   ]
  },
  {
   "cell_type": "markdown",
   "metadata": {},
   "source": [
    "## 8: Importing A File\n",
    "\n",
    "One of the great things about Python is that we can import functions from one package into a file. We can also import functions and classes from one file into another file. This gives us a powerful way to structure larger projects without having to put everything into one file.\n",
    "\n",
    "We'll experiment with this style of import by writing a function in a file, and then importing it from another file.\n",
    "\n",
    "If there's a file named utils.py, we can import it from another file in the same directory using import utils. All the functions and classes defined in utils.py will then be available using dot notation. If there's a function called keep_time in utils.py, we can access it with utils.keep_time() after importing it."
   ]
  },
  {
   "cell_type": "code",
   "execution_count": 128,
   "metadata": {
    "collapsed": false
   },
   "outputs": [],
   "source": [
    "%%bash\n",
    "\n",
    "touch utils.py\n",
    "echo \"testing\" > utils.py"
   ]
  },
  {
   "cell_type": "markdown",
   "metadata": {},
   "source": [
    "running \"%load file.py\" will comment out the load line and copy the file contents below it"
   ]
  },
  {
   "cell_type": "code",
   "execution_count": null,
   "metadata": {
    "collapsed": false
   },
   "outputs": [],
   "source": [
    "%load utils.py"
   ]
  },
  {
   "cell_type": "code",
   "execution_count": 131,
   "metadata": {
    "collapsed": false
   },
   "outputs": [],
   "source": [
    "# see description of cell magic\n",
    "%%writefile?"
   ]
  },
  {
   "cell_type": "code",
   "execution_count": 139,
   "metadata": {
    "collapsed": false
   },
   "outputs": [
    {
     "name": "stdout",
     "output_type": "stream",
     "text": [
      "Overwriting utils.py\n"
     ]
    }
   ],
   "source": [
    "%%writefile utils.py\n",
    "\n",
    "# overwrite file\n",
    "def print_message():\n",
    "    print(\"Hello from another file!\")"
   ]
  },
  {
   "cell_type": "code",
   "execution_count": null,
   "metadata": {
    "collapsed": false
   },
   "outputs": [],
   "source": [
    "# show new contents\n",
    "%load utils.py"
   ]
  },
  {
   "cell_type": "markdown",
   "metadata": {},
   "source": [
    "rewrite script.py to import and call function in utils.py"
   ]
  },
  {
   "cell_type": "code",
   "execution_count": 142,
   "metadata": {
    "collapsed": false
   },
   "outputs": [
    {
     "name": "stdout",
     "output_type": "stream",
     "text": [
      "Overwriting script.py\n"
     ]
    }
   ],
   "source": [
    "%%writefile script.py\n",
    "\n",
    "import utils\n",
    "\n",
    "if __name__ == \"__main__\":\n",
    "    utils.print_message()"
   ]
  },
  {
   "cell_type": "markdown",
   "metadata": {},
   "source": [
    "test this functionality"
   ]
  },
  {
   "cell_type": "code",
   "execution_count": 147,
   "metadata": {
    "collapsed": false
   },
   "outputs": [
    {
     "name": "stdout",
     "output_type": "stream",
     "text": [
      "Hello from another file!\n"
     ]
    }
   ],
   "source": [
    "%%bash\n",
    "\n",
    "python script.py"
   ]
  },
  {
   "cell_type": "markdown",
   "metadata": {},
   "source": [
    "## 9: Command Line Arguments\n",
    "\n",
    "You can also pass command line options into Python scripts. They can be retrieved inside the script using the **sys** package. The **argv** list allows you to retrieve the positional arguments passed into the script. We learned about positional arguments in the last mission -- they are any arguments that come after the command name. An example is python script.py 82. The first positional argument is script.py, and the second is 82.\n",
    "\n",
    "    import sys\n",
    "\n",
    "    if __name__ == \"__main__\":\n",
    "        print(sys.argv[1])\n",
    "        \n",
    "The above code will read input from the command line, and print it back out. If the code is saved to script.py, you'd call python script.py \"Hello from the command line\" to pass in the text you want displayed.\n",
    "\n",
    "You'll notice that we print the second item in the argv list (sys.argv[1]). This is because the arguments start after the python command, so the first argument is the name of the file we want to run. The second argument is the actual text that we want to print."
   ]
  },
  {
   "cell_type": "code",
   "execution_count": 151,
   "metadata": {
    "collapsed": false
   },
   "outputs": [
    {
     "name": "stdout",
     "output_type": "stream",
     "text": [
      "Overwriting script.py\n"
     ]
    }
   ],
   "source": [
    "%%writefile script.py\n",
    "\n",
    "import sys\n",
    "\n",
    "if __name__ == \"__main__\":\n",
    "    print(sys.argv[1]) # argv[0] is script.py"
   ]
  },
  {
   "cell_type": "code",
   "execution_count": 152,
   "metadata": {
    "collapsed": false
   },
   "outputs": [
    {
     "name": "stdout",
     "output_type": "stream",
     "text": [
      "Hello from the command line\n"
     ]
    }
   ],
   "source": [
    "%%bash\n",
    "\n",
    "python script.py \"Hello from the command line\""
   ]
  }
 ],
 "metadata": {
  "kernelspec": {
   "display_name": "Python [conda root]",
   "language": "python",
   "name": "conda-root-py"
  },
  "language_info": {
   "codemirror_mode": {
    "name": "ipython",
    "version": 3
   },
   "file_extension": ".py",
   "mimetype": "text/x-python",
   "name": "python",
   "nbconvert_exporter": "python",
   "pygments_lexer": "ipython3",
   "version": "3.5.2"
  }
 },
 "nbformat": 4,
 "nbformat_minor": 2
}
