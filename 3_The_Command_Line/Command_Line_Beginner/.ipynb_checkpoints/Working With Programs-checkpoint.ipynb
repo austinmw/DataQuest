{
 "cells": [
  {
   "cell_type": "markdown",
   "metadata": {},
   "source": [
    "## 1: Setting Variables\n",
    "\n",
    "In these shell tutorials, we've been interacting with a computer through the command line. In order to interact with it, we type commands in, those commands are executed, and we're shown the results. That interaction is happening within a shell called bash. A shell is a way to access and control a computer. Command line shells have a text interface for typing commands and seeing results, versus graphical shells which allow you to click on icons with a mouse. There are many unix shells, but Bash is one of the most popular. Bash is the default shell on most Linux and OSX computers.\n",
    "\n",
    "Bash is essentially a program that lets us run other programs. To do this, Bash implements a command language. This language specifies how we can type and structure commands that will be executed. A command language is a special kind of programming language through which we can control applications and the system. Just like other programming languages, like Python, we can create scripts, set variables, and more. Because it is a language, bash is far more powerful than a graphical shell.\n",
    "\n",
    "We can set variables by assigning to them. Variables consist entirely of uppercase characters, numbers, and underscores. You can assign any datatype to a variable. Here are some examples:\n",
    "\n",
    "    OS=linux\n",
    "    OPERATING_SYSTEM=\"linux\"\n",
    "    \n",
    "Both of the above variables OS and OPERATING_SYSTEM will actually be assigned the same value. Quotes are optional when using strings in bash, unless there's a space in the string -- bash is sensitive to spaces, and strings with spaces won't work properly if they aren't surrounded with quotes.\n",
    "\n",
    "This assignment won't work:\n",
    "\n",
    "    ANIMAL=Shark with a laser beam on its head\n",
    "    \n",
    "But this will:\n",
    "\n",
    "    ANIMAL=\"Shark with a laser beam on its head\"\n",
    "\n",
    "It's also important not to add in stray spaces. This won't work:\n",
    "\n",
    "    ANIMAL = \"Shark with a laser beam on its head\"    "
   ]
  },
  {
   "cell_type": "code",
   "execution_count": 7,
   "metadata": {
    "collapsed": false
   },
   "outputs": [
    {
     "data": {
      "application/json": {
       "cell": {
        "!": "OSMagics",
        "HTML": "Other",
        "SVG": "Other",
        "bash": "Other",
        "capture": "ExecutionMagics",
        "debug": "ExecutionMagics",
        "file": "Other",
        "html": "DisplayMagics",
        "javascript": "DisplayMagics",
        "js": "DisplayMagics",
        "latex": "DisplayMagics",
        "perl": "Other",
        "prun": "ExecutionMagics",
        "pypy": "Other",
        "python": "Other",
        "python2": "Other",
        "python3": "Other",
        "ruby": "Other",
        "script": "ScriptMagics",
        "sh": "Other",
        "svg": "DisplayMagics",
        "sx": "OSMagics",
        "system": "OSMagics",
        "time": "ExecutionMagics",
        "timeit": "ExecutionMagics",
        "writefile": "OSMagics"
       },
       "line": {
        "alias": "OSMagics",
        "alias_magic": "BasicMagics",
        "autocall": "AutoMagics",
        "automagic": "AutoMagics",
        "autosave": "KernelMagics",
        "bookmark": "OSMagics",
        "cat": "Other",
        "cd": "OSMagics",
        "clear": "KernelMagics",
        "colors": "BasicMagics",
        "config": "ConfigMagics",
        "connect_info": "KernelMagics",
        "cp": "Other",
        "debug": "ExecutionMagics",
        "dhist": "OSMagics",
        "dirs": "OSMagics",
        "doctest_mode": "BasicMagics",
        "ed": "Other",
        "edit": "KernelMagics",
        "env": "OSMagics",
        "gui": "BasicMagics",
        "hist": "Other",
        "history": "HistoryMagics",
        "killbgscripts": "ScriptMagics",
        "ldir": "Other",
        "less": "KernelMagics",
        "lf": "Other",
        "lk": "Other",
        "ll": "Other",
        "load": "CodeMagics",
        "load_ext": "ExtensionMagics",
        "loadpy": "CodeMagics",
        "logoff": "LoggingMagics",
        "logon": "LoggingMagics",
        "logstart": "LoggingMagics",
        "logstate": "LoggingMagics",
        "logstop": "LoggingMagics",
        "ls": "Other",
        "lsmagic": "BasicMagics",
        "lx": "Other",
        "macro": "ExecutionMagics",
        "magic": "BasicMagics",
        "man": "KernelMagics",
        "matplotlib": "PylabMagics",
        "mkdir": "Other",
        "more": "KernelMagics",
        "mv": "Other",
        "notebook": "BasicMagics",
        "page": "BasicMagics",
        "pastebin": "CodeMagics",
        "pdb": "ExecutionMagics",
        "pdef": "NamespaceMagics",
        "pdoc": "NamespaceMagics",
        "pfile": "NamespaceMagics",
        "pinfo": "NamespaceMagics",
        "pinfo2": "NamespaceMagics",
        "popd": "OSMagics",
        "pprint": "BasicMagics",
        "precision": "BasicMagics",
        "profile": "BasicMagics",
        "prun": "ExecutionMagics",
        "psearch": "NamespaceMagics",
        "psource": "NamespaceMagics",
        "pushd": "OSMagics",
        "pwd": "OSMagics",
        "pycat": "OSMagics",
        "pylab": "PylabMagics",
        "qtconsole": "KernelMagics",
        "quickref": "BasicMagics",
        "recall": "HistoryMagics",
        "rehashx": "OSMagics",
        "reload_ext": "ExtensionMagics",
        "rep": "Other",
        "rerun": "HistoryMagics",
        "reset": "NamespaceMagics",
        "reset_selective": "NamespaceMagics",
        "rm": "Other",
        "rmdir": "Other",
        "run": "ExecutionMagics",
        "save": "CodeMagics",
        "sc": "OSMagics",
        "set_env": "OSMagics",
        "store": "StoreMagics",
        "sx": "OSMagics",
        "system": "OSMagics",
        "tb": "ExecutionMagics",
        "time": "ExecutionMagics",
        "timeit": "ExecutionMagics",
        "unalias": "OSMagics",
        "unload_ext": "ExtensionMagics",
        "who": "NamespaceMagics",
        "who_ls": "NamespaceMagics",
        "whos": "NamespaceMagics",
        "xdel": "NamespaceMagics",
        "xmode": "BasicMagics"
       }
      },
      "text/plain": [
       "Available line magics:\n",
       "%alias  %alias_magic  %autocall  %automagic  %autosave  %bookmark  %cat  %cd  %clear  %colors  %config  %connect_info  %cp  %debug  %dhist  %dirs  %doctest_mode  %ed  %edit  %env  %gui  %hist  %history  %killbgscripts  %ldir  %less  %lf  %lk  %ll  %load  %load_ext  %loadpy  %logoff  %logon  %logstart  %logstate  %logstop  %ls  %lsmagic  %lx  %macro  %magic  %man  %matplotlib  %mkdir  %more  %mv  %notebook  %page  %pastebin  %pdb  %pdef  %pdoc  %pfile  %pinfo  %pinfo2  %popd  %pprint  %precision  %profile  %prun  %psearch  %psource  %pushd  %pwd  %pycat  %pylab  %qtconsole  %quickref  %recall  %rehashx  %reload_ext  %rep  %rerun  %reset  %reset_selective  %rm  %rmdir  %run  %save  %sc  %set_env  %store  %sx  %system  %tb  %time  %timeit  %unalias  %unload_ext  %who  %who_ls  %whos  %xdel  %xmode\n",
       "\n",
       "Available cell magics:\n",
       "%%!  %%HTML  %%SVG  %%bash  %%capture  %%debug  %%file  %%html  %%javascript  %%js  %%latex  %%perl  %%prun  %%pypy  %%python  %%python2  %%python3  %%ruby  %%script  %%sh  %%svg  %%sx  %%system  %%time  %%timeit  %%writefile\n",
       "\n",
       "Automagic is ON, % prefix IS NOT needed for line magics."
      ]
     },
     "execution_count": 7,
     "metadata": {},
     "output_type": "execute_result"
    }
   ],
   "source": [
    "# list jupyter magics\n",
    "%lsmagic"
   ]
  },
  {
   "cell_type": "code",
   "execution_count": 35,
   "metadata": {
    "collapsed": false
   },
   "outputs": [
    {
     "name": "stdout",
     "output_type": "stream",
     "text": [
      "Challenge - Navigating The File System.ipynb\n",
      "Command Line Basics & Working With Files.ipynb\n",
      "Working With Programs.ipynb\n"
     ]
    }
   ],
   "source": [
    "%%bash\n",
    "ls\n",
    "\n",
    "# # Create a variable FOOD containing the value Shrimp gumbo.\n",
    "FOOD=\"Shrimp gumbo\""
   ]
  },
  {
   "cell_type": "markdown",
   "metadata": {},
   "source": [
    "## 2: Accessing Variables\n",
    "\n",
    "Variables in bash work similarly to variables in other languages such as Python in that we can access the values again after we set them. One major difference is that in order to access the value of a variable, you have to add a dollar sign to the beginning of the variable name.\n",
    "\n",
    "For example, if you create a variable named FOOD with the value Shrimp gumbo, you'll need to use $FOOD when you want to access the value again later. This is because typing FOOD at the command prompt will attempt to call the command FOOD, and will return an error, because there is no executable named FOOD in PATH.\n",
    "\n",
    "Another difference between Python variables and bash variables is that when you type $FOOD at the command prompt, it will resolve to the value of the variable, or Shrimp gumbo. By default, bash will try to turn this into a command, and will try to call the command Shrimp. Since there is no executable named Shrimp in PATH, this will cause an error.\n",
    "\n",
    "If you want to see the value of a variable named FOOD, you'll need to type echo $FOOD. This will turn into echo \"Shrimp gumbo\", which will print Shrimp gumbo to stdout."
   ]
  },
  {
   "cell_type": "code",
   "execution_count": 42,
   "metadata": {
    "collapsed": false
   },
   "outputs": [
    {
     "name": "stdout",
     "output_type": "stream",
     "text": [
      "hi\n"
     ]
    }
   ],
   "source": [
    "%%bash\n",
    "\n",
    "VAR=hi\n",
    "FOOD=\"Shrimp gumbo\"\n",
    "\n",
    "echo $VAR"
   ]
  },
  {
   "cell_type": "markdown",
   "metadata": {},
   "source": [
    "## 3: Environment Variables\n",
    "\n",
    "So far, we've been creating shell variables. These variables can be accessed only within the bash shell.\n",
    "\n",
    "Another type of variable is an environment variable. **These can be accessed by any program that is run from the shell.**\n",
    "\n",
    "We can create environment variables using the export command. export FOOD=\"Chicken and waffles\" will create an environment variable called FOOD."
   ]
  },
  {
   "cell_type": "code",
   "execution_count": 45,
   "metadata": {
    "collapsed": false
   },
   "outputs": [],
   "source": [
    "%%bash\n",
    "\n",
    "export FOOD=\"Chicken and waffles\""
   ]
  },
  {
   "cell_type": "markdown",
   "metadata": {},
   "source": [
    "## 4: Accessing Environment Variables\n",
    "\n",
    "We can run many programs from bash, including Python. To run the Python interpreter from the bash shell, just type python at the command prompt.\n",
    "\n",
    "Once inside the command prompt, you can access environment variables like this:\n",
    "\n",
    "    import os\n",
    "    print(os.environ[\"FOOD\"])\n",
    "\n",
    "The os package is built into the Python standard library, and contains many useful functions for working with the operating system.\n",
    "\n",
    "os.environ is a dictionary containing all of the values of environment variables. You can access any environment variable by specifying it as a key, just like with any Python dictionary.\n",
    "\n",
    "This shows you a hint of the power of environment variables -- we can use them to set configuration in Python scripts and in other places. This is useful when configuration is secret (like access keys), or is changing quickly.\n",
    "\n"
   ]
  },
  {
   "cell_type": "code",
   "execution_count": 70,
   "metadata": {
    "collapsed": false
   },
   "outputs": [
    {
     "name": "stdout",
     "output_type": "stream",
     "text": [
      "pasta\n"
     ]
    }
   ],
   "source": [
    "%%bash\n",
    "export FOOD=\"pasta\"\n",
    "\n",
    "python\n",
    "import os\n",
    "print(os.environ[\"FOOD\"])"
   ]
  },
  {
   "cell_type": "markdown",
   "metadata": {},
   "source": [
    "## 5: Calling Programs\n",
    "\n",
    "In the last screen, we accessed Python by typing python in the shell. We can run many programs this way. There's nothing special about a program -- it's a file somewhere on the system.\n",
    "\n",
    "Any program can be accessed by typing its full path. The full path for Python, which itself is a program, is /usr/bin/python."
   ]
  },
  {
   "cell_type": "code",
   "execution_count": 75,
   "metadata": {
    "collapsed": false
   },
   "outputs": [
    {
     "name": "stdout",
     "output_type": "stream",
     "text": [
      "hi\n"
     ]
    }
   ],
   "source": [
    "%%bash\n",
    "\n",
    "/usr/bin/python\n",
    "print('hi')\n",
    "exit()"
   ]
  },
  {
   "cell_type": "markdown",
   "metadata": {},
   "source": [
    "## 6: The PATH Variable\n",
    "\n",
    "In the last screen, we typed /usr/bin/python to access the Python interpreter. If the Python interpreter is at that location, how come we can also access it by typing python? We can do this because of the PATH variable. The PATH environment variable contains several folders. Any program in any one of these folders can be run simply by typing the name of the program. Since /usr/bin is one of the folders in PATH, we can access python, which is in the folder, by just typing python instead of the full path."
   ]
  },
  {
   "cell_type": "code",
   "execution_count": 77,
   "metadata": {
    "collapsed": false
   },
   "outputs": [
    {
     "name": "stdout",
     "output_type": "stream",
     "text": [
      "/Users/austin/anaconda/bin:/Users/austin/anaconda/bin:/Users/austin/bin:/usr/local/bin:/usr/bin:/bin:/usr/sbin:/sbin:/opt/X11/bin\n"
     ]
    }
   ],
   "source": [
    "%%bash\n",
    "\n",
    "echo $PATH"
   ]
  },
  {
   "cell_type": "markdown",
   "metadata": {},
   "source": [
    "## 7: Flags\n",
    "\n",
    "Some of the programs we've been running have arguments, and some don't. When you type echo $FOOD, you're passing the value of the $FOOD variable as a positional argument to the echo program. This is similar to a function in Python, which has positional and keyword arguments. Programs can have any number of positional arguments, including zero. python is an example of a program that doesn't require any positional arguments.\n",
    "\n",
    "cp is an example of a command with two positional arguments -- you need to pass the file, and the path to which you want it to be copied.\n",
    "\n",
    "Programs can also have flags, which are akin to keyword arguments in Python. These are optional, and modify program behavior. Flags sometimes have values specified. If they don't have a value specified, then they're boolean. Boolean flags are true when they appear, and false when they don't. For example, the -l flag, when passed to ls, will list the files in the directory in long mode, and show more information about them."
   ]
  },
  {
   "cell_type": "code",
   "execution_count": 79,
   "metadata": {
    "collapsed": false
   },
   "outputs": [
    {
     "name": "stdout",
     "output_type": "stream",
     "text": [
      "total 48\n",
      "-rw-r--r--  1 austin  staff    656 Mar 10 17:30 Challenge - Navigating The File System.ipynb\n",
      "-rw-r--r--  1 austin  staff   1237 Mar 10 17:25 Command Line Basics & Working With Files.ipynb\n",
      "-rw-r--r--  1 austin  staff  13445 Mar 11 14:55 Working With Programs.ipynb\n"
     ]
    }
   ],
   "source": [
    "%%bash\n",
    "\n",
    "ls -l"
   ]
  },
  {
   "cell_type": "markdown",
   "metadata": {},
   "source": [
    "## 8: Combining Flags\n",
    "\n",
    "There are many times when you'll want to specify multiple flags. Most flags have short, single-character names, as well as longer names. See the ls manual page for a closer look at this.\n",
    "\n",
    "For example, specifying ls -a, and ls --all will both list all of the files in a directory, instead of hiding anything that starts with .. The commands are equivalent.\n",
    "\n",
    "When we have multiple flags with short, single-character names, we can chain them together to save time. ls -la will list all of the files in a long format, and is equivalent to ls -a -l. The order of the l and the a don't matter. This is commonly done by experienced programmers, and can be a bit confusing to parse at first."
   ]
  },
  {
   "cell_type": "code",
   "execution_count": 80,
   "metadata": {
    "collapsed": false
   },
   "outputs": [
    {
     "name": "stdout",
     "output_type": "stream",
     "text": [
      "total 48\n",
      "drwxr-xr-x  6 austin  staff    204 Mar 11 14:57 .\n",
      "drwxr-xr-x  5 austin  staff    170 Mar 10 17:08 ..\n",
      "drwxr-xr-x  5 austin  staff    170 Mar 10 17:31 .ipynb_checkpoints\n",
      "-rw-r--r--  1 austin  staff    656 Mar 10 17:30 Challenge - Navigating The File System.ipynb\n",
      "-rw-r--r--  1 austin  staff   1237 Mar 10 17:25 Command Line Basics & Working With Files.ipynb\n",
      "-rw-r--r--  1 austin  staff  16227 Mar 11 14:57 Working With Programs.ipynb\n"
     ]
    }
   ],
   "source": [
    "%%bash\n",
    "\n",
    "ls -la"
   ]
  },
  {
   "cell_type": "markdown",
   "metadata": {},
   "source": [
    "## 9: Long Flags\n",
    "\n",
    "You can specify longer flags with two dashes. One such longer flag for ls is --ignore. Using ls --ignore=test.txt won't list any files named test.txt in the output of ls."
   ]
  },
  {
   "cell_type": "code",
   "execution_count": null,
   "metadata": {
    "collapsed": false
   },
   "outputs": [],
   "source": [
    "%%bash\n",
    "\n",
    "# (doesn't work on mac)\n",
    "ls -al --ignore=.ipython"
   ]
  }
 ],
 "metadata": {
  "kernelspec": {
   "display_name": "Python [conda root]",
   "language": "python",
   "name": "conda-root-py"
  },
  "language_info": {
   "codemirror_mode": {
    "name": "ipython",
    "version": 3
   },
   "file_extension": ".py",
   "mimetype": "text/x-python",
   "name": "python",
   "nbconvert_exporter": "python",
   "pygments_lexer": "ipython3",
   "version": "3.5.2"
  }
 },
 "nbformat": 4,
 "nbformat_minor": 2
}
