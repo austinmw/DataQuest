{
 "cells": [
  {
   "cell_type": "markdown",
   "metadata": {},
   "source": [
    "## 0: Displaying file\n",
    "\n",
    "Some functions that can be used to print to console:\n",
    "\n",
    "    more file.txt  \n",
    "    less file.txt  \n",
    "    cat file.txt  \n",
    "    head -5 file.txt  # default is 10 lines\n",
    "    tail -3 file.txt   "
   ]
  },
  {
   "cell_type": "markdown",
   "metadata": {},
   "source": [
    "## 1: Appending\n",
    "\n",
    "In an earlier mission, we looked at how to redirect output from a command to a file using >. Here's an example:\n",
    "\n",
    "    echo \"This is all a dream...\" > dream.txt\n",
    "\n",
    "If the file dream.txt already exists, the above code will overwrite the file with the string This is all a dream.... If the file dream.txt doesn't exist, it will be created, and the string This is all a dream... will be used as the content. This involves redirecting from the standard output of the command to the standard input of the file.\n",
    "\n",
    "If we don't want to overwrite dream.txt, and we instead want to add to it, we can use >>.\n",
    "\n",
    "    echo \"Wake up!\" >> dream.txt\n",
    "\n",
    "The above code will append This is all a dream... to the file dream.txt. The file will still be created if it didn't exist."
   ]
  },
  {
   "cell_type": "code",
   "execution_count": 2,
   "metadata": {
    "collapsed": false
   },
   "outputs": [
    {
     "name": "stdout",
     "output_type": "stream",
     "text": [
      "99 bottles of beer on the wall...\n",
      "\n",
      "99 bottles of beer on the wall...\n",
      "Take one down, pass it around, 98 bottles of beer on the wall...\n"
     ]
    }
   ],
   "source": [
    "%%bash\n",
    "\n",
    "echo \"99 bottles of beer on the wall...\" > beer.txt\n",
    "cat beer.txt\n",
    "echo \n",
    "echo \"Take one down, pass it around, 98 bottles of beer on the wall...\" >> beer.txt\n",
    "cat beer.txt"
   ]
  },
  {
   "cell_type": "markdown",
   "metadata": {},
   "source": [
    "## 2: Redirecting From A File\n",
    "\n",
    "We've seen how to redirect from a command to a file. We can also redirect the other way, from a file to a command. This involves redirecting from the standard output of the file to the standard input of the command.\n",
    "\n",
    "In our last screen, the file beer.txt ends up looking like this:\n",
    "\n",
    "    99 bottles of beer on the wall...\n",
    "    Take one down, pass it around, 98 bottles of beer on the wall...\n",
    "\n",
    "The Linux sort command will sort the lines of a file in alphabetical order. If we pass the -r flag, the lines will be sorted in reverse order.\n",
    "\n",
    "    sort < beer.txt\n",
    "\n",
    "The above code will sort each of the lines in beer.txt in order."
   ]
  },
  {
   "cell_type": "code",
   "execution_count": 8,
   "metadata": {
    "collapsed": false
   },
   "outputs": [
    {
     "name": "stdout",
     "output_type": "stream",
     "text": [
      "99 bottles of beer on the wall...\n",
      "Take one down, pass it around, 98 bottles of beer on the wall...\n",
      "Take one down, pass it around, 98 bottles of beer on the wall...\n",
      "99 bottles of beer on the wall...\n"
     ]
    }
   ],
   "source": [
    "%%bash\n",
    "\n",
    "sort < beer.txt\n",
    "sort -r < beer.txt"
   ]
  },
  {
   "cell_type": "markdown",
   "metadata": {},
   "source": [
    "## 3: The Grep Command\n",
    "\n",
    "Sometimes, we'll want to search through the contents of a set of files to find a specific line of text. We can use the grep command for this.\n",
    "\n",
    "    grep \"pass\" beer.txt\n",
    "\n",
    "The above command will print any lines in beer.txt where the string pass appears, and highlight the string pass.\n",
    "\n",
    "We can specify multiple files by passing in more arguments:\n",
    "\n",
    "    grep \"beer\" beer.txt coffee.txt\n",
    "\n",
    "This will show all lines from either file that contain the string beer."
   ]
  },
  {
   "cell_type": "code",
   "execution_count": 9,
   "metadata": {
    "collapsed": false
   },
   "outputs": [
    {
     "name": "stdout",
     "output_type": "stream",
     "text": [
      "beer.txt:99 bottles of beer on the wall...\n",
      "beer.txt:Take one down, pass it around, 98 bottles of beer on the wall...\n",
      "coffee.txt:But I could never drink 99 bottles of it\n"
     ]
    }
   ],
   "source": [
    "%%bash\n",
    "\n",
    "echo \"Coffee is almost as good as beer,\" > coffee.txt\n",
    "echo \"But I could never drink 99 bottles of it\" >> coffee.txt\n",
    "\n",
    "grep \"bottles of\" beer.txt coffee.txt"
   ]
  },
  {
   "cell_type": "markdown",
   "metadata": {},
   "source": [
    "## 4: Special Characters\n",
    "\n",
    "Like we did in the last screen, sometimes we'll want to execute commands on a set of files. There were only 2 files in the last screen though, beer.txt and coffee.txt. But what if we wanted to search through all 1000 files in a folder? We definitely wouldn't want to type out all of the names. Let's say we have the following files in a directory:\n",
    "\n",
    "    beer.txt\n",
    "    beer1.txt\n",
    "    beer2.txt\n",
    "    coffee.txt\n",
    "    better_coffee.txt\n",
    "\n",
    "If we wanted to search for a string in beer1.txt and beer2.txt, we could use this command:\n",
    "\n",
    "    grep \"beer\" beer1.txt beer2.txt\n",
    "\n",
    "We could also use a wildcard character, **?**. ? is used to represent a single, unknown character. We could perform the same search we did above like this:\n",
    "\n",
    "    grep \"beer\" beer?.txt\n",
    "\n",
    "The wildcard above will match both beer1.txt and beer2.txt. We can use as many wildcards as we want in a filename."
   ]
  },
  {
   "cell_type": "code",
   "execution_count": 15,
   "metadata": {
    "collapsed": false
   },
   "outputs": [
    {
     "name": "stdout",
     "output_type": "stream",
     "text": [
      "beer1.txt:beer\n",
      "beer2.txt:beer\n"
     ]
    }
   ],
   "source": [
    "%%bash\n",
    "\n",
    "touch beer1.txt beer2.txt\n",
    "echo \"beer\" > beer1.txt\n",
    "echo \"beer\" > beer2.txt\n",
    "\n",
    "grep \"beer\" beer?.txt"
   ]
  },
  {
   "cell_type": "markdown",
   "metadata": {},
   "source": [
    "## 5: The Star Wildcard\n",
    "\n",
    "We learned about the ? wildcard character in the last screen, but there are also other wildcard characters. Let's say we again have the following files in a directory:\n",
    "\n",
    "    beer.txt\n",
    "    beer1.txt\n",
    "    beer2.txt\n",
    "    coffee.txt\n",
    "    better_coffee.txt\n",
    "\n",
    "We can use the ***** character to match any number of characters, including 0.\n",
    "\n",
    "    grep \"beer\" beer*.txt\n",
    "\n",
    "The above command will search for the string beer in beer.txt, beer1.txt, and beer2.txt. We can also use the wildcard to match more than 1 character:\n",
    "\n",
    "    grep \"beer\" *.txt\n",
    "\n",
    "The above command will search for the string beer in any file that has a name ending in .txt.\n",
    "\n",
    "We can use wildcards anytime we would otherwise enter a filename. For example:\n",
    "\n",
    "    ls *.txt\n",
    "\n",
    "The above command will list any files with names ending in .txt in the current directory."
   ]
  },
  {
   "cell_type": "code",
   "execution_count": 16,
   "metadata": {
    "collapsed": false
   },
   "outputs": [
    {
     "name": "stdout",
     "output_type": "stream",
     "text": [
      "beer.txt:99 bottles of beer on the wall...\n",
      "beer.txt:Take one down, pass it around, 98 bottles of beer on the wall...\n",
      "beer1.txt:beer\n",
      "beer2.txt:beer\n",
      "coffee.txt:Coffee is almost as good as beer,\n"
     ]
    }
   ],
   "source": [
    "%%bash\n",
    "\n",
    "grep \"beer\" *.txt"
   ]
  },
  {
   "cell_type": "markdown",
   "metadata": {},
   "source": [
    "## 6: Piping Output\n",
    "\n",
    "The pipe character, |, allows you to send the *standard output* from one command to the *standard input* of another command. This can be very useful for chaining together commands.\n",
    "\n",
    "For example, let's say we had a file called logs.txt with 100000 lines. We only want to search the last 10 lines for the string Error. We can use the tail -n 10 logs.txt to get the last 10 lines of logs.txt. We can then use the pipe character to chain it with a grep command to perform the search:\n",
    "\n",
    "    tail -n 10 logs.txt | grep \"Error\"\n",
    "\n",
    "The above command will search the last 10 lines of logs.txt for the string Error.\n",
    "\n",
    "We can also pipe the output of a Python script. Let's say we had this script called rand.py:\n",
    "\n",
    "    import random\n",
    "    for i in range(10000):\n",
    "        print(random.randint(1,10))\n",
    "    \n",
    "The above script will use the random library to generate a sequence of random integers, ranging in value from 0 to 10, and will print them to the standard output.\n",
    "\n",
    "This command will run the script, and search each line of output to see if a 9 occurs:\n",
    "\n",
    "    python rand.py | grep 9\n",
    "\n",
    "Any lines that output a 9 will be printed."
   ]
  },
  {
   "cell_type": "code",
   "execution_count": 25,
   "metadata": {
    "collapsed": false
   },
   "outputs": [
    {
     "name": "stdout",
     "output_type": "stream",
     "text": [
      "Take one down, pass it around, 98 bottles of beer on the wall...\n"
     ]
    }
   ],
   "source": [
    "%%bash\n",
    "\n",
    "# basic example\n",
    "tail -1 beer.txt | grep \"wall\""
   ]
  },
  {
   "cell_type": "code",
   "execution_count": 65,
   "metadata": {
    "collapsed": false
   },
   "outputs": [
    {
     "name": "stdout",
     "output_type": "stream",
     "text": [
      "import random\n",
      "for i in range(10000):\n",
      "\tprint(random.randint(1,10))\n"
     ]
    }
   ],
   "source": [
    "%%bash\n",
    "\n",
    "# -e interprets escaped chars\n",
    "echo -e \"import random\\nfor i in range(10000):\\n\\tprint(random.randint(1,10))\" > rand.py\n",
    "\n",
    "cat rand.py"
   ]
  },
  {
   "cell_type": "code",
   "execution_count": 66,
   "metadata": {
    "collapsed": false
   },
   "outputs": [
    {
     "name": "stdout",
     "output_type": "stream",
     "text": [
      "    1011\n"
     ]
    }
   ],
   "source": [
    "%%bash\n",
    "\n",
    "# pipe output of a python script\n",
    "\n",
    "# generate 10000 random numbers from 1 to 10 and send std output to std input of grep,\n",
    "# search for lines with '9' and send std output to wc,\n",
    "# count number of lines (could also do -w, -c)\n",
    "python rand.py | grep 9 | wc -l"
   ]
  },
  {
   "cell_type": "markdown",
   "metadata": {},
   "source": [
    "## 7: Chaining Commands\n",
    "\n",
    "If we want to run two commands sequentially, but not pass output between them, we can use && to chain them. Let's say we want to add some content to a file, then print the whole file:\n",
    "\n",
    "    echo \"All the beers are gone\" >> beer.txt && cat beer.txt\n",
    "\n",
    "This will first add the string All the beers are gone to the file beer.txt, then print the entire contents of beer.txt. The && only runs the second command if the first command doesn't return an error. If we instead tried this:\n",
    "\n",
    "    ec \"All the beers are gone\" >> beer.txt && cat beer.txt\n",
    "\n",
    "We'd get an error, and nothing would be printed, because we used the command ec instead of echo."
   ]
  },
  {
   "cell_type": "code",
   "execution_count": 67,
   "metadata": {
    "collapsed": false
   },
   "outputs": [
    {
     "name": "stdout",
     "output_type": "stream",
     "text": [
      "99 bottles of beer on the wall...\n",
      "Take one down, pass it around, 98 bottles of beer on the wall...\n",
      "new line\n"
     ]
    }
   ],
   "source": [
    "%%bash\n",
    "\n",
    "echo \"new line\" >> beer.txt && cat beer.txt"
   ]
  },
  {
   "cell_type": "markdown",
   "metadata": {},
   "source": [
    "## 8: Escaping Characters\n",
    "\n",
    "There are quite a few special characters that bash uses. A full list can be found here. When you use these characters in a string or a command, and you don't want them to have a special effect, you may have to escape them.\n",
    "\n",
    "Escaping tells the shell to not treat the character as special, but to treat it as a plain character instead. Here's an example:\n",
    "\n",
    "    echo \"\"Get out of here,\" said Neil Armstrong to the moon people.\" >> famous_quotes.txt\n",
    "\n",
    "The above command won't work as we intend because the quotes inside the string will be treated as special. But what we want to do is add the quotes into the file.\n",
    "\n",
    "We use a backslash (\\) as an escape character -- if you add a backslash before a special character, the special character is treated like plain text.\n",
    "\n",
    "    echo \"\\\"Get out of here,\\\" said Neil Armstrong to the moon people.\" >> famous_quotes.txt\n",
    "\n",
    "The command above has the double quotes escaped with a backslash, so it will work as we intend."
   ]
  },
  {
   "cell_type": "code",
   "execution_count": 68,
   "metadata": {
    "collapsed": false
   },
   "outputs": [
    {
     "name": "stdout",
     "output_type": "stream",
     "text": [
      "99 bottles of beer on the wall...\n",
      "Take one down, pass it around, 98 bottles of beer on the wall...\n",
      "new line\n",
      "\"this is a quote\"\n"
     ]
    }
   ],
   "source": [
    "%%bash\n",
    "\n",
    "echo \"\\\"this is a quote\\\"\" >> beer.txt && cat beer.txt"
   ]
  }
 ],
 "metadata": {
  "kernelspec": {
   "display_name": "Python [conda root]",
   "language": "python",
   "name": "conda-root-py"
  },
  "language_info": {
   "codemirror_mode": {
    "name": "ipython",
    "version": 3
   },
   "file_extension": ".py",
   "mimetype": "text/x-python",
   "name": "python",
   "nbconvert_exporter": "python",
   "pygments_lexer": "ipython3",
   "version": "3.5.2"
  }
 },
 "nbformat": 4,
 "nbformat_minor": 2
}
