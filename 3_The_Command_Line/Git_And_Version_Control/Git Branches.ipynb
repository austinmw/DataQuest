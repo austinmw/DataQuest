{
 "cells": [
  {
   "cell_type": "markdown",
   "metadata": {},
   "source": [
    "## 1: Introduction To Git Branches\n",
    "\n",
    "(Diagrams ommitted) \n",
    "https://www.dataquest.io/m/120/git-branches\n",
    "\n",
    "\n",
    "As you may recall from the last mission, it's very common for large teams to use Git. That's because Git enables smooth collaboration between many programmers who are all making changes to a repo at the same time.\n",
    "\n",
    "Even so, this type of situation makes it difficult for everyone to work off of the master branch. To understand why, let's imagine that we start out with two files, bot.py and README.md:\n",
    "\n",
    "Let's say we have three people working on a team -- Seashell Sally, Rocky Raccoon, and Superman. Each person makes the following changes:\n",
    "\n",
    "Each person commits their changes. Because they're all working on the master branch, the commit history will end up looking like this:\n",
    "\n",
    "Notice that the most recent commit is different for each person. What's even worse is that all of the commits make changes to the same files. There's no way for Git to determine which changes are the \"correct\" ones, so the team members will have issues if they all try to push to the remote. Let's see what happens when Superman pushes his changes:\n",
    "\n",
    "Now Rocky and Sally can't push to the remote, because commits 456 and 765 conflict with Superman's commit b53. Rocky, Sally, and Superman edited the same lines in the same files. This results in something called a merge conflict, which is painful to fix, and something we'll talk about in the next mission.\n",
    "\n",
    "Luckily, Git gives us a few ways to avoid merge conflicts. The best method involves using branches. Similar to the way tree branches diverge from the trunk, Git branches allow us to create several different work areas within the same repo. It's common to create a new branch whenever we want to make a change to a project, and then merge that branch back into the master branch when we're done.\n",
    "\n",
    "Here's an example where Superman, Rocky, and Sally each make their own branches:\n",
    "\n",
    "Each of them originally pulled the master branch, which has the commit f34. Then they created separate branches; Superman created enchancement, Rocky created rocky, and Sally created shells. They each made a commit on their own branch.\n",
    "\n",
    "When each person pushes their branch to the remote, Git stores it separately so that it doesn't conflict with everyone else's changes. Afterwards, the remote will have the branches master, enhancement, rocky, and shells. While the team will eventually want to merge all of the branches into master, using branches allows them to make changes to the repo separately while avoiding conflicts.\n",
    "\n",
    "There are also other benefits to using branches. Imagine that Sally wants to make 10 more commits before merging, and Rocky wants to make 2. Working on different branches will make their software development process go much faster.\n",
    "\n",
    "We can create a branch with the git branch command. For example, git branch rocky will create a branch called rocky.\n",
    "\n",
    "Afterwards, we can switch to the new branch using the git checkout command. To do this, we'd type git checkout rocky. Alternatively, we can create a shortcut by combining the two commands with git checkout -b rocky. This will create a branch named rocky and then switch to it right away, without our having to type a second, separate command."
   ]
  },
  {
   "cell_type": "code",
   "execution_count": 1,
   "metadata": {
    "collapsed": false
   },
   "outputs": [
    {
     "name": "stderr",
     "output_type": "stream",
     "text": [
      "Switched to a new branch 'rocky'\n"
     ]
    }
   ],
   "source": [
    "%%bash\n",
    "cd random_numbers/\n",
    "\n",
    "# git branch rocky\n",
    "# git checkout rocky\n",
    "\n",
    "# OR (does both):\n",
    "git checkout -b rocky"
   ]
  },
  {
   "cell_type": "markdown",
   "metadata": {},
   "source": [
    "## 2: Switching Branches\n",
    "\n",
    "Once we create a new branch, we can make changes to it the same way we change the master branch. We just have to alter the files, add them to the staging area, and then commit them.\n",
    "\n",
    "The main wrinkles come into play when we switch branches. Switching to a different branch will change the working directory to reflect the latest commit in that branch. Switching to a new branch, making a new commit, then switching back to master will switch our working directory back to the state of the latest commit in master. Here's a diagram that illustrates what happens:\n",
    "\n",
    "In the example above, the branch enhancement has one commit more than master. When we switch to the enhancement branch, the working directory will contain a file called bot.py that contains the code print('2'). If we switch to the master branch, Git will alter the working directory to contain a file called bot.py that contains the code print('1').\n",
    "\n",
    "Switching between branches is very useful when we want to work on changes to a project that require different amounts of testing or development time. By putting them in separate branches, we can save the state of each addition, without them conflicting with each other.\n",
    "\n",
    "The git checkout command allows us to switch branches. If we still have changes in the working directory we haven't committed yet, though, Git will check whether there's a potential merge conflict with the branch we're switching to. If there is, Git won't let us change branches."
   ]
  },
  {
   "cell_type": "code",
   "execution_count": 3,
   "metadata": {
    "collapsed": false
   },
   "outputs": [
    {
     "name": "stdout",
     "output_type": "stream",
     "text": [
      "  master\n",
      "* rocky\n"
     ]
    },
    {
     "name": "stderr",
     "output_type": "stream",
     "text": [
      "Switched to branch 'master'\n"
     ]
    }
   ],
   "source": [
    "%%bash\n",
    "cd random_numbers/\n",
    "\n",
    "git branch\n",
    "git checkout master"
   ]
  },
  {
   "cell_type": "markdown",
   "metadata": {},
   "source": [
    "## 3: Pushing A Branch To A Remote\n",
    "\n",
    "Once we've created a branch and added a commit, we can push the branch to the remote repo. This allows other people to see our changes and collaborate with us.\n",
    "\n",
    "As you'll recall from the previous mission, we push a branch to a remote using git push. Afterwards, we can use git branch -r to show all of the branches on the remote and confirm that ours is there. In contrast, git branch -a will show all of the branches available locally.\n",
    "\n",
    "git branch -r might result in the following output:\n",
    "\n",
    "The output shows that there are two branches (master and more-speech) on the remote called origin, and that the current branch (the HEAD branch) is master. Git uses HEAD to refer to the current branch, as well as the latest commit in that branch."
   ]
  },
  {
   "cell_type": "code",
   "execution_count": 9,
   "metadata": {
    "collapsed": false
   },
   "outputs": [
    {
     "name": "stdout",
     "output_type": "stream",
     "text": [
      "* master\n",
      "  rocky\n"
     ]
    }
   ],
   "source": [
    "%%bash\n",
    "cd random_numbers/\n",
    "\n",
    "# git brach -r # branches on remote (none)\n",
    "git branch -a # local branches\n",
    "\n",
    "# example of pushing a branch to a remote\n",
    "# git push origin more-speech (more-speech branch to the remote origin)"
   ]
  },
  {
   "cell_type": "markdown",
   "metadata": {},
   "source": [
    "## 4: Merging Branches\n",
    "\n",
    "When someone downloads a project, they typically download and use a single version, or branch. Let's take Django as an example. Django is a popular Web framework for Python that programmers develop using Git and GitHub.\n",
    "\n",
    "When a user installs Django, he or she install a single version -- not dozens or hundreds of separate branches. If we look at the GitHub repo for Django, however, there are lots of different branches people have used to develop features. Here's an example of a separate branch a programmer used to develop a feature.\n",
    "\n",
    "The release a user downloads and works with is typically from the master branch. This means that all of the changes programmers made in other branches need to be pulled into the master branch. We do this through a Git concept called merging. Merging allows us to copy commits from one branch into another. This enables us to efficiently develop features for projects on their own branches without conflicts, then merge them into master so that end users will have access to them.\n",
    "\n",
    "We use the git merge command to merge a branch into another branch. Here's a diagram illustrating what happens in a merge:\n",
    "\n",
    "As you can see, merging the branch enhancement into the branch master will pull the commit b53 into master, and make b53 the latest commit in master. Whenever anyone switches to the master branch, their working directory will contain the file bot.py, which has the contents print(2).\n",
    "\n",
    "In order to merge branch b into branch a, we first have to switch to branch a, then run git merge.\n",
    "\n",
    "Merging allows us to efficiently combine changes from multiple branches together, so that we have a working directory that reflects all of the changes in all of the branches."
   ]
  },
  {
   "cell_type": "code",
   "execution_count": 13,
   "metadata": {
    "collapsed": false
   },
   "outputs": [
    {
     "name": "stdout",
     "output_type": "stream",
     "text": [
      "Already up-to-date.\n"
     ]
    },
    {
     "name": "stderr",
     "output_type": "stream",
     "text": [
      "Already on 'master'\n"
     ]
    }
   ],
   "source": [
    "%%bash\n",
    "cd random_numbers/\n",
    "\n",
    "git checkout master\n",
    "git merge rocky\n",
    "#git push"
   ]
  },
  {
   "cell_type": "markdown",
   "metadata": {},
   "source": [
    "## 5: Deleting Branches\n",
    "\n",
    "It's helpful to think of a branch as a collection of commits. Here's an example:\n",
    "\n",
    "In the example above, both master and enhancement have b53 as the latest commit. In fact, both branches have identical commits. This isn't necessarily bad, but it does mean that the original, separate branch is redundant -- it no longer contains any unique commits. It's typical to use a branch to develop a single feature, merge that branch into master, and then delete the branch.\n",
    "\n",
    "To delete a branch once we've merged all of its commits into another branch, we use the git branch -d command. git branch -d requires us to specify the name of a branch when we call it. Git will completely remove the branch from our local repo. If a branch has unmerged commits inside it, Git will prevent it from being deleted, so its generally safe to delete branches we think are old or unnecessary.\n",
    "\n",
    "Having too many branches can make the repo hard to use, so most software teams tend to delete branches once they've merged them. If we have many branches, for example, listing all of them can print hundreds or thousands of lines, making it hard to find the ones we want. It also makes cloning or updating the repo more difficult, because Git needs to download information on all of the branches."
   ]
  },
  {
   "cell_type": "code",
   "execution_count": 14,
   "metadata": {
    "collapsed": false
   },
   "outputs": [
    {
     "name": "stdout",
     "output_type": "stream",
     "text": [
      "Deleted branch rocky (was e620a15).\n"
     ]
    }
   ],
   "source": [
    "%%bash\n",
    "cd random_numbers/\n",
    "git branch -d rocky"
   ]
  },
  {
   "cell_type": "markdown",
   "metadata": {},
   "source": [
    "## 6: Checking Out Branches From The Remote\n",
    "\n",
    "In order to see what other collaborators in the remote repo are working on, we can check out their branches. This will automatically create a local branch with the same name, and copy any commits from the remote branch to the local branch.\n",
    "\n",
    "Let's say we want to check out a branch called angry-bot from the remote. We'll need to use two different commands:\n",
    "\n",
    "git fetch will fetch all of the current branches and commits from the remote. This won't make any changes to the working directory, but will update Git's list of branch names and commits.\n",
    "git checkout angry-bot will look for the angry-bot branch in the local repo and remote repo. Because it only exists in the remote repo, Git will copy it into the local repo. Git will also make angry-bot the current branch."
   ]
  },
  {
   "cell_type": "code",
   "execution_count": 15,
   "metadata": {
    "collapsed": true
   },
   "outputs": [],
   "source": [
    "%%bash\n",
    "# git fetch\n",
    "# git checkout anotherbranch"
   ]
  },
  {
   "cell_type": "markdown",
   "metadata": {},
   "source": [
    "## 7: Finding Differences Across Branches\n",
    "\n",
    "The typical Git workflow looks like this:\n",
    "\n",
    "- Create a branch off of master with the name of your feature. Let's say feature/better-algo.\n",
    "- Make your changes on the branch and create commits.\n",
    "- Push the branch to the remote repo.\n",
    "- Ask others to review and evaluate your branch.\n",
    "- Merge the branch into master once everyone thinks it looks okay.\n",
    "- Delete the branch.\n",
    "\n",
    "This is how most teams of developers work. In order to review a team member's changes, though, it's critical to be able to see the differences between the feature branch and master. We refer to these differences as \"the diff.\"\n",
    "\n",
    "When we use GitHub as our remote repo, pull requests will show us the differences between branches in an attractive interface, and allow other developers to add comments.\n",
    "\n",
    "If we're not using GitHub, we can type git diff on the command line to see the differences between branches. This command shows line-by-line changes to the code. If the changes are additions, Git will display them in green and prefix them with a plus sign (+). If they're deletions, Git will display them in red and prefix them with a minus sign (-). It shows new files as additions.\n",
    "\n",
    "The order in which we specify the two branches as arguments to git diff influences whether Git sees the changes as additions or deletions. It's generally preferable to put the \"older\" branch first."
   ]
  },
  {
   "cell_type": "code",
   "execution_count": 20,
   "metadata": {
    "collapsed": false
   },
   "outputs": [
    {
     "name": "stdout",
     "output_type": "stream",
     "text": [
      "* master\n",
      "  newbranch\n"
     ]
    }
   ],
   "source": [
    "%%bash\n",
    "cd random_numbers/\n",
    "git branch\n",
    "\n",
    "git diff master newbranch"
   ]
  },
  {
   "cell_type": "markdown",
   "metadata": {},
   "source": [
    "## 8: Branch Naming Conventions\n",
    "When naming branches, it's common to use a prefix that describes the type of branch, then a slash, then the name of the feature or fix we're making. Here are some typical prefixes, along with example branch names:\n",
    "\n",
    "Feature - feature/happy-bot\n",
    "Fix - fix/remove-error\n",
    "Chore - chore/add-analytics\n",
    "Features tend to be commits that add functionality to a project, while fixes resolve bugs and other issues. Chores are things that end users won't necessarily notice, but help us reorganize the project or make the code more efficient. These naming conventions make it easier to organize branches, and figure out what each one does without having to look at the full diff."
   ]
  },
  {
   "cell_type": "code",
   "execution_count": 22,
   "metadata": {
    "collapsed": true
   },
   "outputs": [],
   "source": [
    "# feature/happy-bot\n",
    "# fix/remove-eerror\n",
    "# chore/add-analytics"
   ]
  },
  {
   "cell_type": "markdown",
   "metadata": {},
   "source": [
    "## 9: Branch History\n",
    "\n",
    "When we create a branch, it takes on the commit history of the branch we started from. Here's an example:\n",
    "\n",
    "There are two branches in this example, master and feature/new-interface. feature/new-interface has one more commit than master -- 45g. If our current branch is feature/new-interface and we create a new branch, the most recent commit in the branch we create will be 45g. If our current branch is master and we create a new branch off of it, the most recent commit in the new branch will be 67f."
   ]
  },
  {
   "cell_type": "code",
   "execution_count": 23,
   "metadata": {
    "collapsed": true
   },
   "outputs": [],
   "source": [
    "# nothing new"
   ]
  }
 ],
 "metadata": {
  "kernelspec": {
   "display_name": "Python 3",
   "language": "python",
   "name": "python3"
  },
  "language_info": {
   "codemirror_mode": {
    "name": "ipython",
    "version": 3
   },
   "file_extension": ".py",
   "mimetype": "text/x-python",
   "name": "python",
   "nbconvert_exporter": "python",
   "pygments_lexer": "ipython3",
   "version": "3.6.0"
  }
 },
 "nbformat": 4,
 "nbformat_minor": 2
}
