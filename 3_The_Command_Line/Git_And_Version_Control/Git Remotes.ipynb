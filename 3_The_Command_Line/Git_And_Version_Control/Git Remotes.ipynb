{
 "cells": [
  {
   "cell_type": "markdown",
   "metadata": {},
   "source": [
    "## 1: Git Remotes\n",
    "\n",
    "One of the most useful ways to use git is to use it in conjunction with Github. Using git with Github allows you to push your code to remote repositories. This enables you to:\n",
    "\n",
    "- Share your code with others and build a portfolio.\n",
    "- Collaborate with others on your project and build your code together.\n",
    "- Download and use code others have created.\n",
    "\n",
    "[Here's](https://github.com/VikParuchuri/evolve-music2) an example of a remote repository on Github. Repositories can be viewed on your Github profile, and are a great way to build a portfolio and get noticed by recruiters.\n",
    "\n",
    "Remote repositories aren't just useful for building a portfolio. Pushing to Github also allows you to collaborate with others on your code. For example, linux is developed on Github, and has thousands of different contributors. Many companies, including Google and Facebook, also use Github to work on code projects across teams.\n",
    "\n",
    "Remote repositories also enable you to access and use code you didn't write. For instance, [this repo](https://github.com/amznlabs/amazon-dsstne) will let you download Amazon's Deep Learning tools and start training models. Since the reposistory is public, it's accessible by anyone, and can be downloaded and used by anyone. Repositories on Github can also be private, in which case they are hidden, and not accessible by others.\n",
    "\n",
    "In order to get a remote repository onto your own computer, you'll need to do something called cloning. cloning copies a repository from one location to a folder on your computer. The repository retains all of its git history, and you can work with it just like you would work with a git repository you created yourself.\n",
    "\n",
    "In order to clone a remote repository, we'll use the git clone command. If we were cloning from Github, we'd specify a Github URL to clone a repository from.\n",
    "\n",
    "Here's how we'd clone the Amazon Deep Learning repo from Github:\n",
    "\n",
    "    git clone https://github.com/amznlabs/amazon-dsstne.git\n",
    "\n",
    "https://github.com/amznlabs/amazon-dsstne.git is the URL of the git repository that we're cloning. This will automatically create a folder called amazon-dsstne in our current folder, and place the repository there.\n",
    "\n",
    "Since we're working with a simplified remote repository for the purposes of this mission, we'll clone a repository slightly differently:\n",
    "\n",
    "    git clone /dataquest/user/git/chatbot\n",
    "\n",
    "This will clone the repository from /dataquest/user/git/chatbot, a path on our local computer, to our current folder, and place it into a folder called chatbot.\n",
    "\n",
    "If we specify a second argument to git clone, we can change the folder the repository is saved to:\n",
    "\n",
    "    git clone /dataquest/user/git/chatbot silentbot\n",
    "\n",
    "The above code will place the chatbot repository into a folder called silentbot."
   ]
  },
  {
   "cell_type": "code",
   "execution_count": 1,
   "metadata": {
    "collapsed": false
   },
   "outputs": [
    {
     "name": "stderr",
     "output_type": "stream",
     "text": [
      "Cloning into 'amazon-dsstne'...\n"
     ]
    }
   ],
   "source": [
    "%%bash\n",
    "git clone https://github.com/amznlabs/amazon-dsstne.git"
   ]
  },
  {
   "cell_type": "markdown",
   "metadata": {},
   "source": [
    "## 2: Making Changes To Cloned Repositories \n",
    "\n",
    "Now that we've cloned a repository (or repo for short), we can makes changes in the same way that we did in the last mission. We'll be able to edit files, add them to the staging area, and then commit the changes. These changes will be reflected in the local version of the repo, but not the remote version.\n",
    "\n",
    "Here's a diagram showing how the local repo and the remote repo are separate:\n",
    "\n",
    "<img src=\"data/diagram.png\"/>\n",
    "\n",
    "After making the commit in the diagram, the local repo will have one more commit than the remote repo, and the file README.md will be different.\n",
    "\n",
    "The README.md file is one you'll often see in projects on Github. A README file helps people understand what the project is about and how to install it. It's common for the README file to be in Markdown format, which is a way to create lists and other complex but useful structures using plain text. The markdown format has the .md extension.\n",
    "\n",
    "Similar to the diagram above, we'll edit the README.md file to add a line, then commit it to the repository. When updating shared repositories, it's important to add informative messages when comitting, so other people can easily figure out what each commit is doing without reading through the code. This gets really important when debugging issues with code that multiple people are working on."
   ]
  },
  {
   "cell_type": "code",
   "execution_count": 6,
   "metadata": {
    "collapsed": false
   },
   "outputs": [
    {
     "name": "stdout",
     "output_type": "stream",
     "text": [
      "Dockerfile\n",
      "FAQ.md\n",
      "LICENSE\n",
      "NOTICE\n",
      "README.md\n",
      "benchmarks\n",
      "docs\n",
      "samples\n",
      "src\n",
      "talks\n",
      "tst\n",
      "\n",
      "\n",
      "# Amazon DSSTNE: Deep Scalable Sparse Tensor Network Engine\n",
      "\n",
      "DSSTNE (pronounced \"Destiny\") is an open source software library for training and deploying recommendation\n",
      "models with sparse inputs, fully connected hidden layers, and sparse outputs. Models with weight matrices\n",
      "that are too large for a single GPU can still be trained on a single host. DSSTNE has been used at Amazon\n",
      "to generate personalized product recommendations for our customers at Amazon's scale. It is designed for\n",
      "production deployment of real-world applications which need to emphasize speed and scale over experimental \n",
      "flexibility.\n",
      "\n",
      "DSSTNE was built with a number of features for production recommendation workloads:\n",
      "\n",
      "* **Multi-GPU Scale**: Training and prediction\n",
      "both scale out to use multiple GPUs, spreading out computation\n",
      "and storage in a model-parallel fashion for each layer.\n",
      "* **Large Layers**: Model-parallel scaling enables larger networks than\n",
      "are possible with a single GPU.\n",
      "* **Sparse Data**: DSSTNE is optimized for fast performance on sparse datasets, common in recommendation \n",
      "problems. Custom GPU kernels perform sparse computation on the GPU, without filling in lots of zeroes.\n",
      "\n",
      "## Benchmarks\n",
      "* scottlegrand@ reported [near-linear scaling with multiple GPUs] on the MovieLens recommendation problem \n",
      "(https://medium.com/@scottlegrand/first-dsstne-benchmarks-tldr-almost-15x-faster-than-tensorflow-393dbeb80c0f#.ghe74fu1q)\n",
      "* Directions on how to run a benchmark can be found in [here](benchmarks/Benchmark.md)\n",
      "\n",
      "##Scaling up\n",
      "* [Using Spark in AWS EMR and Dockers in AWS ECS ](http://blogs.aws.amazon.com/bigdata/post/TxGEL8IJ0CAXTK/Generating-Recommendations-at-Amazon-Scale-with-Apache-Spark-and-Amazon-DSSTNE)\n",
      "    \n",
      "\n",
      "## License\n",
      "[License](LICENSE)\n",
      "\n",
      "\n",
      " \n",
      " \n",
      "\n",
      "## Setup\n",
      "* Follow [Setup](docs/getting_started/setup.md) for step by step instructions on installing and setting up DSSTNE\n",
      "\n",
      "## User Guide\n",
      "* Check [User Guide](docs/getting_started/userguide.md) for detailed information about the features in DSSTNE\n",
      "\n",
      "## Examples\n",
      "* Check [Examples](docs/getting_started/examples.md) to start trying your first Neural Network Modeling using DSSTNE\n",
      "\n",
      "## Q&A\n",
      "[FAQ](FAQ.md)appended line\n",
      "[master cada8db] updated README.md\n",
      " 1 file changed, 1 insertion(+), 1 deletion(-)\n",
      "On branch master\n",
      "Your branch is ahead of 'origin/master' by 1 commit.\n",
      "  (use \"git push\" to publish your local commits)\n",
      "nothing to commit, working tree clean\n"
     ]
    }
   ],
   "source": [
    "%%bash\n",
    "\n",
    "cd amazon-dsstne/\n",
    "ls\n",
    "echo \"appended line\" >> README.md\n",
    "cat README.md\n",
    "git add *\n",
    "git commit -m \"updated README.md\"\n",
    "git status\n",
    "# (Placeholder in case I find repo I want to use)"
   ]
  },
  {
   "cell_type": "markdown",
   "metadata": {},
   "source": [
    "## 3: The Master Branch\n",
    "\n",
    "In the last screen, when you ran git status, your output looked something like this:\n",
    "\n",
    "    On branch master                                                                \n",
    "    Your branch is ahead of 'origin/master' by 1 commit.                            \n",
    "      (use \"git push\" to publish your local commits)\n",
    "    ​\n",
    "    nothing to commit, working directory clean\n",
    "\n",
    "The first two lines mention the terms branch, master, and origin, all of which may be unfamiliar. We'll look at branch and master in this screen, and origin in the next screen.\n",
    "\n",
    "Every git repository consists of one or more branches. Each branch is a slightly different version of the code. We'll dive more into branches and how they work in the next mission, but the important fact to know now is that the main branch of a git repo is typically called master. Developers will create separate branches when they want to work on new features for a project, then add the commits in those branches back into master when the features are ready.\n",
    "\n",
    "All of the changes we've made so far have been on the master branch of the chatbot repo. The master branch is usually the most up-to-date shared version of any code project.\n",
    "\n",
    "We can check what branch we're on by using git branch. This will list all of the branches in the repo, along with the branch that is currently active."
   ]
  },
  {
   "cell_type": "code",
   "execution_count": 9,
   "metadata": {
    "collapsed": false
   },
   "outputs": [
    {
     "name": "stdout",
     "output_type": "stream",
     "text": [
      "* master\n"
     ]
    }
   ],
   "source": [
    "%%bash\n",
    "cd amazon-dsstne/\n",
    "git branch"
   ]
  },
  {
   "cell_type": "markdown",
   "metadata": {},
   "source": [
    "## 4: Pushing Changes To The Remote\n",
    "\n",
    "Once you've made changes to the local version of the repo, you can push those changes to the remote repo so that your changes can be viewed by everyone. Changes you make locally are only reflected in your local repo. Unless you push these changes to the remote, the remote repo doesn't change.\n",
    "\n",
    "To do this, you'll need to use the **git push** command, which pushes commits from your local repo to the remote repo. Here's a diagram showing what happens when you run git push:\n",
    "\n",
    "<img src=\"data/diagram2.png\"/>\n",
    "\n",
    "As you can see, until you push the branch to the remote repo, the changes are only in your local repo. Once you push to the remote, it's updated with your latest changes. Anyone else who pulls from the remote repo will then have access to the same two commits as you do in your local repo.\n",
    "\n",
    "When you run git push, you'll need to specify both the name of a remote to push to, and the name of a branch to push. When you clone a repo, git automatically names the remote repo origin. This means that the following command will push the master branch to the remote repo:\n",
    "\n",
    "    git push origin master\n",
    "\n",
    "It's possible, but rare, that a remote will have a name other than origin. In cases where you're unsure, you can list remotes using **git remote**.\n",
    "\n",
    "git remote will list all of the remotes. If you specify the -v option, you'll get additional information about where the remote repos are located."
   ]
  },
  {
   "cell_type": "code",
   "execution_count": 11,
   "metadata": {
    "collapsed": false
   },
   "outputs": [
    {
     "name": "stdout",
     "output_type": "stream",
     "text": [
      "origin\n"
     ]
    },
    {
     "name": "stderr",
     "output_type": "stream",
     "text": [
      "remote: Permission to amznlabs/amazon-dsstne.git denied to austinmw.\n",
      "fatal: unable to access 'https://github.com/amznlabs/amazon-dsstne.git/': The requested URL returned error: 403\n"
     ]
    }
   ],
   "source": [
    "%%bash\n",
    "cd amazon-dsstne/\n",
    "git remote\n",
    "# (don't actually have permission to push)\n",
    "#git push origin master "
   ]
  },
  {
   "cell_type": "markdown",
   "metadata": {},
   "source": [
    "## 5: Viewing Individual Commits\n",
    "\n",
    "If you'll recall from the previous mission, git stores the history of the repo as a series of commits. Each commit contains the difference between the current commit and the previous commit. This allows git to very efficiently store history, and replay that history to reconstruct the working directory. The working directory is the folder on your computer where you edit files, then add the changes, then make commits. Commits are separate from the working directory, and are a snapshot of all the files in the working directory at a specific point in time.\n",
    "\n",
    "You can see the full commit history of the master branch of the local chatbot repo with git log. Here's the output you might get from git log:\n",
    "\n",
    "    commit 6a95e94ea10caa28013b767510d4bc59369d83fa                                 \n",
    "    Author: Dataquest <me@dataquest.io>                                             \n",
    "    Date:   Wed May 18 21:56:27 2016 +0000                                          \n",
    "\n",
    "        Updated README.md                                                           \n",
    "\n",
    "    commit 8a1ca35dd5c5de8f93aa6cbbd153caa40233386c                                 \n",
    "    Author: Dataquest <me@dataquest.io>                                             \n",
    "    Date:   Wed May 18 21:55:33 2016 +0000                                          \n",
    "\n",
    "        Add the initial version of README.md    \n",
    "    </me@dataquest.io></me@dataquest.io>\n",
    "\n",
    "This history shows two commits, the first one with the message Add the initial version of README.md, and the second with the message Updated README.md. The great thing about git is that it stores both commits, so we can easily revert back to a previous commit if we want to.\n",
    "\n",
    "In order to do this, we'll need to use the hash of the commit. The hash is a unique identifier for each commit, and allows us to perform operations like reverting to a specific commit. In the above output, the first commit has the id 8a1ca35dd5c5de8f93aa6cbbd153caa40233386c, and the second commit has the id 6a95e94ea10caa28013b767510d4bc59369d83fa.\n",
    "\n",
    "We can use the git show command, along with a hash, to see what changed in a specific commit. Running git show 6a95e94ea10caa28013b767510d4bc59369d83fa in the above example would result in:\n",
    "\n",
    "    commit 6a95e94ea10caa28013b767510d4bc59369d83fa                                 \n",
    "    Author: Dataquest <me@dataquest.io>                                             \n",
    "    Date:   Wed May 18 21:56:27 2016 +0000                                          \n",
    "\n",
    "        Updated README.md                                                           \n",
    "\n",
    "    diff --git a/README.md b/README.md                                              \n",
    "    index f4871de..9c05964 100644                                                   \n",
    "    --- a/README.md                                                                 \n",
    "    +++ b/README.md                                                                 \n",
    "    @@ -1,3 +1,3 @@                                                                 \n",
    "     README\n",
    "\n",
    "    -This is a README file.  It's typical for Github projects to have a README.  A README gives information about what the project is about, and usually how to install and use it.\n",
    "    \\ No newline at end of file                                                     \n",
    "    +This is a README file.  It's typical for Github projects to have a README.  A README gives information about what the project is about, and usually how to install and use it.This project needs no installation!\n",
    "    </me@dataquest.io>\n",
    "    \n",
    "This indicates that the README.md file was changed in this commit, and the line This project needs no installation! was added. a/README.md is the file state before the commit, and b/README.md is the file state after the commit.\n",
    "\n",
    "git show will allow you to scroll up and down and side to side. You'll need to type q to exit it."
   ]
  },
  {
   "cell_type": "code",
   "execution_count": 1,
   "metadata": {
    "collapsed": false
   },
   "outputs": [
    {
     "name": "stdout",
     "output_type": "stream",
     "text": [
      "commit 33391c4179d3f17c2195538f2c6c313ff2fd106a\n",
      "Author: Fake Name <fake.email@domain.com>\n",
      "Date:   Tue Mar 14 19:53:00 2017 -0400\n",
      "\n",
      "    second commit\n",
      "\n",
      "commit e620a153b02b0bbb0da422c8613a58224ffc2159\n",
      "Author: Fake Name <fake.email@domain.com>\n",
      "Date:   Tue Mar 14 19:42:07 2017 -0400\n",
      "\n",
      "    Initial commit. Added script.py and README.md\n"
     ]
    }
   ],
   "source": [
    "%%bash\n",
    "cd random_numbers/\n",
    "git log"
   ]
  },
  {
   "cell_type": "markdown",
   "metadata": {
    "collapsed": true
   },
   "source": [
    "## 6: Commits And The Working Directory\n",
    "\n",
    "(Omitting example pictures for each step)\n",
    "\n",
    "Before we explore commits further, let's take a closer look at the working directory and how it interacts with commits. As you may recall from the previous mission, the Git commit workflow has three main components:\n",
    "\n",
    "- The working directory\n",
    "- The staging area\n",
    "- Commits\n",
    "\n",
    "The working directory is the folder we're version controlling with Git, and the contents of the working directory are what we see when we list the contents of the folder with ls. In our case, /home/dq/chatbot is the working directory. We can edit the working directory by changing or adding files.\n",
    "\n",
    "When we run git add, Git adds the difference between the most recent commit and the current status of our working directory to the staging area.\n",
    "\n",
    "When we run git commit, we create a commit that contains all of the changes Git added to the staging area. The commit has a unique commit hash, so we can refer to it later. Note how making a commit removes all changes from the staging area.\n",
    "\n",
    "We now have a commit with the hash 53d. This commit is a snapshot of the working directory at the moment it contained a file called README.md that had the text This is a README!.\n",
    "\n",
    "Next, we can add a new file to the working directory, and edit README.md. This will only affect the working directory, where we're making changes -- not the remote.\n",
    "\n",
    "Then we can use git add to stage our changes.\n",
    "\n",
    "In this case, Git adds both the new file (bot.py) and the changed file to the staging area. Then we can commit the changes.\n",
    "\n",
    "We now have two commits, each storing a snapshot of our working directory at a different point in time. On the next screen, we'll cover how to switch between commits to change the files in our working directory.\n",
    "\n",
    "We can pull up the difference between two commits with the git diff command -- we just pass the two commit hashes as arguments to git diff. To save typing time, we can also just write the first few characters of the hash to uniquely identify the commit (four is usually enough). The order in which we pass the two hashes to git diff influences whether changes appear as deletions or additions.\n",
    "\n",
    "We need to use q to exit git diff when we're done.\n"
   ]
  },
  {
   "cell_type": "code",
   "execution_count": 14,
   "metadata": {
    "collapsed": false
   },
   "outputs": [
    {
     "name": "stdout",
     "output_type": "stream",
     "text": [
      "diff --git a/script.py b/script.py\n",
      "index ca99880..c8aae0d 100644\n",
      "--- a/script.py\n",
      "+++ b/script.py\n",
      "@@ -1,2 +1,5 @@\n",
      "+\n",
      "+# change script to random number generator\n",
      " if __name__ == \"__main__\":\n",
      "-\tprint(\"10\")\n",
      "+\timport numpy as np\n",
      "+    print(np.random.randint(10))\n",
      "\\ No newline at end of file\n"
     ]
    }
   ],
   "source": [
    "%%bash\n",
    "cd random_numbers/\n",
    "#git log\n",
    "\n",
    "# order matters!\n",
    "git diff e620 3339"
   ]
  },
  {
   "cell_type": "markdown",
   "metadata": {},
   "source": [
    "## 7: Switching To A Specific Commit\n",
    "\n",
    "(Omitting example pictures for each step)\n",
    "\n",
    "Now that we know about commit hashes, we can use them to switch to a specific commit. Switching between commits allows us to quickly move between different historical versions of a project. If we introduce a change that causes issues and want to revert to an earlier version, for example, switching between commits will let us do so.\n",
    "\n",
    "Commit hashes are permanent; Git preserves them and includes them in transfers between the local repo and the remote repo. For instance, let's say we have two commits, c12 and c53. The following diagram shows what happens to them as we clone, commit, and push.\n",
    "\n",
    "c12 originally existed on the remote, but when we pulled it locally, the commit kept the same hash. This is because the commit is the same in the remote and our local repo -- the same changes were made to the same files.\n",
    "\n",
    "When we changed a file and made a commit locally, Git gave it the hash c53. When we pushed this commit to the remote later on, it kept the same hash because it was still the same commit. In the diagram above, both the local repo and the remote repo have two commits, c12 and c53. We can switch between commits in the local repo without changing what commits are in the remote repo. We can do this with the git reset command:\n",
    "\n",
    "The diagram shows the commit on the left, and a representation of our working directory on the right. If we type git reset --hard c12, Git switches back to the commit with the hash c12, and changes all of the files in the working directory so that they're exactly the same as the files in the commit. This will essentially let us rewind the repo to past commits if there are problems with more recent ones, or if we want to see what the project looked like at an earlier point in time.\n",
    "\n",
    "The --hard flag resets both the working directory and the Git history to a specific state. If we omitted the flag, or used the --soft flag instead, it would skip making changes to the working directory, and only reset the Git history."
   ]
  },
  {
   "cell_type": "code",
   "execution_count": 16,
   "metadata": {
    "collapsed": false
   },
   "outputs": [
    {
     "name": "stdout",
     "output_type": "stream",
     "text": [
      "commit 33391c4179d3f17c2195538f2c6c313ff2fd106a\n",
      "Author: Fake Name <fake.email@domain.com>\n",
      "Date:   Tue Mar 14 19:53:00 2017 -0400\n",
      "\n",
      "    second commit\n",
      "\n",
      "commit e620a153b02b0bbb0da422c8613a58224ffc2159\n",
      "Author: Fake Name <fake.email@domain.com>\n",
      "Date:   Tue Mar 14 19:42:07 2017 -0400\n",
      "\n",
      "    Initial commit. Added script.py and README.md\n",
      "HEAD is now at e620a15 Initial commit. Added script.py and README.md\n"
     ]
    }
   ],
   "source": [
    "%%bash\n",
    "cd random_numbers/\n",
    "\n",
    "git log\n",
    "\n",
    "# reset repo to oldest commit\n",
    "git reset --hard e620"
   ]
  },
  {
   "cell_type": "code",
   "execution_count": 18,
   "metadata": {
    "collapsed": false
   },
   "outputs": [
    {
     "name": "stdout",
     "output_type": "stream",
     "text": [
      "commit e620a153b02b0bbb0da422c8613a58224ffc2159\n",
      "Author: Fake Name <fake.email@domain.com>\n",
      "Date:   Tue Mar 14 19:42:07 2017 -0400\n",
      "\n",
      "    Initial commit. Added script.py and README.md\n"
     ]
    }
   ],
   "source": [
    "%%bash\n",
    "cd random_numbers/\n",
    "git log"
   ]
  },
  {
   "cell_type": "markdown",
   "metadata": {},
   "source": [
    "## 8:  Pulling From A Remote Repo\n",
    "\n",
    "Now that we've reverted our local chatbot repo to an older version, the remote repo actually has a newer commit that our local repo doesn't have. This often happens when other people make changes to a project's code, and then push those changes to a remote repo. Here's a diagram showing which commits exist in which locations:\n",
    "\n",
    "When the latest commit in our local repo is older than the latest commit in the remote repo, we can use git pull to update the current branch with the latest commits. The git pull command will also update our working directory so that it has the same files as the latest commit.\n",
    "\n",
    "In our case, we'll be updating the master branch, because the chatbot repo only has a single branch."
   ]
  },
  {
   "cell_type": "code",
   "execution_count": 20,
   "metadata": {
    "collapsed": false
   },
   "outputs": [],
   "source": [
    "%%bash\n",
    "cd random_numbers/\n",
    "#git pull"
   ]
  },
  {
   "cell_type": "markdown",
   "metadata": {},
   "source": [
    "## 9: Referring To The Most Recent Commit\n",
    "\n",
    "When using Git, we'll often want to refer to the most recent commit. While we can use the full commit hash, that approach can be cumbersome. Fortunately, Git has a special variable called HEAD that always refers to the most recent commit in the current branch.\n",
    "\n",
    "We can use the HEAD variable to switch to the most recent commit more easily. Let's say we modify a file and then want to undo our changes; using HEAD will revert the working directory to the state of the most recent commit.\n",
    "\n",
    "We can also use shortcuts to get older commit hashes. HEAD~1 will get the second newest commit in the local repo, HEAD~2 will get the third newest commit, and so on. Here's a diagram of a local repo where 646 is the newest hash on the master branch, and c12 is the oldest:\n",
    "\n",
    "We can use git rev-parse along with the HEAD variable to find the commit hash corresponding to a particular commit number. In the diagram above, git rev-parse HEAD will return 646, and git rev-parse HEAD~3 will return c53."
   ]
  },
  {
   "cell_type": "code",
   "execution_count": 23,
   "metadata": {
    "collapsed": false
   },
   "outputs": [
    {
     "name": "stdout",
     "output_type": "stream",
     "text": [
      "e620a153b02b0bbb0da422c8613a58224ffc2159\n"
     ]
    }
   ],
   "source": [
    "%%bash\n",
    "cd random_numbers/\n",
    "\n",
    "# reset to most recent commit\n",
    "git reset HEAD\n",
    "\n",
    "# return commit hash of most recent commit\n",
    "git rev-parse HEAD"
   ]
  }
 ],
 "metadata": {
  "kernelspec": {
   "display_name": "Python 3",
   "language": "python",
   "name": "python3"
  },
  "language_info": {
   "codemirror_mode": {
    "name": "ipython",
    "version": 3
   },
   "file_extension": ".py",
   "mimetype": "text/x-python",
   "name": "python",
   "nbconvert_exporter": "python",
   "pygments_lexer": "ipython3",
   "version": "3.6.0"
  }
 },
 "nbformat": 4,
 "nbformat_minor": 2
}
