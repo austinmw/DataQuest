{
 "cells": [
  {
   "cell_type": "markdown",
   "metadata": {},
   "source": [
    "(Omitting diagrams and tables, so this won't make a lot of sense to outside reader!)\n",
    "\n",
    "## 1: Introduction\n",
    "\n",
    "When we merge a branch into another one, our changes can sometimes conflict with other people's commits. Let's say that you're working on a project with another developer named Ninja Jane. You both edit the same file on your own branches, then Jane pushes her branch to the remote and merges it into master:\n",
    "\n",
    "This chain of events results in the following situation:\n",
    "\n",
    "At this point, the commit history for each branch looks like this:\n",
    "\n",
    "Because you and Jane branched off of master at the same time and you both made one commit, the histories for the two branches are almost identical. However, the latest commit for master and shuriken is 45g, and the latest commit for superbot is 782.\n",
    "\n",
    "When you try to merge superbot into master, Git will notice that 45g and 782 both come immediately after 67f, and both edit the same lines in the same files. Because both commits are based on 67f, they're equally valid, and this causes a merge conflict. Git can't overwrite the changes in master with the changes from superbot because it doesn't know which changes are the \"correct\" ones. Git is designed to preserve everyone's work, so it won't cause a loss of effort by intentionally overwriting one person's commit with another's.\n",
    "\n",
    "It's not possible for Git to just layer the commits on top of each other, because 782 and 45g both come immediately after commit 67f. If Git layered the changes on top of each other and applied commit 782 from superbot, Jane's changes in commit 45g would be overwritten and lost. If commit782insuperbotcame after commit45g` in the Git history instead, there would be no conflict.\n",
    "\n",
    "When Git can't merge commits automatically, it informs the user of a merge conflict and asks them to sort it out. Sorting out a merge conflict involves editing the code that conflicts to create the \"correct\" version. This way, the person who wrote the code is in charge of resolving the issue, and Git isn't intentionally overwriting anyone's changes."
   ]
  },
  {
   "cell_type": "markdown",
   "metadata": {},
   "source": [
    "### no point redoing these steps...\n",
    "\n",
    "Instructions:  \n",
    "Clone the repo chatbot from /dataquest/user/git/chatbot to /home/dq/chatbot.  \n",
    "Create a branch.  \n",
    "Create a branch called feature/king-bot in the repo chatbot.  \n",
    "Switch to the branch feature/king-bot.  \n",
    "Edit bot.py and add an appropriately kingly print statement at the end of the file.  \n",
    "Commit your changes.  \n",
    "Create another branch with conflicts.  \n",
    "Switch to the master branch.  \n",
    "Create a branch called feature/queen-bot in the repo chatbot.  \n",
    "Switch to the branch feature/queen-bot.  \n",
    "Edit bot.py and add an appropriately queenly print statement at the end at the end of the file.  \n",
    "Commit your changes.  \n",
    "Create a merge conflict.  \n",
    "Merge feature/king-bot into master.  \n",
    "Try merging feature/queen-bot into master.  \n",
    "At this point, you should trigger a conflict.  \n"
   ]
  },
  {
   "cell_type": "markdown",
   "metadata": {},
   "source": [
    "## 2: Aborting A Merge\n",
    "When a merge conflict occurs, Git adds markup lines to the problem files to identify where the conflicts are. These lines can prevent code from executing properly, because the Python interpreter doesn't understand them. It's important to resolve conflicts and remove the markup immediately for this reason.\n",
    "\n",
    "One way to resolve a conflict is to abort the merge altogether. We can do this with git merge --abort.\n",
    "\n",
    "We'd typically do an abort if we merged one branch into another by accident, or wanted to deal with large merge conflicts in another way. When we abort a merge, Git resets the working directory and Git history to the state they were in before we tried to merge."
   ]
  },
  {
   "cell_type": "code",
   "execution_count": 2,
   "metadata": {
    "collapsed": true
   },
   "outputs": [],
   "source": [
    "# git merge --abort"
   ]
  },
  {
   "cell_type": "markdown",
   "metadata": {},
   "source": [
    "## 3: Resolving Conflicts\n",
    "When a merge conflict occurs, Git will edit the problematic file to add markup indicating where the conflicts are. Here's the markup Git added to our bot.py file from the first screen, when we tried to merge feature/queen-bot into master:\n",
    "\n",
    "HEAD                                                                    \n",
    "print('I am the king')                                                          \n",
    "print('I am the queen)    \n",
    "feature/queen-bot\n",
    "\n",
    "This conflict markup indicates that the current branch (or HEAD branch) contains the line print('I am the king'), but the branch we're trying to merge, feature/queen-bot, contains the line print('I am the queen'). Because the last commit in each branch is exclusive to that branch, Git can't automatically determine which line is the most recent edit. This means we have to manually edit the file to remove the lines that Git added, and leave only the code we want.\n",
    "\n",
    "Here's how we might edit the bot.py file to address the conflict:\n",
    "\n",
    "\n",
    "print('I am the queen')  \n",
    "We removed all of the Git confict markup and the alternate code so that only the version we want, print('I am the queen), remains. After doing this for each section of conflict markup (if there are multiple conflicts), we would then commit the file, which would resolve the merge.\n",
    "\n",
    "Instructions:  \n",
    "Swich to the master branch of the chatbot repo.  \n",
    "Merge feature/queen-bot into master.  \n",
    "Fix the merge markup so the lines from feature/queen-bot are the ones Git retains.  \n",
    "Add the changes to the staging area and merge them with the commit message Fixed conflicts.  \n",
    "Push master to the remote.  "
   ]
  },
  {
   "cell_type": "markdown",
   "metadata": {},
   "source": [
    "## 4: Resolving Multi-Line Conflicts\n",
    "In the previous example, only one line conflicted. When we're working with larger teams and bigger features, however, it's possible to have a conflict across multiple lines.\n",
    "\n",
    "Let's say bot.py in the master branch contains the following code:\n",
    "\n",
    "When Git detects a multi-line conflict, it places the entire block into a single merge conflict. This makes it much easier to handle large conflicts, like ones that involve entire functions. The process for addressing them is the same as what we did before; we just need to remove the markup and any conflicting lines we don't want to keep.\n",
    "\n",
    "Instructions: \n",
    "Switch into the /home/dq/chatbot repo.  \n",
    "Switch to the master branch.  \n",
    "Create a branch that randomly prints statements.  \n",
    "Create a branch called feature/random-printing in the repo chatbot.  \n",
    "Switch to the branch feature/random-printing.  \n",
    "Edit bot.py to add a block that prints one of three random messages at the end.  \n",
    "Commit your changes.  \n",
    "Create another branch with conflicts.  \n",
    "Switch to the master branch.  \n",
    "Create a branch called feature/dice-roller in the repo chatbot.  \n",
    "Switch to the branch feature/dice-roller.  \n",
    "Edit bot.py to add a block that generates and displays two random numbers at the end.  \n",
    "Commit your changes.  \n",
    "Create a merge conflict.  \n",
    "Merge feature/random-printing into master.  \n",
    "Try merging feature/dice-roller into master.  \n",
    "At this point, you should trigger a conflict.  \n",
    "Resolve the merge conflict.  \n",
    "Resolve the conflict by editing bot.py.  \n",
    "Remove the merge conflict markup.  \n",
    "Keep whatever lines of code you'd like.  \n",
    "Commit bot.py with the message Resolved multi-line conflict.  \n",
    "Push the master branch of chatbot to the remote repo.  "
   ]
  },
  {
   "cell_type": "markdown",
   "metadata": {},
   "source": [
    "## 5: Resolving Multiple Conflicts\n",
    "With larger teams, it's possible to have multiple merge conflicts. That can mean several conflicts within a single file, or individual conflicts spread out across different files. When working on large projects involving many files, it's common for a single branch to alter dozens of files. When this happens, you may face merge conflicts that are tricky to resolve.\n",
    "\n",
    "Although we won't be using them here, this is where Git's graphical merge tools can be helpful. To use them, we'd need to run the git mergetool command, along with the --tool option flag to specify which graphical tool to use. We can pull up a full list of available tools by running git mergetool --tool-help.\n",
    "\n",
    "A graphical merge tool will show us the branches side by side and highlight the differences visually, like this:\n",
    "\n",
    "This particular tool displays the HEAD branch on the right and calls it the REMOTE branch. It displays the branch we're merging on the left and calls it the LOCAL branch. The final version is in the center. We need to edit the center version to get the result we want, then save it.\n",
    "\n",
    "In the absence of a graphical tool, it's still possible to sort through multiple merge conflicts -- it's just a bit more work. That's because we have to remove all of the merge conflict markup for each individual conflict manually."
   ]
  },
  {
   "cell_type": "markdown",
   "metadata": {},
   "source": [
    "Instructions:   \n",
    "Switch into the /home/dq/chatbot repo.  \n",
    "Switch to the master branch.  \n",
    "Create a branch that inserts print statements into bot.py.  \n",
    "Create a branch called feature/more-printing in the repo chatbot.  \n",
    "Switch to the branch feature/more-printing.  \n",
    "Edit bot.py and add multiple lines that print some text (whatever you'd like).  \n",
    "Commit your changes.  \n",
    "Create another branch that inserts print statements into bot.py.  \n",
    "Switch to the master branch.  \n",
    "Create a branch called feature/more-printing-2 in the repo chatbot.  \n",
    "Switch to the branch feature/more-printing-2.  \n",
    "Edit bot.py and add different print statements to the same lines you edited in feature/more-printing.  \n",
    "Commit your changes.  \n",
    "Create a merge conflict.  \n",
    "Merge feature/more-printing into master.  \n",
    "Try merging feature/more-printing-2 into master.  \n",
    "At this point, you should trigger multiple conflicts.  \n",
    "Resolve the merge conflict.\n",
    "Resolve the conflicts by editing bot.py and keeping the lines you want.  \n",
    "Commit bot.py with the message Resolved multiple conflicts.  \n",
    "Push the master branch of chatbot to the remote repo.  "
   ]
  },
  {
   "cell_type": "markdown",
   "metadata": {},
   "source": [
    "## 6: Accepting Changes From Only One Branch\n",
    "With some merges, we know that one branch has the \"correct\" changes, and want to ignore the other branch. We can keep files from one of the conflicting branches only by using git checkout with the --ours and --theirs options when we run into a merge conflict.\n",
    "\n",
    "For example, if we were trying to merge files from feature/queen-bot into master, we could use git checkout --ours . to only keep the files from master, and git checkout --theirs . to only keep files from feature/queen-bot. In general, --ours will keep files from the current branch, and --theirs will keep files from the branch we're merging in.\n",
    "\n",
    "Note that in these examples we used . at the end of each of these commands, which acts as a wildcard that means all files (similar to the command git add . ). You can also perform this on a file by file basis by using git checkout --ours [filename].\n",
    "\n",
    "After running git checkout, we'll need to commit the files to complete the merge.\n",
    "\n",
    "Instructions: \n",
    "Switch into the /home/dq/chatbot repo.  \n",
    "Switch to the master branch.  \n",
    "Create a branch.  \n",
    "Create a branch called feature/remove-bot in the repo chatbot.  \n",
    "Switch to the branch feature/remove-bot.  \n",
    "Delete bot.py.  \n",
    "Stage the deleted file using the command git rm bot.py.  \n",
    "Commit your changes with the commit message Remove bot.  \n",
    "Create another branch with conflicts.  \n",
    "Switch to the master branch.  \n",
    "Create a branch called feature/keep-bot in the repo chatbot.  \n",
    "Switch to the branch feature/keep-bot.  \n",
    "Edit bot.py and add a print statement to the end of the file.  \n",
    "Commit your changes with the message Keeping bot.py.\n",
    "Create a merge conflict.  \n",
    "Merge feature/remove-bot into master.  \n",
    "Try merging feature/keep-bot into master.  \n",
    "At this point, you should trigger a conflict.  \n",
    "Keep only the files from feature/keep-bot.  \n",
    "Finish the merge by committing with the message Keeping bot.py.  \n",
    "Push the branch master to the remote.  "
   ]
  },
  {
   "cell_type": "code",
   "execution_count": 3,
   "metadata": {
    "collapsed": true
   },
   "outputs": [],
   "source": [
    "# git checkout --theirs .\n",
    "# git checkout --ours ."
   ]
  },
  {
   "cell_type": "markdown",
   "metadata": {},
   "source": [
    "## 7: Ignoring Files\n",
    "\n",
    "### examples: .DS_Store, .pyc\n",
    "\n",
    "There are some files that change very often, and aren't particularly useful to a project. One example is the .DS_Store file OS X puts in directories. Another is the .pyc files that Python produces when it compiles source files. Neither of these are necessary for the project to work properly, but because they change rapidly, they can create merge conflicts and other problems.\n",
    "\n",
    "The best way to handle these types of files is to tell Git to ignore them. That means Git won't add them to commits or track them, so we won't have to deal with merge conflicts and other issues they may cause.\n",
    "\n",
    "To do this, we create a file called .gitignore. Then, we add lines to it indicating which files Git should ignore when adding to the staging area and committing. These lines accept wildcard characters, so we can ignore all files that have a certain extension in a single line.\n",
    "\n",
    "For example, the following lines in .gitignore instruct Git to ignore all files called .DS_Store, and all files ending with .pyc:\n",
    "  \n",
    ".DS_Store  \n",
    "*.pyc  \n",
    "  \n",
    "Once we've included those lines, Git won't add new files named .DS_Store or that end in .pyc to the staging area. It also won't commit them in future commits. It will still track changes to existing files it's already added to a commit, however, and also continue adding them to new commits.\n",
    "\n",
    "You can find default .gitignore configurations for several popular languages in [this GitHub repo](https://github.com/github/gitignore).\n",
    "\n",
    "Instructions:   \n",
    "Switch into the /home/dq/chatbot repo.  \n",
    "Switch to the master branch.  \n",
    "Create a file called .gitignore.  \n",
    "Add the following lines to .gitignore:  \n",
    ".DS_Store  \n",
    "*.pyc  \n",
    "Commit the changes with the message Added gitignore.  \n",
    "Push the master branch to the remote.  "
   ]
  },
  {
   "cell_type": "code",
   "execution_count": 4,
   "metadata": {
    "collapsed": true
   },
   "outputs": [],
   "source": [
    "# printf \".DS_Store\\n*.pyc\" > .gitignore"
   ]
  },
  {
   "cell_type": "markdown",
   "metadata": {},
   "source": [
    "## 8: Removing Cached Files\n",
    "As we mentioned on the previous screen, adding files to .gitignore doesn't remove any files that have already been added to a Git commit. Git will still track changes to these files, and add them to future commits. This can be frustrating, especially when those files cause merge conflicts that require a lot of effort to resolve.\n",
    "\n",
    "Removing files from the Git cache can be helpful in these situations. This will prevent Git from tracking changes to those files, and adding them to future commits.\n",
    "\n",
    "We can remove files from the Git cache with the git rm command and the --cached flag. For example, the command below will remove any file called .DS_Store from the Git cache, and prevent Git from tracking it:\n",
    "\n",
    "\n",
    "git rm --cached .DS_Store  \n",
    "This will remove any files called .DS_Store from our Git repo, but not from our working directory. The files will still exist on the computer, but will be invisible to Git for version tracking purposes."
   ]
  },
  {
   "cell_type": "code",
   "execution_count": 5,
   "metadata": {
    "collapsed": true
   },
   "outputs": [],
   "source": [
    "# git rm --cached .DS_Store  "
   ]
  }
 ],
 "metadata": {
  "kernelspec": {
   "display_name": "Python 3",
   "language": "python",
   "name": "python3"
  },
  "language_info": {
   "codemirror_mode": {
    "name": "ipython",
    "version": 3
   },
   "file_extension": ".py",
   "mimetype": "text/x-python",
   "name": "python",
   "nbconvert_exporter": "python",
   "pygments_lexer": "ipython3",
   "version": "3.6.0"
  }
 },
 "nbformat": 4,
 "nbformat_minor": 2
}
