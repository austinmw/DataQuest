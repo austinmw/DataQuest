{
 "cells": [
  {
   "cell_type": "markdown",
   "metadata": {},
   "source": [
    "## 1: Version Control Systems\n",
    "\n",
    "When you're working with teams, you'll generally be making changes to the same files. Imagine you're working on a project to make a Python script, and have a folder with the following two files:\n",
    "\n",
    "    script.py\n",
    "    README.md\n",
    "\n",
    "Here are the contents of script.py:\n",
    "\n",
    "    if __name__ == \"__main__\":\n",
    "        print(\"Welcome to a script!\")\n",
    "    \n",
    "Imagine that you and a coworker are both working on the project at the same time. You modify script.py like this:\n",
    "\n",
    "    if __name__ == \"__main__\":\n",
    "        print(\"Welcome to a script!\")\n",
    "        print(\"Here's my amazing contribution to this project!\")\n",
    "    \n",
    "And your coworker does this:\n",
    "\n",
    "    import math\n",
    "    print(10 + 10)\n",
    "    if __name__ == \"__main__\":\n",
    "        print(\"Welcome to a script!\")\n",
    "    \n",
    "Imagine you both have the folder on your local machine. To modify files, you make changes, then upload the entire folder to a centralized location, like Dropbox or Google Drive, to enable collaboration. If you didn't have a distributed version control system, whoever changed the file last will overwrite the changes of the other person. This gets extremely frustrating and impossible to manage as you start dealing with larger and larger chunks of code. What if the folder had 100 files, and you modified 10, and your coworker modified 30 at the same time? You don't want to lose your changes every time your coworker uploads his version of the folder. Now, imagine that instead of just you and a coworker, it's a project with 10 or 100 contributors.\n",
    "\n",
    "Companies face this problem every day, which is why distributed version control systems exist. With a distributed version control system, software will \"merge\" changes together intelligently, and enable multiple developers to work on a project at the same time.\n",
    "\n",
    "Going back to the script.py file, if we intelligently merged the two versions, it would end up looking like this:\n",
    "\n",
    "    import math\n",
    "    print(10 + 10)\n",
    "    if __name__ == \"__main__\":\n",
    "        print(\"Welcome to a script!\")\n",
    "        print(\"Here's my amazing contribution to this project!\")\n",
    "    \n",
    "There are a few distributed version control systems, including Mercurial, and Subversion. However, Git is by far the most popular.\n",
    "\n",
    "Git is a command line tool that we can access by typing git in the shell. The first step in using Git is to initialize a folder as a repository. A repository tracks multiple versions of the files in the folder, and enables collaboration.\n",
    "\n",
    "You can initialize a repository by typing git init inside the folder you want to initialize as a repository."
   ]
  },
  {
   "cell_type": "code",
   "execution_count": 1,
   "metadata": {
    "collapsed": false
   },
   "outputs": [
    {
     "name": "stdout",
     "output_type": "stream",
     "text": [
      "Initialized empty Git repository in /Users/austin/OneDrive/Code/data_sci/dataquest/3_The_Command_Line/Git_And_Version_Control/random_numbers/.git/\n"
     ]
    }
   ],
   "source": [
    "%%bash\n",
    "# create new directory\n",
    "mkdir random_numbers\n",
    "cd random_numbers\n",
    "\n",
    "# initialize as git directory\n",
    "git init"
   ]
  },
  {
   "cell_type": "markdown",
   "metadata": {},
   "source": [
    "## 2: The .Git Folder\n",
    "\n",
    "Initializing a Git repository will create a folder called .git inside the repository folder. There should now be a folder called .git inside our random_numbers folder. Typically, when folders and files are prefixed with a period (.), it means that they are private, and they don't show up by default when you list the files in the folder.\n",
    "\n",
    "Let's verify that it's there with ls -al. As you may recall, the -a flag will show everything in a folder, even if it starts with .."
   ]
  },
  {
   "cell_type": "code",
   "execution_count": 2,
   "metadata": {
    "collapsed": false
   },
   "outputs": [
    {
     "name": "stdout",
     "output_type": "stream",
     "text": [
      "total 0\n",
      "drwxr-xr-x  3 austin  staff  102 Mar 14 19:20 .\n",
      "drwxr-xr-x  5 austin  staff  170 Mar 14 19:20 ..\n",
      "drwxr-xr-x  9 austin  staff  306 Mar 14 19:20 .git\n"
     ]
    }
   ],
   "source": [
    "%%bash\n",
    "cd random_numbers/\n",
    "\n",
    "# show that .git directory has been created\n",
    "ls -al"
   ]
  },
  {
   "cell_type": "markdown",
   "metadata": {},
   "source": [
    "## 3: Creating Some Files\n",
    "\n",
    "Git works on the principle of adding files, making changes, then storing a checkpoint of those changes. These checkpoints are called commits.\n",
    "\n",
    "Instead of storing every file in every commit, Git stores the diff, or the difference between the file in one commit and the next commit.\n",
    "\n",
    "For example, if you created a file called README.md with this content:\n",
    "\n",
    "    Welcome to my readme!\n",
    "\n",
    "Then made a commit with it, Git would store the file. Let's say you later added another line to the file and made another commit:\n",
    "\n",
    "    Welcome to my readme!\n",
    "    Here's another line.\n",
    "\n",
    "Git would only store the difference between the file in the two commits, which is Here's another line.. Every project is a sequence of commits. Commits give us a powerful way to merge changes together from others, and to rewind time and reset to an earlier state of the repository.\n",
    "\n",
    "Before we make a commit, let's add some files to our folder."
   ]
  },
  {
   "cell_type": "code",
   "execution_count": 6,
   "metadata": {
    "collapsed": false
   },
   "outputs": [
    {
     "name": "stdout",
     "output_type": "stream",
     "text": [
      "README.md\n",
      "Randon number generator\n"
     ]
    }
   ],
   "source": [
    "%%bash\n",
    "cd random_numbers/\n",
    "\n",
    "# create README file\n",
    "echo \"Randon number generator\" > README.md\n",
    "ls\n",
    "cat README.md"
   ]
  },
  {
   "cell_type": "code",
   "execution_count": 8,
   "metadata": {
    "collapsed": false
   },
   "outputs": [
    {
     "name": "stdout",
     "output_type": "stream",
     "text": [
      "if __name__ == \"__main__\":\n",
      "\tprint(\"10\")\n"
     ]
    }
   ],
   "source": [
    "%%bash\n",
    "cd random_numbers/\n",
    "\n",
    "# create file script.py\n",
    "echo -e \"if __name__ == \\\"__main__\\\":\\n\\tprint(\\\"10\\\")\" > script.py\n",
    "cat script.py"
   ]
  },
  {
   "cell_type": "markdown",
   "metadata": {},
   "source": [
    "## 4: Git Status\n",
    "\n",
    "Files can have 3 states in Git:\n",
    "\n",
    "- committed -- the current version of the file has been added to a commit, and is stored by git.\n",
    "- staged -- the file is currently staged for the next commit, but isn't yet stored by git.\n",
    "- modified -- the file has been modified since the last commit, but isn't staged yet.\n",
    "\n",
    "After we make any changes to a Git repository, we can run git status to see which state each file in the repository is in. Any files that don't show up in git status are in the committed state.\n",
    "\n",
    "Git will automatically show us which files have been modified since the last commit. If we're ready to commit the modified files, we can add them to the staging area using git add. Typing git add script.py will add script.py to the staging area, where it will be staged for the next commit."
   ]
  },
  {
   "cell_type": "code",
   "execution_count": 16,
   "metadata": {
    "collapsed": false
   },
   "outputs": [
    {
     "name": "stdout",
     "output_type": "stream",
     "text": [
      "On branch master\n",
      "\n",
      "Initial commit\n",
      "\n",
      "Untracked files:\n",
      "  (use \"git add <file>...\" to include in what will be committed)\n",
      "\n",
      "\tREADME.md\n",
      "\tscript.py\n",
      "\n",
      "nothing added to commit but untracked files present (use \"git add\" to track)\n"
     ]
    }
   ],
   "source": [
    "%%bash\n",
    "cd random_numbers/\n",
    "\n",
    "# check status of the repo (already commited files don't show up)\n",
    "git status"
   ]
  },
  {
   "cell_type": "code",
   "execution_count": 18,
   "metadata": {
    "collapsed": false
   },
   "outputs": [],
   "source": [
    "%%bash\n",
    "cd random_numbers/\n",
    "\n",
    "# stage files for commit\n",
    "git add script.py README.md    # to unstage files: git reset <file>"
   ]
  },
  {
   "cell_type": "markdown",
   "metadata": {},
   "source": [
    "## 5: Configuring Git\n",
    "\n",
    "Before we can make our first commit, we need to tell Git who we are so it can store that information along with the commit. This ensures that different team members can tell who made which commit.\n",
    "\n",
    "We can do this by running git config. This only needs to be run once per computer, as Git saves your details.\n",
    "\n",
    "Git needs two pieces of information about you -- your email and your name. You can configure your email with:\n",
    "\n",
    "    git config --global user.email \"your.email@domain.com\"\n",
    "\n",
    "You can configure your name with:\n",
    "\n",
    "    git config --global user.name \"Your name\""
   ]
  },
  {
   "cell_type": "code",
   "execution_count": 19,
   "metadata": {
    "collapsed": true
   },
   "outputs": [],
   "source": [
    "%%bash\n",
    "cd random_numbers/\n",
    "\n",
    "# configure email\n",
    "git config --global user.email \"fake.email@domain.com\"\n",
    "# configure name\n",
    "git config --global user.name \"Fake Name\""
   ]
  },
  {
   "cell_type": "markdown",
   "metadata": {},
   "source": [
    "## 6: Committing\n",
    "\n",
    "Now that we have files that are staged, we can make our first commit. A commit is a way to store a snapshot of the files in the folder at a certain point in time. By building a history of these snapshots, we can easily rewind to an earlier point in time, or merge someone else's changes to files with ours.\n",
    "\n",
    "To make a commit, just use git commit -m \"Commit message here\". It's customary to make the commit message something informative, so if you do have to rewind or merge code, it's obvious what changes were made when."
   ]
  },
  {
   "cell_type": "code",
   "execution_count": 20,
   "metadata": {
    "collapsed": false
   },
   "outputs": [
    {
     "name": "stdout",
     "output_type": "stream",
     "text": [
      "[master (root-commit) e620a15] Initial commit. Added script.py and README.md\n",
      " 2 files changed, 3 insertions(+)\n",
      " create mode 100644 README.md\n",
      " create mode 100644 script.py\n"
     ]
    }
   ],
   "source": [
    "%%bash\n",
    "cd random_numbers/\n",
    "\n",
    "# make commit\n",
    "git commit -m \"Initial commit. Added script.py and README.md\""
   ]
  },
  {
   "cell_type": "markdown",
   "metadata": {},
   "source": [
    "## 7: File Differences\n",
    "\n",
    "Let's modify our files and make another commit to see how the process works. Before files are placed in the staging area, you can use **git diff** to see the line differences between the current versions of files in the folder, and the versions in the last commit. You can scroll up and down with the arrow keys, and exit git diff with the q key. If you want to see the differences after files are staged, you can use **git diff --staged**."
   ]
  },
  {
   "cell_type": "code",
   "execution_count": 27,
   "metadata": {
    "collapsed": false
   },
   "outputs": [
    {
     "name": "stdout",
     "output_type": "stream",
     "text": [
      "10\n"
     ]
    }
   ],
   "source": [
    "# %load random_numbers/script.py\n",
    "if __name__ == \"__main__\":\n",
    "\tprint(\"10\")"
   ]
  },
  {
   "cell_type": "code",
   "execution_count": 30,
   "metadata": {
    "collapsed": false
   },
   "outputs": [
    {
     "name": "stdout",
     "output_type": "stream",
     "text": [
      "Overwriting random_numbers/script.py\n"
     ]
    }
   ],
   "source": [
    "%%writefile random_numbers/script.py\n",
    "\n",
    "# change script to random number generator\n",
    "if __name__ == \"__main__\":\n",
    "\timport numpy as np\n",
    "    print(np.random.randint(10))"
   ]
  },
  {
   "cell_type": "code",
   "execution_count": 33,
   "metadata": {
    "collapsed": false
   },
   "outputs": [
    {
     "name": "stdout",
     "output_type": "stream",
     "text": [
      "diff --git a/script.py b/script.py\n",
      "index ca99880..c8aae0d 100644\n",
      "--- a/script.py\n",
      "+++ b/script.py\n",
      "@@ -1,2 +1,5 @@\n",
      "+\n",
      "+# change script to random number generator\n",
      " if __name__ == \"__main__\":\n",
      "-\tprint(\"10\")\n",
      "+\timport numpy as np\n",
      "+    print(np.random.randint(10))\n",
      "\\ No newline at end of file\n",
      "\n",
      "On branch master\n",
      "Changes not staged for commit:\n",
      "  (use \"git add <file>...\" to update what will be committed)\n",
      "  (use \"git checkout -- <file>...\" to discard changes in working directory)\n",
      "\n",
      "\tmodified:   script.py\n",
      "\n",
      "no changes added to commit (use \"git add\" and/or \"git commit -a\")\n"
     ]
    }
   ],
   "source": [
    "%%bash\n",
    "cd random_numbers/\n",
    "\n",
    "# check difference between last commit\n",
    "git diff\n",
    "\n",
    "echo\n",
    "# check status\n",
    "git status"
   ]
  },
  {
   "cell_type": "markdown",
   "metadata": {},
   "source": [
    "## 8: Making A Second Commit\n",
    "\n",
    "Now that we have a modified file, we can add the changes to the staging area using git add script.py, and then commit them using git commit."
   ]
  },
  {
   "cell_type": "code",
   "execution_count": 34,
   "metadata": {
    "collapsed": false
   },
   "outputs": [
    {
     "name": "stdout",
     "output_type": "stream",
     "text": [
      "[master 33391c4] second commit\n",
      " 1 file changed, 4 insertions(+), 1 deletion(-)\n"
     ]
    }
   ],
   "source": [
    "%%bash\n",
    "cd random_numbers/\n",
    "\n",
    "# restage and commit\n",
    "git add script.py\n",
    "git commit script.py -m \"second commit\""
   ]
  },
  {
   "cell_type": "markdown",
   "metadata": {},
   "source": [
    "## 9: Looking At The Commit History\n",
    "\n",
    "You can look at the commit history of a repository using the git log command. This will show you a list of all the commits to the repository, in descending order of creation date. If the output is very long, it will allow you to scroll. You can scroll the log with the up and down arrows, and use the q key to exit."
   ]
  },
  {
   "cell_type": "code",
   "execution_count": 35,
   "metadata": {
    "collapsed": false
   },
   "outputs": [
    {
     "name": "stdout",
     "output_type": "stream",
     "text": [
      "commit 33391c4179d3f17c2195538f2c6c313ff2fd106a\n",
      "Author: Fake Name <fake.email@domain.com>\n",
      "Date:   Tue Mar 14 19:53:00 2017 -0400\n",
      "\n",
      "    second commit\n",
      "\n",
      "commit e620a153b02b0bbb0da422c8613a58224ffc2159\n",
      "Author: Fake Name <fake.email@domain.com>\n",
      "Date:   Tue Mar 14 19:42:07 2017 -0400\n",
      "\n",
      "    Initial commit. Added script.py and README.md\n"
     ]
    }
   ],
   "source": [
    "%%bash\n",
    "cd random_numbers/\n",
    "\n",
    "# check commit history\n",
    "git log"
   ]
  },
  {
   "cell_type": "markdown",
   "metadata": {},
   "source": [
    "## 10: Seeing Commit Differences\n",
    "\n",
    "You can use git log --stat to see more details about the commits in the git log output."
   ]
  },
  {
   "cell_type": "code",
   "execution_count": 36,
   "metadata": {
    "collapsed": false
   },
   "outputs": [
    {
     "name": "stdout",
     "output_type": "stream",
     "text": [
      "commit 33391c4179d3f17c2195538f2c6c313ff2fd106a\n",
      "Author: Fake Name <fake.email@domain.com>\n",
      "Date:   Tue Mar 14 19:53:00 2017 -0400\n",
      "\n",
      "    second commit\n",
      "\n",
      " script.py | 5 ++++-\n",
      " 1 file changed, 4 insertions(+), 1 deletion(-)\n",
      "\n",
      "commit e620a153b02b0bbb0da422c8613a58224ffc2159\n",
      "Author: Fake Name <fake.email@domain.com>\n",
      "Date:   Tue Mar 14 19:42:07 2017 -0400\n",
      "\n",
      "    Initial commit. Added script.py and README.md\n",
      "\n",
      " README.md | 1 +\n",
      " script.py | 2 ++\n",
      " 2 files changed, 3 insertions(+)\n"
     ]
    }
   ],
   "source": [
    "%%bash\n",
    "cd random_numbers/\n",
    "\n",
    "# details about commits\n",
    "git log --stat"
   ]
  }
 ],
 "metadata": {
  "kernelspec": {
   "display_name": "Python [conda root]",
   "language": "python",
   "name": "conda-root-py"
  },
  "language_info": {
   "codemirror_mode": {
    "name": "ipython",
    "version": 3
   },
   "file_extension": ".py",
   "mimetype": "text/x-python",
   "name": "python",
   "nbconvert_exporter": "python",
   "pygments_lexer": "ipython3",
   "version": "3.5.2"
  }
 },
 "nbformat": 4,
 "nbformat_minor": 2
}
