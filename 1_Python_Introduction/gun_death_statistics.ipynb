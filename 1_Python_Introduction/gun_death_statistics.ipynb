{
 "cells": [
  {
   "cell_type": "code",
   "execution_count": 2,
   "metadata": {
    "collapsed": false
   },
   "outputs": [
    {
     "name": "stdout",
     "output_type": "stream",
     "text": [
      "[['', 'year', 'month', 'intent', 'police', 'sex', 'age', 'race', 'hispanic', 'place', 'education'], ['1', '2012', '01', 'Suicide', '0', 'M', '34', 'Asian/Pacific Islander', '100', 'Home', '4'], ['2', '2012', '01', 'Suicide', '0', 'F', '21', 'White', '100', 'Street', '3'], ['3', '2012', '01', 'Suicide', '0', 'M', '60', 'White', '100', 'Other specified', '4'], ['4', '2012', '02', 'Suicide', '0', 'M', '64', 'White', '100', 'Home', '4']] \n",
      "\n"
     ]
    }
   ],
   "source": [
    "import csv\n",
    "f = open(\"guns.csv\", 'r')\n",
    "csvreader = csv.reader(f)\n",
    "data = list(csvreader)\n",
    "print(data[:5], '\\n')"
   ]
  },
  {
   "cell_type": "code",
   "execution_count": 2,
   "metadata": {
    "collapsed": false
   },
   "outputs": [
    {
     "name": "stdout",
     "output_type": "stream",
     "text": [
      "['', 'year', 'month', 'intent', 'police', 'sex', 'age', 'race', 'hispanic', 'place', 'education'] \n",
      "\n",
      "\n",
      "[['1', '2012', '01', 'Suicide', '0', 'M', '34', 'Asian/Pacific Islander', '100', 'Home', '4'], ['2', '2012', '01', 'Suicide', '0', 'F', '21', 'White', '100', 'Street', '3'], ['3', '2012', '01', 'Suicide', '0', 'M', '60', 'White', '100', 'Other specified', '4'], ['4', '2012', '02', 'Suicide', '0', 'M', '64', 'White', '100', 'Home', '4'], ['5', '2012', '02', 'Suicide', '0', 'M', '31', 'White', '100', 'Other specified', '2']] \n",
      "\n",
      "\n"
     ]
    }
   ],
   "source": [
    "# extract header\n",
    "headers = data[0]\n",
    "data = data[1:]\n",
    "print(headers,'\\n\\n')\n",
    "print(data[:5], '\\n\\n')"
   ]
  },
  {
   "cell_type": "code",
   "execution_count": 3,
   "metadata": {
    "collapsed": false
   },
   "outputs": [
    {
     "name": "stdout",
     "output_type": "stream",
     "text": [
      "{'2014': 33599, '2012': 33563, '2013': 33636} \n",
      "\n",
      "\n"
     ]
    }
   ],
   "source": [
    "# count years\n",
    "years = [row[1] for row in data]\n",
    "year_counts = {}\n",
    "for y in years:\n",
    "\tif y not in year_counts:\n",
    "\t\tyear_counts[y] = 1\n",
    "\telse:\n",
    "\t\tyear_counts[y] += 1\n",
    "print(year_counts, '\\n\\n')"
   ]
  },
  {
   "cell_type": "code",
   "execution_count": 4,
   "metadata": {
    "collapsed": false
   },
   "outputs": [
    {
     "name": "stdout",
     "output_type": "stream",
     "text": [
      "[datetime.datetime(2012, 1, 1, 0, 0), datetime.datetime(2012, 1, 1, 0, 0), datetime.datetime(2012, 1, 1, 0, 0), datetime.datetime(2012, 2, 1, 0, 0), datetime.datetime(2012, 2, 1, 0, 0)]\n"
     ]
    }
   ],
   "source": [
    "# create datetime.datetime object with dates\n",
    "import datetime \n",
    "dates = [datetime.datetime(year=int(row[1]), month=int(row[2]), day=1) for row in data]\n",
    "print(dates[:5])"
   ]
  },
  {
   "cell_type": "code",
   "execution_count": 5,
   "metadata": {
    "collapsed": false
   },
   "outputs": [
    {
     "name": "stdout",
     "output_type": "stream",
     "text": [
      "{datetime.datetime(2012, 3, 1, 0, 0): 2743, datetime.datetime(2013, 7, 1, 0, 0): 3079, datetime.datetime(2014, 6, 1, 0, 0): 2931, datetime.datetime(2012, 11, 1, 0, 0): 2729, datetime.datetime(2013, 12, 1, 0, 0): 2765, datetime.datetime(2013, 8, 1, 0, 0): 2859, datetime.datetime(2014, 9, 1, 0, 0): 2914, datetime.datetime(2014, 5, 1, 0, 0): 2864, datetime.datetime(2013, 9, 1, 0, 0): 2742, datetime.datetime(2013, 6, 1, 0, 0): 2920, datetime.datetime(2012, 10, 1, 0, 0): 2733, datetime.datetime(2014, 10, 1, 0, 0): 2865, datetime.datetime(2013, 5, 1, 0, 0): 2806, datetime.datetime(2013, 10, 1, 0, 0): 2808, datetime.datetime(2013, 3, 1, 0, 0): 2862, datetime.datetime(2014, 11, 1, 0, 0): 2756, datetime.datetime(2012, 7, 1, 0, 0): 3026, datetime.datetime(2014, 12, 1, 0, 0): 2857, datetime.datetime(2013, 2, 1, 0, 0): 2375, datetime.datetime(2012, 2, 1, 0, 0): 2357, datetime.datetime(2014, 3, 1, 0, 0): 2684, datetime.datetime(2014, 1, 1, 0, 0): 2651, datetime.datetime(2012, 6, 1, 0, 0): 2826, datetime.datetime(2012, 4, 1, 0, 0): 2795, datetime.datetime(2012, 12, 1, 0, 0): 2791, datetime.datetime(2014, 7, 1, 0, 0): 2884, datetime.datetime(2014, 2, 1, 0, 0): 2361, datetime.datetime(2014, 4, 1, 0, 0): 2862, datetime.datetime(2013, 11, 1, 0, 0): 2758, datetime.datetime(2012, 5, 1, 0, 0): 2999, datetime.datetime(2013, 1, 1, 0, 0): 2864, datetime.datetime(2012, 9, 1, 0, 0): 2852, datetime.datetime(2012, 8, 1, 0, 0): 2954, datetime.datetime(2013, 4, 1, 0, 0): 2798, datetime.datetime(2014, 8, 1, 0, 0): 2970, datetime.datetime(2012, 1, 1, 0, 0): 2758} \n",
      "\n",
      "\n"
     ]
    }
   ],
   "source": [
    "# count up how many times each unique date occurs\n",
    "date_counts = {}\n",
    "for d in dates:\n",
    "\tif d in date_counts:\n",
    "\t\tdate_counts[d] += 1\n",
    "\telse:\n",
    "\t\tdate_counts[d] = 1\n",
    "print(date_counts, '\\n\\n')"
   ]
  },
  {
   "cell_type": "code",
   "execution_count": 6,
   "metadata": {
    "collapsed": false
   },
   "outputs": [
    {
     "name": "stdout",
     "output_type": "stream",
     "text": [
      "{'Asian/Pacific Islander': 1326, 'Native American/Native Alaskan': 917, 'Black': 23296, 'White': 66237, 'Hispanic': 9022} \n",
      "\n",
      " {'M': 86349, 'F': 14449} \n",
      "\n",
      "\n"
     ]
    }
   ],
   "source": [
    "# gender and race counts\n",
    "sexes = [row[5] for row in data]\n",
    "races = [row[7] for row in data]\n",
    "sex_counts = {}\n",
    "race_counts = {}\n",
    "for s in sexes:\n",
    "\tif s in sex_counts:\n",
    "\t\tsex_counts[s] += 1\n",
    "\telse:\n",
    "\t\tsex_counts[s] = 1\n",
    "for r in races:\n",
    "\tif r in race_counts:\n",
    "\t\trace_counts[r] += 1\n",
    "\telse:\n",
    "\t\trace_counts[r] = 1\n",
    "print(race_counts, '\\n\\n', sex_counts, '\\n\\n')\n"
   ]
  },
  {
   "cell_type": "code",
   "execution_count": 7,
   "metadata": {
    "collapsed": false
   },
   "outputs": [
    {
     "name": "stdout",
     "output_type": "stream",
     "text": [
      "[['Id', 'Year', 'Id', 'Sex', 'Id', 'Hispanic Origin', 'Id', 'Id2', 'Geography', 'Total', 'Race Alone - White', 'Race Alone - Hispanic', 'Race Alone - Black or African American', 'Race Alone - American Indian and Alaska Native', 'Race Alone - Asian', 'Race Alone - Native Hawaiian and Other Pacific Islander', 'Two or More Races'], ['cen42010', 'April 1, 2010 Census', 'totsex', 'Both Sexes', 'tothisp', 'Total', '0100000US', '', 'United States', '308745538', '197318956', '44618105', '40250635', '3739506', '15159516', '674625', '6984195']] \n",
      "\n",
      "\n"
     ]
    }
   ],
   "source": [
    "# get census data \n",
    "f = open(\"census.csv\")\n",
    "csvreader = csv.reader(f)\n",
    "census = list(csvreader)\n",
    "print(census, '\\n\\n')"
   ]
  },
  {
   "cell_type": "code",
   "execution_count": 8,
   "metadata": {
    "collapsed": false
   },
   "outputs": [
    {
     "name": "stdout",
     "output_type": "stream",
     "text": [
      "{'Asian/Pacific Islander': 8.374309664161762, 'Black': 57.8773477735196, 'White': 33.56849303419181, 'Native American/Native Alaskan': 24.521955573811088, 'Hispanic': 20.220491210910907} \n",
      "\n",
      "\n"
     ]
    }
   ],
   "source": [
    "# rate of gun deaths per 100000 for each race\n",
    "mapping = {}\n",
    "for r in race_counts:\n",
    "\tmapping[r] = 0\t\n",
    "for row in census[1:]:\n",
    "\tmapping[\"White\"] += int(row[10])\n",
    "\tmapping[\"Black\"] += int(row[12])\n",
    "\tmapping[\"Asian/Pacific Islander\"] += int(row[14])\n",
    "\tmapping[\"Asian/Pacific Islander\"] += int(row[15])\n",
    "\tmapping[\"Hispanic\"] += int(row[11])\n",
    "\tmapping[\"Native American/Native Alaskan\"] += int(row[13])\n",
    "race_per_hundredk = {}\n",
    "for k in race_counts:\n",
    "\trace_per_hundredk[k] = (race_counts[k] / mapping[k]) * 100000\n",
    "print(race_per_hundredk, '\\n\\n')"
   ]
  },
  {
   "cell_type": "code",
   "execution_count": 9,
   "metadata": {
    "collapsed": false
   },
   "outputs": [
    {
     "name": "stdout",
     "output_type": "stream",
     "text": [
      "{'Asian/Pacific Islander': 559, 'Black': 19510, 'Native American/Native Alaskan': 326, 'White': 9147, 'Hispanic': 5634} \n",
      "\n",
      "\n",
      "{'Asian/Pacific Islander': 3.530346230970155, 'Black': 48.471284987180944, 'Native American/Native Alaskan': 8.717729026240365, 'White': 4.6356417981453335, 'Hispanic': 12.627161104219914} \n",
      "\n",
      "\n"
     ]
    }
   ],
   "source": [
    "# homicide rates by race per 100000\n",
    "intents = [row[3] for row in data]\n",
    "races = [row[7] for row in data]\n",
    "homicide_race_per_hundredk = {}\n",
    "for i, race in enumerate(races):\n",
    "\tif intents[i] == 'Homicide':\n",
    "\t\t\tif race in homicide_race_per_hundredk:\n",
    "\t\t\t\thomicide_race_per_hundredk[race] += 1\n",
    "\t\t\telse:\n",
    "\t\t\t\thomicide_race_per_hundredk[race] = 1\t\t\t\t\n",
    "print(homicide_race_per_hundredk, '\\n\\n')\n",
    "for k in homicide_race_per_hundredk:\n",
    "\thomicide_race_per_hundredk[k] = (homicide_race_per_hundredk[k] / mapping[k]) * 100000\n",
    "print(homicide_race_per_hundredk, '\\n\\n')"
   ]
  },
  {
   "cell_type": "code",
   "execution_count": null,
   "metadata": {
    "collapsed": true
   },
   "outputs": [],
   "source": []
  }
 ],
 "metadata": {
  "anaconda-cloud": {},
  "kernelspec": {
   "display_name": "Python [conda root]",
   "language": "python",
   "name": "conda-root-py"
  },
  "language_info": {
   "codemirror_mode": {
    "name": "ipython",
    "version": 3
   },
   "file_extension": ".py",
   "mimetype": "text/x-python",
   "name": "python",
   "nbconvert_exporter": "python",
   "pygments_lexer": "ipython3",
   "version": "3.5.2"
  }
 },
 "nbformat": 4,
 "nbformat_minor": 1
}
